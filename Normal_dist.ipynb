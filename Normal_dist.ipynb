{
 "cells": [
  {
   "cell_type": "code",
   "execution_count": 26,
   "id": "3ccfbd3e-6c76-4bbb-9a2b-e2b3ef349c57",
   "metadata": {},
   "outputs": [],
   "source": [
    "from scipy.stats import norm"
   ]
  },
  {
   "cell_type": "code",
   "execution_count": 4,
   "id": "f630a470-5fdd-4f05-9e10-a7d76abfe4d4",
   "metadata": {},
   "outputs": [],
   "source": [
    "nd=norm(170,10)"
   ]
  },
  {
   "cell_type": "code",
   "execution_count": 5,
   "id": "e3517027-5d00-40f5-87dc-c0d4d2241f31",
   "metadata": {},
   "outputs": [
    {
     "data": {
      "text/plain": [
       "0.5"
      ]
     },
     "execution_count": 5,
     "metadata": {},
     "output_type": "execute_result"
    }
   ],
   "source": [
    "#P(x<170)\n",
    "x1=nd.cdf(170)\n",
    "x1"
   ]
  },
  {
   "cell_type": "code",
   "execution_count": 7,
   "id": "7a9af2c3-5c5d-4769-8686-133b1cb893bd",
   "metadata": {},
   "outputs": [
    {
     "data": {
      "text/plain": [
       "0.5"
      ]
     },
     "execution_count": 7,
     "metadata": {},
     "output_type": "execute_result"
    }
   ],
   "source": [
    "#P(x>170)\n",
    "x2=1-nd.cdf(170)\n",
    "x2"
   ]
  },
  {
   "cell_type": "code",
   "execution_count": 9,
   "id": "8731dee0-b9a8-4b0b-81e4-5561ee50c4e0",
   "metadata": {},
   "outputs": [
    {
     "data": {
      "text/plain": [
       "0.6826894921370859"
      ]
     },
     "execution_count": 9,
     "metadata": {},
     "output_type": "execute_result"
    }
   ],
   "source": [
    "#\n",
    "x3=nd.cdf(160)\n",
    "x4=nd.cdf(180)\n",
    "x4-x3"
   ]
  },
  {
   "cell_type": "code",
   "execution_count": 7,
   "id": "94f95d98-2267-4f42-9fd7-e9d96a5646a6",
   "metadata": {},
   "outputs": [
    {
     "data": {
      "text/plain": [
       "0.532807207342556"
      ]
     },
     "execution_count": 7,
     "metadata": {},
     "output_type": "execute_result"
    }
   ],
   "source": [
    "x3=nd.cdf(165)\n",
    "x4=nd.cdf(180)\n",
    "x4-x3"
   ]
  },
  {
   "cell_type": "markdown",
   "id": "8ac8974d-8306-46f6-8fec-e4689bf44ca1",
   "metadata": {},
   "source": [
    "salary data "
   ]
  },
  {
   "cell_type": "code",
   "execution_count": 28,
   "id": "cdec9956-f53d-48ff-936f-42ee7a6bffbb",
   "metadata": {},
   "outputs": [],
   "source": [
    "sal=norm(50000,10000)"
   ]
  },
  {
   "cell_type": "code",
   "execution_count": 34,
   "id": "ac1a937b-5ad2-45cc-bafc-539b60015806",
   "metadata": {},
   "outputs": [
    {
     "data": {
      "text/plain": [
       "0.15865525393145707"
      ]
     },
     "execution_count": 34,
     "metadata": {},
     "output_type": "execute_result"
    }
   ],
   "source": [
    "sal1=sal.cdf(40000)\n",
    "\n",
    "sal1"
   ]
  },
  {
   "cell_type": "code",
   "execution_count": 36,
   "id": "4f8f10d8-0853-401a-865f-76e0d488209a",
   "metadata": {},
   "outputs": [
    {
     "data": {
      "text/plain": [
       "0.624655260005155"
      ]
     },
     "execution_count": 36,
     "metadata": {},
     "output_type": "execute_result"
    }
   ],
   "source": [
    "sal2=sal.cdf(65000)\n",
    "sal3=sal.cdf(45000)\n",
    "sal2-sal3"
   ]
  },
  {
   "cell_type": "code",
   "execution_count": 42,
   "id": "09ca4653-7926-4e60-b92d-34bbbcc0257b",
   "metadata": {},
   "outputs": [],
   "source": [
    "sal5=sal.cdf(70000)"
   ]
  },
  {
   "cell_type": "code",
   "execution_count": 44,
   "id": "c4aa1c52-d563-4fd7-bc28-7a40d1decf5d",
   "metadata": {},
   "outputs": [
    {
     "data": {
      "text/plain": [
       "0.9772498680518208"
      ]
     },
     "execution_count": 44,
     "metadata": {},
     "output_type": "execute_result"
    }
   ],
   "source": [
    "sal5"
   ]
  },
  {
   "cell_type": "code",
   "execution_count": 48,
   "id": "a68f62ca-3377-4112-8230-6bd0b6f74446",
   "metadata": {},
   "outputs": [
    {
     "data": {
      "text/plain": [
       "0.02275013194817921"
      ]
     },
     "execution_count": 48,
     "metadata": {},
     "output_type": "execute_result"
    }
   ],
   "source": [
    "1-0.9772498680518208"
   ]
  },
  {
   "cell_type": "markdown",
   "id": "32ee7c9d-f23d-4a69-8c8e-ea1015d00570",
   "metadata": {},
   "source": [
    "speed of car"
   ]
  },
  {
   "cell_type": "code",
   "execution_count": 66,
   "id": "4738baa5-9941-4384-82c6-5928f6559e94",
   "metadata": {},
   "outputs": [],
   "source": [
    "speed=norm(90,5)"
   ]
  },
  {
   "cell_type": "code",
   "execution_count": 68,
   "id": "eb1b1465-3c6f-41f7-aacb-8ba4980db814",
   "metadata": {},
   "outputs": [
    {
     "data": {
      "text/plain": [
       "0.9772498680518208"
      ]
     },
     "execution_count": 68,
     "metadata": {},
     "output_type": "execute_result"
    }
   ],
   "source": [
    "speed1=speed.cdf(100)\n",
    "speed1"
   ]
  },
  {
   "cell_type": "code",
   "execution_count": 70,
   "id": "9baf71fb-848a-45d0-9937-19ea06e2d533",
   "metadata": {},
   "outputs": [
    {
     "data": {
      "text/plain": [
       "0.02275013194817921"
      ]
     },
     "execution_count": 70,
     "metadata": {},
     "output_type": "execute_result"
    }
   ],
   "source": [
    "1-speed1"
   ]
  },
  {
   "cell_type": "code",
   "execution_count": 72,
   "id": "5ab9c6d8-a450-4716-adbc-2d54c30728d8",
   "metadata": {},
   "outputs": [
    {
     "data": {
      "text/plain": [
       "0.4986501019683699"
      ]
     },
     "execution_count": 72,
     "metadata": {},
     "output_type": "execute_result"
    }
   ],
   "source": [
    "time=norm(600,20)\n",
    "t1=time.cdf(660)\n",
    "t2=time.cdf(600)\n",
    "t1-t2\n"
   ]
  },
  {
   "cell_type": "code",
   "execution_count": 76,
   "id": "fee111c6-8bf5-4d54-a7e5-f2265a69eca4",
   "metadata": {},
   "outputs": [
    {
     "data": {
      "text/plain": [
       "0.4986501019683699"
      ]
     },
     "execution_count": 76,
     "metadata": {},
     "output_type": "execute_result"
    }
   ],
   "source": [
    "time=norm(10,1/3)\n",
    "t1=time.cdf(11)\n",
    "t2=time.cdf(10)\n",
    "t1-t2\n"
   ]
  },
  {
   "cell_type": "code",
   "execution_count": 78,
   "id": "c90f086e-54e9-479b-8fae-0abd48c23fbc",
   "metadata": {},
   "outputs": [],
   "source": [
    "v=norm(29,5)"
   ]
  },
  {
   "cell_type": "code",
   "execution_count": 82,
   "id": "3cafb46a-e203-4d90-8652-db7882270b90",
   "metadata": {},
   "outputs": [
    {
     "data": {
      "text/plain": [
       "0.26208503662943994"
      ]
     },
     "execution_count": 82,
     "metadata": {},
     "output_type": "execute_result"
    }
   ],
   "source": [
    "v1=v.cdf(34)\n",
    "v2=v.cdf(30)\n",
    "v1-v2"
   ]
  },
  {
   "cell_type": "code",
   "execution_count": 84,
   "id": "aee3e35d-3887-48cf-9399-61e8882e707e",
   "metadata": {},
   "outputs": [
    {
     "data": {
      "text/plain": [
       "0.11506967022170822"
      ]
     },
     "execution_count": 84,
     "metadata": {},
     "output_type": "execute_result"
    }
   ],
   "source": [
    "v3=v.cdf(23)\n",
    "v3"
   ]
  },
  {
   "cell_type": "code",
   "execution_count": 86,
   "id": "23cba848-7488-4948-bdbe-0224641968bb",
   "metadata": {},
   "outputs": [
    {
     "data": {
      "text/plain": [
       "0.01390344751349859"
      ]
     },
     "execution_count": 86,
     "metadata": {},
     "output_type": "execute_result"
    }
   ],
   "source": [
    "v4=v.cdf(40)\n",
    "1-v4"
   ]
  },
  {
   "cell_type": "code",
   "execution_count": null,
   "id": "d199561e-c645-45df-93ae-bc323c50df15",
   "metadata": {},
   "outputs": [],
   "source": []
  }
 ],
 "metadata": {
  "kernelspec": {
   "display_name": "Python [conda env:base] *",
   "language": "python",
   "name": "conda-base-py"
  },
  "language_info": {
   "codemirror_mode": {
    "name": "ipython",
    "version": 3
   },
   "file_extension": ".py",
   "mimetype": "text/x-python",
   "name": "python",
   "nbconvert_exporter": "python",
   "pygments_lexer": "ipython3",
   "version": "3.12.7"
  }
 },
 "nbformat": 4,
 "nbformat_minor": 5
}
