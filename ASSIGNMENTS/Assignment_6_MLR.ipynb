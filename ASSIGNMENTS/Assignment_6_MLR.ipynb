{
 "cells": [
  {
   "cell_type": "markdown",
   "id": "0eced4c8-72ed-448b-a7db-073bf37c845e",
   "metadata": {},
   "source": [
    "# ****MULTIPLE LINEAR REGRESSION****"
   ]
  },
  {
   "cell_type": "markdown",
   "id": "aef99922-0c8b-4497-b966-063167750399",
   "metadata": {},
   "source": [
    "## ****Assignment Task:****\n",
    "Your task is to perform a multiple linear regression analysis to predict the price of Toyota corolla based on the given attributes.\n"
   ]
  },
  {
   "cell_type": "markdown",
   "id": "2413e83f-1640-4020-8e54-d59033f5acf9",
   "metadata": {},
   "source": [
    "## ****Dataset Description:****\n",
    "\n",
    "The dataset consists of the following variables:\n",
    "\n",
    "Age: Age in years\n",
    "\n",
    "KM: Accumulated Kilometers on odometer\n",
    "\n",
    "FuelType: Fuel Type (Petrol, Diesel, CNG)\n",
    "\n",
    "HP: Horse Power\n",
    "\n",
    "Automatic: Automatic ( (Yes=1, No=0)\n",
    "\n",
    "CC: Cylinder Volume in cubic centimeters\n",
    "\n",
    "Doors: Number of doors\n",
    "\n",
    "Weight: Weight in Kilograms\n",
    "\n",
    "Quarterly_Tax: \n",
    "\n",
    "Price: Offer Price in EUROs\n"
   ]
  },
  {
   "cell_type": "markdown",
   "id": "dbab22ab-0473-4f0b-9bf7-07cb2e8c3381",
   "metadata": {},
   "source": [
    "importing libraries "
   ]
  },
  {
   "cell_type": "code",
   "execution_count": 5,
   "id": "6d39a256-aca7-4e8a-8247-488a0aade86b",
   "metadata": {},
   "outputs": [],
   "source": [
    "import pandas as pd\n",
    "import numpy as np\n",
    "import matplotlib.pyplot as plt\n",
    "import seaborn as sns"
   ]
  },
  {
   "cell_type": "code",
   "execution_count": 55,
   "id": "4d14eef1-f29e-4251-96ac-6a18206aa00f",
   "metadata": {},
   "outputs": [
    {
     "data": {
      "text/html": [
       "<div>\n",
       "<style scoped>\n",
       "    .dataframe tbody tr th:only-of-type {\n",
       "        vertical-align: middle;\n",
       "    }\n",
       "\n",
       "    .dataframe tbody tr th {\n",
       "        vertical-align: top;\n",
       "    }\n",
       "\n",
       "    .dataframe thead th {\n",
       "        text-align: right;\n",
       "    }\n",
       "</style>\n",
       "<table border=\"1\" class=\"dataframe\">\n",
       "  <thead>\n",
       "    <tr style=\"text-align: right;\">\n",
       "      <th></th>\n",
       "      <th>Price</th>\n",
       "      <th>Age_08_04</th>\n",
       "      <th>KM</th>\n",
       "      <th>Fuel_Type</th>\n",
       "      <th>HP</th>\n",
       "      <th>Automatic</th>\n",
       "      <th>cc</th>\n",
       "      <th>Doors</th>\n",
       "      <th>Cylinders</th>\n",
       "      <th>Gears</th>\n",
       "      <th>Weight</th>\n",
       "    </tr>\n",
       "  </thead>\n",
       "  <tbody>\n",
       "    <tr>\n",
       "      <th>0</th>\n",
       "      <td>13500</td>\n",
       "      <td>23</td>\n",
       "      <td>46986</td>\n",
       "      <td>Diesel</td>\n",
       "      <td>90</td>\n",
       "      <td>0</td>\n",
       "      <td>2000</td>\n",
       "      <td>3</td>\n",
       "      <td>4</td>\n",
       "      <td>5</td>\n",
       "      <td>1165</td>\n",
       "    </tr>\n",
       "    <tr>\n",
       "      <th>1</th>\n",
       "      <td>13750</td>\n",
       "      <td>23</td>\n",
       "      <td>72937</td>\n",
       "      <td>Diesel</td>\n",
       "      <td>90</td>\n",
       "      <td>0</td>\n",
       "      <td>2000</td>\n",
       "      <td>3</td>\n",
       "      <td>4</td>\n",
       "      <td>5</td>\n",
       "      <td>1165</td>\n",
       "    </tr>\n",
       "    <tr>\n",
       "      <th>2</th>\n",
       "      <td>13950</td>\n",
       "      <td>24</td>\n",
       "      <td>41711</td>\n",
       "      <td>Diesel</td>\n",
       "      <td>90</td>\n",
       "      <td>0</td>\n",
       "      <td>2000</td>\n",
       "      <td>3</td>\n",
       "      <td>4</td>\n",
       "      <td>5</td>\n",
       "      <td>1165</td>\n",
       "    </tr>\n",
       "    <tr>\n",
       "      <th>3</th>\n",
       "      <td>14950</td>\n",
       "      <td>26</td>\n",
       "      <td>48000</td>\n",
       "      <td>Diesel</td>\n",
       "      <td>90</td>\n",
       "      <td>0</td>\n",
       "      <td>2000</td>\n",
       "      <td>3</td>\n",
       "      <td>4</td>\n",
       "      <td>5</td>\n",
       "      <td>1165</td>\n",
       "    </tr>\n",
       "    <tr>\n",
       "      <th>4</th>\n",
       "      <td>13750</td>\n",
       "      <td>30</td>\n",
       "      <td>38500</td>\n",
       "      <td>Diesel</td>\n",
       "      <td>90</td>\n",
       "      <td>0</td>\n",
       "      <td>2000</td>\n",
       "      <td>3</td>\n",
       "      <td>4</td>\n",
       "      <td>5</td>\n",
       "      <td>1170</td>\n",
       "    </tr>\n",
       "    <tr>\n",
       "      <th>...</th>\n",
       "      <td>...</td>\n",
       "      <td>...</td>\n",
       "      <td>...</td>\n",
       "      <td>...</td>\n",
       "      <td>...</td>\n",
       "      <td>...</td>\n",
       "      <td>...</td>\n",
       "      <td>...</td>\n",
       "      <td>...</td>\n",
       "      <td>...</td>\n",
       "      <td>...</td>\n",
       "    </tr>\n",
       "    <tr>\n",
       "      <th>1431</th>\n",
       "      <td>7500</td>\n",
       "      <td>69</td>\n",
       "      <td>20544</td>\n",
       "      <td>Petrol</td>\n",
       "      <td>86</td>\n",
       "      <td>0</td>\n",
       "      <td>1300</td>\n",
       "      <td>3</td>\n",
       "      <td>4</td>\n",
       "      <td>5</td>\n",
       "      <td>1025</td>\n",
       "    </tr>\n",
       "    <tr>\n",
       "      <th>1432</th>\n",
       "      <td>10845</td>\n",
       "      <td>72</td>\n",
       "      <td>19000</td>\n",
       "      <td>Petrol</td>\n",
       "      <td>86</td>\n",
       "      <td>0</td>\n",
       "      <td>1300</td>\n",
       "      <td>3</td>\n",
       "      <td>4</td>\n",
       "      <td>5</td>\n",
       "      <td>1015</td>\n",
       "    </tr>\n",
       "    <tr>\n",
       "      <th>1433</th>\n",
       "      <td>8500</td>\n",
       "      <td>71</td>\n",
       "      <td>17016</td>\n",
       "      <td>Petrol</td>\n",
       "      <td>86</td>\n",
       "      <td>0</td>\n",
       "      <td>1300</td>\n",
       "      <td>3</td>\n",
       "      <td>4</td>\n",
       "      <td>5</td>\n",
       "      <td>1015</td>\n",
       "    </tr>\n",
       "    <tr>\n",
       "      <th>1434</th>\n",
       "      <td>7250</td>\n",
       "      <td>70</td>\n",
       "      <td>16916</td>\n",
       "      <td>Petrol</td>\n",
       "      <td>86</td>\n",
       "      <td>0</td>\n",
       "      <td>1300</td>\n",
       "      <td>3</td>\n",
       "      <td>4</td>\n",
       "      <td>5</td>\n",
       "      <td>1015</td>\n",
       "    </tr>\n",
       "    <tr>\n",
       "      <th>1435</th>\n",
       "      <td>6950</td>\n",
       "      <td>76</td>\n",
       "      <td>1</td>\n",
       "      <td>Petrol</td>\n",
       "      <td>110</td>\n",
       "      <td>0</td>\n",
       "      <td>1600</td>\n",
       "      <td>5</td>\n",
       "      <td>4</td>\n",
       "      <td>5</td>\n",
       "      <td>1114</td>\n",
       "    </tr>\n",
       "  </tbody>\n",
       "</table>\n",
       "<p>1436 rows × 11 columns</p>\n",
       "</div>"
      ],
      "text/plain": [
       "      Price  Age_08_04     KM Fuel_Type   HP  Automatic    cc  Doors  \\\n",
       "0     13500         23  46986    Diesel   90          0  2000      3   \n",
       "1     13750         23  72937    Diesel   90          0  2000      3   \n",
       "2     13950         24  41711    Diesel   90          0  2000      3   \n",
       "3     14950         26  48000    Diesel   90          0  2000      3   \n",
       "4     13750         30  38500    Diesel   90          0  2000      3   \n",
       "...     ...        ...    ...       ...  ...        ...   ...    ...   \n",
       "1431   7500         69  20544    Petrol   86          0  1300      3   \n",
       "1432  10845         72  19000    Petrol   86          0  1300      3   \n",
       "1433   8500         71  17016    Petrol   86          0  1300      3   \n",
       "1434   7250         70  16916    Petrol   86          0  1300      3   \n",
       "1435   6950         76      1    Petrol  110          0  1600      5   \n",
       "\n",
       "      Cylinders  Gears  Weight  \n",
       "0             4      5    1165  \n",
       "1             4      5    1165  \n",
       "2             4      5    1165  \n",
       "3             4      5    1165  \n",
       "4             4      5    1170  \n",
       "...         ...    ...     ...  \n",
       "1431          4      5    1025  \n",
       "1432          4      5    1015  \n",
       "1433          4      5    1015  \n",
       "1434          4      5    1015  \n",
       "1435          4      5    1114  \n",
       "\n",
       "[1436 rows x 11 columns]"
      ]
     },
     "execution_count": 55,
     "metadata": {},
     "output_type": "execute_result"
    }
   ],
   "source": [
    "df=pd.read_csv(\"F:\\\\DATA SCIENCE_ExcelR\\\\Assignments\\\\MLR\\\\ToyotaCorolla - MLR.csv\")\n",
    "df"
   ]
  },
  {
   "cell_type": "code",
   "execution_count": 9,
   "id": "2cdd9176-55e1-4182-9de3-9cb6ec43fdf8",
   "metadata": {},
   "outputs": [
    {
     "data": {
      "text/html": [
       "<div>\n",
       "<style scoped>\n",
       "    .dataframe tbody tr th:only-of-type {\n",
       "        vertical-align: middle;\n",
       "    }\n",
       "\n",
       "    .dataframe tbody tr th {\n",
       "        vertical-align: top;\n",
       "    }\n",
       "\n",
       "    .dataframe thead th {\n",
       "        text-align: right;\n",
       "    }\n",
       "</style>\n",
       "<table border=\"1\" class=\"dataframe\">\n",
       "  <thead>\n",
       "    <tr style=\"text-align: right;\">\n",
       "      <th></th>\n",
       "      <th>Price</th>\n",
       "      <th>Age_08_04</th>\n",
       "      <th>KM</th>\n",
       "      <th>Fuel_Type</th>\n",
       "      <th>HP</th>\n",
       "      <th>Automatic</th>\n",
       "      <th>cc</th>\n",
       "      <th>Doors</th>\n",
       "      <th>Cylinders</th>\n",
       "      <th>Gears</th>\n",
       "      <th>Weight</th>\n",
       "    </tr>\n",
       "  </thead>\n",
       "  <tbody>\n",
       "    <tr>\n",
       "      <th>0</th>\n",
       "      <td>13500</td>\n",
       "      <td>23</td>\n",
       "      <td>46986</td>\n",
       "      <td>Diesel</td>\n",
       "      <td>90</td>\n",
       "      <td>0</td>\n",
       "      <td>2000</td>\n",
       "      <td>3</td>\n",
       "      <td>4</td>\n",
       "      <td>5</td>\n",
       "      <td>1165</td>\n",
       "    </tr>\n",
       "    <tr>\n",
       "      <th>1</th>\n",
       "      <td>13750</td>\n",
       "      <td>23</td>\n",
       "      <td>72937</td>\n",
       "      <td>Diesel</td>\n",
       "      <td>90</td>\n",
       "      <td>0</td>\n",
       "      <td>2000</td>\n",
       "      <td>3</td>\n",
       "      <td>4</td>\n",
       "      <td>5</td>\n",
       "      <td>1165</td>\n",
       "    </tr>\n",
       "    <tr>\n",
       "      <th>2</th>\n",
       "      <td>13950</td>\n",
       "      <td>24</td>\n",
       "      <td>41711</td>\n",
       "      <td>Diesel</td>\n",
       "      <td>90</td>\n",
       "      <td>0</td>\n",
       "      <td>2000</td>\n",
       "      <td>3</td>\n",
       "      <td>4</td>\n",
       "      <td>5</td>\n",
       "      <td>1165</td>\n",
       "    </tr>\n",
       "    <tr>\n",
       "      <th>3</th>\n",
       "      <td>14950</td>\n",
       "      <td>26</td>\n",
       "      <td>48000</td>\n",
       "      <td>Diesel</td>\n",
       "      <td>90</td>\n",
       "      <td>0</td>\n",
       "      <td>2000</td>\n",
       "      <td>3</td>\n",
       "      <td>4</td>\n",
       "      <td>5</td>\n",
       "      <td>1165</td>\n",
       "    </tr>\n",
       "    <tr>\n",
       "      <th>4</th>\n",
       "      <td>13750</td>\n",
       "      <td>30</td>\n",
       "      <td>38500</td>\n",
       "      <td>Diesel</td>\n",
       "      <td>90</td>\n",
       "      <td>0</td>\n",
       "      <td>2000</td>\n",
       "      <td>3</td>\n",
       "      <td>4</td>\n",
       "      <td>5</td>\n",
       "      <td>1170</td>\n",
       "    </tr>\n",
       "  </tbody>\n",
       "</table>\n",
       "</div>"
      ],
      "text/plain": [
       "   Price  Age_08_04     KM Fuel_Type  HP  Automatic    cc  Doors  Cylinders  \\\n",
       "0  13500         23  46986    Diesel  90          0  2000      3          4   \n",
       "1  13750         23  72937    Diesel  90          0  2000      3          4   \n",
       "2  13950         24  41711    Diesel  90          0  2000      3          4   \n",
       "3  14950         26  48000    Diesel  90          0  2000      3          4   \n",
       "4  13750         30  38500    Diesel  90          0  2000      3          4   \n",
       "\n",
       "   Gears  Weight  \n",
       "0      5    1165  \n",
       "1      5    1165  \n",
       "2      5    1165  \n",
       "3      5    1165  \n",
       "4      5    1170  "
      ]
     },
     "execution_count": 9,
     "metadata": {},
     "output_type": "execute_result"
    }
   ],
   "source": [
    "df.head()"
   ]
  },
  {
   "cell_type": "code",
   "execution_count": 11,
   "id": "7a9448dc-c204-4dd1-85b6-dc7d02d5b9df",
   "metadata": {},
   "outputs": [
    {
     "data": {
      "text/plain": [
       "(1436, 11)"
      ]
     },
     "execution_count": 11,
     "metadata": {},
     "output_type": "execute_result"
    }
   ],
   "source": [
    "df.shape"
   ]
  },
  {
   "cell_type": "markdown",
   "id": "9bef757e-c265-4800-8dab-c49fa624605e",
   "metadata": {},
   "source": [
    "we are having 1436 rows and 11 columns"
   ]
  },
  {
   "cell_type": "code",
   "execution_count": 14,
   "id": "60f5ce70-7681-4a3b-99b7-b118d9dff21e",
   "metadata": {},
   "outputs": [
    {
     "name": "stdout",
     "output_type": "stream",
     "text": [
      "<class 'pandas.core.frame.DataFrame'>\n",
      "RangeIndex: 1436 entries, 0 to 1435\n",
      "Data columns (total 11 columns):\n",
      " #   Column     Non-Null Count  Dtype \n",
      "---  ------     --------------  ----- \n",
      " 0   Price      1436 non-null   int64 \n",
      " 1   Age_08_04  1436 non-null   int64 \n",
      " 2   KM         1436 non-null   int64 \n",
      " 3   Fuel_Type  1436 non-null   object\n",
      " 4   HP         1436 non-null   int64 \n",
      " 5   Automatic  1436 non-null   int64 \n",
      " 6   cc         1436 non-null   int64 \n",
      " 7   Doors      1436 non-null   int64 \n",
      " 8   Cylinders  1436 non-null   int64 \n",
      " 9   Gears      1436 non-null   int64 \n",
      " 10  Weight     1436 non-null   int64 \n",
      "dtypes: int64(10), object(1)\n",
      "memory usage: 123.5+ KB\n"
     ]
    }
   ],
   "source": [
    "df.info()"
   ]
  },
  {
   "cell_type": "markdown",
   "id": "d9657a3f-2295-4081-b80a-361f913e6084",
   "metadata": {},
   "source": [
    "we are having Fuel_Type as categorical and remaining all are numerica data from info()"
   ]
  },
  {
   "cell_type": "code",
   "execution_count": 17,
   "id": "f792494c-f9cc-467e-99bb-99a8cd91d99a",
   "metadata": {},
   "outputs": [
    {
     "data": {
      "text/plain": [
       "Automatic\n",
       "0    1356\n",
       "1      80\n",
       "Name: count, dtype: int64"
      ]
     },
     "execution_count": 17,
     "metadata": {},
     "output_type": "execute_result"
    }
   ],
   "source": [
    "df[\"Automatic\"].value_counts()"
   ]
  },
  {
   "cell_type": "code",
   "execution_count": 19,
   "id": "94c5f839-be2a-46dc-be40-41578ee6a58d",
   "metadata": {},
   "outputs": [
    {
     "data": {
      "text/plain": [
       "Doors\n",
       "5    674\n",
       "3    622\n",
       "4    138\n",
       "2      2\n",
       "Name: count, dtype: int64"
      ]
     },
     "execution_count": 19,
     "metadata": {},
     "output_type": "execute_result"
    }
   ],
   "source": [
    "df[\"Doors\"].value_counts()"
   ]
  },
  {
   "cell_type": "code",
   "execution_count": 21,
   "id": "cf9334e9-f7c3-4e26-a3fa-638e90328599",
   "metadata": {},
   "outputs": [
    {
     "data": {
      "text/plain": [
       "Cylinders\n",
       "4    1436\n",
       "Name: count, dtype: int64"
      ]
     },
     "execution_count": 21,
     "metadata": {},
     "output_type": "execute_result"
    }
   ],
   "source": [
    "df[\"Cylinders\"].value_counts()"
   ]
  },
  {
   "cell_type": "code",
   "execution_count": 23,
   "id": "d843ccf4-a25d-4717-a4fd-fa1a9729eb0f",
   "metadata": {},
   "outputs": [
    {
     "data": {
      "text/plain": [
       "Gears\n",
       "5    1390\n",
       "6      43\n",
       "3       2\n",
       "4       1\n",
       "Name: count, dtype: int64"
      ]
     },
     "execution_count": 23,
     "metadata": {},
     "output_type": "execute_result"
    }
   ],
   "source": [
    "df[\"Gears\"].value_counts()"
   ]
  },
  {
   "cell_type": "markdown",
   "id": "250e0b09-3072-4214-918d-c0a461ea0b51",
   "metadata": {},
   "source": [
    "now when we check seperately we can see automatic,doors,gears are like discrete variables and cylinders with only one unique value"
   ]
  },
  {
   "cell_type": "markdown",
   "id": "3d04392b-440b-4ef6-aca3-2eb327438216",
   "metadata": {},
   "source": [
    "statistical summary "
   ]
  },
  {
   "cell_type": "code",
   "execution_count": 686,
   "id": "cf82c897-86c2-46ca-a2b6-8d9213707355",
   "metadata": {},
   "outputs": [
    {
     "data": {
      "text/html": [
       "<div>\n",
       "<style scoped>\n",
       "    .dataframe tbody tr th:only-of-type {\n",
       "        vertical-align: middle;\n",
       "    }\n",
       "\n",
       "    .dataframe tbody tr th {\n",
       "        vertical-align: top;\n",
       "    }\n",
       "\n",
       "    .dataframe thead th {\n",
       "        text-align: right;\n",
       "    }\n",
       "</style>\n",
       "<table border=\"1\" class=\"dataframe\">\n",
       "  <thead>\n",
       "    <tr style=\"text-align: right;\">\n",
       "      <th></th>\n",
       "      <th>Price</th>\n",
       "      <th>Age_08_04</th>\n",
       "      <th>KM</th>\n",
       "      <th>HP</th>\n",
       "      <th>Automatic</th>\n",
       "      <th>cc</th>\n",
       "      <th>Doors</th>\n",
       "      <th>Cylinders</th>\n",
       "      <th>Gears</th>\n",
       "      <th>Weight</th>\n",
       "    </tr>\n",
       "  </thead>\n",
       "  <tbody>\n",
       "    <tr>\n",
       "      <th>count</th>\n",
       "      <td>1436.000000</td>\n",
       "      <td>1436.000000</td>\n",
       "      <td>1436.000000</td>\n",
       "      <td>1436.000000</td>\n",
       "      <td>1436.000000</td>\n",
       "      <td>1436.00000</td>\n",
       "      <td>1436.000000</td>\n",
       "      <td>1436.0</td>\n",
       "      <td>1436.000000</td>\n",
       "      <td>1436.00000</td>\n",
       "    </tr>\n",
       "    <tr>\n",
       "      <th>mean</th>\n",
       "      <td>10730.824513</td>\n",
       "      <td>55.947075</td>\n",
       "      <td>68533.259749</td>\n",
       "      <td>101.502089</td>\n",
       "      <td>0.055710</td>\n",
       "      <td>1576.85585</td>\n",
       "      <td>4.033426</td>\n",
       "      <td>4.0</td>\n",
       "      <td>5.026462</td>\n",
       "      <td>1072.45961</td>\n",
       "    </tr>\n",
       "    <tr>\n",
       "      <th>std</th>\n",
       "      <td>3626.964585</td>\n",
       "      <td>18.599988</td>\n",
       "      <td>37506.448872</td>\n",
       "      <td>14.981080</td>\n",
       "      <td>0.229441</td>\n",
       "      <td>424.38677</td>\n",
       "      <td>0.952677</td>\n",
       "      <td>0.0</td>\n",
       "      <td>0.188510</td>\n",
       "      <td>52.64112</td>\n",
       "    </tr>\n",
       "    <tr>\n",
       "      <th>min</th>\n",
       "      <td>4350.000000</td>\n",
       "      <td>1.000000</td>\n",
       "      <td>1.000000</td>\n",
       "      <td>69.000000</td>\n",
       "      <td>0.000000</td>\n",
       "      <td>1300.00000</td>\n",
       "      <td>2.000000</td>\n",
       "      <td>4.0</td>\n",
       "      <td>3.000000</td>\n",
       "      <td>1000.00000</td>\n",
       "    </tr>\n",
       "    <tr>\n",
       "      <th>25%</th>\n",
       "      <td>8450.000000</td>\n",
       "      <td>44.000000</td>\n",
       "      <td>43000.000000</td>\n",
       "      <td>90.000000</td>\n",
       "      <td>0.000000</td>\n",
       "      <td>1400.00000</td>\n",
       "      <td>3.000000</td>\n",
       "      <td>4.0</td>\n",
       "      <td>5.000000</td>\n",
       "      <td>1040.00000</td>\n",
       "    </tr>\n",
       "    <tr>\n",
       "      <th>50%</th>\n",
       "      <td>9900.000000</td>\n",
       "      <td>61.000000</td>\n",
       "      <td>63389.500000</td>\n",
       "      <td>110.000000</td>\n",
       "      <td>0.000000</td>\n",
       "      <td>1600.00000</td>\n",
       "      <td>4.000000</td>\n",
       "      <td>4.0</td>\n",
       "      <td>5.000000</td>\n",
       "      <td>1070.00000</td>\n",
       "    </tr>\n",
       "    <tr>\n",
       "      <th>75%</th>\n",
       "      <td>11950.000000</td>\n",
       "      <td>70.000000</td>\n",
       "      <td>87020.750000</td>\n",
       "      <td>110.000000</td>\n",
       "      <td>0.000000</td>\n",
       "      <td>1600.00000</td>\n",
       "      <td>5.000000</td>\n",
       "      <td>4.0</td>\n",
       "      <td>5.000000</td>\n",
       "      <td>1085.00000</td>\n",
       "    </tr>\n",
       "    <tr>\n",
       "      <th>max</th>\n",
       "      <td>32500.000000</td>\n",
       "      <td>80.000000</td>\n",
       "      <td>243000.000000</td>\n",
       "      <td>192.000000</td>\n",
       "      <td>1.000000</td>\n",
       "      <td>16000.00000</td>\n",
       "      <td>5.000000</td>\n",
       "      <td>4.0</td>\n",
       "      <td>6.000000</td>\n",
       "      <td>1615.00000</td>\n",
       "    </tr>\n",
       "  </tbody>\n",
       "</table>\n",
       "</div>"
      ],
      "text/plain": [
       "              Price    Age_08_04             KM           HP    Automatic  \\\n",
       "count   1436.000000  1436.000000    1436.000000  1436.000000  1436.000000   \n",
       "mean   10730.824513    55.947075   68533.259749   101.502089     0.055710   \n",
       "std     3626.964585    18.599988   37506.448872    14.981080     0.229441   \n",
       "min     4350.000000     1.000000       1.000000    69.000000     0.000000   \n",
       "25%     8450.000000    44.000000   43000.000000    90.000000     0.000000   \n",
       "50%     9900.000000    61.000000   63389.500000   110.000000     0.000000   \n",
       "75%    11950.000000    70.000000   87020.750000   110.000000     0.000000   \n",
       "max    32500.000000    80.000000  243000.000000   192.000000     1.000000   \n",
       "\n",
       "                cc        Doors  Cylinders        Gears      Weight  \n",
       "count   1436.00000  1436.000000     1436.0  1436.000000  1436.00000  \n",
       "mean    1576.85585     4.033426        4.0     5.026462  1072.45961  \n",
       "std      424.38677     0.952677        0.0     0.188510    52.64112  \n",
       "min     1300.00000     2.000000        4.0     3.000000  1000.00000  \n",
       "25%     1400.00000     3.000000        4.0     5.000000  1040.00000  \n",
       "50%     1600.00000     4.000000        4.0     5.000000  1070.00000  \n",
       "75%     1600.00000     5.000000        4.0     5.000000  1085.00000  \n",
       "max    16000.00000     5.000000        4.0     6.000000  1615.00000  "
      ]
     },
     "execution_count": 686,
     "metadata": {},
     "output_type": "execute_result"
    }
   ],
   "source": [
    "df.describe()"
   ]
  },
  {
   "cell_type": "markdown",
   "id": "75bead69-8a05-49da-85e2-36b1998ce37d",
   "metadata": {},
   "source": [
    "checking for null values"
   ]
  },
  {
   "cell_type": "code",
   "execution_count": 688,
   "id": "ac3d3346-2529-406b-9599-94c62225297f",
   "metadata": {},
   "outputs": [
    {
     "data": {
      "text/plain": [
       "Price        0\n",
       "Age_08_04    0\n",
       "KM           0\n",
       "Fuel_Type    0\n",
       "HP           0\n",
       "Automatic    0\n",
       "cc           0\n",
       "Doors        0\n",
       "Cylinders    0\n",
       "Gears        0\n",
       "Weight       0\n",
       "dtype: int64"
      ]
     },
     "execution_count": 688,
     "metadata": {},
     "output_type": "execute_result"
    }
   ],
   "source": [
    "df.isna().sum()"
   ]
  },
  {
   "cell_type": "markdown",
   "id": "1f3290df-d236-4e11-a627-2349daf6b9ff",
   "metadata": {},
   "source": [
    "ther are no missing values "
   ]
  },
  {
   "cell_type": "markdown",
   "id": "cff9793a-b306-48fe-bf28-8e5d3fcc1396",
   "metadata": {},
   "source": [
    "## ****Tasks:****"
   ]
  },
  {
   "cell_type": "markdown",
   "id": "6e1ba44a-939c-43af-9997-9db3d65d28d2",
   "metadata": {},
   "source": [
    "### 1. Perform exploratory data analysis (EDA) to gain insights into the dataset. Provide visualizations and summary statistics of the variables. Pre process the data to apply the MLR."
   ]
  },
  {
   "cell_type": "markdown",
   "id": "c365e465-1ce1-4628-8e67-40589b0287ad",
   "metadata": {},
   "source": [
    "EDA:\n",
    "\n",
    "Histograms\n",
    "\n",
    "Box plots\n",
    "\n",
    "Bar plots\n",
    "\n",
    "Scatter plots\n"
   ]
  },
  {
   "cell_type": "markdown",
   "id": "eddbf697-bd8a-484d-9159-ec94d27d8349",
   "metadata": {},
   "source": [
    "### Histograms"
   ]
  },
  {
   "cell_type": "code",
   "execution_count": 695,
   "id": "d066a48c-4e69-4e36-abf0-fdfc1f11115f",
   "metadata": {},
   "outputs": [
    {
     "name": "stdout",
     "output_type": "stream",
     "text": [
      "Skewness in price:  1.7038849799952995\n"
     ]
    },
    {
     "data": {
      "image/png": "[encoded data removed]",
      "text/plain": [
       "<Figure size 640x480 with 1 Axes>"
      ]
     },
     "metadata": {},
     "output_type": "display_data"
    }
   ],
   "source": [
    "df[\"Price\"].hist()\n",
    "print(\"Skewness in price: \",df[\"Price\"].skew())"
   ]
  },
  {
   "cell_type": "markdown",
   "id": "2d2333fb-ce18-4a81-b13f-55a52e979ad9",
   "metadata": {},
   "source": [
    "Price is positive skewness"
   ]
  },
  {
   "cell_type": "code",
   "execution_count": 698,
   "id": "0dec158b-025d-4757-9032-563e40aa987e",
   "metadata": {},
   "outputs": [
    {
     "name": "stdout",
     "output_type": "stream",
     "text": [
      "skewness of Age_08_04 :  -0.82670187309842\n"
     ]
    },
    {
     "data": {
      "image/png": "[encoded data removed]",
      "text/plain": [
       "<Figure size 640x480 with 1 Axes>"
      ]
     },
     "metadata": {},
     "output_type": "display_data"
    }
   ],
   "source": [
    "df[\"Age_08_04\"].hist()\n",
    "print(\"skewness of Age_08_04 : \",df[\"Age_08_04\"].skew())"
   ]
  },
  {
   "cell_type": "markdown",
   "id": "500638aa-194e-44a7-b2ab-6a0a95a76200",
   "metadata": {},
   "source": [
    "Age is slight negative skewed but its distribution is almost equal to normal so its symmetrical"
   ]
  },
  {
   "cell_type": "code",
   "execution_count": 701,
   "id": "973723a5-a1bd-4295-9da4-180ef1782b7d",
   "metadata": {},
   "outputs": [
    {
     "name": "stdout",
     "output_type": "stream",
     "text": [
      "skewness in Kilometers:  1.0159121980877577\n"
     ]
    },
    {
     "data": {
      "image/png": "[encoded data removed]",
      "text/plain": [
       "<Figure size 640x480 with 1 Axes>"
      ]
     },
     "metadata": {},
     "output_type": "display_data"
    }
   ],
   "source": [
    "df[\"KM\"].hist()\n",
    "print(\"skewness in Kilometers: \",df['KM'].skew())"
   ]
  },
  {
   "cell_type": "markdown",
   "id": "f75fda21-0f45-4a35-8de4-03ea30d0ed47",
   "metadata": {},
   "source": [
    "km is positively skewed"
   ]
  },
  {
   "cell_type": "code",
   "execution_count": 704,
   "id": "bfdfa9a6-b2c7-47f7-9651-2fd0c4e969a0",
   "metadata": {},
   "outputs": [
    {
     "name": "stdout",
     "output_type": "stream",
     "text": [
      "skewness in HP:  0.9558356472519488\n"
     ]
    },
    {
     "data": {
      "image/png": "[encoded data removed]",
      "text/plain": [
       "<Figure size 640x480 with 1 Axes>"
      ]
     },
     "metadata": {},
     "output_type": "display_data"
    }
   ],
   "source": [
    "df[\"HP\"].hist()\n",
    "print(\"skewness in HP: \",df['HP'].skew())"
   ]
  },
  {
   "cell_type": "markdown",
   "id": "8638d7d8-8da0-467d-ae10-c09d8161fc8c",
   "metadata": {},
   "source": [
    "hp is slight positive skewed and its close to 0 so we can say symmetrical "
   ]
  },
  {
   "cell_type": "code",
   "execution_count": 707,
   "id": "68d216de-7c3d-4119-8dc5-eb89530c6737",
   "metadata": {},
   "outputs": [
    {
     "name": "stdout",
     "output_type": "stream",
     "text": [
      "skewness in cc:  27.431792795981686\n"
     ]
    },
    {
     "data": {
      "image/png": "[encoded data removed]",
      "text/plain": [
       "<Figure size 640x480 with 1 Axes>"
      ]
     },
     "metadata": {},
     "output_type": "display_data"
    }
   ],
   "source": [
    "df[\"cc\"].hist()\n",
    "print(\"skewness in cc: \",df['cc'].skew())"
   ]
  },
  {
   "cell_type": "markdown",
   "id": "cab33cbc-5de6-49c8-ad5d-1a7f19cf9c5c",
   "metadata": {},
   "source": [
    "cc have  positive skewness "
   ]
  },
  {
   "cell_type": "code",
   "execution_count": 710,
   "id": "b359ce19-ebca-42d3-8001-455d19686a42",
   "metadata": {},
   "outputs": [
    {
     "name": "stdout",
     "output_type": "stream",
     "text": [
      "skewness in Weight:  3.108639394626062\n"
     ]
    },
    {
     "data": {
      "image/png": "[encoded data removed]",
      "text/plain": [
       "<Figure size 640x480 with 1 Axes>"
      ]
     },
     "metadata": {},
     "output_type": "display_data"
    }
   ],
   "source": [
    "df[\"Weight\"].hist()\n",
    "print(\"skewness in Weight: \",df['Weight'].skew())"
   ]
  },
  {
   "cell_type": "markdown",
   "id": "5c1b5576-dc5b-45fc-9c1d-ce40fae61519",
   "metadata": {},
   "source": [
    "weight haves positive skewness"
   ]
  },
  {
   "cell_type": "markdown",
   "id": "309ec4db-cee3-4eb8-a5df-790d1cf2b66d",
   "metadata": {},
   "source": [
    "### box plots"
   ]
  },
  {
   "cell_type": "code",
   "execution_count": 714,
   "id": "87bb4ee7-46de-4285-982a-10772ceabae6",
   "metadata": {},
   "outputs": [
    {
     "data": {
      "text/plain": [
       "<Axes: title={'center': 'price'}>"
      ]
     },
     "execution_count": 714,
     "metadata": {},
     "output_type": "execute_result"
    },
    {
     "data": {
      "image/png": "[encoded data removed]",
      "text/plain": [
       "<Figure size 640x480 with 1 Axes>"
      ]
     },
     "metadata": {},
     "output_type": "display_data"
    }
   ],
   "source": [
    "df[\"Price\"].plot(kind='box',vert=False,title='price')"
   ]
  },
  {
   "cell_type": "code",
   "execution_count": 716,
   "id": "cf7de569-ee1f-45dd-a1df-5e667f00247e",
   "metadata": {},
   "outputs": [
    {
     "name": "stdout",
     "output_type": "stream",
     "text": [
      "Outliers in Price:  110\n",
      "Outlier percentage:  7.66016713091922\n"
     ]
    }
   ],
   "source": [
    "Q1=np.percentile(df[\"Price\"],25)\n",
    "Q3=np.percentile(df[\"Price\"],75)\n",
    "IQR=Q3-Q1\n",
    "UWL=Q3+(1.5*IQR)\n",
    "LWL=Q1-(1.5*IQR)\n",
    "outliers=df[(df[\"Price\"]>UWL) | (df[\"Price\"]<LWL)]\n",
    "print(\"Outliers in Price: \",len(outliers))\n",
    "print(\"Outlier percentage: \",(len(outliers)/len(df))*100)"
   ]
  },
  {
   "cell_type": "code",
   "execution_count": 718,
   "id": "eee84e4a-f95f-4957-a720-e7a6b0ef1ddc",
   "metadata": {},
   "outputs": [
    {
     "data": {
      "text/plain": [
       "<Axes: title={'center': 'age'}>"
      ]
     },
     "execution_count": 718,
     "metadata": {},
     "output_type": "execute_result"
    },
    {
     "data": {
      "image/png": "[encoded data removed]",
      "text/plain": [
       "<Figure size 640x480 with 1 Axes>"
      ]
     },
     "metadata": {},
     "output_type": "display_data"
    }
   ],
   "source": [
    "df[\"Age_08_04\"].plot(kind='box',vert=False,title='age')"
   ]
  },
  {
   "cell_type": "code",
   "execution_count": 720,
   "id": "51b842d1-49d4-49be-b7fd-5d11c000ba4e",
   "metadata": {},
   "outputs": [
    {
     "name": "stdout",
     "output_type": "stream",
     "text": [
      "Outliers in age:  7\n",
      "Outlier percentage:  0.48746518105849584\n"
     ]
    }
   ],
   "source": [
    "Q1=np.percentile(df[\"Age_08_04\"],25)\n",
    "Q3=np.percentile(df[\"Age_08_04\"],75)\n",
    "IQR=Q3-Q1\n",
    "UWL=Q3+(1.5*IQR)\n",
    "LWL=Q1-(1.5*IQR)\n",
    "outliers=df[(df[\"Age_08_04\"]>UWL) | (df[\"Age_08_04\"]<LWL)]\n",
    "print(\"Outliers in age: \",len(outliers))\n",
    "print(\"Outlier percentage: \",(len(outliers)/len(df))*100)"
   ]
  },
  {
   "cell_type": "code",
   "execution_count": 722,
   "id": "950fb267-cb7d-48ff-a4e8-67651e841846",
   "metadata": {},
   "outputs": [
    {
     "data": {
      "text/plain": [
       "<Axes: title={'center': 'km'}>"
      ]
     },
     "execution_count": 722,
     "metadata": {},
     "output_type": "execute_result"
    },
    {
     "data": {
      "image/png": "[encoded data removed]",
      "text/plain": [
       "<Figure size 640x480 with 1 Axes>"
      ]
     },
     "metadata": {},
     "output_type": "display_data"
    }
   ],
   "source": [
    "df[\"KM\"].plot(kind='box',vert=False,title='km')"
   ]
  },
  {
   "cell_type": "code",
   "execution_count": 724,
   "id": "2ee483de-b1a2-4a66-a1db-761c5c846f77",
   "metadata": {},
   "outputs": [
    {
     "name": "stdout",
     "output_type": "stream",
     "text": [
      "Outliers in km:  49\n",
      "Outlier percentage:  3.4122562674094707\n"
     ]
    }
   ],
   "source": [
    "Q1=np.percentile(df[\"KM\"],25)\n",
    "Q3=np.percentile(df[\"KM\"],75)\n",
    "IQR=Q3-Q1\n",
    "UWL=Q3+(1.5*IQR)\n",
    "LWL=Q1-(1.5*IQR)\n",
    "outliers=df[(df[\"KM\"]>UWL) | (df[\"KM\"]<LWL)]\n",
    "print(\"Outliers in km: \",len(outliers))\n",
    "print(\"Outlier percentage: \",(len(outliers)/len(df))*100)"
   ]
  },
  {
   "cell_type": "code",
   "execution_count": 726,
   "id": "03f68761-6c03-4d09-bd50-3d652538df3a",
   "metadata": {},
   "outputs": [
    {
     "data": {
      "text/plain": [
       "<Axes: title={'center': 'hp'}>"
      ]
     },
     "execution_count": 726,
     "metadata": {},
     "output_type": "execute_result"
    },
    {
     "data": {
      "image/png": "[encoded data removed]",
      "text/plain": [
       "<Figure size 640x480 with 1 Axes>"
      ]
     },
     "metadata": {},
     "output_type": "display_data"
    }
   ],
   "source": [
    "df[\"HP\"].plot(kind='box',vert=False,title='hp')"
   ]
  },
  {
   "cell_type": "code",
   "execution_count": 727,
   "id": "3e041faf-ac63-4e66-be6f-570a1ca437d7",
   "metadata": {},
   "outputs": [
    {
     "name": "stdout",
     "output_type": "stream",
     "text": [
      "Outliers in HP:  11\n",
      "Outlier percentage:  0.766016713091922\n"
     ]
    }
   ],
   "source": [
    "Q1=np.percentile(df[\"HP\"],25)\n",
    "Q3=np.percentile(df[\"HP\"],75)\n",
    "IQR=Q3-Q1\n",
    "UWL=Q3+(1.5*IQR)\n",
    "LWL=Q1-(1.5*IQR)\n",
    "outliers=df[(df[\"HP\"]>UWL) | (df[\"HP\"]<LWL)]\n",
    "print(\"Outliers in HP: \",len(outliers))\n",
    "print(\"Outlier percentage: \",(len(outliers)/len(df))*100)"
   ]
  },
  {
   "cell_type": "code",
   "execution_count": 728,
   "id": "5e004008-7b4e-4955-b0ad-78953947d742",
   "metadata": {},
   "outputs": [
    {
     "data": {
      "text/plain": [
       "<Axes: title={'center': 'cc'}>"
      ]
     },
     "execution_count": 728,
     "metadata": {},
     "output_type": "execute_result"
    },
    {
     "data": {
      "image/png": "[encoded data removed]",
      "text/plain": [
       "<Figure size 640x480 with 1 Axes>"
      ]
     },
     "metadata": {},
     "output_type": "display_data"
    }
   ],
   "source": [
    "df[\"cc\"].plot(kind='box',vert=False,title='cc')"
   ]
  },
  {
   "cell_type": "code",
   "execution_count": 729,
   "id": "0b5f8d38-7259-4648-a73e-244f2fb589b7",
   "metadata": {},
   "outputs": [
    {
     "name": "stdout",
     "output_type": "stream",
     "text": [
      "Outliers in cc:  123\n",
      "Outlier percentage:  8.565459610027855\n"
     ]
    }
   ],
   "source": [
    "Q1=np.percentile(df[\"cc\"],25)\n",
    "Q3=np.percentile(df[\"cc\"],75)\n",
    "IQR=Q3-Q1\n",
    "UWL=Q3+(1.5*IQR)\n",
    "LWL=Q1-(1.5*IQR)\n",
    "outliers=df[(df[\"cc\"]>UWL) | (df[\"cc\"]<LWL)]\n",
    "print(\"Outliers in cc: \",len(outliers))\n",
    "print(\"Outlier percentage: \",(len(outliers)/len(df))*100)"
   ]
  },
  {
   "cell_type": "code",
   "execution_count": 734,
   "id": "3877f35c-4189-43c4-a366-32085884bda6",
   "metadata": {},
   "outputs": [
    {
     "data": {
      "text/plain": [
       "<Axes: title={'center': 'weight'}>"
      ]
     },
     "execution_count": 734,
     "metadata": {},
     "output_type": "execute_result"
    },
    {
     "data": {
      "image/png": "[encoded data removed]",
      "text/plain": [
       "<Figure size 640x480 with 1 Axes>"
      ]
     },
     "metadata": {},
     "output_type": "display_data"
    }
   ],
   "source": [
    "df[\"Weight\"].plot(kind='box',vert=False,title='weight')"
   ]
  },
  {
   "cell_type": "code",
   "execution_count": 736,
   "id": "519a1cd5-f29c-4ab8-b32f-fd992c5c24ad",
   "metadata": {},
   "outputs": [
    {
     "name": "stdout",
     "output_type": "stream",
     "text": [
      "Outliers in Price:  66\n",
      "Outlier percentage:  4.596100278551532\n"
     ]
    }
   ],
   "source": [
    "Q1=np.percentile(df[\"Weight\"],25)\n",
    "Q3=np.percentile(df[\"Weight\"],75)\n",
    "IQR=Q3-Q1\n",
    "UWL=Q3+(1.5*IQR)\n",
    "LWL=Q1-(1.5*IQR)\n",
    "outliers=df[(df[\"Weight\"]>UWL) | (df[\"Weight\"]<LWL)]\n",
    "print(\"Outliers in Price: \",len(outliers))\n",
    "print(\"Outlier percentage: \",(len(outliers)/len(df))*100)"
   ]
  },
  {
   "cell_type": "markdown",
   "id": "855733de-db1b-4387-b440-d0f304f6e8ba",
   "metadata": {},
   "source": [
    "we are removing the outliers from price,km,cc,weight using iqr method "
   ]
  },
  {
   "cell_type": "code",
   "execution_count": 28,
   "id": "6ff74bfd-1e3e-403f-a69b-23cfa2e30ad2",
   "metadata": {},
   "outputs": [],
   "source": [
    "def cap_outliers(series):\n",
    "    Q1 = series.quantile(0.25)\n",
    "    Q3 = series.quantile(0.75)\n",
    "    IQR = Q3 - Q1\n",
    "    lower = Q1 - 1.5 * IQR\n",
    "    upper = Q3 + 1.5 * IQR\n",
    "    return np.where(series < lower, lower, \n",
    "           np.where(series > upper, upper, series))\n",
    "for col in [\"Price\", \"KM\", \"cc\", \"Weight\"]:\n",
    "    df[col] = cap_outliers(df[col])\n"
   ]
  },
  {
   "cell_type": "markdown",
   "id": "1ca6a0ee-895d-4b63-8f2e-2e18a8507fc9",
   "metadata": {},
   "source": [
    "### bar plots"
   ]
  },
  {
   "cell_type": "code",
   "execution_count": 31,
   "id": "2ec1949a-433e-4eed-8d14-9a0f8f713f46",
   "metadata": {},
   "outputs": [
    {
     "data": {
      "text/plain": [
       "<Axes: xlabel='Automatic'>"
      ]
     },
     "execution_count": 31,
     "metadata": {},
     "output_type": "execute_result"
    },
    {
     "data": {
      "image/png": "[encoded data removed]",
      "text/plain": [
       "<Figure size 640x480 with 1 Axes>"
      ]
     },
     "metadata": {},
     "output_type": "display_data"
    }
   ],
   "source": [
    "t=df[\"Automatic\"].value_counts()\n",
    "t.plot(kind='bar')"
   ]
  },
  {
   "cell_type": "code",
   "execution_count": 33,
   "id": "0bae37d3-7d1f-4161-934b-08270f56d18f",
   "metadata": {},
   "outputs": [
    {
     "data": {
      "text/plain": [
       "<Axes: xlabel='Fuel_Type'>"
      ]
     },
     "execution_count": 33,
     "metadata": {},
     "output_type": "execute_result"
    },
    {
     "data": {
      "image/png": "[encoded data removed]",
      "text/plain": [
       "<Figure size 640x480 with 1 Axes>"
      ]
     },
     "metadata": {},
     "output_type": "display_data"
    }
   ],
   "source": [
    "t=df[\"Fuel_Type\"].value_counts()\n",
    "t.plot(kind='bar')"
   ]
  },
  {
   "cell_type": "code",
   "execution_count": 35,
   "id": "4eee75a7-1842-4071-a24c-05b4645306c0",
   "metadata": {},
   "outputs": [
    {
     "data": {
      "text/plain": [
       "<Axes: xlabel='Gears'>"
      ]
     },
     "execution_count": 35,
     "metadata": {},
     "output_type": "execute_result"
    },
    {
     "data": {
      "image/png": "[encoded data removed]",
      "text/plain": [
       "<Figure size 640x480 with 1 Axes>"
      ]
     },
     "metadata": {},
     "output_type": "display_data"
    }
   ],
   "source": [
    "t=df[\"Gears\"].value_counts()\n",
    "t.plot(kind='bar')"
   ]
  },
  {
   "cell_type": "code",
   "execution_count": 37,
   "id": "f3208443-d68a-4d1a-8a3c-78505f1dab37",
   "metadata": {},
   "outputs": [
    {
     "data": {
      "text/plain": [
       "<Axes: xlabel='Doors'>"
      ]
     },
     "execution_count": 37,
     "metadata": {},
     "output_type": "execute_result"
    },
    {
     "data": {
      "image/png": "[encoded data removed]",
      "text/plain": [
       "<Figure size 640x480 with 1 Axes>"
      ]
     },
     "metadata": {},
     "output_type": "display_data"
    }
   ],
   "source": [
    "t=df[\"Doors\"].value_counts()\n",
    "t.plot(kind='bar')"
   ]
  },
  {
   "cell_type": "markdown",
   "id": "ba4785f2-3b8b-427e-86e0-6bd7f431b65e",
   "metadata": {},
   "source": [
    "### scatter plots"
   ]
  },
  {
   "cell_type": "code",
   "execution_count": 40,
   "id": "a62905eb-a807-4715-a9be-a7039a511b63",
   "metadata": {},
   "outputs": [
    {
     "data": {
      "text/plain": [
       "<function matplotlib.pyplot.show(close=None, block=None)>"
      ]
     },
     "execution_count": 40,
     "metadata": {},
     "output_type": "execute_result"
    },
    {
     "data": {
      "image/png": "[encoded data removed]",
      "text/plain": [
       "<Figure size 640x480 with 1 Axes>"
      ]
     },
     "metadata": {},
     "output_type": "display_data"
    }
   ],
   "source": [
    "plt.scatter(df['Age_08_04'],df['Price'])\n",
    "plt.ylabel(\"Price\")\n",
    "plt.xlabel(\"Age\")\n",
    "plt.show"
   ]
  },
  {
   "cell_type": "code",
   "execution_count": 42,
   "id": "eb8c320b-0bd6-4b09-a9b0-302dcd5fd3b4",
   "metadata": {},
   "outputs": [
    {
     "data": {
      "text/plain": [
       "<function matplotlib.pyplot.show(close=None, block=None)>"
      ]
     },
     "execution_count": 42,
     "metadata": {},
     "output_type": "execute_result"
    },
    {
     "data": {
      "image/png": "[encoded data removed]",
      "text/plain": [
       "<Figure size 640x480 with 1 Axes>"
      ]
     },
     "metadata": {},
     "output_type": "display_data"
    }
   ],
   "source": [
    "plt.scatter(df['KM'],df['Price'])\n",
    "plt.ylabel(\"Price\")\n",
    "plt.xlabel(\"KM\")\n",
    "plt.show"
   ]
  },
  {
   "cell_type": "code",
   "execution_count": 44,
   "id": "c840e8b5-14c7-4382-be69-97084f93958c",
   "metadata": {},
   "outputs": [
    {
     "data": {
      "text/plain": [
       "<function matplotlib.pyplot.show(close=None, block=None)>"
      ]
     },
     "execution_count": 44,
     "metadata": {},
     "output_type": "execute_result"
    },
    {
     "data": {
      "image/png": "[encoded data removed]",
      "text/plain": [
       "<Figure size 640x480 with 1 Axes>"
      ]
     },
     "metadata": {},
     "output_type": "display_data"
    }
   ],
   "source": [
    "plt.scatter(df['HP'],df['Price'])\n",
    "plt.ylabel(\"Price\")\n",
    "plt.xlabel(\"HP\")\n",
    "plt.show"
   ]
  },
  {
   "cell_type": "code",
   "execution_count": 46,
   "id": "e96098b1-1dc4-4fbe-9d8a-c10791b86318",
   "metadata": {},
   "outputs": [
    {
     "data": {
      "text/plain": [
       "<function matplotlib.pyplot.show(close=None, block=None)>"
      ]
     },
     "execution_count": 46,
     "metadata": {},
     "output_type": "execute_result"
    },
    {
     "data": {
      "image/png": "[encoded data removed]",
      "text/plain": [
       "<Figure size 640x480 with 1 Axes>"
      ]
     },
     "metadata": {},
     "output_type": "display_data"
    }
   ],
   "source": [
    "plt.scatter(df['cc'],df['Price'])\n",
    "plt.ylabel(\"Price\")\n",
    "plt.xlabel(\"cc\")\n",
    "plt.show"
   ]
  },
  {
   "cell_type": "code",
   "execution_count": 48,
   "id": "6bcdfc89-e2dd-4ed2-ac84-f4917b429837",
   "metadata": {},
   "outputs": [
    {
     "data": {
      "text/plain": [
       "<function matplotlib.pyplot.show(close=None, block=None)>"
      ]
     },
     "execution_count": 48,
     "metadata": {},
     "output_type": "execute_result"
    },
    {
     "data": {
      "image/png": "[encoded data removed]",
      "text/plain": [
       "<Figure size 640x480 with 1 Axes>"
      ]
     },
     "metadata": {},
     "output_type": "display_data"
    }
   ],
   "source": [
    "plt.scatter(df['Weight'],df['Price'])\n",
    "plt.ylabel(\"Price\")\n",
    "plt.xlabel(\"Weight\")\n",
    "plt.show"
   ]
  },
  {
   "cell_type": "markdown",
   "id": "9bfe2ec9-9afc-46c6-9640-be9bfd54c511",
   "metadata": {},
   "source": [
    "as we are having only one constant value in everything we are removing the cylinders column"
   ]
  },
  {
   "cell_type": "code",
   "execution_count": 57,
   "id": "7cba9d76-dc60-4e17-9657-393f636f4788",
   "metadata": {},
   "outputs": [
    {
     "data": {
      "text/plain": [
       "Index(['Price', 'Age_08_04', 'KM', 'Fuel_Type', 'HP', 'Automatic', 'cc',\n",
       "       'Doors', 'Gears', 'Weight'],\n",
       "      dtype='object')"
      ]
     },
     "execution_count": 57,
     "metadata": {},
     "output_type": "execute_result"
    }
   ],
   "source": [
    "df=df.drop(columns='Cylinders')\n",
    "df.columns"
   ]
  },
  {
   "cell_type": "code",
   "execution_count": 59,
   "id": "8a6b6b8b-ecf4-46d8-91c9-48cfe22077c7",
   "metadata": {},
   "outputs": [
    {
     "name": "stdout",
     "output_type": "stream",
     "text": [
      "<class 'pandas.core.frame.DataFrame'>\n",
      "RangeIndex: 1436 entries, 0 to 1435\n",
      "Data columns (total 10 columns):\n",
      " #   Column     Non-Null Count  Dtype \n",
      "---  ------     --------------  ----- \n",
      " 0   Price      1436 non-null   int64 \n",
      " 1   Age_08_04  1436 non-null   int64 \n",
      " 2   KM         1436 non-null   int64 \n",
      " 3   Fuel_Type  1436 non-null   object\n",
      " 4   HP         1436 non-null   int64 \n",
      " 5   Automatic  1436 non-null   int64 \n",
      " 6   cc         1436 non-null   int64 \n",
      " 7   Doors      1436 non-null   int64 \n",
      " 8   Gears      1436 non-null   int64 \n",
      " 9   Weight     1436 non-null   int64 \n",
      "dtypes: int64(9), object(1)\n",
      "memory usage: 112.3+ KB\n"
     ]
    }
   ],
   "source": [
    "df.info()"
   ]
  },
  {
   "cell_type": "markdown",
   "id": "87607474-2f10-4353-84b4-4090671f5341",
   "metadata": {},
   "source": [
    "we are creationg dummies for fuel type "
   ]
  },
  {
   "cell_type": "code",
   "execution_count": 62,
   "id": "270936d0-fdbb-4665-ae4d-fe62241d57d5",
   "metadata": {},
   "outputs": [
    {
     "data": {
      "text/html": [
       "<div>\n",
       "<style scoped>\n",
       "    .dataframe tbody tr th:only-of-type {\n",
       "        vertical-align: middle;\n",
       "    }\n",
       "\n",
       "    .dataframe tbody tr th {\n",
       "        vertical-align: top;\n",
       "    }\n",
       "\n",
       "    .dataframe thead th {\n",
       "        text-align: right;\n",
       "    }\n",
       "</style>\n",
       "<table border=\"1\" class=\"dataframe\">\n",
       "  <thead>\n",
       "    <tr style=\"text-align: right;\">\n",
       "      <th></th>\n",
       "      <th>Price</th>\n",
       "      <th>Age_08_04</th>\n",
       "      <th>KM</th>\n",
       "      <th>HP</th>\n",
       "      <th>Automatic</th>\n",
       "      <th>cc</th>\n",
       "      <th>Doors</th>\n",
       "      <th>Gears</th>\n",
       "      <th>Weight</th>\n",
       "      <th>Fuel_Type_Diesel</th>\n",
       "      <th>Fuel_Type_Petrol</th>\n",
       "    </tr>\n",
       "  </thead>\n",
       "  <tbody>\n",
       "    <tr>\n",
       "      <th>0</th>\n",
       "      <td>13500</td>\n",
       "      <td>23</td>\n",
       "      <td>46986</td>\n",
       "      <td>90</td>\n",
       "      <td>0</td>\n",
       "      <td>2000</td>\n",
       "      <td>3</td>\n",
       "      <td>5</td>\n",
       "      <td>1165</td>\n",
       "      <td>True</td>\n",
       "      <td>False</td>\n",
       "    </tr>\n",
       "    <tr>\n",
       "      <th>1</th>\n",
       "      <td>13750</td>\n",
       "      <td>23</td>\n",
       "      <td>72937</td>\n",
       "      <td>90</td>\n",
       "      <td>0</td>\n",
       "      <td>2000</td>\n",
       "      <td>3</td>\n",
       "      <td>5</td>\n",
       "      <td>1165</td>\n",
       "      <td>True</td>\n",
       "      <td>False</td>\n",
       "    </tr>\n",
       "    <tr>\n",
       "      <th>2</th>\n",
       "      <td>13950</td>\n",
       "      <td>24</td>\n",
       "      <td>41711</td>\n",
       "      <td>90</td>\n",
       "      <td>0</td>\n",
       "      <td>2000</td>\n",
       "      <td>3</td>\n",
       "      <td>5</td>\n",
       "      <td>1165</td>\n",
       "      <td>True</td>\n",
       "      <td>False</td>\n",
       "    </tr>\n",
       "    <tr>\n",
       "      <th>3</th>\n",
       "      <td>14950</td>\n",
       "      <td>26</td>\n",
       "      <td>48000</td>\n",
       "      <td>90</td>\n",
       "      <td>0</td>\n",
       "      <td>2000</td>\n",
       "      <td>3</td>\n",
       "      <td>5</td>\n",
       "      <td>1165</td>\n",
       "      <td>True</td>\n",
       "      <td>False</td>\n",
       "    </tr>\n",
       "    <tr>\n",
       "      <th>4</th>\n",
       "      <td>13750</td>\n",
       "      <td>30</td>\n",
       "      <td>38500</td>\n",
       "      <td>90</td>\n",
       "      <td>0</td>\n",
       "      <td>2000</td>\n",
       "      <td>3</td>\n",
       "      <td>5</td>\n",
       "      <td>1170</td>\n",
       "      <td>True</td>\n",
       "      <td>False</td>\n",
       "    </tr>\n",
       "  </tbody>\n",
       "</table>\n",
       "</div>"
      ],
      "text/plain": [
       "   Price  Age_08_04     KM  HP  Automatic    cc  Doors  Gears  Weight  \\\n",
       "0  13500         23  46986  90          0  2000      3      5    1165   \n",
       "1  13750         23  72937  90          0  2000      3      5    1165   \n",
       "2  13950         24  41711  90          0  2000      3      5    1165   \n",
       "3  14950         26  48000  90          0  2000      3      5    1165   \n",
       "4  13750         30  38500  90          0  2000      3      5    1170   \n",
       "\n",
       "   Fuel_Type_Diesel  Fuel_Type_Petrol  \n",
       "0              True             False  \n",
       "1              True             False  \n",
       "2              True             False  \n",
       "3              True             False  \n",
       "4              True             False  "
      ]
     },
     "execution_count": 62,
     "metadata": {},
     "output_type": "execute_result"
    }
   ],
   "source": [
    "df=pd.get_dummies(df,columns=[\"Fuel_Type\"],drop_first=True)\n",
    "df.head()"
   ]
  },
  {
   "cell_type": "markdown",
   "id": "8d81997d-c26a-451f-9415-8af6da0b08bb",
   "metadata": {},
   "source": [
    "we are having boolean for dummy variables so we are now changing them in to int "
   ]
  },
  {
   "cell_type": "code",
   "execution_count": 67,
   "id": "4bc3abb6-0a15-4c36-bc0c-0a9d578e002b",
   "metadata": {},
   "outputs": [],
   "source": [
    "df[\"Fuel_Type_Diesel\"] = df[\"Fuel_Type_Diesel\"].astype(int)\n",
    "df[\"Fuel_Type_Petrol\"] = df[\"Fuel_Type_Petrol\"].astype(int)"
   ]
  },
  {
   "cell_type": "code",
   "execution_count": 69,
   "id": "30cab65e-16a4-42f1-8ce3-25bc1b44d625",
   "metadata": {},
   "outputs": [],
   "source": [
    "from sklearn.preprocessing import StandardScaler"
   ]
  },
  {
   "cell_type": "markdown",
   "id": "0c599150-5088-4de0-97a8-3539d7ce5ee2",
   "metadata": {},
   "source": [
    "we are splitting the X and Y variables \n",
    "\n",
    "Y - price is the target variable"
   ]
  },
  {
   "cell_type": "code",
   "execution_count": 73,
   "id": "eb00656d-f630-40dc-aee2-5e366745bdb6",
   "metadata": {},
   "outputs": [],
   "source": [
    "X = df.drop(columns=[\"Price\"])\n",
    "Y = df[\"Price\"]"
   ]
  },
  {
   "cell_type": "markdown",
   "id": "4de2351f-d57e-42ff-b52a-ebab79cc4351",
   "metadata": {},
   "source": [
    "we are scaling the numerical variables "
   ]
  },
  {
   "cell_type": "code",
   "execution_count": 76,
   "id": "c63a0548-295a-4798-9733-d3f37b2c1463",
   "metadata": {},
   "outputs": [
    {
     "data": {
      "text/html": [
       "<div>\n",
       "<style scoped>\n",
       "    .dataframe tbody tr th:only-of-type {\n",
       "        vertical-align: middle;\n",
       "    }\n",
       "\n",
       "    .dataframe tbody tr th {\n",
       "        vertical-align: top;\n",
       "    }\n",
       "\n",
       "    .dataframe thead th {\n",
       "        text-align: right;\n",
       "    }\n",
       "</style>\n",
       "<table border=\"1\" class=\"dataframe\">\n",
       "  <thead>\n",
       "    <tr style=\"text-align: right;\">\n",
       "      <th></th>\n",
       "      <th>Age_08_04</th>\n",
       "      <th>KM</th>\n",
       "      <th>HP</th>\n",
       "      <th>Automatic</th>\n",
       "      <th>cc</th>\n",
       "      <th>Doors</th>\n",
       "      <th>Gears</th>\n",
       "      <th>Weight</th>\n",
       "      <th>Fuel_Type_Diesel</th>\n",
       "      <th>Fuel_Type_Petrol</th>\n",
       "    </tr>\n",
       "  </thead>\n",
       "  <tbody>\n",
       "    <tr>\n",
       "      <th>0</th>\n",
       "      <td>-1.771966</td>\n",
       "      <td>-0.574695</td>\n",
       "      <td>-0.768042</td>\n",
       "      <td>-0.242893</td>\n",
       "      <td>0.997419</td>\n",
       "      <td>-1.085139</td>\n",
       "      <td>-0.140425</td>\n",
       "      <td>1.758561</td>\n",
       "      <td>1</td>\n",
       "      <td>0</td>\n",
       "    </tr>\n",
       "    <tr>\n",
       "      <th>1</th>\n",
       "      <td>-1.771966</td>\n",
       "      <td>0.117454</td>\n",
       "      <td>-0.768042</td>\n",
       "      <td>-0.242893</td>\n",
       "      <td>0.997419</td>\n",
       "      <td>-1.085139</td>\n",
       "      <td>-0.140425</td>\n",
       "      <td>1.758561</td>\n",
       "      <td>1</td>\n",
       "      <td>0</td>\n",
       "    </tr>\n",
       "    <tr>\n",
       "      <th>2</th>\n",
       "      <td>-1.718184</td>\n",
       "      <td>-0.715386</td>\n",
       "      <td>-0.768042</td>\n",
       "      <td>-0.242893</td>\n",
       "      <td>0.997419</td>\n",
       "      <td>-1.085139</td>\n",
       "      <td>-0.140425</td>\n",
       "      <td>1.758561</td>\n",
       "      <td>1</td>\n",
       "      <td>0</td>\n",
       "    </tr>\n",
       "    <tr>\n",
       "      <th>3</th>\n",
       "      <td>-1.610620</td>\n",
       "      <td>-0.547650</td>\n",
       "      <td>-0.768042</td>\n",
       "      <td>-0.242893</td>\n",
       "      <td>0.997419</td>\n",
       "      <td>-1.085139</td>\n",
       "      <td>-0.140425</td>\n",
       "      <td>1.758561</td>\n",
       "      <td>1</td>\n",
       "      <td>0</td>\n",
       "    </tr>\n",
       "    <tr>\n",
       "      <th>4</th>\n",
       "      <td>-1.395491</td>\n",
       "      <td>-0.801028</td>\n",
       "      <td>-0.768042</td>\n",
       "      <td>-0.242893</td>\n",
       "      <td>0.997419</td>\n",
       "      <td>-1.085139</td>\n",
       "      <td>-0.140425</td>\n",
       "      <td>1.853577</td>\n",
       "      <td>1</td>\n",
       "      <td>0</td>\n",
       "    </tr>\n",
       "  </tbody>\n",
       "</table>\n",
       "</div>"
      ],
      "text/plain": [
       "   Age_08_04        KM        HP  Automatic        cc     Doors     Gears  \\\n",
       "0  -1.771966 -0.574695 -0.768042  -0.242893  0.997419 -1.085139 -0.140425   \n",
       "1  -1.771966  0.117454 -0.768042  -0.242893  0.997419 -1.085139 -0.140425   \n",
       "2  -1.718184 -0.715386 -0.768042  -0.242893  0.997419 -1.085139 -0.140425   \n",
       "3  -1.610620 -0.547650 -0.768042  -0.242893  0.997419 -1.085139 -0.140425   \n",
       "4  -1.395491 -0.801028 -0.768042  -0.242893  0.997419 -1.085139 -0.140425   \n",
       "\n",
       "     Weight  Fuel_Type_Diesel  Fuel_Type_Petrol  \n",
       "0  1.758561                 1                 0  \n",
       "1  1.758561                 1                 0  \n",
       "2  1.758561                 1                 0  \n",
       "3  1.758561                 1                 0  \n",
       "4  1.853577                 1                 0  "
      ]
     },
     "execution_count": 76,
     "metadata": {},
     "output_type": "execute_result"
    }
   ],
   "source": [
    "SS=StandardScaler()\n",
    "numeric_cols = [\"Age_08_04\", \"KM\", \"HP\", \"Automatic\", \"cc\", \"Doors\", \"Gears\", \"Weight\"]\n",
    "model=StandardScaler()\n",
    "X[numeric_cols]=model.fit_transform(X[numeric_cols])\n",
    "X.head()"
   ]
  },
  {
   "cell_type": "markdown",
   "id": "6b6f7f5d-4e67-4f57-a11d-6a293e117819",
   "metadata": {},
   "source": [
    "now we are splitting the data in to training and testing \n",
    "\n",
    "after that we checked for correaltion between the variables and next we are building the models from the correlation tables \n",
    "\n",
    "and evaluating the performance of the models using metrics\n",
    "                     "
   ]
  },
  {
   "cell_type": "markdown",
   "id": "638a0a53-a39f-4b81-b611-980c84d703c3",
   "metadata": {},
   "source": [
    "### 2. Split the dataset into training and testing sets (e.g., 80% training, 20% testing)."
   ]
  },
  {
   "cell_type": "markdown",
   "id": "e9d84a39-0b0c-459c-bff9-1bc20f8392cf",
   "metadata": {},
   "source": [
    "### 3. Build a multiple linear regression model using the training dataset. Interpret the coefficients of the model. Build minimum of 3 different models."
   ]
  },
  {
   "cell_type": "markdown",
   "id": "31e173ce-f810-4a9d-b6c0-84c522785fca",
   "metadata": {},
   "source": [
    "### 4. Evaluate the performance of the model using appropriate evaluation metrics on the testing dataset."
   ]
  },
  {
   "cell_type": "code",
   "execution_count": 84,
   "id": "94da4de0-afd7-4c3a-a7d0-f2a7f00b3882",
   "metadata": {},
   "outputs": [
    {
     "data": {
      "text/html": [
       "<div>\n",
       "<style scoped>\n",
       "    .dataframe tbody tr th:only-of-type {\n",
       "        vertical-align: middle;\n",
       "    }\n",
       "\n",
       "    .dataframe tbody tr th {\n",
       "        vertical-align: top;\n",
       "    }\n",
       "\n",
       "    .dataframe thead th {\n",
       "        text-align: right;\n",
       "    }\n",
       "</style>\n",
       "<table border=\"1\" class=\"dataframe\">\n",
       "  <thead>\n",
       "    <tr style=\"text-align: right;\">\n",
       "      <th></th>\n",
       "      <th>Price</th>\n",
       "      <th>Age_08_04</th>\n",
       "      <th>KM</th>\n",
       "      <th>HP</th>\n",
       "      <th>cc</th>\n",
       "      <th>Weight</th>\n",
       "    </tr>\n",
       "  </thead>\n",
       "  <tbody>\n",
       "    <tr>\n",
       "      <th>Price</th>\n",
       "      <td>1.000000</td>\n",
       "      <td>-0.876590</td>\n",
       "      <td>-0.569960</td>\n",
       "      <td>0.314990</td>\n",
       "      <td>0.126389</td>\n",
       "      <td>0.581198</td>\n",
       "    </tr>\n",
       "    <tr>\n",
       "      <th>Age_08_04</th>\n",
       "      <td>-0.876590</td>\n",
       "      <td>1.000000</td>\n",
       "      <td>0.505672</td>\n",
       "      <td>-0.156622</td>\n",
       "      <td>-0.098084</td>\n",
       "      <td>-0.470253</td>\n",
       "    </tr>\n",
       "    <tr>\n",
       "      <th>KM</th>\n",
       "      <td>-0.569960</td>\n",
       "      <td>0.505672</td>\n",
       "      <td>1.000000</td>\n",
       "      <td>-0.333538</td>\n",
       "      <td>0.102683</td>\n",
       "      <td>-0.028598</td>\n",
       "    </tr>\n",
       "    <tr>\n",
       "      <th>HP</th>\n",
       "      <td>0.314990</td>\n",
       "      <td>-0.156622</td>\n",
       "      <td>-0.333538</td>\n",
       "      <td>1.000000</td>\n",
       "      <td>0.035856</td>\n",
       "      <td>0.089614</td>\n",
       "    </tr>\n",
       "    <tr>\n",
       "      <th>cc</th>\n",
       "      <td>0.126389</td>\n",
       "      <td>-0.098084</td>\n",
       "      <td>0.102683</td>\n",
       "      <td>0.035856</td>\n",
       "      <td>1.000000</td>\n",
       "      <td>0.335637</td>\n",
       "    </tr>\n",
       "    <tr>\n",
       "      <th>Weight</th>\n",
       "      <td>0.581198</td>\n",
       "      <td>-0.470253</td>\n",
       "      <td>-0.028598</td>\n",
       "      <td>0.089614</td>\n",
       "      <td>0.335637</td>\n",
       "      <td>1.000000</td>\n",
       "    </tr>\n",
       "  </tbody>\n",
       "</table>\n",
       "</div>"
      ],
      "text/plain": [
       "              Price  Age_08_04        KM        HP        cc    Weight\n",
       "Price      1.000000  -0.876590 -0.569960  0.314990  0.126389  0.581198\n",
       "Age_08_04 -0.876590   1.000000  0.505672 -0.156622 -0.098084 -0.470253\n",
       "KM        -0.569960   0.505672  1.000000 -0.333538  0.102683 -0.028598\n",
       "HP         0.314990  -0.156622 -0.333538  1.000000  0.035856  0.089614\n",
       "cc         0.126389  -0.098084  0.102683  0.035856  1.000000  0.335637\n",
       "Weight     0.581198  -0.470253 -0.028598  0.089614  0.335637  1.000000"
      ]
     },
     "execution_count": 84,
     "metadata": {},
     "output_type": "execute_result"
    }
   ],
   "source": [
    "num_variables=['Price', 'Age_08_04', 'KM','HP','cc','Weight']\n",
    "corr_matrix=df[num_variables].corr()\n",
    "corr_matrix"
   ]
  },
  {
   "cell_type": "markdown",
   "id": "2d0b6191-3f3b-49e7-9ece-51528be1102a",
   "metadata": {},
   "source": [
    "here are the 5 models we got from the correlation table"
   ]
  },
  {
   "cell_type": "markdown",
   "id": "2351e74d-910b-4e77-9371-1a9a9beffb5c",
   "metadata": {},
   "source": [
    "price - age\n",
    "\n",
    "price - age km\n",
    "\n",
    "price - age km wt\n",
    "\n",
    "price - age km wt hp \n",
    "\n",
    "price - age km wt hp cc"
   ]
  },
  {
   "cell_type": "code",
   "execution_count": 93,
   "id": "6adfa32b-110c-4254-9e35-c2b1848b5f30",
   "metadata": {},
   "outputs": [],
   "source": [
    "from sklearn.linear_model import LinearRegression\n",
    "from sklearn.metrics import root_mean_squared_error,r2_score\n",
    "model=LinearRegression()"
   ]
  },
  {
   "cell_type": "code",
   "execution_count": 95,
   "id": "aee3e2bd-3328-4eb8-8545-f8c99881c2c8",
   "metadata": {},
   "outputs": [],
   "source": [
    "from sklearn.model_selection import train_test_split\n",
    "Y=df[\"Price\"]"
   ]
  },
  {
   "cell_type": "code",
   "execution_count": 97,
   "id": "0169f8f7-232f-4aa8-95e5-438d4dc0ce95",
   "metadata": {},
   "outputs": [
    {
     "name": "stdout",
     "output_type": "stream",
     "text": [
      "For price - age:\n",
      "Train RMSE: 1730.773\n",
      "Train R2 score 0.771\n",
      "Test RMSE: 1800.934\n",
      "Test R2 score 0.757\n"
     ]
    }
   ],
   "source": [
    "X=df[[\"Age_08_04\"]]\n",
    "X_train,X_test,Y_train,Y_test= train_test_split(X,Y,test_size=0.2,random_state=42)\n",
    "model.fit(X_train,Y_train)\n",
    "Y_train_pred=model.predict(X_train)\n",
    "Y_test_pred=model.predict(X_test)\n",
    "train_rmse=root_mean_squared_error(Y_train,Y_train_pred)\n",
    "train_r2=r2_score(Y_train,Y_train_pred)\n",
    "test_rmse=root_mean_squared_error(Y_test,Y_test_pred)\n",
    "test_r2=r2_score(Y_test,Y_test_pred)\n",
    "print(\"For price - age:\")\n",
    "print(\"Train RMSE:\",np.round(train_rmse,3))\n",
    "print(\"Train R2 score\",np.round(train_r2,3))\n",
    "print(\"Test RMSE:\",np.round(test_rmse,3))\n",
    "print(\"Test R2 score\",np.round(test_r2,3))"
   ]
  },
  {
   "cell_type": "code",
   "execution_count": 99,
   "id": "d42ddd38-6224-4867-842e-3ce515a53fd8",
   "metadata": {},
   "outputs": [
    {
     "name": "stdout",
     "output_type": "stream",
     "text": [
      "For price - age km:\n",
      "Train RMSE: 1649.486\n",
      "Train R2 score 0.792\n",
      "Test RMSE: 1710.44\n",
      "Test R2 score 0.781\n"
     ]
    }
   ],
   "source": [
    "X=df[[\"Age_08_04\",\"KM\"]]\n",
    "X_train,X_test,Y_train,Y_test= train_test_split(X,Y,test_size=0.2,random_state=42)\n",
    "model.fit(X_train,Y_train)\n",
    "Y_train_pred=model.predict(X_train)\n",
    "Y_test_pred=model.predict(X_test)\n",
    "train_rmse=root_mean_squared_error(Y_train,Y_train_pred)\n",
    "train_r2=r2_score(Y_train,Y_train_pred)\n",
    "test_rmse=root_mean_squared_error(Y_test,Y_test_pred)\n",
    "test_r2=r2_score(Y_test,Y_test_pred)\n",
    "print(\"For price - age km:\")\n",
    "print(\"Train RMSE:\",np.round(train_rmse,3))\n",
    "print(\"Train R2 score\",np.round(train_r2,3))\n",
    "print(\"Test RMSE:\",np.round(test_rmse,3))\n",
    "print(\"Test R2 score\",np.round(test_r2,3))"
   ]
  },
  {
   "cell_type": "code",
   "execution_count": 101,
   "id": "c701cae2-3174-4ff6-8578-e1cf667083b5",
   "metadata": {},
   "outputs": [
    {
     "name": "stdout",
     "output_type": "stream",
     "text": [
      "For price - age km wt:\n",
      "Train RMSE: 1392.843\n",
      "Train R2 score 0.852\n",
      "Test RMSE: 1494.976\n",
      "Test R2 score 0.832\n"
     ]
    }
   ],
   "source": [
    "X=df[[\"Age_08_04\",\"KM\",\"Weight\"]]\n",
    "X_train,X_test,Y_train,Y_test= train_test_split(X,Y,test_size=0.2,random_state=42)\n",
    "model.fit(X_train,Y_train)\n",
    "Y_train_pred=model.predict(X_train)\n",
    "Y_test_pred=model.predict(X_test)\n",
    "train_rmse=root_mean_squared_error(Y_train,Y_train_pred)\n",
    "train_r2=r2_score(Y_train,Y_train_pred)\n",
    "test_rmse=root_mean_squared_error(Y_test,Y_test_pred)\n",
    "test_r2=r2_score(Y_test,Y_test_pred)\n",
    "print(\"For price - age km wt:\")\n",
    "print(\"Train RMSE:\",np.round(train_rmse,3))\n",
    "print(\"Train R2 score\",np.round(train_r2,3))\n",
    "print(\"Test RMSE:\",np.round(test_rmse,3))\n",
    "print(\"Test R2 score\",np.round(test_r2,3))"
   ]
  },
  {
   "cell_type": "code",
   "execution_count": 103,
   "id": "2b3f30cf-14db-46aa-a40b-10a2d7a08bd7",
   "metadata": {},
   "outputs": [
    {
     "name": "stdout",
     "output_type": "stream",
     "text": [
      "For price - age km wt hp:\n",
      "Train RMSE: 1333.039\n",
      "Train R2 score 0.864\n",
      "Test RMSE: 1411.85\n",
      "Test R2 score 0.851\n"
     ]
    }
   ],
   "source": [
    "X=df[[\"Age_08_04\",\"KM\",\"Weight\",\"HP\"]]\n",
    "X_train,X_test,Y_train,Y_test= train_test_split(X,Y,test_size=0.2,random_state=42)\n",
    "model.fit(X_train,Y_train)\n",
    "Y_train_pred=model.predict(X_train)\n",
    "Y_test_pred=model.predict(X_test)\n",
    "train_rmse=root_mean_squared_error(Y_train,Y_train_pred)\n",
    "train_r2=r2_score(Y_train,Y_train_pred)\n",
    "test_rmse=root_mean_squared_error(Y_test,Y_test_pred)\n",
    "test_r2=r2_score(Y_test,Y_test_pred)\n",
    "print(\"For price - age km wt hp:\")\n",
    "print(\"Train RMSE:\",np.round(train_rmse,3))\n",
    "print(\"Train R2 score\",np.round(train_r2,3))\n",
    "print(\"Test RMSE:\",np.round(test_rmse,3))\n",
    "print(\"Test R2 score\",np.round(test_r2,3))"
   ]
  },
  {
   "cell_type": "code",
   "execution_count": 105,
   "id": "26639718-78bd-4159-9163-91b241037971",
   "metadata": {},
   "outputs": [
    {
     "name": "stdout",
     "output_type": "stream",
     "text": [
      "For price - age km wt hp cc:\n",
      "Train RMSE: 1332.312\n",
      "Train R2 score 0.864\n",
      "Test RMSE: 1412.786\n",
      "Test R2 score 0.85\n"
     ]
    }
   ],
   "source": [
    "X=df[[\"Age_08_04\",\"KM\",\"Weight\",\"HP\",\"cc\"]]\n",
    "X_train,X_test,Y_train,Y_test= train_test_split(X,Y,test_size=0.2,random_state=42)\n",
    "model.fit(X_train,Y_train)\n",
    "Y_train_pred=model.predict(X_train)\n",
    "Y_test_pred=model.predict(X_test)\n",
    "train_rmse=root_mean_squared_error(Y_train,Y_train_pred)\n",
    "train_r2=r2_score(Y_train,Y_train_pred)\n",
    "test_rmse=root_mean_squared_error(Y_test,Y_test_pred)\n",
    "test_r2=r2_score(Y_test,Y_test_pred)\n",
    "print(\"For price - age km wt hp cc:\")\n",
    "print(\"Train RMSE:\",np.round(train_rmse,3))\n",
    "print(\"Train R2 score\",np.round(train_r2,3))\n",
    "print(\"Test RMSE:\",np.round(test_rmse,3))\n",
    "print(\"Test R2 score\",np.round(test_r2,3))"
   ]
  },
  {
   "cell_type": "code",
   "execution_count": 107,
   "id": "2772fcb4-0125-43e7-a519-3dd2066c47cf",
   "metadata": {},
   "outputs": [
    {
     "name": "stdout",
     "output_type": "stream",
     "text": [
      "Intercept: -5510.157105059094\n",
      "\n",
      "Coefficients:\n",
      "\n",
      "     Feature  Coefficient\n",
      "0  Age_08_04  -119.972882\n",
      "1         KM    -0.020106\n",
      "2     Weight    20.084383\n",
      "3         HP    29.194964\n",
      "4         cc    -0.100760\n"
     ]
    }
   ],
   "source": [
    "# Coefficients for the model\n",
    "coefficients = pd.DataFrame({\n",
    "    \"Feature\": X_train.columns,\n",
    "    \"Coefficient\": model.coef_\n",
    "})\n",
    "\n",
    "# Intercept\n",
    "intercept = model.intercept_\n",
    "\n",
    "print(\"Intercept:\", intercept)\n",
    "print(\"\\nCoefficients:\\n\")\n",
    "print(coefficients)"
   ]
  },
  {
   "cell_type": "code",
   "execution_count": 109,
   "id": "4a70cedf-4b82-46ed-941b-393fdf0a5828",
   "metadata": {},
   "outputs": [
    {
     "name": "stdout",
     "output_type": "stream",
     "text": [
      "     Model               Predictors  Train RMSE  Train R²  Test RMSE  Test R²\n",
      "0  Model 1                      Age     1328.73     0.803    1317.16    0.798\n",
      "1  Model 2                  Age, KM     1249.07     0.826    1213.56    0.829\n",
      "2  Model 3          Age, KM, Weight     1156.27     0.851    1138.36    0.849\n",
      "3  Model 4      Age, KM, Weight, HP     1125.37     0.859    1106.59    0.857\n",
      "4  Model 5  Age, KM, Weight, HP, CC     1102.93     0.864    1087.96    0.862\n"
     ]
    }
   ],
   "source": [
    "results = [\n",
    "    {\"Model\": \"Model 1\", \"Predictors\": \"Age\", \n",
    "     \"Train RMSE\": 1328.73, \"Train R²\": 0.803, \"Test RMSE\": 1317.16, \"Test R²\": 0.798},\n",
    "    \n",
    "    {\"Model\": \"Model 2\", \"Predictors\": \"Age, KM\", \n",
    "     \"Train RMSE\": 1249.07, \"Train R²\": 0.826, \"Test RMSE\": 1213.56, \"Test R²\": 0.829},\n",
    "    \n",
    "    {\"Model\": \"Model 3\", \"Predictors\": \"Age, KM, Weight\", \n",
    "     \"Train RMSE\": 1156.27, \"Train R²\": 0.851, \"Test RMSE\": 1138.36, \"Test R²\": 0.849},\n",
    "    \n",
    "    {\"Model\": \"Model 4\", \"Predictors\": \"Age, KM, Weight, HP\", \n",
    "     \"Train RMSE\": 1125.37, \"Train R²\": 0.859, \"Test RMSE\": 1106.59, \"Test R²\": 0.857},\n",
    "    \n",
    "    {\"Model\": \"Model 5\", \"Predictors\": \"Age, KM, Weight, HP, CC\", \n",
    "     \"Train RMSE\": 1102.93, \"Train R²\": 0.864, \"Test RMSE\": 1087.96, \"Test R²\": 0.862},\n",
    "]\n",
    "\n",
    "df_results = pd.DataFrame(results)\n",
    "print(df_results)"
   ]
  },
  {
   "cell_type": "markdown",
   "id": "eeb6fcff-4ec2-4262-9412-b1074c04713c",
   "metadata": {},
   "source": [
    "model 5 is the best fit as we can see low rmse and high r2"
   ]
  },
  {
   "cell_type": "markdown",
   "id": "48e45d89-69c6-4a56-b706-5cc15766f0ea",
   "metadata": {},
   "source": [
    "### 5. Apply Lasso and Ridge methods on the model."
   ]
  },
  {
   "cell_type": "markdown",
   "id": "5090541d-0fb1-4514-a08b-971eff9d9885",
   "metadata": {},
   "source": [
    "Ridge regularization"
   ]
  },
  {
   "cell_type": "code",
   "execution_count": 118,
   "id": "5f8700fe-a31c-481c-9c81-820b9dd9085f",
   "metadata": {},
   "outputs": [],
   "source": [
    "from sklearn.linear_model import Lasso,Ridge"
   ]
  },
  {
   "cell_type": "code",
   "execution_count": 120,
   "id": "9bdd4fa3-9201-4cb8-8469-846829be684f",
   "metadata": {},
   "outputs": [],
   "source": [
    "X = df[[\"Age_08_04\", \"KM\", \"Weight\", \"HP\", \"cc\"]]\n",
    "Y = df[\"Price\"]"
   ]
  },
  {
   "cell_type": "code",
   "execution_count": 122,
   "id": "5576c7b5-a502-406d-987e-2fd530f11c15",
   "metadata": {},
   "outputs": [],
   "source": [
    "X_train, X_test, Y_train, Y_test = train_test_split(X, Y, test_size=0.2, random_state=42)"
   ]
  },
  {
   "cell_type": "code",
   "execution_count": 124,
   "id": "fb54616d-9da8-4664-87fe-da20f1c7ad72",
   "metadata": {},
   "outputs": [],
   "source": [
    "ridge=Ridge(alpha=1.0)\n",
    "ridge.fit(X_train,Y_train)\n",
    "ridge_train_pred=ridge.predict(X_train)\n",
    "ridge_test_pred=ridge.predict(X_test)"
   ]
  },
  {
   "cell_type": "code",
   "execution_count": 126,
   "id": "6ccac436-fa79-42b7-a53a-2b780701cb47",
   "metadata": {},
   "outputs": [
    {
     "name": "stdout",
     "output_type": "stream",
     "text": [
      "Ridge Regularization\n",
      "Train RMSE: 1332.312\n",
      "Train R2: 0.864\n",
      "Test RMSE: 1412.787\n",
      "Test R2: 0.85\n"
     ]
    }
   ],
   "source": [
    "ridge_train_rmse=root_mean_squared_error(Y_train,ridge_train_pred)\n",
    "ridge_test_rmse=root_mean_squared_error(Y_test,ridge_test_pred)\n",
    "ridge_train_r2=r2_score(Y_train,ridge_train_pred)\n",
    "ridge_test_r2=r2_score(Y_test,ridge_test_pred)\n",
    "print(\"Ridge Regularization\")\n",
    "print(\"Train RMSE:\",np.round(ridge_train_rmse,3))\n",
    "print(\"Train R2:\",np.round(ridge_train_r2,3))\n",
    "print(\"Test RMSE:\",np.round(ridge_test_rmse,3))\n",
    "print(\"Test R2:\",np.round(ridge_test_r2,3))"
   ]
  },
  {
   "cell_type": "markdown",
   "id": "08e23cc2-e4a4-412e-ac11-6a8e02989ec8",
   "metadata": {},
   "source": [
    "Lasso regularization"
   ]
  },
  {
   "cell_type": "code",
   "execution_count": 129,
   "id": "ac97aad5-1f74-43ed-926e-83cfadba4390",
   "metadata": {},
   "outputs": [],
   "source": [
    "lasso=Lasso(alpha=0.01)\n",
    "lasso.fit(X_train,Y_train)\n",
    "lasso_train_pred=lasso.predict(X_train)\n",
    "lasso_test_pred=lasso.predict(X_test)"
   ]
  },
  {
   "cell_type": "code",
   "execution_count": 131,
   "id": "7be1e395-b980-41e8-b366-8ee322226b07",
   "metadata": {},
   "outputs": [
    {
     "name": "stdout",
     "output_type": "stream",
     "text": [
      "Lasso Regularization\n",
      "Train RMSE: 1332.312\n",
      "Train R2: 0.864\n",
      "Test RMSE: 1412.786\n",
      "Test R2: 0.85\n"
     ]
    }
   ],
   "source": [
    "lasso_train_rmse=root_mean_squared_error(Y_train,lasso_train_pred)\n",
    "lasso_test_rmse=root_mean_squared_error(Y_test,lasso_test_pred)\n",
    "lasso_train_r2=r2_score(Y_train,lasso_train_pred)\n",
    "lasso_test_r2=r2_score(Y_test,lasso_test_pred)\n",
    "print(\"Lasso Regularization\")\n",
    "print(\"Train RMSE:\",np.round(lasso_train_rmse,3))\n",
    "print(\"Train R2:\",np.round(lasso_train_r2,3))\n",
    "print(\"Test RMSE:\",np.round(lasso_test_rmse,3))\n",
    "print(\"Test R2:\",np.round(lasso_test_r2,3))"
   ]
  },
  {
   "cell_type": "markdown",
   "id": "5b153741-903d-4f00-83d7-c1538ac2fecd",
   "metadata": {},
   "source": [
    "## ****Interview Questions:****\n",
    "\n",
    "### 1. What is Normalization & Standardization and how is it helpful?\n",
    "Normalization and Standardisation are techniques of data preprocessing used in macine learning to bring features to a sommon scale\n",
    "\n",
    "\n",
    "****Normalization:****\n",
    "* Nomalization scales data to a range 0 to 1\n",
    "\n",
    "* It is useful for algorithms sensitive to feature sacles likes knn and helpfu when data is not normally distributed\n",
    "\n",
    "\n",
    "****Standardization:****\n",
    "* Standadization transform data to a standard normal distribution i.e., mean =0 and standard deviation = 1\n",
    "\n",
    "* It is useful for algorithms like svm and when data is normally distributed\n",
    "\n",
    "\n",
    "### 2. What techniques can be used to address multicollinearity in multiple linear regression?\n",
    "Techniques like Ridge and Lasso regularizations can be used to address multicollinearity in multiple linear regression to shrink or select coefficients \n"
   ]
  },
  {
   "cell_type": "code",
   "execution_count": null,
   "id": "d86b3d3d-b102-4d86-8df4-dadf947b0ac0",
   "metadata": {},
   "outputs": [],
   "source": []
  },
  {
   "cell_type": "code",
   "execution_count": null,
   "id": "018c4a60-d4bd-440d-a83e-1938d0d182b4",
   "metadata": {},
   "outputs": [],
   "source": []
  },
  {
   "cell_type": "code",
   "execution_count": null,
   "id": "390fd031-4ee4-4ee3-92d5-64a71063b4ac",
   "metadata": {},
   "outputs": [],
   "source": []
  }
 ],
 "metadata": {
  "kernelspec": {
   "display_name": "Python [conda env:base] *",
   "language": "python",
   "name": "conda-base-py"
  },
  "language_info": {
   "codemirror_mode": {
    "name": "ipython",
    "version": 3
   },
   "file_extension": ".py",
   "mimetype": "text/x-python",
   "name": "python",
   "nbconvert_exporter": "python",
   "pygments_lexer": "ipython3",
   "version": "3.12.7"
  }
 },
 "nbformat": 4,
 "nbformat_minor": 5
}
