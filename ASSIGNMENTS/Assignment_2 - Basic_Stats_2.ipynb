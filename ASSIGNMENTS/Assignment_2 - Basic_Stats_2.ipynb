{
 "cells": [
  {
   "cell_type": "markdown",
   "id": "f9425f6d-cfc6-4bba-b2c3-786161ccc632",
   "metadata": {},
   "source": [
    "## ****Estimation And Confidence Intervals**** ##"
   ]
  },
  {
   "cell_type": "markdown",
   "id": "b99a3337-0d0f-451d-80a3-c02b43d5f6da",
   "metadata": {},
   "source": [
    "#### ****Background:**** ####\n",
    "\n",
    "In quality control processes, especially when dealing with high-value items, destructive sampling is a necessary but costly method to ensure product quality. The test to determine whether an item meets the quality standards destroys the item, leading to the requirement of small sample sizes due to cost constraints.\n",
    "\n",
    "#### ****Scenario:**** ####\n",
    "\n",
    "A manufacturer of print-heads for personal computers is interested in estimating the mean durability of their print-heads in terms of the number of characters printed before failure. To assess this, the manufacturer conducts a study on a small sample of print-heads due to the destructive nature of the testing process.\n",
    "\n",
    "\n",
    "#### ****Data:**** ####\n",
    "\n",
    "A total of 15 print-heads were randomly selected and tested until failure. The durability of each print-head (in millions of characters) was recorded as follows:\n",
    "1.13, 1.55, 1.43, 0.92, 1.25, 1.36, 1.32, 0.85, 1.07, 1.48, 1.20, 1.33, 1.18, 1.22, 1.29\n"
   ]
  },
  {
   "cell_type": "code",
   "execution_count": 211,
   "id": "6686eb46-d82b-40b0-a605-f1c62908695a",
   "metadata": {},
   "outputs": [],
   "source": [
    "import pandas as pd\n",
    "import numpy as np"
   ]
  },
  {
   "cell_type": "markdown",
   "id": "6c8cbd34-6482-4af5-bb8f-cc0675efbb04",
   "metadata": {},
   "source": [
    "##### here, the data given in the form of list #####"
   ]
  },
  {
   "cell_type": "code",
   "execution_count": 214,
   "id": "f0405022-eda4-4a7a-b40b-6957620d17a1",
   "metadata": {},
   "outputs": [],
   "source": [
    "data=[1.13, 1.55, 1.43, 0.92, 1.25, 1.36, 1.32, 0.85, 1.07, 1.48, 1.20, 1.33, 1.18, 1.22, 1.29]"
   ]
  },
  {
   "cell_type": "markdown",
   "id": "5d0cab95-6c22-4d6e-bd01-a46a1657ef81",
   "metadata": {},
   "source": [
    "##### so we are converting the list to table #####"
   ]
  },
  {
   "cell_type": "code",
   "execution_count": 217,
   "id": "b6d8ef24-fb85-40e5-a4bb-70b82a6c93f1",
   "metadata": {},
   "outputs": [
    {
     "data": {
      "text/html": [
       "<div>\n",
       "<style scoped>\n",
       "    .dataframe tbody tr th:only-of-type {\n",
       "        vertical-align: middle;\n",
       "    }\n",
       "\n",
       "    .dataframe tbody tr th {\n",
       "        vertical-align: top;\n",
       "    }\n",
       "\n",
       "    .dataframe thead th {\n",
       "        text-align: right;\n",
       "    }\n",
       "</style>\n",
       "<table border=\"1\" class=\"dataframe\">\n",
       "  <thead>\n",
       "    <tr style=\"text-align: right;\">\n",
       "      <th></th>\n",
       "      <th>Durability</th>\n",
       "    </tr>\n",
       "  </thead>\n",
       "  <tbody>\n",
       "    <tr>\n",
       "      <th>0</th>\n",
       "      <td>1.13</td>\n",
       "    </tr>\n",
       "    <tr>\n",
       "      <th>1</th>\n",
       "      <td>1.55</td>\n",
       "    </tr>\n",
       "    <tr>\n",
       "      <th>2</th>\n",
       "      <td>1.43</td>\n",
       "    </tr>\n",
       "    <tr>\n",
       "      <th>3</th>\n",
       "      <td>0.92</td>\n",
       "    </tr>\n",
       "    <tr>\n",
       "      <th>4</th>\n",
       "      <td>1.25</td>\n",
       "    </tr>\n",
       "    <tr>\n",
       "      <th>5</th>\n",
       "      <td>1.36</td>\n",
       "    </tr>\n",
       "    <tr>\n",
       "      <th>6</th>\n",
       "      <td>1.32</td>\n",
       "    </tr>\n",
       "    <tr>\n",
       "      <th>7</th>\n",
       "      <td>0.85</td>\n",
       "    </tr>\n",
       "    <tr>\n",
       "      <th>8</th>\n",
       "      <td>1.07</td>\n",
       "    </tr>\n",
       "    <tr>\n",
       "      <th>9</th>\n",
       "      <td>1.48</td>\n",
       "    </tr>\n",
       "    <tr>\n",
       "      <th>10</th>\n",
       "      <td>1.20</td>\n",
       "    </tr>\n",
       "    <tr>\n",
       "      <th>11</th>\n",
       "      <td>1.33</td>\n",
       "    </tr>\n",
       "    <tr>\n",
       "      <th>12</th>\n",
       "      <td>1.18</td>\n",
       "    </tr>\n",
       "    <tr>\n",
       "      <th>13</th>\n",
       "      <td>1.22</td>\n",
       "    </tr>\n",
       "    <tr>\n",
       "      <th>14</th>\n",
       "      <td>1.29</td>\n",
       "    </tr>\n",
       "  </tbody>\n",
       "</table>\n",
       "</div>"
      ],
      "text/plain": [
       "    Durability\n",
       "0         1.13\n",
       "1         1.55\n",
       "2         1.43\n",
       "3         0.92\n",
       "4         1.25\n",
       "5         1.36\n",
       "6         1.32\n",
       "7         0.85\n",
       "8         1.07\n",
       "9         1.48\n",
       "10        1.20\n",
       "11        1.33\n",
       "12        1.18\n",
       "13        1.22\n",
       "14        1.29"
      ]
     },
     "execution_count": 217,
     "metadata": {},
     "output_type": "execute_result"
    }
   ],
   "source": [
    "df=pd.DataFrame(data,columns=[\"Durability\"])\n",
    "df"
   ]
  },
  {
   "cell_type": "markdown",
   "id": "4f224b65-3b58-4c44-ac8a-3417401e6067",
   "metadata": {},
   "source": [
    "##### length of our data #####"
   ]
  },
  {
   "cell_type": "code",
   "execution_count": 220,
   "id": "1d67d9dc-0c8b-406f-a734-bfb27a22fdac",
   "metadata": {},
   "outputs": [
    {
     "data": {
      "text/plain": [
       "15"
      ]
     },
     "execution_count": 220,
     "metadata": {},
     "output_type": "execute_result"
    }
   ],
   "source": [
    "n=len(df)\n",
    "n"
   ]
  },
  {
   "cell_type": "markdown",
   "id": "6ad607d0-024a-4321-bf33-b4724f8b7643",
   "metadata": {},
   "source": [
    "##### here, we are calculating the mean #####"
   ]
  },
  {
   "cell_type": "code",
   "execution_count": 223,
   "id": "fbeff5fc-561f-4e7c-9f04-404d136b487a",
   "metadata": {},
   "outputs": [
    {
     "data": {
      "text/plain": [
       "1.2386666666666666"
      ]
     },
     "execution_count": 223,
     "metadata": {},
     "output_type": "execute_result"
    }
   ],
   "source": [
    "mean=df[\"Durability\"].mean()\n",
    "mean"
   ]
  },
  {
   "cell_type": "markdown",
   "id": "0f3589fe-2b1a-481b-9cb7-6a03b94884e4",
   "metadata": {},
   "source": [
    "##### here we are calculating the sample std using delta degree of freedom as we are calculating the ****sample std**** #####"
   ]
  },
  {
   "cell_type": "code",
   "execution_count": 226,
   "id": "cbd451e8-63bc-4da9-9f57-7d6ba168b9a8",
   "metadata": {},
   "outputs": [
    {
     "data": {
      "text/plain": [
       "0.19316412956959936"
      ]
     },
     "execution_count": 226,
     "metadata": {},
     "output_type": "execute_result"
    }
   ],
   "source": [
    "sample_std=df[\"Durability\"].std(ddof=1)\n",
    "sample_std"
   ]
  },
  {
   "cell_type": "markdown",
   "id": "7a7c546a-4992-4813-8965-386d29038398",
   "metadata": {},
   "source": [
    "#### ****Assignment Tasks:**** ####"
   ]
  },
  {
   "cell_type": "markdown",
   "id": "fec8bb95-0279-491c-b58c-c046ec674449",
   "metadata": {},
   "source": [
    "#### ****a.**** #### \n",
    "Build 99% Confidence Interval Using Sample Standard Deviation Assuming the sample is representative of the population, construct a 99% confidence interval for the mean number of characters printed before the print-head fails using the sample standard deviation. Explain the steps you take and the rationale behind using the t-distribution for this task."
   ]
  },
  {
   "cell_type": "code",
   "execution_count": 234,
   "id": "d09a8515-ba90-406e-9a4f-b36031ae4ca3",
   "metadata": {},
   "outputs": [],
   "source": [
    "from scipy.stats import t,norm"
   ]
  },
  {
   "cell_type": "markdown",
   "id": "19ec95fa-d36a-4fc2-866c-9258fc805015",
   "metadata": {},
   "source": [
    "#### here we are using t distribution as the std is unknown and the length of the data is lessthan 30 ####"
   ]
  },
  {
   "cell_type": "code",
   "execution_count": 237,
   "id": "6d19032f-55c8-425d-bee8-6e6425d93eb7",
   "metadata": {},
   "outputs": [],
   "source": [
    "confidence_interval=t.interval(confidence=0.99,df=n-1,loc=mean,scale=sample_std/np.sqrt(n))"
   ]
  },
  {
   "cell_type": "code",
   "execution_count": 239,
   "id": "81eddcfc-eec1-4221-8f8b-1e26ed5b1189",
   "metadata": {},
   "outputs": [
    {
     "name": "stdout",
     "output_type": "stream",
     "text": [
      "We are 99% confident that the mean durability lies between (1.0901973384384906, 1.3871359948948425)\n"
     ]
    }
   ],
   "source": [
    "print(\"We are 99% confident that the mean durability lies between\",confidence_interval)"
   ]
  },
  {
   "cell_type": "markdown",
   "id": "e1ba7daf-d1e8-46d3-bab5-daadffc29495",
   "metadata": {},
   "source": [
    "******************************************************************************************"
   ]
  },
  {
   "cell_type": "markdown",
   "id": "c86ceb77-533e-4d58-9c9a-a0ba0283a873",
   "metadata": {},
   "source": [
    "#### ****b.**** #### \n",
    "Build 99% Confidence Interval Using Known Population Standard Deviation\n",
    "If it were known that the population standard deviation is 0.2 million characters, construct a 99% confidence interval for the mean number of characters printed before failure."
   ]
  },
  {
   "cell_type": "markdown",
   "id": "0a435bf2-4332-4ee2-bd9b-2a2784a5dcd8",
   "metadata": {},
   "source": [
    "##### here the populatin std is already given in the que #####"
   ]
  },
  {
   "cell_type": "markdown",
   "id": "ad68caf2-4f2c-4ca9-a075-151ff7e7ed59",
   "metadata": {},
   "source": [
    "#### we use z distribution here as population std is given.In other words, we can say that it met the conditions of z distribution that is population std is given  ####"
   ]
  },
  {
   "cell_type": "code",
   "execution_count": 245,
   "id": "76808970-5381-42cc-80c3-f4f8ee7674e6",
   "metadata": {},
   "outputs": [],
   "source": [
    "given_pop_std=0.2\n",
    "confidence_interval=norm.interval(confidence=0.99,loc=mean,scale=given_pop_std/np.sqrt(n))"
   ]
  },
  {
   "cell_type": "code",
   "execution_count": 247,
   "id": "4b4b38cf-f8fa-4904-a47e-b4cf62e98d51",
   "metadata": {},
   "outputs": [
    {
     "name": "stdout",
     "output_type": "stream",
     "text": [
      "We are 99% confident that the mean durability lies between (1.1056514133957607, 1.3716819199375725)\n"
     ]
    }
   ],
   "source": [
    "print(\"We are 99% confident that the mean durability lies between\",confidence_interval)"
   ]
  }
 ],
 "metadata": {
  "kernelspec": {
   "display_name": "Python [conda env:base] *",
   "language": "python",
   "name": "conda-base-py"
  },
  "language_info": {
   "codemirror_mode": {
    "name": "ipython",
    "version": 3
   },
   "file_extension": ".py",
   "mimetype": "text/x-python",
   "name": "python",
   "nbconvert_exporter": "python",
   "pygments_lexer": "ipython3",
   "version": "3.12.7"
  }
 },
 "nbformat": 4,
 "nbformat_minor": 5
}
