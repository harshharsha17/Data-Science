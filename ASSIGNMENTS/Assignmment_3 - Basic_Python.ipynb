{
 "cells": [
  {
   "cell_type": "markdown",
   "id": "4078300f-0e71-47b2-872b-f497bd5044d0",
   "metadata": {},
   "source": [
    "# ****PYTHON PROGRAMMING ASSIGNMENT**** #"
   ]
  },
  {
   "cell_type": "markdown",
   "id": "6fd8a49e-b095-4074-952d-8ef7d023e65a",
   "metadata": {},
   "source": [
    "### Exercise 1: Prime Numbers ###\n",
    "\n",
    "Write a Python program that checks whether a given number is prime or not. A prime number is a natural number greater than 1 that has no positive divisors other than 1 and itself.\n"
   ]
  },
  {
   "cell_type": "code",
   "execution_count": 27,
   "id": "61caa4da-2b2d-421e-adbd-3d9bcea4e05c",
   "metadata": {},
   "outputs": [
    {
     "name": "stdin",
     "output_type": "stream",
     "text": [
      "Enter a number:\n",
      " 5\n"
     ]
    },
    {
     "name": "stdout",
     "output_type": "stream",
     "text": [
      "The given number is prime number\n"
     ]
    }
   ],
   "source": [
    "def prime_number(n):\n",
    "    if n==0 or n==1:\n",
    "        return False\n",
    "    for i in range(2,n):\n",
    "        if n%i==0:\n",
    "            return False\n",
    "    return True\n",
    "    \n",
    "n=int(input(\"Enter a number:\\n\"))\n",
    "if prime_number(n):\n",
    "    print(\"The given number is prime number\")\n",
    "else:\n",
    "    print(\"The given number is not a prime number\")"
   ]
  },
  {
   "cell_type": "code",
   "execution_count": null,
   "id": "78728eeb-99b8-4419-9a3a-0504966b9c55",
   "metadata": {},
   "outputs": [],
   "source": []
  },
  {
   "cell_type": "markdown",
   "id": "e5192b97-0157-4813-ad25-d19a1ad894f3",
   "metadata": {},
   "source": [
    "### Exercise 2: Product of Random Numbers ###\n",
    "\n",
    "Develop a Python program that generates two random numbers and asks the user to enter the product of these numbers. The program should then check if the user's answer is correct and display an appropriate message.\n"
   ]
  },
  {
   "cell_type": "code",
   "execution_count": 32,
   "id": "fe5d8d70-5738-41c5-94a3-7105fbac4eca",
   "metadata": {},
   "outputs": [
    {
     "name": "stdout",
     "output_type": "stream",
     "text": [
      "1st Random number:\n",
      " 9\n",
      "2nd Random number:\n",
      " 10\n"
     ]
    },
    {
     "name": "stdin",
     "output_type": "stream",
     "text": [
      "Product of the number by User:\n",
      " 90\n"
     ]
    },
    {
     "name": "stdout",
     "output_type": "stream",
     "text": [
      "Product of Random numbers is correct\n"
     ]
    }
   ],
   "source": [
    "import random\n",
    "x=random.randint(1,10)\n",
    "print(\"1st Random number:\\n\",x)\n",
    "y=random.randint(1,10)\n",
    "print(\"2nd Random number:\\n\",y)\n",
    "product_by_user=int(input(\"Product of the number by User:\\n\"))\n",
    "product=x*y\n",
    "if(product_by_user==product):\n",
    "    print(\"Product of Random numbers is correct\")\n",
    "else:\n",
    "    print(\"Product of Random numbers is not correct\")"
   ]
  },
  {
   "cell_type": "markdown",
   "id": "3e9bcfaa-b754-47e0-9aaa-a0829741c662",
   "metadata": {},
   "source": [
    "## Exercise 3: Squares of Even/Odd Numbers ##\n",
    "Create a Python script that prints the squares of all even or odd numbers within the range of 100 to 200. Choose either even or odd numbers and document your choice in the code.\n"
   ]
  },
  {
   "cell_type": "code",
   "execution_count": 35,
   "id": "1093bfb9-dff0-4f2f-b6a8-3e1bc69495d9",
   "metadata": {},
   "outputs": [
    {
     "name": "stdout",
     "output_type": "stream",
     "text": [
      "-------------------***************---------------\n",
      "Squares of Even Numbers: \n",
      "Square of 100  is:  10000\n",
      "Square of 102  is:  10404\n",
      "Square of 104  is:  10816\n",
      "Square of 106  is:  11236\n",
      "Square of 108  is:  11664\n",
      "Square of 110  is:  12100\n",
      "Square of 112  is:  12544\n",
      "Square of 114  is:  12996\n",
      "Square of 116  is:  13456\n",
      "Square of 118  is:  13924\n",
      "Square of 120  is:  14400\n",
      "Square of 122  is:  14884\n",
      "Square of 124  is:  15376\n",
      "Square of 126  is:  15876\n",
      "Square of 128  is:  16384\n",
      "Square of 130  is:  16900\n",
      "Square of 132  is:  17424\n",
      "Square of 134  is:  17956\n",
      "Square of 136  is:  18496\n",
      "Square of 138  is:  19044\n",
      "Square of 140  is:  19600\n",
      "Square of 142  is:  20164\n",
      "Square of 144  is:  20736\n",
      "Square of 146  is:  21316\n",
      "Square of 148  is:  21904\n",
      "Square of 150  is:  22500\n",
      "Square of 152  is:  23104\n",
      "Square of 154  is:  23716\n",
      "Square of 156  is:  24336\n",
      "Square of 158  is:  24964\n",
      "Square of 160  is:  25600\n",
      "Square of 162  is:  26244\n",
      "Square of 164  is:  26896\n",
      "Square of 166  is:  27556\n",
      "Square of 168  is:  28224\n",
      "Square of 170  is:  28900\n",
      "Square of 172  is:  29584\n",
      "Square of 174  is:  30276\n",
      "Square of 176  is:  30976\n",
      "Square of 178  is:  31684\n",
      "Square of 180  is:  32400\n",
      "Square of 182  is:  33124\n",
      "Square of 184  is:  33856\n",
      "Square of 186  is:  34596\n",
      "Square of 188  is:  35344\n",
      "Square of 190  is:  36100\n",
      "Square of 192  is:  36864\n",
      "Square of 194  is:  37636\n",
      "Square of 196  is:  38416\n",
      "Square of 198  is:  39204\n",
      "-------------------***************---------------\n",
      "Squares of Odd Numbers: \n",
      "Square of 101  is:  10201\n",
      "Square of 103  is:  10609\n",
      "Square of 105  is:  11025\n",
      "Square of 107  is:  11449\n",
      "Square of 109  is:  11881\n",
      "Square of 111  is:  12321\n",
      "Square of 113  is:  12769\n",
      "Square of 115  is:  13225\n",
      "Square of 117  is:  13689\n",
      "Square of 119  is:  14161\n",
      "Square of 121  is:  14641\n",
      "Square of 123  is:  15129\n",
      "Square of 125  is:  15625\n",
      "Square of 127  is:  16129\n",
      "Square of 129  is:  16641\n",
      "Square of 131  is:  17161\n",
      "Square of 133  is:  17689\n",
      "Square of 135  is:  18225\n",
      "Square of 137  is:  18769\n",
      "Square of 139  is:  19321\n",
      "Square of 141  is:  19881\n",
      "Square of 143  is:  20449\n",
      "Square of 145  is:  21025\n",
      "Square of 147  is:  21609\n",
      "Square of 149  is:  22201\n",
      "Square of 151  is:  22801\n",
      "Square of 153  is:  23409\n",
      "Square of 155  is:  24025\n",
      "Square of 157  is:  24649\n",
      "Square of 159  is:  25281\n",
      "Square of 161  is:  25921\n",
      "Square of 163  is:  26569\n",
      "Square of 165  is:  27225\n",
      "Square of 167  is:  27889\n",
      "Square of 169  is:  28561\n",
      "Square of 171  is:  29241\n",
      "Square of 173  is:  29929\n",
      "Square of 175  is:  30625\n",
      "Square of 177  is:  31329\n",
      "Square of 179  is:  32041\n",
      "Square of 181  is:  32761\n",
      "Square of 183  is:  33489\n",
      "Square of 185  is:  34225\n",
      "Square of 187  is:  34969\n",
      "Square of 189  is:  35721\n",
      "Square of 191  is:  36481\n",
      "Square of 193  is:  37249\n",
      "Square of 195  is:  38025\n",
      "Square of 197  is:  38809\n",
      "Square of 199  is:  39601\n",
      "-------------------***************---------------\n"
     ]
    }
   ],
   "source": [
    "print(\"-------------------***************---------------\")\n",
    "print(\"Squares of Even Numbers: \")\n",
    "for i in range(100,200):\n",
    "    if i%2==0:\n",
    "        print(\"Square of\", i,\" is: \",i*i)\n",
    "print(\"-------------------***************---------------\")\n",
    "print(\"Squares of Odd Numbers: \")\n",
    "for i in range(100,200):\n",
    "    if i%2!=0:\n",
    "        print(\"Square of\", i,\" is: \",i*i)\n",
    "print(\"-------------------***************---------------\")    "
   ]
  },
  {
   "cell_type": "markdown",
   "id": "a903a06d-07a4-49be-b540-525e700c4a1e",
   "metadata": {},
   "source": [
    "## Exercise 4: Word counter ##\n",
    "write a program to count the number of words in a given text.\n",
    "example:\n",
    "input_text = \"This is a sample text. This text will be used to demonstrate the word counter.\"\n",
    "Expected output:\n",
    "'This': 2 \n",
    "'is': 1\n",
    "'a': 1\n",
    "'sample': 1\n",
    "'text.': 1\n"
   ]
  },
  {
   "cell_type": "code",
   "execution_count": 38,
   "id": "df1c73bb-15e0-45c4-b885-44ccbe04202b",
   "metadata": {},
   "outputs": [
    {
     "name": "stdout",
     "output_type": "stream",
     "text": [
      "' This ': 2\n",
      "' is ': 1\n",
      "' a ': 1\n",
      "' sample ': 1\n",
      "' text. ': 1\n",
      "' text ': 1\n",
      "' will ': 1\n",
      "' be ': 1\n",
      "' used ': 1\n",
      "' to ': 1\n",
      "' demonstrate ': 1\n",
      "' the ': 1\n",
      "' word ': 1\n",
      "' counter. ': 1\n"
     ]
    }
   ],
   "source": [
    "from collections import Counter\n",
    "input_text = \"This is a sample text. This text will be used to demonstrate the word counter.\"\n",
    "words=input_text.split()\n",
    "word_count=Counter(words)\n",
    "for word,count in word_count.items():\n",
    "    print(\"'\",word,\"':\",count)"
   ]
  },
  {
   "cell_type": "markdown",
   "id": "7d7d5b48-f487-4f05-b5f8-ed6f8be1dd0a",
   "metadata": {},
   "source": [
    "## Exercise 5: Check for Palindrome ##\n",
    "Write a Python function called is_palindrome that takes a string as input and returns True if the string is a palindrome, and False otherwise. A palindrome is a word, phrase, number, or other sequence of characters that reads the same forward and backward, ignoring spaces, punctuation, and capitalization.\n",
    "Example:\n",
    "Input: \"racecar\"\n",
    "Expected Output: True\n"
   ]
  },
  {
   "cell_type": "code",
   "execution_count": 41,
   "id": "02ab1f82-9f14-4aa3-8d42-384c587d1ecc",
   "metadata": {},
   "outputs": [
    {
     "name": "stdin",
     "output_type": "stream",
     "text": [
      "Enter a word: racecar\n"
     ]
    },
    {
     "data": {
      "text/plain": [
       "True"
      ]
     },
     "execution_count": 41,
     "metadata": {},
     "output_type": "execute_result"
    }
   ],
   "source": [
    "def palindrome(text):\n",
    "    text=text.lower().replace(\" \",\"\")\n",
    "    rev=text[::-1]\n",
    "    if text==rev:\n",
    "        return True\n",
    "    else:\n",
    "        return False\n",
    "text=input(\"Enter a word:\")\n",
    "palindrome(text)"
   ]
  },
  {
   "cell_type": "code",
   "execution_count": null,
   "id": "0bffb249-ecef-470c-b378-f49c42bd234f",
   "metadata": {},
   "outputs": [],
   "source": []
  }
 ],
 "metadata": {
  "kernelspec": {
   "display_name": "Python [conda env:base] *",
   "language": "python",
   "name": "conda-base-py"
  },
  "language_info": {
   "codemirror_mode": {
    "name": "ipython",
    "version": 3
   },
   "file_extension": ".py",
   "mimetype": "text/x-python",
   "name": "python",
   "nbconvert_exporter": "python",
   "pygments_lexer": "ipython3",
   "version": "3.12.7"
  }
 },
 "nbformat": 4,
 "nbformat_minor": 5
}
