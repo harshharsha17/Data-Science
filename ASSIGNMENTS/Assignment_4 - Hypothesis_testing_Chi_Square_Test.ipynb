{
 "cells": [
  {
   "cell_type": "markdown",
   "id": "bdd6be10-a0e9-4557-a9a8-21a58f0c99aa",
   "metadata": {},
   "source": [
    "# ****CHI-SQUARE TEST****"
   ]
  },
  {
   "cell_type": "markdown",
   "id": "51e39fb6-c2ea-439c-94b5-4e052ee333e0",
   "metadata": {},
   "source": [
    "### ****Association between Device Type and Customer Satisfaction**** ####"
   ]
  },
  {
   "cell_type": "markdown",
   "id": "934adf3f-9bd5-43ed-a1d0-3627b13ced8c",
   "metadata": {},
   "source": [
    "### ****Background:**** ###\n",
    "\n",
    "Mizzare Corporation has collected data on customer satisfaction levels for two types of smart home devices: Smart Thermostats and Smart Lights. They want to determine if there's a significant association between the type of device purchased and the customer's satisfaction level.\n"
   ]
  },
  {
   "cell_type": "markdown",
   "id": "a1054887-f99c-484c-99a2-67d6fb7711c0",
   "metadata": {},
   "source": [
    "### ****Data Provided:**** ###\n",
    "\n",
    "The data is summarized in a contingency table showing the counts of customers in each satisfaction level for both types of devices:\n"
   ]
  },
  {
   "cell_type": "markdown",
   "id": "e5873e82-7067-47c2-9bab-242d9a56482a",
   "metadata": {},
   "source": [
    "![Alt text](chi_square_test.png)\n"
   ]
  },
  {
   "cell_type": "markdown",
   "id": "5f21a7f2-c72f-40c0-bcfa-56a773be1104",
   "metadata": {},
   "source": [
    "### ****Objective:**** ####\n",
    "To use the Chi-Square test for independence to determine if there's a significant association between the type of smart home device purchased (Smart Thermostats vs. Smart Lights) and the customer satisfaction level.\n",
    "\n",
    "---\n"
   ]
  },
  {
   "cell_type": "markdown",
   "id": "f5523e10-a0aa-4fec-bdd3-1044bfd0f2f3",
   "metadata": {},
   "source": [
    "import the libraries "
   ]
  },
  {
   "cell_type": "code",
   "execution_count": 107,
   "id": "876db71a-5149-421a-b061-554e8b177fdd",
   "metadata": {},
   "outputs": [],
   "source": [
    "import pandas as pd\n",
    "import numpy as np"
   ]
  },
  {
   "cell_type": "markdown",
   "id": "c8725e15-8f0a-434e-979a-6093d06ea7cd",
   "metadata": {},
   "source": [
    "we are creating the dataset"
   ]
  },
  {
   "cell_type": "code",
   "execution_count": 110,
   "id": "a0905231-24fc-45f1-9f35-8772707c5fb7",
   "metadata": {},
   "outputs": [],
   "source": [
    "data = {\n",
    "    \"Satisfaction\" : [\"Very Satisfied\",\"Satisfied\",\"Neutral\",\"Unsatisfied\",\"Very Unsatisfied\"],\n",
    "    \"Smart Thermostat\" : [50,80,60,30,20],\n",
    "    \"Smart Light\" : [70,100,90,50,50]\n",
    "}"
   ]
  },
  {
   "cell_type": "code",
   "execution_count": 112,
   "id": "064a556b-dfdd-46a1-9a1a-5e304258d0d6",
   "metadata": {},
   "outputs": [
    {
     "data": {
      "text/html": [
       "<div>\n",
       "<style scoped>\n",
       "    .dataframe tbody tr th:only-of-type {\n",
       "        vertical-align: middle;\n",
       "    }\n",
       "\n",
       "    .dataframe tbody tr th {\n",
       "        vertical-align: top;\n",
       "    }\n",
       "\n",
       "    .dataframe thead th {\n",
       "        text-align: right;\n",
       "    }\n",
       "</style>\n",
       "<table border=\"1\" class=\"dataframe\">\n",
       "  <thead>\n",
       "    <tr style=\"text-align: right;\">\n",
       "      <th></th>\n",
       "      <th>Satisfaction</th>\n",
       "      <th>Smart Thermostat</th>\n",
       "      <th>Smart Light</th>\n",
       "    </tr>\n",
       "  </thead>\n",
       "  <tbody>\n",
       "    <tr>\n",
       "      <th>0</th>\n",
       "      <td>Very Satisfied</td>\n",
       "      <td>50</td>\n",
       "      <td>70</td>\n",
       "    </tr>\n",
       "    <tr>\n",
       "      <th>1</th>\n",
       "      <td>Satisfied</td>\n",
       "      <td>80</td>\n",
       "      <td>100</td>\n",
       "    </tr>\n",
       "    <tr>\n",
       "      <th>2</th>\n",
       "      <td>Neutral</td>\n",
       "      <td>60</td>\n",
       "      <td>90</td>\n",
       "    </tr>\n",
       "    <tr>\n",
       "      <th>3</th>\n",
       "      <td>Unsatisfied</td>\n",
       "      <td>30</td>\n",
       "      <td>50</td>\n",
       "    </tr>\n",
       "    <tr>\n",
       "      <th>4</th>\n",
       "      <td>Very Unsatisfied</td>\n",
       "      <td>20</td>\n",
       "      <td>50</td>\n",
       "    </tr>\n",
       "  </tbody>\n",
       "</table>\n",
       "</div>"
      ],
      "text/plain": [
       "       Satisfaction  Smart Thermostat  Smart Light\n",
       "0    Very Satisfied                50           70\n",
       "1         Satisfied                80          100\n",
       "2           Neutral                60           90\n",
       "3       Unsatisfied                30           50\n",
       "4  Very Unsatisfied                20           50"
      ]
     },
     "execution_count": 112,
     "metadata": {},
     "output_type": "execute_result"
    }
   ],
   "source": [
    "df=pd.DataFrame(data)\n",
    "df"
   ]
  },
  {
   "cell_type": "markdown",
   "id": "a173221b-e907-4042-9d34-81d12a23f4c5",
   "metadata": {},
   "source": [
    "info of the dataset"
   ]
  },
  {
   "cell_type": "code",
   "execution_count": 115,
   "id": "a6404298-96d2-434a-bedd-b4b42325b16b",
   "metadata": {},
   "outputs": [
    {
     "name": "stdout",
     "output_type": "stream",
     "text": [
      "<class 'pandas.core.frame.DataFrame'>\n",
      "RangeIndex: 5 entries, 0 to 4\n",
      "Data columns (total 3 columns):\n",
      " #   Column            Non-Null Count  Dtype \n",
      "---  ------            --------------  ----- \n",
      " 0   Satisfaction      5 non-null      object\n",
      " 1   Smart Thermostat  5 non-null      int64 \n",
      " 2   Smart Light       5 non-null      int64 \n",
      "dtypes: int64(2), object(1)\n",
      "memory usage: 252.0+ bytes\n"
     ]
    }
   ],
   "source": [
    "df.info()"
   ]
  },
  {
   "cell_type": "markdown",
   "id": "3683cfd3-e77a-4e76-9094-addbf3503a27",
   "metadata": {},
   "source": [
    "---\n",
    "### ****Assignment Tasks:**** ###"
   ]
  },
  {
   "cell_type": "markdown",
   "id": "76175a8b-78e6-4da5-9340-225aec7441a0",
   "metadata": {},
   "source": [
    "---\n",
    "#### ****1. State the Hypotheses:**** ####"
   ]
  },
  {
   "cell_type": "markdown",
   "id": "4d807927-a3a9-4398-8694-0a6250519a90",
   "metadata": {},
   "source": [
    "Given,\n",
    "\n",
    "Mizarre corporation has collected the data on customer satisfaction level for two types of smart home devices and they wants to determine if there is an association between the type of device purchased and customer satisfaction level\n",
    "\n",
    "so according to that our hypothesis are \n",
    "\n",
    "Null Hypothesis (H0): There is no association between the type of device  and customer statisfaction level\n",
    "\n",
    "Alternate Hypothesis (H1): There is association between the type of device and customer statisfaction level\n",
    "\n",
    "---"
   ]
  },
  {
   "cell_type": "markdown",
   "id": "92415d39-1ef4-4d79-ac65-03497506ea63",
   "metadata": {},
   "source": [
    "#### ****2. Compute the Chi-Square Statistic:**** ####"
   ]
  },
  {
   "cell_type": "markdown",
   "id": "7d53a73f-c9cc-47d1-b5b9-639ff2f84754",
   "metadata": {},
   "source": [
    "we are calculating chi square using chi2_contingency "
   ]
  },
  {
   "cell_type": "code",
   "execution_count": 122,
   "id": "99738af6-1def-4eec-9d93-cfaa2a12bbd0",
   "metadata": {},
   "outputs": [],
   "source": [
    "from scipy.stats import chi2_contingency"
   ]
  },
  {
   "cell_type": "code",
   "execution_count": 124,
   "id": "b1c1a750-ca99-4d31-b361-0041552b3bab",
   "metadata": {},
   "outputs": [
    {
     "data": {
      "text/html": [
       "<div>\n",
       "<style scoped>\n",
       "    .dataframe tbody tr th:only-of-type {\n",
       "        vertical-align: middle;\n",
       "    }\n",
       "\n",
       "    .dataframe tbody tr th {\n",
       "        vertical-align: top;\n",
       "    }\n",
       "\n",
       "    .dataframe thead th {\n",
       "        text-align: right;\n",
       "    }\n",
       "</style>\n",
       "<table border=\"1\" class=\"dataframe\">\n",
       "  <thead>\n",
       "    <tr style=\"text-align: right;\">\n",
       "      <th></th>\n",
       "      <th>Smart Thermostat</th>\n",
       "      <th>Smart Light</th>\n",
       "    </tr>\n",
       "  </thead>\n",
       "  <tbody>\n",
       "    <tr>\n",
       "      <th>0</th>\n",
       "      <td>50</td>\n",
       "      <td>70</td>\n",
       "    </tr>\n",
       "    <tr>\n",
       "      <th>1</th>\n",
       "      <td>80</td>\n",
       "      <td>100</td>\n",
       "    </tr>\n",
       "    <tr>\n",
       "      <th>2</th>\n",
       "      <td>60</td>\n",
       "      <td>90</td>\n",
       "    </tr>\n",
       "    <tr>\n",
       "      <th>3</th>\n",
       "      <td>30</td>\n",
       "      <td>50</td>\n",
       "    </tr>\n",
       "    <tr>\n",
       "      <th>4</th>\n",
       "      <td>20</td>\n",
       "      <td>50</td>\n",
       "    </tr>\n",
       "  </tbody>\n",
       "</table>\n",
       "</div>"
      ],
      "text/plain": [
       "   Smart Thermostat  Smart Light\n",
       "0                50           70\n",
       "1                80          100\n",
       "2                60           90\n",
       "3                30           50\n",
       "4                20           50"
      ]
     },
     "execution_count": 124,
     "metadata": {},
     "output_type": "execute_result"
    }
   ],
   "source": [
    "contingency = df[[\"Smart Thermostat\",\"Smart Light\"]]\n",
    "contingency"
   ]
  },
  {
   "cell_type": "code",
   "execution_count": 126,
   "id": "4c0e86ca-4e5f-47fd-b4d0-565b7b3f99f0",
   "metadata": {},
   "outputs": [],
   "source": [
    "chi2_statistic,p_value,dof,expected = chi2_contingency(contingency)"
   ]
  },
  {
   "cell_type": "code",
   "execution_count": 128,
   "id": "72851e79-f847-4d38-a93d-27c8333cf9da",
   "metadata": {},
   "outputs": [
    {
     "name": "stdout",
     "output_type": "stream",
     "text": [
      "Chi square statistic =  5.638227513227513\n",
      "P_value =  0.22784371130697179\n",
      "Degrees of freedom =  4\n",
      "Expected frequency table\n",
      "[[ 48.  72.]\n",
      " [ 72. 108.]\n",
      " [ 60.  90.]\n",
      " [ 32.  48.]\n",
      " [ 28.  42.]]\n"
     ]
    }
   ],
   "source": [
    "print(\"Chi square statistic = \",chi2_statistic)\n",
    "print(\"P_value = \",p_value)\n",
    "print(\"Degrees of freedom = \",dof)\n",
    "print(\"Expected frequency table\")\n",
    "print(expected)"
   ]
  },
  {
   "cell_type": "markdown",
   "id": "448674d5-7daa-4c7c-9dc4-6ac00efc2c35",
   "metadata": {},
   "source": [
    "---\n",
    "#### ****3. Determine the Critical Value:**** ####\n",
    "\n",
    "Using the significance level (alpha) of 0.05 and the degrees of freedom (which is the number of categories minus 1)\n"
   ]
  },
  {
   "cell_type": "markdown",
   "id": "c317d80b-ce3c-4636-9aeb-4b5800532b51",
   "metadata": {},
   "source": [
    "---\n",
    "given,\n",
    "\n",
    "alpha = 0.05\n",
    "\n",
    "calculating the critical value using alpha and degrees of freedom"
   ]
  },
  {
   "cell_type": "code",
   "execution_count": 132,
   "id": "ecde219a-415f-42c0-b779-131e8ab9f7a5",
   "metadata": {},
   "outputs": [
    {
     "name": "stdout",
     "output_type": "stream",
     "text": [
      "Critical value =  9.487729036781154\n"
     ]
    }
   ],
   "source": [
    "alpha = 0.05\n",
    "critical_value = chi2.ppf(1 - alpha,dof)\n",
    "print(\"Critical value = \",critical_value)"
   ]
  },
  {
   "cell_type": "markdown",
   "id": "888e839d-e239-499f-88a8-cdb4e8e23ee2",
   "metadata": {},
   "source": [
    "---\n",
    "#### ****4. Make a Decision:**** ####\n",
    "\n",
    "Compare the Chi-Square statistic with the critical value to decide whether to reject the null hypothesis."
   ]
  },
  {
   "cell_type": "markdown",
   "id": "fc03be04-4e89-4738-983f-5a34cac7ec93",
   "metadata": {},
   "source": [
    "---\n",
    "comparing the chi2 static and critical value to check our hypothesis"
   ]
  },
  {
   "cell_type": "code",
   "execution_count": 136,
   "id": "2ea6aa7f-188f-493c-bff3-1e87ed696e84",
   "metadata": {},
   "outputs": [
    {
     "name": "stdout",
     "output_type": "stream",
     "text": [
      "H1 is rejected and H0 is accepted\n"
     ]
    }
   ],
   "source": [
    "if chi2_statistic > critical_value :\n",
    "    print(\"H0 is rejected and H1 is accepted\")\n",
    "else: print(\"H1 is rejected and H0 is accepted\")"
   ]
  },
  {
   "cell_type": "markdown",
   "id": "6f74c5a8-444c-40d2-bd13-ddd3bb59d779",
   "metadata": {},
   "source": [
    "after comparing both we can see that alternate hypotehsis is rejected\n",
    "\n",
    "so we can conclude that there is asssociation between the type of device purchased and customer satisfaction level \n",
    "\n",
    "---"
   ]
  }
 ],
 "metadata": {
  "kernelspec": {
   "display_name": "Python [conda env:base] *",
   "language": "python",
   "name": "conda-base-py"
  },
  "language_info": {
   "codemirror_mode": {
    "name": "ipython",
    "version": 3
   },
   "file_extension": ".py",
   "mimetype": "text/x-python",
   "name": "python",
   "nbconvert_exporter": "python",
   "pygments_lexer": "ipython3",
   "version": "3.12.7"
  }
 },
 "nbformat": 4,
 "nbformat_minor": 5
}
