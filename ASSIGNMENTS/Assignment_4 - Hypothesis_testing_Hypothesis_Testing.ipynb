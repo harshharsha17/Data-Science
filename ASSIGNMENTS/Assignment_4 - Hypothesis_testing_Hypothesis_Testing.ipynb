{
 "cells": [
  {
   "cell_type": "markdown",
   "id": "dd10b82f-844a-4966-bf9f-fb700a974fa1",
   "metadata": {},
   "source": [
    "# ****HYPOTHESIS TESTING**** #"
   ]
  },
  {
   "cell_type": "markdown",
   "id": "45116639-b8d7-48d7-a589-78cb82cfff50",
   "metadata": {},
   "source": [
    "### ****Background:**** ###\n",
    "\n",
    "Bombay hospitality Ltd. operates a franchise model for producing exotic Norwegian dinners throughout New England. The operating cost for a franchise in a week (W) is given by the equation W = $1,000 + $5X, where X represents the number of units produced in a week. Recent feedback from restaurant owners suggests that this cost model may no longer be accurate, as their observed weekly operating costs are higher.\n",
    "\n",
    "### ****Objective:**** ###\n",
    "\n",
    "To investigate the restaurant owners' claim about the increase in weekly operating costs using hypothesis testing.\n",
    "Data Provided:\n",
    "\n",
    "•\tThe theoretical weekly operating cost model: W = $1,000 + $5X\n",
    "\n",
    "•\tSample of 25 restaurants with a mean weekly cost of Rs. 3,050\n",
    "\n",
    "•\tNumber of units produced in a week (X) follows a normal distribution with a mean (μ) of 600 units and a standard deviation (σ) of 25 units\n",
    "\n",
    "---"
   ]
  },
  {
   "cell_type": "markdown",
   "id": "bbea0124-3117-4527-8a75-cd610ed0f10f",
   "metadata": {},
   "source": [
    "### ****Assignment Tasks:**** ####\n"
   ]
  },
  {
   "cell_type": "markdown",
   "id": "f19c7c2e-a6cc-4803-a4b7-89625ea85a6d",
   "metadata": {},
   "source": [
    "#### ****1. State the Hypotheses statement:**** ####\n",
    "\n",
    "---"
   ]
  },
  {
   "cell_type": "markdown",
   "id": "bd84b62d-e819-43d3-ae61-964316ff56f6",
   "metadata": {},
   "source": [
    "Lets see from the given information \n",
    "\n",
    "the owners are suggesting the cost model may no longer be accurate as their observed weekly operating costs are higher\n",
    "\n",
    "so now lets write null hypothesis and altenate hypothesis\n",
    "\n",
    "mu --> mean weekly cost \n",
    "\n",
    "mu0 --> theoritical weekly cost \n",
    "\n",
    "Null hypothesis (H0) : the mean weekly cost equals to the theoretical cost --- mu = mu0\n",
    "\n",
    "Alternate hypothesis (H1) : the mean weekly costs greater than the theoretical cost (acc to owners claim) --- mu > mu0"
   ]
  },
  {
   "cell_type": "markdown",
   "id": "f9fb98cc-61e8-4681-821d-94d8e43eab18",
   "metadata": {},
   "source": [
    "---\n",
    "#### ****2. Calculate the Test Statistic:**** ####\n",
    "\n",
    "Use the following formula to calculate the test statistic (t):\n",
    "\n",
    "where:\n",
    "\n",
    "•\tˉxˉ = sample mean weekly cost (Rs. 3,050)\n",
    "\n",
    "•\tμ = theoretical mean weekly cost according to the cost model (W = $1,000 + $5X for X = 600 units)\n",
    "\n",
    "•\tσ = 5*25 units\n",
    "\n",
    "•\tn = sample size (25 restaurants)\n",
    "\n",
    "---"
   ]
  },
  {
   "cell_type": "markdown",
   "id": "70b66cc5-62fb-4781-a950-e82d032a8b69",
   "metadata": {},
   "source": [
    "given ,\n",
    "\n",
    "sample mean = 3050\n",
    "\n",
    "no of units produced ,X = 600\n",
    "\n",
    "theoretical mean cost => W = 1000 + 5X => 1000 + 5 (600) = 4000\n",
    "\n",
    "standard deviation of X = 25\n",
    "\n",
    "standard deviation of theoritical = 5 * 25 = 125\n",
    "\n",
    "sample size = 25\n"
   ]
  },
  {
   "cell_type": "code",
   "execution_count": 42,
   "id": "14915ab9-86f2-4c8c-a509-194facd70fed",
   "metadata": {},
   "outputs": [
    {
     "name": "stdout",
     "output_type": "stream",
     "text": [
      "t static =  -38.0\n"
     ]
    }
   ],
   "source": [
    "import numpy as np\n",
    "sample_mean = 3050 # x bar \n",
    "n= 25  # sample size \n",
    "theoritical_mean = 4000  # theoretical mean from the model \n",
    "std_W = 125 # standard deviation of W\n",
    "t = (sample_mean - theoritical_mean) / (std_W/np.sqrt(n)) # t- test \n",
    "print(\"t static = \",t)"
   ]
  },
  {
   "cell_type": "markdown",
   "id": "50d203c8-e502-4bc3-a72a-3220b25fba7f",
   "metadata": {},
   "source": [
    "---\n",
    "#### ****3. Determine the Critical Value:**** ####\n",
    "\n",
    "Using the alpha level of 5% (α = 0.05), determine the critical value from the standard normal (Z) distribution table.\n",
    "\n",
    "---"
   ]
  },
  {
   "cell_type": "markdown",
   "id": "3cf91997-553e-4069-965c-dae0078bb852",
   "metadata": {},
   "source": [
    "given ,\n",
    "\n",
    "alpha = 0.05\n",
    "\n",
    "so confidence interval = 0.95\n",
    "\n",
    "so lets calculate critical value  for that we need to calculate the percent point function (ppf) of  1-alpha"
   ]
  },
  {
   "cell_type": "code",
   "execution_count": 46,
   "id": "977aa888-005a-4f81-9280-4cfdc722686e",
   "metadata": {},
   "outputs": [
    {
     "name": "stdout",
     "output_type": "stream",
     "text": [
      "critical value =  1.6448536269514722\n"
     ]
    }
   ],
   "source": [
    "import scipy.stats as stats \n",
    "alpha = 0.05\n",
    "critical_val = stats.norm.ppf(1-alpha)\n",
    "print(\"critical value = \",critical_val)"
   ]
  },
  {
   "cell_type": "markdown",
   "id": "8ace0fad-b98a-4aef-80ec-fb796bc685b5",
   "metadata": {},
   "source": [
    "---\n",
    "#### ****4. Make a Decision:**** ####\n",
    "\n",
    "Compare the test statistic with the critical value to decide whether to reject the null hypothesis.\n",
    "\n",
    "---"
   ]
  },
  {
   "cell_type": "markdown",
   "id": "6ebc0246-b204-48b4-900a-f6595bcbbc6c",
   "metadata": {},
   "source": [
    "now we are comparing the test static and critical value to decide we need to reject the null hypothesis or not acc to owners claims "
   ]
  },
  {
   "cell_type": "code",
   "execution_count": 50,
   "id": "cb2e75f9-ad0e-4743-8d80-9e96101b5ba8",
   "metadata": {},
   "outputs": [
    {
     "name": "stdout",
     "output_type": "stream",
     "text": [
      "H1 is rejected and H0 is accepted\n"
     ]
    }
   ],
   "source": [
    "if t > critical_val :\n",
    "    print(\"H0 is rejected and H1 is accepted\")\n",
    "else:\n",
    "    print(\"H1 is rejected and H0 is accepted\")"
   ]
  },
  {
   "cell_type": "markdown",
   "id": "7b9e72ea-b07a-4f23-b883-488ee103e100",
   "metadata": {},
   "source": [
    "After the comparision we can see null hypothesis accepted that is the mean weekly cost is equal to the theoritical mean cost "
   ]
  },
  {
   "cell_type": "markdown",
   "id": "7316c2b3-b97c-4988-be93-f8f166c28b7a",
   "metadata": {},
   "source": [
    "---\n",
    "#### ****5. Conclusion:**** ####\n",
    "\n",
    "Based on the decision in step 4, conclude whether there is strong evidence to support the restaurant owners' claim that the weekly operating costs are higher than the model suggests.\n",
    "\n",
    "---"
   ]
  },
  {
   "cell_type": "markdown",
   "id": "875026e1-6fa1-445a-8911-8d99786d362f",
   "metadata": {},
   "source": [
    "lets see the owner claims the cost is ****higher**** so it represents the ****right tailed test**** so in step 4 we are testing ****t > critical value**** \n",
    "\n",
    "from step 4 we are getting the ****H1 is rejected and H0 is accepted****\n",
    "\n",
    "so it means we dont have enough evidence to support the owners claims as he stated the weekly costs are higher  that means there is no strong evidence to support restaurant owner claim\n",
    "\n",
    "---"
   ]
  },
  {
   "cell_type": "code",
   "execution_count": null,
   "id": "7d7314a7-ae5a-43b6-a2b8-1f8fa2d7c5a5",
   "metadata": {},
   "outputs": [],
   "source": []
  }
 ],
 "metadata": {
  "kernelspec": {
   "display_name": "Python [conda env:base] *",
   "language": "python",
   "name": "conda-base-py"
  },
  "language_info": {
   "codemirror_mode": {
    "name": "ipython",
    "version": 3
   },
   "file_extension": ".py",
   "mimetype": "text/x-python",
   "name": "python",
   "nbconvert_exporter": "python",
   "pygments_lexer": "ipython3",
   "version": "3.12.7"
  }
 },
 "nbformat": 4,
 "nbformat_minor": 5
}
