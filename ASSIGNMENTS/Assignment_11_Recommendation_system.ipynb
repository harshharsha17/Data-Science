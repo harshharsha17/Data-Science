{
 "cells": [
  {
   "cell_type": "markdown",
   "id": "85ce1eb8-a945-4445-be82-2c4e2d516170",
   "metadata": {},
   "source": [
    "# Recommendation System\n"
   ]
  },
  {
   "cell_type": "markdown",
   "id": "2e31ad54-8a97-4ae2-b0ff-fdc3352d3fad",
   "metadata": {},
   "source": [
    "## Data Description:\n",
    "\n",
    "Unique ID of each anime.\n",
    "\n",
    "Anime title.\n",
    "\n",
    "Anime broadcast type, such as TV, OVA, etc.\n",
    "\n",
    "anime genre.\n",
    "\n",
    "The number of episodes of each anime.\n",
    "\n",
    "The average rating for each anime compared to the number of users who gave ratings.\n",
    "\n",
    "Number of community members for each anime.\n",
    "                           \n",
    "## Objective:\n",
    "\n",
    "The objective of this assignment is to implement a recommendation system using cosine similarity on an anime dataset. \n",
    "\n",
    "## Dataset:\n",
    "\n",
    "Use the Anime Dataset which contains information about various anime, including their titles, genres,No.of episodes and user ratings etc.\n",
    "\n",
    "## Tasks:\n",
    "\n",
    "### Data Preprocessing:\n",
    "\n",
    "Load the dataset into a suitable data structure (e.g., pandas DataFrame).\n",
    "\n",
    "Handle missing values, if any.\n",
    "\n",
    "Explore the dataset to understand its structure and attributes.\n",
    "\n",
    "### Feature Extraction:\n",
    "\n",
    "Decide on the features that will be used for computing similarity (e.g., genres, user ratings).\n",
    "\n",
    "Convert categorical features into numerical representations if necessary.\n",
    "\n",
    "Normalize numerical features if required.\n",
    "\n",
    "### Recommendation System:\n",
    "\n",
    "Design a function to recommend anime based on cosine similarity.\n",
    "\n",
    "Given a target anime, recommend a list of similar anime based on cosine similarity scores.\n",
    "\n",
    "Experiment with different threshold values for similarity scores to adjust the recommendation list size.\n",
    "\n",
    "### Evaluation:\n",
    "\n",
    "Split the dataset into training and testing sets.\n",
    "\n",
    "Evaluate the recommendation system using appropriate metrics such as precision, recall, and F1-score.\n",
    "\n",
    "Analyze the performance of the recommendation system and identify areas of improvement.\n",
    "\n",
    "### Interview Questions:\n",
    "\n",
    "1. Can you explain the difference between user-based and item-based collaborative filtering?\n",
    "\n",
    "2. What is collaborative filtering, and how does it work?"
   ]
  },
  {
   "cell_type": "code",
   "execution_count": 3,
   "id": "2320172f-4697-4504-9ed9-fdfe80640cb1",
   "metadata": {},
   "outputs": [],
   "source": [
    "import pandas as pd\n",
    "import numpy as np"
   ]
  },
  {
   "cell_type": "code",
   "execution_count": 4,
   "id": "40e4909a-0a87-46f6-8f2f-3153d643b70e",
   "metadata": {},
   "outputs": [
    {
     "data": {
      "text/html": [
       "<div>\n",
       "<style scoped>\n",
       "    .dataframe tbody tr th:only-of-type {\n",
       "        vertical-align: middle;\n",
       "    }\n",
       "\n",
       "    .dataframe tbody tr th {\n",
       "        vertical-align: top;\n",
       "    }\n",
       "\n",
       "    .dataframe thead th {\n",
       "        text-align: right;\n",
       "    }\n",
       "</style>\n",
       "<table border=\"1\" class=\"dataframe\">\n",
       "  <thead>\n",
       "    <tr style=\"text-align: right;\">\n",
       "      <th></th>\n",
       "      <th>anime_id</th>\n",
       "      <th>name</th>\n",
       "      <th>genre</th>\n",
       "      <th>type</th>\n",
       "      <th>episodes</th>\n",
       "      <th>rating</th>\n",
       "      <th>members</th>\n",
       "    </tr>\n",
       "  </thead>\n",
       "  <tbody>\n",
       "    <tr>\n",
       "      <th>0</th>\n",
       "      <td>32281</td>\n",
       "      <td>Kimi no Na wa.</td>\n",
       "      <td>Drama, Romance, School, Supernatural</td>\n",
       "      <td>Movie</td>\n",
       "      <td>1</td>\n",
       "      <td>9.37</td>\n",
       "      <td>200630</td>\n",
       "    </tr>\n",
       "    <tr>\n",
       "      <th>1</th>\n",
       "      <td>5114</td>\n",
       "      <td>Fullmetal Alchemist: Brotherhood</td>\n",
       "      <td>Action, Adventure, Drama, Fantasy, Magic, Mili...</td>\n",
       "      <td>TV</td>\n",
       "      <td>64</td>\n",
       "      <td>9.26</td>\n",
       "      <td>793665</td>\n",
       "    </tr>\n",
       "    <tr>\n",
       "      <th>2</th>\n",
       "      <td>28977</td>\n",
       "      <td>Gintama°</td>\n",
       "      <td>Action, Comedy, Historical, Parody, Samurai, S...</td>\n",
       "      <td>TV</td>\n",
       "      <td>51</td>\n",
       "      <td>9.25</td>\n",
       "      <td>114262</td>\n",
       "    </tr>\n",
       "    <tr>\n",
       "      <th>3</th>\n",
       "      <td>9253</td>\n",
       "      <td>Steins;Gate</td>\n",
       "      <td>Sci-Fi, Thriller</td>\n",
       "      <td>TV</td>\n",
       "      <td>24</td>\n",
       "      <td>9.17</td>\n",
       "      <td>673572</td>\n",
       "    </tr>\n",
       "    <tr>\n",
       "      <th>4</th>\n",
       "      <td>9969</td>\n",
       "      <td>Gintama&amp;#039;</td>\n",
       "      <td>Action, Comedy, Historical, Parody, Samurai, S...</td>\n",
       "      <td>TV</td>\n",
       "      <td>51</td>\n",
       "      <td>9.16</td>\n",
       "      <td>151266</td>\n",
       "    </tr>\n",
       "    <tr>\n",
       "      <th>...</th>\n",
       "      <td>...</td>\n",
       "      <td>...</td>\n",
       "      <td>...</td>\n",
       "      <td>...</td>\n",
       "      <td>...</td>\n",
       "      <td>...</td>\n",
       "      <td>...</td>\n",
       "    </tr>\n",
       "    <tr>\n",
       "      <th>12289</th>\n",
       "      <td>9316</td>\n",
       "      <td>Toushindai My Lover: Minami tai Mecha-Minami</td>\n",
       "      <td>Hentai</td>\n",
       "      <td>OVA</td>\n",
       "      <td>1</td>\n",
       "      <td>4.15</td>\n",
       "      <td>211</td>\n",
       "    </tr>\n",
       "    <tr>\n",
       "      <th>12290</th>\n",
       "      <td>5543</td>\n",
       "      <td>Under World</td>\n",
       "      <td>Hentai</td>\n",
       "      <td>OVA</td>\n",
       "      <td>1</td>\n",
       "      <td>4.28</td>\n",
       "      <td>183</td>\n",
       "    </tr>\n",
       "    <tr>\n",
       "      <th>12291</th>\n",
       "      <td>5621</td>\n",
       "      <td>Violence Gekiga David no Hoshi</td>\n",
       "      <td>Hentai</td>\n",
       "      <td>OVA</td>\n",
       "      <td>4</td>\n",
       "      <td>4.88</td>\n",
       "      <td>219</td>\n",
       "    </tr>\n",
       "    <tr>\n",
       "      <th>12292</th>\n",
       "      <td>6133</td>\n",
       "      <td>Violence Gekiga Shin David no Hoshi: Inma Dens...</td>\n",
       "      <td>Hentai</td>\n",
       "      <td>OVA</td>\n",
       "      <td>1</td>\n",
       "      <td>4.98</td>\n",
       "      <td>175</td>\n",
       "    </tr>\n",
       "    <tr>\n",
       "      <th>12293</th>\n",
       "      <td>26081</td>\n",
       "      <td>Yasuji no Pornorama: Yacchimae!!</td>\n",
       "      <td>Hentai</td>\n",
       "      <td>Movie</td>\n",
       "      <td>1</td>\n",
       "      <td>5.46</td>\n",
       "      <td>142</td>\n",
       "    </tr>\n",
       "  </tbody>\n",
       "</table>\n",
       "<p>12294 rows × 7 columns</p>\n",
       "</div>"
      ],
      "text/plain": [
       "       anime_id                                               name  \\\n",
       "0         32281                                     Kimi no Na wa.   \n",
       "1          5114                   Fullmetal Alchemist: Brotherhood   \n",
       "2         28977                                           Gintama°   \n",
       "3          9253                                        Steins;Gate   \n",
       "4          9969                                      Gintama&#039;   \n",
       "...         ...                                                ...   \n",
       "12289      9316       Toushindai My Lover: Minami tai Mecha-Minami   \n",
       "12290      5543                                        Under World   \n",
       "12291      5621                     Violence Gekiga David no Hoshi   \n",
       "12292      6133  Violence Gekiga Shin David no Hoshi: Inma Dens...   \n",
       "12293     26081                   Yasuji no Pornorama: Yacchimae!!   \n",
       "\n",
       "                                                   genre   type episodes  \\\n",
       "0                   Drama, Romance, School, Supernatural  Movie        1   \n",
       "1      Action, Adventure, Drama, Fantasy, Magic, Mili...     TV       64   \n",
       "2      Action, Comedy, Historical, Parody, Samurai, S...     TV       51   \n",
       "3                                       Sci-Fi, Thriller     TV       24   \n",
       "4      Action, Comedy, Historical, Parody, Samurai, S...     TV       51   \n",
       "...                                                  ...    ...      ...   \n",
       "12289                                             Hentai    OVA        1   \n",
       "12290                                             Hentai    OVA        1   \n",
       "12291                                             Hentai    OVA        4   \n",
       "12292                                             Hentai    OVA        1   \n",
       "12293                                             Hentai  Movie        1   \n",
       "\n",
       "       rating  members  \n",
       "0        9.37   200630  \n",
       "1        9.26   793665  \n",
       "2        9.25   114262  \n",
       "3        9.17   673572  \n",
       "4        9.16   151266  \n",
       "...       ...      ...  \n",
       "12289    4.15      211  \n",
       "12290    4.28      183  \n",
       "12291    4.88      219  \n",
       "12292    4.98      175  \n",
       "12293    5.46      142  \n",
       "\n",
       "[12294 rows x 7 columns]"
      ]
     },
     "execution_count": 4,
     "metadata": {},
     "output_type": "execute_result"
    }
   ],
   "source": [
    "df = pd.read_csv(\"F:\\\\DATA SCIENCE_ExcelR\\\\Assignments\\\\Recommendation System\\\\anime.csv\")\n",
    "df"
   ]
  },
  {
   "cell_type": "code",
   "execution_count": 5,
   "id": "aee5d547-1aff-4779-81ca-00912c7e42fd",
   "metadata": {},
   "outputs": [
    {
     "data": {
      "text/plain": [
       "anime_id      0\n",
       "name          0\n",
       "genre        62\n",
       "type         25\n",
       "episodes      0\n",
       "rating      230\n",
       "members       0\n",
       "dtype: int64"
      ]
     },
     "execution_count": 5,
     "metadata": {},
     "output_type": "execute_result"
    }
   ],
   "source": [
    "df.isnull().sum()"
   ]
  },
  {
   "cell_type": "code",
   "execution_count": 6,
   "id": "be09d9ad-fe46-42f2-becb-c5c5c631fd1d",
   "metadata": {},
   "outputs": [],
   "source": [
    "df['genre']=df['genre'].fillna('')\n",
    "df['type']=df['type'].fillna('unknown')\n",
    "df['rating']=df['rating'].fillna(df['rating'].mean())"
   ]
  },
  {
   "cell_type": "code",
   "execution_count": 7,
   "id": "4b35249a-a5be-4308-8c73-2c612faa9710",
   "metadata": {},
   "outputs": [
    {
     "data": {
      "text/plain": [
       "anime_id    0\n",
       "name        0\n",
       "genre       0\n",
       "type        0\n",
       "episodes    0\n",
       "rating      0\n",
       "members     0\n",
       "dtype: int64"
      ]
     },
     "execution_count": 7,
     "metadata": {},
     "output_type": "execute_result"
    }
   ],
   "source": [
    "df.isnull().sum()"
   ]
  },
  {
   "cell_type": "code",
   "execution_count": 13,
   "id": "65bf3eeb-f9d2-424d-8a5c-b2ef1b58148a",
   "metadata": {},
   "outputs": [
    {
     "data": {
      "text/plain": [
       "anime_id    12294\n",
       "name        12292\n",
       "genre        3265\n",
       "type            7\n",
       "episodes      187\n",
       "rating        599\n",
       "members      6706\n",
       "dtype: int64"
      ]
     },
     "execution_count": 13,
     "metadata": {},
     "output_type": "execute_result"
    }
   ],
   "source": [
    "df.nunique()"
   ]
  },
  {
   "cell_type": "code",
   "execution_count": 15,
   "id": "aa47a3f1-626b-4962-bba3-acaa2486d114",
   "metadata": {},
   "outputs": [
    {
     "data": {
      "text/plain": [
       "genre\n",
       "Hentai                                                  823\n",
       "Comedy                                                  523\n",
       "Music                                                   301\n",
       "Kids                                                    199\n",
       "Comedy, Slice of Life                                   179\n",
       "                                                       ... \n",
       "Adventure, Drama, Fantasy, Game, Sci-Fi                   1\n",
       "Adventure, Demons, Fantasy, Historical                    1\n",
       "Action, Comedy, Drama, Mecha, Music, Sci-Fi, Shounen      1\n",
       "Action, Comedy, Fantasy, Mecha, Sci-Fi, Shounen           1\n",
       "Hentai, Slice of Life                                     1\n",
       "Name: count, Length: 3265, dtype: int64"
      ]
     },
     "execution_count": 15,
     "metadata": {},
     "output_type": "execute_result"
    }
   ],
   "source": [
    "df['genre'].value_counts()"
   ]
  },
  {
   "cell_type": "code",
   "execution_count": 17,
   "id": "9e45e057-1c47-4216-a7a8-e79b0e880291",
   "metadata": {},
   "outputs": [
    {
     "data": {
      "text/plain": [
       "12292"
      ]
     },
     "execution_count": 17,
     "metadata": {},
     "output_type": "execute_result"
    }
   ],
   "source": [
    "df['name'].nunique()"
   ]
  },
  {
   "cell_type": "code",
   "execution_count": 19,
   "id": "c3ff7440-cc70-4fa6-97f8-4237b905757b",
   "metadata": {},
   "outputs": [
    {
     "data": {
      "text/plain": [
       "array(['Movie', 'TV', 'OVA', 'Special', 'Music', 'ONA', 'unknown'],\n",
       "      dtype=object)"
      ]
     },
     "execution_count": 19,
     "metadata": {},
     "output_type": "execute_result"
    }
   ],
   "source": [
    "df['type'].unique()"
   ]
  },
  {
   "cell_type": "code",
   "execution_count": 21,
   "id": "a4f532e3-de52-4a49-b762-f9c04c874367",
   "metadata": {},
   "outputs": [
    {
     "data": {
      "text/plain": [
       "type\n",
       "TV         3787\n",
       "OVA        3311\n",
       "Movie      2348\n",
       "Special    1676\n",
       "ONA         659\n",
       "Music       488\n",
       "unknown      25\n",
       "Name: count, dtype: int64"
      ]
     },
     "execution_count": 21,
     "metadata": {},
     "output_type": "execute_result"
    }
   ],
   "source": [
    "df['type'].value_counts()"
   ]
  },
  {
   "cell_type": "code",
   "execution_count": 23,
   "id": "47b6ba01-33af-4635-bc4b-acffa1a6acb8",
   "metadata": {},
   "outputs": [
    {
     "data": {
      "text/plain": [
       "count    12294.000000\n",
       "mean         6.473902\n",
       "std          1.017096\n",
       "min          1.670000\n",
       "25%          5.900000\n",
       "50%          6.550000\n",
       "75%          7.170000\n",
       "max         10.000000\n",
       "Name: rating, dtype: float64"
      ]
     },
     "execution_count": 23,
     "metadata": {},
     "output_type": "execute_result"
    }
   ],
   "source": [
    "df['rating'].describe()"
   ]
  },
  {
   "cell_type": "code",
   "execution_count": 25,
   "id": "d302af9f-c5df-4ff2-ab97-de500f96c030",
   "metadata": {},
   "outputs": [
    {
     "data": {
      "text/plain": [
       "0"
      ]
     },
     "execution_count": 25,
     "metadata": {},
     "output_type": "execute_result"
    }
   ],
   "source": [
    "df.duplicated().sum()"
   ]
  },
  {
   "cell_type": "code",
   "execution_count": 27,
   "id": "d7817099-4b03-4cb0-8211-ad30f25c6935",
   "metadata": {},
   "outputs": [
    {
     "data": {
      "text/plain": [
       "name\n",
       "Taka no Tsume 8: Yoshida-kun no X-Files    10.00\n",
       "Spoon-hime no Swing Kitchen                 9.60\n",
       "Mogura no Motoro                            9.50\n",
       "Kimi no Na wa.                              9.37\n",
       "Kahei no Umi                                9.33\n",
       "Fullmetal Alchemist: Brotherhood            9.26\n",
       "Gintama°                                    9.25\n",
       "Yakusoku: Africa Mizu to Midori             9.25\n",
       "Steins;Gate                                 9.17\n",
       "Gintama&#039;                               9.16\n",
       "Name: rating, dtype: float64"
      ]
     },
     "execution_count": 27,
     "metadata": {},
     "output_type": "execute_result"
    }
   ],
   "source": [
    "df.groupby('name')['rating'].mean().sort_values(ascending=False).head(10)"
   ]
  },
  {
   "cell_type": "code",
   "execution_count": 29,
   "id": "278d8f23-848b-4c6c-9bc9-4ef1050deeaa",
   "metadata": {},
   "outputs": [
    {
     "data": {
      "text/plain": [
       "name\n",
       "Shi Wan Ge Leng Xiaohua                         2\n",
       "Saru Kani Gassen                                2\n",
       "&quot;0&quot;                                   1\n",
       "Otoshidama                                      1\n",
       "Otome Nadeshiko Koi Techou                      1\n",
       "Otome Youkai Zakuro                             1\n",
       "Otome Youkai Zakuro Picture Drama               1\n",
       "Otome wa Boku ni Koishiteru                     1\n",
       "Otome wa Boku ni Koishiteru Special             1\n",
       "Otome wa Boku ni Koishiteru: Futari no Elder    1\n",
       "Name: rating, dtype: int64"
      ]
     },
     "execution_count": 29,
     "metadata": {},
     "output_type": "execute_result"
    }
   ],
   "source": [
    "df.groupby('name')['rating'].count().sort_values(ascending=False).head(10)"
   ]
  },
  {
   "cell_type": "code",
   "execution_count": null,
   "id": "ecbbe8f6-1f25-4499-9c36-45d01d719a7d",
   "metadata": {},
   "outputs": [],
   "source": []
  },
  {
   "cell_type": "code",
   "execution_count": 32,
   "id": "d916dde3-e071-407c-b625-ead1fe25fce6",
   "metadata": {},
   "outputs": [],
   "source": [
    "from sklearn.preprocessing import MinMaxScaler"
   ]
  },
  {
   "cell_type": "code",
   "execution_count": 33,
   "id": "822831bb-1ab2-4247-8dfb-a1a6093d6a6c",
   "metadata": {},
   "outputs": [],
   "source": [
    "scaler=MinMaxScaler()\n",
    "df[['rating_scale','members_scale']]=scaler.fit_transform(df[['rating','members']])"
   ]
  },
  {
   "cell_type": "code",
   "execution_count": 34,
   "id": "b829f4d0-693c-4f3c-889e-b307e1798594",
   "metadata": {},
   "outputs": [
    {
     "data": {
      "text/html": [
       "<div>\n",
       "<style scoped>\n",
       "    .dataframe tbody tr th:only-of-type {\n",
       "        vertical-align: middle;\n",
       "    }\n",
       "\n",
       "    .dataframe tbody tr th {\n",
       "        vertical-align: top;\n",
       "    }\n",
       "\n",
       "    .dataframe thead th {\n",
       "        text-align: right;\n",
       "    }\n",
       "</style>\n",
       "<table border=\"1\" class=\"dataframe\">\n",
       "  <thead>\n",
       "    <tr style=\"text-align: right;\">\n",
       "      <th></th>\n",
       "      <th>rating_scale</th>\n",
       "      <th>members_scale</th>\n",
       "    </tr>\n",
       "  </thead>\n",
       "  <tbody>\n",
       "    <tr>\n",
       "      <th>0</th>\n",
       "      <td>0.924370</td>\n",
       "      <td>0.197872</td>\n",
       "    </tr>\n",
       "    <tr>\n",
       "      <th>1</th>\n",
       "      <td>0.911164</td>\n",
       "      <td>0.782770</td>\n",
       "    </tr>\n",
       "    <tr>\n",
       "      <th>2</th>\n",
       "      <td>0.909964</td>\n",
       "      <td>0.112689</td>\n",
       "    </tr>\n",
       "    <tr>\n",
       "      <th>3</th>\n",
       "      <td>0.900360</td>\n",
       "      <td>0.664325</td>\n",
       "    </tr>\n",
       "    <tr>\n",
       "      <th>4</th>\n",
       "      <td>0.899160</td>\n",
       "      <td>0.149186</td>\n",
       "    </tr>\n",
       "  </tbody>\n",
       "</table>\n",
       "</div>"
      ],
      "text/plain": [
       "   rating_scale  members_scale\n",
       "0      0.924370       0.197872\n",
       "1      0.911164       0.782770\n",
       "2      0.909964       0.112689\n",
       "3      0.900360       0.664325\n",
       "4      0.899160       0.149186"
      ]
     },
     "execution_count": 34,
     "metadata": {},
     "output_type": "execute_result"
    }
   ],
   "source": [
    "df[['rating_scale','members_scale']].head()"
   ]
  },
  {
   "cell_type": "code",
   "execution_count": 35,
   "id": "59433ac2-073c-4825-b30a-d9b7ec2d5513",
   "metadata": {},
   "outputs": [],
   "source": [
    "from sklearn.feature_extraction.text import TfidfVectorizer\n",
    "from scipy.sparse import hstack"
   ]
  },
  {
   "cell_type": "code",
   "execution_count": 36,
   "id": "1fefdf50-8b1a-435b-a76a-272c8015a897",
   "metadata": {},
   "outputs": [],
   "source": [
    "tfidf = TfidfVectorizer(stop_words='english')\n",
    "tfidf_genre = tfidf.fit_transform(df['genre'] + \" \" + df['type'])"
   ]
  },
  {
   "cell_type": "code",
   "execution_count": 41,
   "id": "54accf16-2033-44cd-9bf3-30893e8fd58c",
   "metadata": {},
   "outputs": [],
   "source": [
    "features = hstack([tfidf_genre, np.array(df[['rating_scale', 'members_scale']])])"
   ]
  },
  {
   "cell_type": "code",
   "execution_count": null,
   "id": "5c1635c9-41c5-4860-9ae7-ba6064650393",
   "metadata": {},
   "outputs": [],
   "source": []
  },
  {
   "cell_type": "code",
   "execution_count": 45,
   "id": "4ef57808-e4c1-4e4e-ba74-5cceb694d9ee",
   "metadata": {},
   "outputs": [],
   "source": [
    "from sklearn.metrics.pairwise import cosine_similarity"
   ]
  },
  {
   "cell_type": "code",
   "execution_count": 47,
   "id": "3ac12426-3ce9-4e3d-b527-4a731a3a2594",
   "metadata": {},
   "outputs": [],
   "source": [
    "cosine_sim = cosine_similarity(features, features)"
   ]
  },
  {
   "cell_type": "code",
   "execution_count": 48,
   "id": "e8ab96ce-44f2-451b-9265-97643c6ba399",
   "metadata": {},
   "outputs": [
    {
     "data": {
      "text/plain": [
       "array([[1.        , 0.52502301, 0.46247873, ..., 0.24157166, 0.24807781,\n",
       "        0.43536683],\n",
       "       [0.52502301, 1.        , 0.53788793, ..., 0.20971947, 0.2153503 ,\n",
       "        0.24148453],\n",
       "       [0.46247873, 0.53788793, 1.        , ..., 0.24118659, 0.24768518,\n",
       "        0.27776899],\n",
       "       ...,\n",
       "       [0.24157166, 0.20971947, 0.24118659, ..., 1.        , 0.99994581,\n",
       "        0.69979952],\n",
       "       [0.24807781, 0.2153503 , 0.24768518, ..., 0.99994581, 1.        ,\n",
       "        0.70157449],\n",
       "       [0.43536683, 0.24148453, 0.27776899, ..., 0.69979952, 0.70157449,\n",
       "        1.        ]])"
      ]
     },
     "execution_count": 48,
     "metadata": {},
     "output_type": "execute_result"
    }
   ],
   "source": [
    "cosine_sim"
   ]
  },
  {
   "cell_type": "code",
   "execution_count": 49,
   "id": "39eb7c71-01db-4222-9bb8-aab2c35b026a",
   "metadata": {},
   "outputs": [],
   "source": [
    "indices = pd.Series(df.index, index=df['name']).drop_duplicates()"
   ]
  },
  {
   "cell_type": "code",
   "execution_count": 50,
   "id": "e45223ee-57eb-492e-b48a-def8c39c6c03",
   "metadata": {},
   "outputs": [],
   "source": [
    "def recommendations(anime_name, threshold=0.2):\n",
    "\n",
    "    if anime_name not in indices:\n",
    "        return f\"'{anime_name}' not found in the dataset.\"\n",
    "\n",
    "    idx = indices[anime_name]\n",
    "\n",
    "    sim_scores = list(enumerate(cosine_sim[idx]))\n",
    "\n",
    "    filtered_scores = []\n",
    "    for i, score in sim_scores:\n",
    "        if i != idx and score > threshold:\n",
    "            filtered_scores.append((i, score))\n",
    "\n",
    "    filtered_scores.sort(key=lambda x: x[1], reverse=True)\n",
    "\n",
    "    top_indices = [i[0] for i in filtered_scores[:10]]\n",
    "\n",
    "    return df[['name', 'type', 'rating']].iloc[top_indices]\n"
   ]
  },
  {
   "cell_type": "code",
   "execution_count": 51,
   "id": "d1adf299-6fb6-417b-95f6-2656d67e202c",
   "metadata": {},
   "outputs": [
    {
     "name": "stdout",
     "output_type": "stream",
     "text": [
      "\n",
      "========================================\n",
      "Recommendations for 'Naruto' with threshold = 0.1\n",
      "========================================\n",
      "                                                   name  rating\n",
      "615                                  Naruto: Shippuuden    7.94\n",
      "206                                       Dragon Ball Z    8.32\n",
      "346                                         Dragon Ball    8.16\n",
      "588                                     Dragon Ball Kai    7.95\n",
      "1930                                  Dragon Ball Super    7.40\n",
      "1472        Naruto: Shippuuden Movie 4 - The Lost Tower    7.53\n",
      "1573  Naruto: Shippuuden Movie 3 - Hi no Ishi wo Tsu...    7.50\n",
      "486                            Boruto: Naruto the Movie    8.03\n",
      "2342                             Kurokami The Animation    7.29\n",
      "1796                                     Rekka no Honoo    7.44\n",
      "Total recommendations: 10\n",
      "\n",
      "========================================\n",
      "Recommendations for 'Naruto' with threshold = 0.2\n",
      "========================================\n",
      "                                                   name  rating\n",
      "615                                  Naruto: Shippuuden    7.94\n",
      "206                                       Dragon Ball Z    8.32\n",
      "346                                         Dragon Ball    8.16\n",
      "588                                     Dragon Ball Kai    7.95\n",
      "1930                                  Dragon Ball Super    7.40\n",
      "1472        Naruto: Shippuuden Movie 4 - The Lost Tower    7.53\n",
      "1573  Naruto: Shippuuden Movie 3 - Hi no Ishi wo Tsu...    7.50\n",
      "486                            Boruto: Naruto the Movie    8.03\n",
      "2342                             Kurokami The Animation    7.29\n",
      "1796                                     Rekka no Honoo    7.44\n",
      "Total recommendations: 10\n",
      "\n",
      "========================================\n",
      "Recommendations for 'Naruto' with threshold = 0.3\n",
      "========================================\n",
      "                                                   name  rating\n",
      "615                                  Naruto: Shippuuden    7.94\n",
      "206                                       Dragon Ball Z    8.32\n",
      "346                                         Dragon Ball    8.16\n",
      "588                                     Dragon Ball Kai    7.95\n",
      "1930                                  Dragon Ball Super    7.40\n",
      "1472        Naruto: Shippuuden Movie 4 - The Lost Tower    7.53\n",
      "1573  Naruto: Shippuuden Movie 3 - Hi no Ishi wo Tsu...    7.50\n",
      "486                            Boruto: Naruto the Movie    8.03\n",
      "2342                             Kurokami The Animation    7.29\n",
      "1796                                     Rekka no Honoo    7.44\n",
      "Total recommendations: 10\n",
      "\n",
      "========================================\n",
      "Recommendations for 'Naruto' with threshold = 0.4\n",
      "========================================\n",
      "                                                   name  rating\n",
      "615                                  Naruto: Shippuuden    7.94\n",
      "206                                       Dragon Ball Z    8.32\n",
      "346                                         Dragon Ball    8.16\n",
      "588                                     Dragon Ball Kai    7.95\n",
      "1930                                  Dragon Ball Super    7.40\n",
      "1472        Naruto: Shippuuden Movie 4 - The Lost Tower    7.53\n",
      "1573  Naruto: Shippuuden Movie 3 - Hi no Ishi wo Tsu...    7.50\n",
      "486                            Boruto: Naruto the Movie    8.03\n",
      "2342                             Kurokami The Animation    7.29\n",
      "1796                                     Rekka no Honoo    7.44\n",
      "Total recommendations: 10\n",
      "\n",
      "========================================\n",
      "Recommendations for 'Naruto' with threshold = 0.5\n",
      "========================================\n",
      "                                                   name  rating\n",
      "615                                  Naruto: Shippuuden    7.94\n",
      "206                                       Dragon Ball Z    8.32\n",
      "346                                         Dragon Ball    8.16\n",
      "588                                     Dragon Ball Kai    7.95\n",
      "1930                                  Dragon Ball Super    7.40\n",
      "1472        Naruto: Shippuuden Movie 4 - The Lost Tower    7.53\n",
      "1573  Naruto: Shippuuden Movie 3 - Hi no Ishi wo Tsu...    7.50\n",
      "486                            Boruto: Naruto the Movie    8.03\n",
      "2342                             Kurokami The Animation    7.29\n",
      "1796                                     Rekka no Honoo    7.44\n",
      "Total recommendations: 10\n"
     ]
    }
   ],
   "source": [
    "anime_name = \"Naruto\"\n",
    "thresholds = [0.1, 0.2, 0.3, 0.4, 0.5]\n",
    "\n",
    "for t in thresholds:\n",
    "    print(\"\\n\" + \"=\"*40)\n",
    "    print(f\"Recommendations for '{anime_name}' with threshold = {t}\")\n",
    "    print(\"=\"*40)\n",
    "    \n",
    "    recs = recommendations(anime_name, threshold=t)\n",
    "    \n",
    "    # Show recommendations\n",
    "    if isinstance(recs, str):\n",
    "        print(recs)\n",
    "    else:\n",
    "        print(recs[['name', 'rating']])\n",
    "        print(f\"Total recommendations: {len(recs)}\")\n"
   ]
  },
  {
   "cell_type": "code",
   "execution_count": 52,
   "id": "d3e41f34-1baf-48bd-91d6-8363b509aa37",
   "metadata": {},
   "outputs": [
    {
     "data": {
      "image/png": "[encoded data removed]",
      "text/plain": [
       "<Figure size 640x480 with 1 Axes>"
      ]
     },
     "metadata": {},
     "output_type": "display_data"
    }
   ],
   "source": [
    "import matplotlib.pyplot as plt\n",
    "\n",
    "counts = []\n",
    "for t in thresholds:\n",
    "    recs = recommendations(anime_name, threshold=t)\n",
    "    counts.append(len(recs) if not isinstance(recs, str) else 0)\n",
    "\n",
    "plt.plot(thresholds, counts, marker='o')\n",
    "plt.title(f\"Effect of Threshold on Number of Recommendations ({anime_name})\")\n",
    "plt.xlabel(\"Similarity Threshold\")\n",
    "plt.ylabel(\"Number of Recommendations\")\n",
    "plt.show()\n"
   ]
  },
  {
   "cell_type": "code",
   "execution_count": null,
   "id": "d6e6c0bf-dbf0-418d-b5b3-90bfe5c41e08",
   "metadata": {},
   "outputs": [],
   "source": []
  },
  {
   "cell_type": "code",
   "execution_count": 54,
   "id": "02ef546d-5016-4400-abf8-2c7e935fb217",
   "metadata": {},
   "outputs": [],
   "source": [
    "from sklearn.model_selection import train_test_split\n",
    "train, test = train_test_split(df, test_size=0.2, random_state=42)"
   ]
  },
  {
   "cell_type": "code",
   "execution_count": 55,
   "id": "6c48022b-9860-40b8-9733-4f6bf28da175",
   "metadata": {},
   "outputs": [],
   "source": [
    "features_csr = features.tocsr()"
   ]
  },
  {
   "cell_type": "code",
   "execution_count": 56,
   "id": "0de95b78-3a54-45af-b578-c4a577a40005",
   "metadata": {},
   "outputs": [],
   "source": [
    "train_features = features_csr[train.index]\n",
    "test_features = features_csr[test.index]"
   ]
  },
  {
   "cell_type": "code",
   "execution_count": 57,
   "id": "24111e7b-8c97-4a02-b16a-77d0855d60c9",
   "metadata": {},
   "outputs": [
    {
     "name": "stdout",
     "output_type": "stream",
     "text": [
      "Training set shape: (9835, 54)\n",
      "Testing set shape: (2459, 54)\n",
      "Training data records: 9835\n",
      "Testing data records: 2459\n"
     ]
    }
   ],
   "source": [
    "print(\"Training set shape:\", train_features.shape)\n",
    "print(\"Testing set shape:\", test_features.shape)\n",
    "print(\"Training data records:\", len(train))\n",
    "print(\"Testing data records:\", len(test))"
   ]
  },
  {
   "cell_type": "code",
   "execution_count": 58,
   "id": "9ce72b55-3e4f-473c-b556-5e1f30497eb6",
   "metadata": {},
   "outputs": [],
   "source": [
    "cosine_sim_train = cosine_similarity(train_features, train_features)"
   ]
  },
  {
   "cell_type": "code",
   "execution_count": 59,
   "id": "d8d3ed77-5db8-438f-8d39-43f9779f49ab",
   "metadata": {},
   "outputs": [],
   "source": [
    "train_indices_mapping = pd.Series(data=range(len(train)), index=train['name'])"
   ]
  },
  {
   "cell_type": "code",
   "execution_count": 60,
   "id": "421b7bfe-0411-4da8-84e5-31e0fd7c4193",
   "metadata": {},
   "outputs": [],
   "source": [
    "def recommend_train(anime_name, threshold=0.2):\n",
    "    if anime_name not in train_indices_mapping:\n",
    "        return f\"'{anime_name}' not found in the training set.\"\n",
    "\n",
    "    idx = train_indices_mapping[anime_name]\n",
    "\n",
    "    sim_scores = list(enumerate(cosine_sim_train[idx]))\n",
    "\n",
    "    filtered_scores = [(i, score) for i, score in sim_scores if i != idx and score > threshold]\n",
    "\n",
    "    filtered_scores.sort(key=lambda x: x[1], reverse=True)\n",
    "\n",
    "    top_scores = filtered_scores[:10]\n",
    "\n",
    "    anime_indices = [i for i, _ in top_scores]\n",
    "    similarities = [round(score, 2) for _, score in top_scores]\n",
    "\n",
    "    recommendations = train.iloc[anime_indices][['name', 'type', 'rating']].copy()\n",
    "    recommendations['Similarity'] = similarities\n",
    "    return recommendations.reset_index(drop=True)"
   ]
  },
  {
   "cell_type": "code",
   "execution_count": 82,
   "id": "e8d12da5-2674-4b4e-ad59-e1aa69eb4016",
   "metadata": {},
   "outputs": [
    {
     "name": "stdout",
     "output_type": "stream",
     "text": [
      "Recommendations for Anime: Karen Senki\n",
      "\n",
      "                                                name type  rating  Similarity\n",
      "0  Gunslinger Stratos: The Animation - Kikan/Kaze...  ONA    6.08        1.00\n",
      "1                                 Gunslinger Stratos  ONA    6.19        1.00\n",
      "2                                Nanocore 2nd Season  ONA    5.33        1.00\n",
      "3                                   Master of Torque  ONA    5.25        1.00\n",
      "4                            Busou Shinki Moon Angel  ONA    6.68        1.00\n",
      "5                                 Master of Torque 3  ONA    4.83        0.99\n",
      "6                                           6 Angels  ONA    4.59        0.99\n",
      "7                   Soul Worker: Your Destiny Awaits  ONA    6.20        0.93\n",
      "8                           Mou Hitotsu no Mirai wo.  ONA    6.19        0.93\n",
      "9                                           Nanocore  ONA    6.17        0.93\n"
     ]
    }
   ],
   "source": [
    "test_anime = train.sample(1)['name'].values[0]\n",
    "print(f\"Recommendations for Anime: {test_anime}\\n\")\n",
    "\n",
    "recommendations = recommend_train(test_anime, threshold=0.2)\n",
    "print(recommendations)"
   ]
  },
  {
   "cell_type": "code",
   "execution_count": null,
   "id": "981f87f8-a3d2-4303-bf84-f451026bbe26",
   "metadata": {},
   "outputs": [],
   "source": []
  },
  {
   "cell_type": "code",
   "execution_count": 85,
   "id": "d27cc3c4-1c7c-4756-8e7b-75e8e474568d",
   "metadata": {},
   "outputs": [
    {
     "name": "stdout",
     "output_type": "stream",
     "text": [
      "Base Anime for Analysis: Winter Garden\n",
      "\n",
      "Threshold vs Recommendations:\n",
      "\n",
      "   Threshold  Recommended Count  Average Similarity\n",
      "0       0.80                 10               0.913\n",
      "1       0.85                 10               0.913\n",
      "2       0.90                  7               0.924\n",
      "3       0.92                  3               0.937\n",
      "4       0.95                  1               0.950\n"
     ]
    }
   ],
   "source": [
    "\n",
    "threshold_values = [0.8, 0.85, 0.9, 0.92, 0.95]\n",
    "\n",
    "test_anime = train.sample(1)['name'].values[0]\n",
    "\n",
    "print(f\"Base Anime for Analysis: {test_anime}\\n\")\n",
    "results = []\n",
    "\n",
    "for threshold in threshold_values:\n",
    "    recommendations = recommend_train(test_anime, threshold)\n",
    "    \n",
    "    if isinstance(recommendations, str):  # In case anime not found\n",
    "        continue\n",
    "    \n",
    "    count = len(recommendations)\n",
    "    avg_similarity = round(recommendations['Similarity'].mean(), 3) if count > 0 else 0\n",
    "    results.append({'Threshold': threshold, 'Recommended Count': count, 'Average Similarity': avg_similarity})\n",
    "\n",
    "threshold_df = pd.DataFrame(results)\n",
    "print(\"Threshold vs Recommendations:\\n\")\n",
    "print(threshold_df)\n"
   ]
  },
  {
   "cell_type": "code",
   "execution_count": 87,
   "id": "71776690-3470-4edd-8c7d-657b86217ab3",
   "metadata": {},
   "outputs": [
    {
     "data": {
      "image/png": "[encoded data removed]",
      "text/plain": [
       "<Figure size 640x480 with 1 Axes>"
      ]
     },
     "metadata": {},
     "output_type": "display_data"
    }
   ],
   "source": [
    "plt.plot(threshold_df['Threshold'], threshold_df['Recommended Count'], marker='o')\n",
    "plt.title(\"Effect of Threshold on Recommendation Count\")\n",
    "plt.xlabel(\"Threshold\")\n",
    "plt.ylabel(\"Number of Recommendations\")\n",
    "plt.show()\n"
   ]
  },
  {
   "cell_type": "markdown",
   "id": "ae3d622f-499b-451f-a9e5-0e27dc5f0f8c",
   "metadata": {},
   "source": [
    "\n",
    "### Interview Questions:\n",
    "\n",
    "##### 1. Can you explain the difference between user-based and item-based collaborative filtering?\n",
    "\n",
    "* User-based CF: Find users similar to you and recommend what they liked.\n",
    "\n",
    "* Item-based CF: Find items similar to what you liked and recommend them.\n",
    "\n",
    "##### 2. What is collaborative filtering, and how does it work?\n",
    "\n",
    "* Collaborative filtering uses user behavior (ratings, clicks) to recommend items without needing content features.\n",
    "\n",
    "* Works by finding patterns in users’ preferences or item similarity."
   ]
  },
  {
   "cell_type": "code",
   "execution_count": null,
   "id": "e5badc63-2c97-40dc-86e3-2f39d99c2dab",
   "metadata": {},
   "outputs": [],
   "source": []
  }
 ],
 "metadata": {
  "kernelspec": {
   "display_name": "Python [conda env:base] *",
   "language": "python",
   "name": "conda-base-py"
  },
  "language_info": {
   "codemirror_mode": {
    "name": "ipython",
    "version": 3
   },
   "file_extension": ".py",
   "mimetype": "text/x-python",
   "name": "python",
   "nbconvert_exporter": "python",
   "pygments_lexer": "ipython3",
   "version": "3.12.7"
  }
 },
 "nbformat": 4,
 "nbformat_minor": 5
}
