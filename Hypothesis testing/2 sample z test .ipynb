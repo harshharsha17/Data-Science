{
 "cells": [
  {
   "cell_type": "code",
   "execution_count": 1,
   "id": "52ef7e30-62e3-4eab-a97e-31c8a2c11025",
   "metadata": {},
   "outputs": [],
   "source": [
    "import pandas as pd"
   ]
  },
  {
   "cell_type": "code",
   "execution_count": 2,
   "id": "100d9eaa-4f6f-4daa-8d69-f919ac2497b0",
   "metadata": {},
   "outputs": [],
   "source": [
    "from statsmodels.stats.weightstats import stats"
   ]
  },
  {
   "cell_type": "code",
   "execution_count": 4,
   "id": "3387e1a9-a2ff-44f4-a54b-ebf2ae892fbf",
   "metadata": {
    "scrolled": true
   },
   "outputs": [
    {
     "data": {
      "text/html": [
       "<div>\n",
       "<style scoped>\n",
       "    .dataframe tbody tr th:only-of-type {\n",
       "        vertical-align: middle;\n",
       "    }\n",
       "\n",
       "    .dataframe tbody tr th {\n",
       "        vertical-align: top;\n",
       "    }\n",
       "\n",
       "    .dataframe thead th {\n",
       "        text-align: right;\n",
       "    }\n",
       "</style>\n",
       "<table border=\"1\" class=\"dataframe\">\n",
       "  <thead>\n",
       "    <tr style=\"text-align: right;\">\n",
       "      <th></th>\n",
       "      <th>Customer_ID</th>\n",
       "      <th>Group</th>\n",
       "      <th>Purchase_Value</th>\n",
       "    </tr>\n",
       "  </thead>\n",
       "  <tbody>\n",
       "    <tr>\n",
       "      <th>0</th>\n",
       "      <td>1</td>\n",
       "      <td>Email Marketing</td>\n",
       "      <td>87.450712</td>\n",
       "    </tr>\n",
       "    <tr>\n",
       "      <th>1</th>\n",
       "      <td>2</td>\n",
       "      <td>Email Marketing</td>\n",
       "      <td>77.926035</td>\n",
       "    </tr>\n",
       "    <tr>\n",
       "      <th>2</th>\n",
       "      <td>3</td>\n",
       "      <td>Email Marketing</td>\n",
       "      <td>89.715328</td>\n",
       "    </tr>\n",
       "    <tr>\n",
       "      <th>3</th>\n",
       "      <td>4</td>\n",
       "      <td>Email Marketing</td>\n",
       "      <td>102.845448</td>\n",
       "    </tr>\n",
       "    <tr>\n",
       "      <th>4</th>\n",
       "      <td>5</td>\n",
       "      <td>Email Marketing</td>\n",
       "      <td>76.487699</td>\n",
       "    </tr>\n",
       "    <tr>\n",
       "      <th>...</th>\n",
       "      <td>...</td>\n",
       "      <td>...</td>\n",
       "      <td>...</td>\n",
       "    </tr>\n",
       "    <tr>\n",
       "      <th>265</th>\n",
       "      <td>266</td>\n",
       "      <td>Social Media Ads</td>\n",
       "      <td>50.044336</td>\n",
       "    </tr>\n",
       "    <tr>\n",
       "      <th>266</th>\n",
       "      <td>267</td>\n",
       "      <td>Social Media Ads</td>\n",
       "      <td>107.648226</td>\n",
       "    </tr>\n",
       "    <tr>\n",
       "      <th>267</th>\n",
       "      <td>268</td>\n",
       "      <td>Social Media Ads</td>\n",
       "      <td>46.397172</td>\n",
       "    </tr>\n",
       "    <tr>\n",
       "      <th>268</th>\n",
       "      <td>269</td>\n",
       "      <td>Social Media Ads</td>\n",
       "      <td>66.199110</td>\n",
       "    </tr>\n",
       "    <tr>\n",
       "      <th>269</th>\n",
       "      <td>270</td>\n",
       "      <td>Social Media Ads</td>\n",
       "      <td>77.614812</td>\n",
       "    </tr>\n",
       "  </tbody>\n",
       "</table>\n",
       "<p>270 rows × 3 columns</p>\n",
       "</div>"
      ],
      "text/plain": [
       "     Customer_ID             Group  Purchase_Value\n",
       "0              1   Email Marketing       87.450712\n",
       "1              2   Email Marketing       77.926035\n",
       "2              3   Email Marketing       89.715328\n",
       "3              4   Email Marketing      102.845448\n",
       "4              5   Email Marketing       76.487699\n",
       "..           ...               ...             ...\n",
       "265          266  Social Media Ads       50.044336\n",
       "266          267  Social Media Ads      107.648226\n",
       "267          268  Social Media Ads       46.397172\n",
       "268          269  Social Media Ads       66.199110\n",
       "269          270  Social Media Ads       77.614812\n",
       "\n",
       "[270 rows x 3 columns]"
      ]
     },
     "execution_count": 4,
     "metadata": {},
     "output_type": "execute_result"
    }
   ],
   "source": [
    "df=pd.read_csv(\"C:\\\\Users\\\\dell\\\\DATA SCIENCE_ExcelR\\\\spyder\\\\ecommerce_two_sample_ztest_dataset.csv\")\n",
    "df"
   ]
  },
  {
   "cell_type": "code",
   "execution_count": 7,
   "id": "35bdf795-f063-43f5-9a02-7dc7c1c908d8",
   "metadata": {},
   "outputs": [
    {
     "name": "stdout",
     "output_type": "stream",
     "text": [
      "<class 'pandas.core.frame.DataFrame'>\n",
      "RangeIndex: 270 entries, 0 to 269\n",
      "Data columns (total 3 columns):\n",
      " #   Column          Non-Null Count  Dtype  \n",
      "---  ------          --------------  -----  \n",
      " 0   Customer_ID     270 non-null    int64  \n",
      " 1   Group           270 non-null    object \n",
      " 2   Purchase_Value  270 non-null    float64\n",
      "dtypes: float64(1), int64(1), object(1)\n",
      "memory usage: 6.5+ KB\n"
     ]
    }
   ],
   "source": [
    "df.info()"
   ]
  },
  {
   "cell_type": "code",
   "execution_count": 9,
   "id": "dcd58e0e-aec3-4233-a629-cf4d6bd3d376",
   "metadata": {},
   "outputs": [
    {
     "data": {
      "text/html": [
       "<div>\n",
       "<style scoped>\n",
       "    .dataframe tbody tr th:only-of-type {\n",
       "        vertical-align: middle;\n",
       "    }\n",
       "\n",
       "    .dataframe tbody tr th {\n",
       "        vertical-align: top;\n",
       "    }\n",
       "\n",
       "    .dataframe thead th {\n",
       "        text-align: right;\n",
       "    }\n",
       "</style>\n",
       "<table border=\"1\" class=\"dataframe\">\n",
       "  <thead>\n",
       "    <tr style=\"text-align: right;\">\n",
       "      <th></th>\n",
       "      <th>Customer_ID</th>\n",
       "      <th>Purchase_Value</th>\n",
       "    </tr>\n",
       "  </thead>\n",
       "  <tbody>\n",
       "    <tr>\n",
       "      <th>count</th>\n",
       "      <td>270.000000</td>\n",
       "      <td>270.000000</td>\n",
       "    </tr>\n",
       "    <tr>\n",
       "      <th>mean</th>\n",
       "      <td>135.500000</td>\n",
       "      <td>77.036707</td>\n",
       "    </tr>\n",
       "    <tr>\n",
       "      <th>std</th>\n",
       "      <td>78.086491</td>\n",
       "      <td>18.128913</td>\n",
       "    </tr>\n",
       "    <tr>\n",
       "      <th>min</th>\n",
       "      <td>1.000000</td>\n",
       "      <td>10.174653</td>\n",
       "    </tr>\n",
       "    <tr>\n",
       "      <th>25%</th>\n",
       "      <td>68.250000</td>\n",
       "      <td>64.302635</td>\n",
       "    </tr>\n",
       "    <tr>\n",
       "      <th>50%</th>\n",
       "      <td>135.500000</td>\n",
       "      <td>78.169889</td>\n",
       "    </tr>\n",
       "    <tr>\n",
       "      <th>75%</th>\n",
       "      <td>202.750000</td>\n",
       "      <td>87.693854</td>\n",
       "    </tr>\n",
       "    <tr>\n",
       "      <th>max</th>\n",
       "      <td>270.000000</td>\n",
       "      <td>152.054630</td>\n",
       "    </tr>\n",
       "  </tbody>\n",
       "</table>\n",
       "</div>"
      ],
      "text/plain": [
       "       Customer_ID  Purchase_Value\n",
       "count   270.000000      270.000000\n",
       "mean    135.500000       77.036707\n",
       "std      78.086491       18.128913\n",
       "min       1.000000       10.174653\n",
       "25%      68.250000       64.302635\n",
       "50%     135.500000       78.169889\n",
       "75%     202.750000       87.693854\n",
       "max     270.000000      152.054630"
      ]
     },
     "execution_count": 9,
     "metadata": {},
     "output_type": "execute_result"
    }
   ],
   "source": [
    "df.describe()"
   ]
  },
  {
   "cell_type": "code",
   "execution_count": 11,
   "id": "61dace6d-e9b2-4ab2-89da-a8118c4ca12a",
   "metadata": {},
   "outputs": [
    {
     "data": {
      "text/plain": [
       "Group\n",
       "Social Media Ads    150\n",
       "Email Marketing     120\n",
       "Name: count, dtype: int64"
      ]
     },
     "execution_count": 11,
     "metadata": {},
     "output_type": "execute_result"
    }
   ],
   "source": [
    "df[\"Group\"].value_counts()"
   ]
  },
  {
   "cell_type": "code",
   "execution_count": null,
   "id": "cc8826ab-65ad-41ea-99c6-d7062225ed79",
   "metadata": {},
   "outputs": [],
   "source": []
  },
  {
   "cell_type": "code",
   "execution_count": 13,
   "id": "d869b5c5-8893-43ca-99de-22759611b5df",
   "metadata": {},
   "outputs": [],
   "source": [
    "#given data\n",
    "population_mean=1000 #hypothesized population mean\n",
    "alpha=0.05 #level of significance"
   ]
  },
  {
   "cell_type": "code",
   "execution_count": 15,
   "id": "0cd45d8c-edcb-4e7f-92a6-08cbcb9be8e9",
   "metadata": {},
   "outputs": [],
   "source": [
    "em_group=df['Purchase_Value'][df[\"Group\"]==\"Email Marketing\"]\n",
    "sm_group=df['Purchase_Value'][df[\"Group\"]==\"Social Media Ads\"]"
   ]
  },
  {
   "cell_type": "code",
   "execution_count": 17,
   "id": "b3b16bc5-535c-4792-969f-48ce2f9e738a",
   "metadata": {},
   "outputs": [],
   "source": [
    "from statsmodels.stats.weightstats import ztest"
   ]
  },
  {
   "cell_type": "code",
   "execution_count": 23,
   "id": "28642089-250a-4a47-aaaa-6d88b10c2ca3",
   "metadata": {},
   "outputs": [
    {
     "data": {
      "text/plain": [
       "1.4424788254616185"
      ]
     },
     "execution_count": 23,
     "metadata": {},
     "output_type": "execute_result"
    }
   ],
   "source": [
    "z_stat,p_value= ztest(em_group,sm_group,alternative='two-sided') #2variables\n",
    "z_stat"
   ]
  },
  {
   "cell_type": "code",
   "execution_count": 21,
   "id": "b17a22a3-8fc7-4e30-be59-ffd9f48149ed",
   "metadata": {},
   "outputs": [
    {
     "name": "stdout",
     "output_type": "stream",
     "text": [
      "H1 is rejected and H0 is accepted\n"
     ]
    }
   ],
   "source": [
    "if(p_value<alpha):\n",
    "    print(\"Ho is rejected and H1 is accepted\")\n",
    "else:\n",
    "    print(\"H1 is rejected and H0 is accepted\")"
   ]
  },
  {
   "cell_type": "code",
   "execution_count": null,
   "id": "58959396-36da-4919-89f3-f23d76c3cd95",
   "metadata": {},
   "outputs": [],
   "source": []
  }
 ],
 "metadata": {
  "kernelspec": {
   "display_name": "Python [conda env:base] *",
   "language": "python",
   "name": "conda-base-py"
  },
  "language_info": {
   "codemirror_mode": {
    "name": "ipython",
    "version": 3
   },
   "file_extension": ".py",
   "mimetype": "text/x-python",
   "name": "python",
   "nbconvert_exporter": "python",
   "pygments_lexer": "ipython3",
   "version": "3.12.7"
  }
 },
 "nbformat": 4,
 "nbformat_minor": 5
}
