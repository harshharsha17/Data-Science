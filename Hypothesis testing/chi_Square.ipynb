{
 "cells": [
  {
   "cell_type": "code",
   "execution_count": 1,
   "id": "2b7bc2ba-d361-4bec-8145-95286b3e5765",
   "metadata": {},
   "outputs": [],
   "source": [
    "import pandas as pd"
   ]
  },
  {
   "cell_type": "code",
   "execution_count": 3,
   "id": "ae282d0f-0752-46cd-bf5c-6d55325e7fca",
   "metadata": {},
   "outputs": [],
   "source": [
    "df=pd.read_csv(\"Credit_Card_Usage_Data.csv\")"
   ]
  },
  {
   "cell_type": "code",
   "execution_count": 5,
   "id": "a9d61e1e-f28c-467e-b188-077062d7a3da",
   "metadata": {},
   "outputs": [
    {
     "data": {
      "text/html": [
       "<div>\n",
       "<style scoped>\n",
       "    .dataframe tbody tr th:only-of-type {\n",
       "        vertical-align: middle;\n",
       "    }\n",
       "\n",
       "    .dataframe tbody tr th {\n",
       "        vertical-align: top;\n",
       "    }\n",
       "\n",
       "    .dataframe thead th {\n",
       "        text-align: right;\n",
       "    }\n",
       "</style>\n",
       "<table border=\"1\" class=\"dataframe\">\n",
       "  <thead>\n",
       "    <tr style=\"text-align: right;\">\n",
       "      <th></th>\n",
       "      <th>Person_ID</th>\n",
       "      <th>Age Group</th>\n",
       "      <th>Usage Frequency</th>\n",
       "      <th>Card Type</th>\n",
       "      <th>Annual Spending (USD)</th>\n",
       "      <th>Default History</th>\n",
       "    </tr>\n",
       "  </thead>\n",
       "  <tbody>\n",
       "    <tr>\n",
       "      <th>0</th>\n",
       "      <td>1</td>\n",
       "      <td>36-50</td>\n",
       "      <td>High Usage</td>\n",
       "      <td>MasterCard</td>\n",
       "      <td>9109</td>\n",
       "      <td>No Default</td>\n",
       "    </tr>\n",
       "    <tr>\n",
       "      <th>1</th>\n",
       "      <td>2</td>\n",
       "      <td>51+</td>\n",
       "      <td>Low Usage</td>\n",
       "      <td>Visa</td>\n",
       "      <td>6990</td>\n",
       "      <td>No Default</td>\n",
       "    </tr>\n",
       "    <tr>\n",
       "      <th>2</th>\n",
       "      <td>3</td>\n",
       "      <td>18-25</td>\n",
       "      <td>Low Usage</td>\n",
       "      <td>Discover</td>\n",
       "      <td>4100</td>\n",
       "      <td>No Default</td>\n",
       "    </tr>\n",
       "    <tr>\n",
       "      <th>3</th>\n",
       "      <td>4</td>\n",
       "      <td>36-50</td>\n",
       "      <td>High Usage</td>\n",
       "      <td>Discover</td>\n",
       "      <td>7283</td>\n",
       "      <td>No Default</td>\n",
       "    </tr>\n",
       "    <tr>\n",
       "      <th>4</th>\n",
       "      <td>5</td>\n",
       "      <td>36-50</td>\n",
       "      <td>Low Usage</td>\n",
       "      <td>Discover</td>\n",
       "      <td>9646</td>\n",
       "      <td>No Default</td>\n",
       "    </tr>\n",
       "    <tr>\n",
       "      <th>...</th>\n",
       "      <td>...</td>\n",
       "      <td>...</td>\n",
       "      <td>...</td>\n",
       "      <td>...</td>\n",
       "      <td>...</td>\n",
       "      <td>...</td>\n",
       "    </tr>\n",
       "    <tr>\n",
       "      <th>495</th>\n",
       "      <td>496</td>\n",
       "      <td>36-50</td>\n",
       "      <td>Low Usage</td>\n",
       "      <td>MasterCard</td>\n",
       "      <td>2263</td>\n",
       "      <td>No Default</td>\n",
       "    </tr>\n",
       "    <tr>\n",
       "      <th>496</th>\n",
       "      <td>497</td>\n",
       "      <td>36-50</td>\n",
       "      <td>Low Usage</td>\n",
       "      <td>MasterCard</td>\n",
       "      <td>9212</td>\n",
       "      <td>Default</td>\n",
       "    </tr>\n",
       "    <tr>\n",
       "      <th>497</th>\n",
       "      <td>498</td>\n",
       "      <td>51+</td>\n",
       "      <td>Low Usage</td>\n",
       "      <td>Amex</td>\n",
       "      <td>6297</td>\n",
       "      <td>No Default</td>\n",
       "    </tr>\n",
       "    <tr>\n",
       "      <th>498</th>\n",
       "      <td>499</td>\n",
       "      <td>18-25</td>\n",
       "      <td>Medium Usage</td>\n",
       "      <td>MasterCard</td>\n",
       "      <td>9708</td>\n",
       "      <td>Default</td>\n",
       "    </tr>\n",
       "    <tr>\n",
       "      <th>499</th>\n",
       "      <td>500</td>\n",
       "      <td>51+</td>\n",
       "      <td>Low Usage</td>\n",
       "      <td>Amex</td>\n",
       "      <td>7599</td>\n",
       "      <td>No Default</td>\n",
       "    </tr>\n",
       "  </tbody>\n",
       "</table>\n",
       "<p>500 rows × 6 columns</p>\n",
       "</div>"
      ],
      "text/plain": [
       "     Person_ID Age Group Usage Frequency   Card Type  Annual Spending (USD)  \\\n",
       "0            1     36-50      High Usage  MasterCard                   9109   \n",
       "1            2       51+       Low Usage        Visa                   6990   \n",
       "2            3     18-25       Low Usage    Discover                   4100   \n",
       "3            4     36-50      High Usage    Discover                   7283   \n",
       "4            5     36-50       Low Usage    Discover                   9646   \n",
       "..         ...       ...             ...         ...                    ...   \n",
       "495        496     36-50       Low Usage  MasterCard                   2263   \n",
       "496        497     36-50       Low Usage  MasterCard                   9212   \n",
       "497        498       51+       Low Usage        Amex                   6297   \n",
       "498        499     18-25    Medium Usage  MasterCard                   9708   \n",
       "499        500       51+       Low Usage        Amex                   7599   \n",
       "\n",
       "    Default History  \n",
       "0        No Default  \n",
       "1        No Default  \n",
       "2        No Default  \n",
       "3        No Default  \n",
       "4        No Default  \n",
       "..              ...  \n",
       "495      No Default  \n",
       "496         Default  \n",
       "497      No Default  \n",
       "498         Default  \n",
       "499      No Default  \n",
       "\n",
       "[500 rows x 6 columns]"
      ]
     },
     "execution_count": 5,
     "metadata": {},
     "output_type": "execute_result"
    }
   ],
   "source": [
    "df"
   ]
  },
  {
   "cell_type": "code",
   "execution_count": 7,
   "id": "e2d918f8-22f6-4048-a4bf-1ab0cd53158f",
   "metadata": {},
   "outputs": [
    {
     "name": "stdout",
     "output_type": "stream",
     "text": [
      "<class 'pandas.core.frame.DataFrame'>\n",
      "RangeIndex: 500 entries, 0 to 499\n",
      "Data columns (total 6 columns):\n",
      " #   Column                 Non-Null Count  Dtype \n",
      "---  ------                 --------------  ----- \n",
      " 0   Person_ID              500 non-null    int64 \n",
      " 1   Age Group              500 non-null    object\n",
      " 2   Usage Frequency        500 non-null    object\n",
      " 3   Card Type              500 non-null    object\n",
      " 4   Annual Spending (USD)  500 non-null    int64 \n",
      " 5   Default History        500 non-null    object\n",
      "dtypes: int64(2), object(4)\n",
      "memory usage: 23.6+ KB\n"
     ]
    }
   ],
   "source": [
    "df.info()"
   ]
  },
  {
   "cell_type": "code",
   "execution_count": 13,
   "id": "506d6150-0248-4f9b-be5a-e24b0159d73d",
   "metadata": {},
   "outputs": [
    {
     "data": {
      "text/plain": [
       "0      36-50\n",
       "1        51+\n",
       "2      18-25\n",
       "3      36-50\n",
       "4      36-50\n",
       "       ...  \n",
       "495    36-50\n",
       "496    36-50\n",
       "497      51+\n",
       "498    18-25\n",
       "499      51+\n",
       "Name: Age Group, Length: 500, dtype: object"
      ]
     },
     "execution_count": 13,
     "metadata": {},
     "output_type": "execute_result"
    }
   ],
   "source": [
    "df[\"Age Group\"]"
   ]
  },
  {
   "cell_type": "code",
   "execution_count": 15,
   "id": "954d15b8-0a7c-4ce5-9018-312120403dee",
   "metadata": {},
   "outputs": [
    {
     "data": {
      "text/plain": [
       "0        High Usage\n",
       "1         Low Usage\n",
       "2         Low Usage\n",
       "3        High Usage\n",
       "4         Low Usage\n",
       "           ...     \n",
       "495       Low Usage\n",
       "496       Low Usage\n",
       "497       Low Usage\n",
       "498    Medium Usage\n",
       "499       Low Usage\n",
       "Name: Usage Frequency, Length: 500, dtype: object"
      ]
     },
     "execution_count": 15,
     "metadata": {},
     "output_type": "execute_result"
    }
   ],
   "source": [
    "df[\"Usage Frequency\"]"
   ]
  },
  {
   "cell_type": "code",
   "execution_count": 19,
   "id": "cc4f6135-e723-43ed-88a4-887fcf105d18",
   "metadata": {},
   "outputs": [
    {
     "data": {
      "text/html": [
       "<div>\n",
       "<style scoped>\n",
       "    .dataframe tbody tr th:only-of-type {\n",
       "        vertical-align: middle;\n",
       "    }\n",
       "\n",
       "    .dataframe tbody tr th {\n",
       "        vertical-align: top;\n",
       "    }\n",
       "\n",
       "    .dataframe thead th {\n",
       "        text-align: right;\n",
       "    }\n",
       "</style>\n",
       "<table border=\"1\" class=\"dataframe\">\n",
       "  <thead>\n",
       "    <tr style=\"text-align: right;\">\n",
       "      <th>Usage Frequency</th>\n",
       "      <th>High Usage</th>\n",
       "      <th>Low Usage</th>\n",
       "      <th>Medium Usage</th>\n",
       "      <th>All</th>\n",
       "    </tr>\n",
       "    <tr>\n",
       "      <th>Age Group</th>\n",
       "      <th></th>\n",
       "      <th></th>\n",
       "      <th></th>\n",
       "      <th></th>\n",
       "    </tr>\n",
       "  </thead>\n",
       "  <tbody>\n",
       "    <tr>\n",
       "      <th>18-25</th>\n",
       "      <td>35</td>\n",
       "      <td>46</td>\n",
       "      <td>41</td>\n",
       "      <td>122</td>\n",
       "    </tr>\n",
       "    <tr>\n",
       "      <th>26-35</th>\n",
       "      <td>32</td>\n",
       "      <td>34</td>\n",
       "      <td>42</td>\n",
       "      <td>108</td>\n",
       "    </tr>\n",
       "    <tr>\n",
       "      <th>36-50</th>\n",
       "      <td>37</td>\n",
       "      <td>46</td>\n",
       "      <td>39</td>\n",
       "      <td>122</td>\n",
       "    </tr>\n",
       "    <tr>\n",
       "      <th>51+</th>\n",
       "      <td>44</td>\n",
       "      <td>60</td>\n",
       "      <td>44</td>\n",
       "      <td>148</td>\n",
       "    </tr>\n",
       "    <tr>\n",
       "      <th>All</th>\n",
       "      <td>148</td>\n",
       "      <td>186</td>\n",
       "      <td>166</td>\n",
       "      <td>500</td>\n",
       "    </tr>\n",
       "  </tbody>\n",
       "</table>\n",
       "</div>"
      ],
      "text/plain": [
       "Usage Frequency  High Usage  Low Usage  Medium Usage  All\n",
       "Age Group                                                \n",
       "18-25                    35         46            41  122\n",
       "26-35                    32         34            42  108\n",
       "36-50                    37         46            39  122\n",
       "51+                      44         60            44  148\n",
       "All                     148        186           166  500"
      ]
     },
     "execution_count": 19,
     "metadata": {},
     "output_type": "execute_result"
    }
   ],
   "source": [
    "pd.crosstab(df[\"Age Group\"],df[\"Usage Frequency\"],margins=True)"
   ]
  },
  {
   "cell_type": "code",
   "execution_count": 23,
   "id": "c01000a8-9c9c-466d-9832-5be1d9af96e3",
   "metadata": {},
   "outputs": [],
   "source": [
    "#pip install researchpy"
   ]
  },
  {
   "cell_type": "code",
   "execution_count": 25,
   "id": "433e9019-17c9-4dbd-885d-af82b8d57309",
   "metadata": {},
   "outputs": [],
   "source": [
    "import researchpy as rp"
   ]
  },
  {
   "cell_type": "code",
   "execution_count": 27,
   "id": "6ef4b40f-7243-4554-8382-fa43e9d34e21",
   "metadata": {},
   "outputs": [
    {
     "name": "stderr",
     "output_type": "stream",
     "text": [
      "C:\\Users\\dell\\anaconda3\\Lib\\site-packages\\researchpy\\crosstab.py:146: FutureWarning: Setting an item of incompatible dtype is deprecated and will raise an error in a future version of pandas. Value 'Pearson Chi-square ( 6.0) = ' has dtype incompatible with float64, please explicitly cast to a compatible dtype first.\n",
      "  table.iloc[0,0] = f\"Pearson Chi-square ({dof: .1f}) = \"\n"
     ]
    }
   ],
   "source": [
    "table,results=rp.crosstab(df[\"Age Group\"],df[\"Usage Frequency\"],test='chi-square')"
   ]
  },
  {
   "cell_type": "code",
   "execution_count": 29,
   "id": "643aade2-8ccf-46da-887d-a8653fc7ce8d",
   "metadata": {},
   "outputs": [
    {
     "data": {
      "text/html": [
       "<div>\n",
       "<style scoped>\n",
       "    .dataframe tbody tr th:only-of-type {\n",
       "        vertical-align: middle;\n",
       "    }\n",
       "\n",
       "    .dataframe tbody tr th {\n",
       "        vertical-align: top;\n",
       "    }\n",
       "\n",
       "    .dataframe thead tr th {\n",
       "        text-align: left;\n",
       "    }\n",
       "\n",
       "    .dataframe thead tr:last-of-type th {\n",
       "        text-align: right;\n",
       "    }\n",
       "</style>\n",
       "<table border=\"1\" class=\"dataframe\">\n",
       "  <thead>\n",
       "    <tr>\n",
       "      <th></th>\n",
       "      <th colspan=\"4\" halign=\"left\">Usage Frequency</th>\n",
       "    </tr>\n",
       "    <tr>\n",
       "      <th>Usage Frequency</th>\n",
       "      <th>High Usage</th>\n",
       "      <th>Low Usage</th>\n",
       "      <th>Medium Usage</th>\n",
       "      <th>All</th>\n",
       "    </tr>\n",
       "    <tr>\n",
       "      <th>Age Group</th>\n",
       "      <th></th>\n",
       "      <th></th>\n",
       "      <th></th>\n",
       "      <th></th>\n",
       "    </tr>\n",
       "  </thead>\n",
       "  <tbody>\n",
       "    <tr>\n",
       "      <th>18-25</th>\n",
       "      <td>35</td>\n",
       "      <td>46</td>\n",
       "      <td>41</td>\n",
       "      <td>122</td>\n",
       "    </tr>\n",
       "    <tr>\n",
       "      <th>26-35</th>\n",
       "      <td>32</td>\n",
       "      <td>34</td>\n",
       "      <td>42</td>\n",
       "      <td>108</td>\n",
       "    </tr>\n",
       "    <tr>\n",
       "      <th>36-50</th>\n",
       "      <td>37</td>\n",
       "      <td>46</td>\n",
       "      <td>39</td>\n",
       "      <td>122</td>\n",
       "    </tr>\n",
       "    <tr>\n",
       "      <th>51+</th>\n",
       "      <td>44</td>\n",
       "      <td>60</td>\n",
       "      <td>44</td>\n",
       "      <td>148</td>\n",
       "    </tr>\n",
       "    <tr>\n",
       "      <th>All</th>\n",
       "      <td>148</td>\n",
       "      <td>186</td>\n",
       "      <td>166</td>\n",
       "      <td>500</td>\n",
       "    </tr>\n",
       "  </tbody>\n",
       "</table>\n",
       "</div>"
      ],
      "text/plain": [
       "                Usage Frequency                            \n",
       "Usage Frequency      High Usage Low Usage Medium Usage  All\n",
       "Age Group                                                  \n",
       "18-25                        35        46           41  122\n",
       "26-35                        32        34           42  108\n",
       "36-50                        37        46           39  122\n",
       "51+                          44        60           44  148\n",
       "All                         148       186          166  500"
      ]
     },
     "execution_count": 29,
     "metadata": {},
     "output_type": "execute_result"
    }
   ],
   "source": [
    "table"
   ]
  },
  {
   "cell_type": "code",
   "execution_count": 31,
   "id": "648eab52-ea5b-4cd2-8af7-4dc92ad8488e",
   "metadata": {},
   "outputs": [
    {
     "data": {
      "text/html": [
       "<div>\n",
       "<style scoped>\n",
       "    .dataframe tbody tr th:only-of-type {\n",
       "        vertical-align: middle;\n",
       "    }\n",
       "\n",
       "    .dataframe tbody tr th {\n",
       "        vertical-align: top;\n",
       "    }\n",
       "\n",
       "    .dataframe thead th {\n",
       "        text-align: right;\n",
       "    }\n",
       "</style>\n",
       "<table border=\"1\" class=\"dataframe\">\n",
       "  <thead>\n",
       "    <tr style=\"text-align: right;\">\n",
       "      <th></th>\n",
       "      <th>Chi-square test</th>\n",
       "      <th>results</th>\n",
       "    </tr>\n",
       "  </thead>\n",
       "  <tbody>\n",
       "    <tr>\n",
       "      <th>0</th>\n",
       "      <td>Pearson Chi-square ( 6.0) =</td>\n",
       "      <td>3.1186</td>\n",
       "    </tr>\n",
       "    <tr>\n",
       "      <th>1</th>\n",
       "      <td>p-value =</td>\n",
       "      <td>0.7938</td>\n",
       "    </tr>\n",
       "    <tr>\n",
       "      <th>2</th>\n",
       "      <td>Cramer's V =</td>\n",
       "      <td>0.0558</td>\n",
       "    </tr>\n",
       "  </tbody>\n",
       "</table>\n",
       "</div>"
      ],
      "text/plain": [
       "                Chi-square test  results\n",
       "0  Pearson Chi-square ( 6.0) =    3.1186\n",
       "1                    p-value =    0.7938\n",
       "2                 Cramer's V =    0.0558"
      ]
     },
     "execution_count": 31,
     "metadata": {},
     "output_type": "execute_result"
    }
   ],
   "source": [
    "results"
   ]
  },
  {
   "cell_type": "code",
   "execution_count": 35,
   "id": "05b47137-c1c0-49dc-9105-c88b08d58f7c",
   "metadata": {},
   "outputs": [],
   "source": [
    "p_value=0.7938\n",
    "alpha=0.05"
   ]
  },
  {
   "cell_type": "code",
   "execution_count": 37,
   "id": "b38ecc78-f206-4d71-a6a2-6e7fad89d994",
   "metadata": {},
   "outputs": [
    {
     "name": "stdout",
     "output_type": "stream",
     "text": [
      "H1 is rejected and H0 is accepted\n"
     ]
    }
   ],
   "source": [
    "if(p_value<alpha):\n",
    "    print(\"Ho is rejected and H1 is accepted\")\n",
    "else:\n",
    "    print(\"H1 is rejected and H0 is accepted\")"
   ]
  },
  {
   "cell_type": "code",
   "execution_count": null,
   "id": "648be5ba-60f3-49e6-a6e1-64a716114c89",
   "metadata": {},
   "outputs": [],
   "source": []
  }
 ],
 "metadata": {
  "kernelspec": {
   "display_name": "Python [conda env:base] *",
   "language": "python",
   "name": "conda-base-py"
  },
  "language_info": {
   "codemirror_mode": {
    "name": "ipython",
    "version": 3
   },
   "file_extension": ".py",
   "mimetype": "text/x-python",
   "name": "python",
   "nbconvert_exporter": "python",
   "pygments_lexer": "ipython3",
   "version": "3.12.7"
  }
 },
 "nbformat": 4,
 "nbformat_minor": 5
}
