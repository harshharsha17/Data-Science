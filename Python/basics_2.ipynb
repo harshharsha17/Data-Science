{
 "cells": [
  {
   "cell_type": "markdown",
   "id": "0429e5f2-de09-4ee0-9e54-578f35046102",
   "metadata": {},
   "source": [
    "### data structures ###"
   ]
  },
  {
   "cell_type": "markdown",
   "id": "581eb8bf-fec4-4dc7-86bd-fb03f0284487",
   "metadata": {},
   "source": [
    "- list\n",
    "- tuple\n",
    "- dictionary\n",
    "- set"
   ]
  },
  {
   "cell_type": "markdown",
   "id": "c0738a06-1be5-4748-8a3c-4c8ca1ec01c8",
   "metadata": {},
   "source": [
    "#### list ####"
   ]
  },
  {
   "cell_type": "markdown",
   "id": "08044034-4c97-4503-bb1e-e4d630835084",
   "metadata": {},
   "source": [
    "all data types\n",
    "mutable\n",
    "modify,replace the values\n",
    "[]"
   ]
  },
  {
   "cell_type": "markdown",
   "id": "e03a072a-e755-49cb-94a6-d9876aa98c79",
   "metadata": {},
   "source": [
    "len= length of the list\n",
    "pop= removes last element\n",
    "pop(index)= removes the element at the given index\n",
    "insert(index,element)= inserts the element at the given index\n",
    "append= adds the new element at the last\n"
   ]
  },
  {
   "cell_type": "code",
   "execution_count": 14,
   "id": "b7df6882-a228-44b5-9250-9104210ec2c2",
   "metadata": {},
   "outputs": [
    {
     "data": {
      "text/plain": [
       "list"
      ]
     },
     "execution_count": 14,
     "metadata": {},
     "output_type": "execute_result"
    }
   ],
   "source": [
    "l=[1,3,5.5,233,'harsh',True,227]\n",
    "type(l)"
   ]
  },
  {
   "cell_type": "code",
   "execution_count": 16,
   "id": "641d4d54-8144-4cda-93c3-feb59b4ffcd9",
   "metadata": {},
   "outputs": [
    {
     "data": {
      "text/plain": [
       "[1, 3, 5.5, 233, 'harsh', True]"
      ]
     },
     "execution_count": 16,
     "metadata": {},
     "output_type": "execute_result"
    }
   ],
   "source": [
    "l.pop()\n",
    "l"
   ]
  },
  {
   "cell_type": "code",
   "execution_count": 18,
   "id": "f643aeb3-6531-46c1-891f-2efc6c417490",
   "metadata": {},
   "outputs": [
    {
     "data": {
      "text/plain": [
       "6"
      ]
     },
     "execution_count": 18,
     "metadata": {},
     "output_type": "execute_result"
    }
   ],
   "source": [
    "len(l)"
   ]
  },
  {
   "cell_type": "code",
   "execution_count": 20,
   "id": "3daab141-b9a5-42e8-a6dc-f6d5ab98e572",
   "metadata": {},
   "outputs": [
    {
     "data": {
      "text/plain": [
       "233"
      ]
     },
     "execution_count": 20,
     "metadata": {},
     "output_type": "execute_result"
    }
   ],
   "source": [
    "l[3]"
   ]
  },
  {
   "cell_type": "code",
   "execution_count": 22,
   "id": "3271c114-2f84-4bef-9796-5900331f121a",
   "metadata": {},
   "outputs": [
    {
     "data": {
      "text/plain": [
       "[3, 5.5, 233, 'harsh', True]"
      ]
     },
     "execution_count": 22,
     "metadata": {},
     "output_type": "execute_result"
    }
   ],
   "source": [
    "l.pop(0)\n",
    "l"
   ]
  },
  {
   "cell_type": "code",
   "execution_count": 24,
   "id": "4432d7ca-f5fd-4d09-8be4-0735c6a233ea",
   "metadata": {},
   "outputs": [
    {
     "data": {
      "text/plain": [
       "['kappi', 3, 5.5, 233, 'harsh', True]"
      ]
     },
     "execution_count": 24,
     "metadata": {},
     "output_type": "execute_result"
    }
   ],
   "source": [
    "l.insert(0,'kappi')\n",
    "l"
   ]
  },
  {
   "cell_type": "code",
   "execution_count": 26,
   "id": "d2bedc76-5657-4afd-9f05-d1fceeb4a02a",
   "metadata": {},
   "outputs": [
    {
     "data": {
      "text/plain": [
       "['kappi', 3, 5.5, 233, 'harsh', True, 'harsha']"
      ]
     },
     "execution_count": 26,
     "metadata": {},
     "output_type": "execute_result"
    }
   ],
   "source": [
    "l.append('harsha')\n",
    "l"
   ]
  },
  {
   "cell_type": "code",
   "execution_count": 38,
   "id": "d73c9bbf-dded-4116-bd83-38c2accee229",
   "metadata": {},
   "outputs": [
    {
     "data": {
      "text/plain": [
       "[3, 5.5, 233, True]"
      ]
     },
     "execution_count": 38,
     "metadata": {},
     "output_type": "execute_result"
    }
   ],
   "source": [
    "l.remove('harsh')\n",
    "l.remove('harsha')\n",
    "l"
   ]
  },
  {
   "cell_type": "code",
   "execution_count": 40,
   "id": "ce5b3b5f-55c3-4f86-b14f-ac72b6b1319b",
   "metadata": {},
   "outputs": [
    {
     "data": {
      "text/plain": [
       "[3, 5.5, 233]"
      ]
     },
     "execution_count": 40,
     "metadata": {},
     "output_type": "execute_result"
    }
   ],
   "source": [
    "l.pop()\n",
    "l"
   ]
  },
  {
   "cell_type": "code",
   "execution_count": 42,
   "id": "710f31c6-f35a-4e31-ad22-88662dd8c48e",
   "metadata": {},
   "outputs": [
    {
     "data": {
      "text/plain": [
       "[3, 5.5, 233]"
      ]
     },
     "execution_count": 42,
     "metadata": {},
     "output_type": "execute_result"
    }
   ],
   "source": [
    "l.sort()\n",
    "l"
   ]
  },
  {
   "cell_type": "markdown",
   "id": "4b3fe472-2ece-420f-84cc-333445561793",
   "metadata": {},
   "source": [
    "### tuple ###"
   ]
  },
  {
   "cell_type": "markdown",
   "id": "c11479e4-9ea2-45fe-a2c6-dbc443d824b4",
   "metadata": {},
   "source": [
    "()\n",
    "immutable\n",
    "we cant modify the tuple \n"
   ]
  },
  {
   "cell_type": "code",
   "execution_count": 48,
   "id": "b366f6e5-144d-4e72-a024-e3bdefaaa0a6",
   "metadata": {},
   "outputs": [],
   "source": [
    "t=(2,1,45,23,67)"
   ]
  },
  {
   "cell_type": "code",
   "execution_count": 52,
   "id": "17a02734-20fa-48f9-b4b2-f021a9d7d6cd",
   "metadata": {},
   "outputs": [
    {
     "data": {
      "text/plain": [
       "2"
      ]
     },
     "execution_count": 52,
     "metadata": {},
     "output_type": "execute_result"
    }
   ],
   "source": [
    "t[0]\n"
   ]
  },
  {
   "cell_type": "code",
   "execution_count": 54,
   "id": "f8ea4f43-82d9-4820-a02c-542d76ba9c28",
   "metadata": {},
   "outputs": [
    {
     "data": {
      "text/plain": [
       "tuple"
      ]
     },
     "execution_count": 54,
     "metadata": {},
     "output_type": "execute_result"
    }
   ],
   "source": [
    "type(t)"
   ]
  },
  {
   "cell_type": "code",
   "execution_count": null,
   "id": "ed5bbcc9-fece-4cf2-afc3-aefcc457e5f3",
   "metadata": {},
   "outputs": [],
   "source": []
  }
 ],
 "metadata": {
  "kernelspec": {
   "display_name": "Python [conda env:base] *",
   "language": "python",
   "name": "conda-base-py"
  },
  "language_info": {
   "codemirror_mode": {
    "name": "ipython",
    "version": 3
   },
   "file_extension": ".py",
   "mimetype": "text/x-python",
   "name": "python",
   "nbconvert_exporter": "python",
   "pygments_lexer": "ipython3",
   "version": "3.12.7"
  }
 },
 "nbformat": 4,
 "nbformat_minor": 5
}
