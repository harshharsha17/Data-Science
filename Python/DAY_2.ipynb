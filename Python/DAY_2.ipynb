{
  "nbformat": 4,
  "nbformat_minor": 0,
  "metadata": {
    "colab": {
      "provenance": []
    },
    "kernelspec": {
      "name": "python3",
      "display_name": "Python 3"
    },
    "language_info": {
      "name": "python"
    }
  },
  "cells": [
    {
      "cell_type": "code",
      "execution_count": null,
      "metadata": {
        "colab": {
          "base_uri": "https://localhost:8080/"
        },
        "id": "3HIZLi57tquy",
        "outputId": "0f31abe0-67a2-4f55-d6e8-9b12a2f5c3cb"
      },
      "outputs": [
        {
          "output_type": "stream",
          "name": "stdout",
          "text": [
            "value of a is 10 and value of b is 23\n",
            "value of a is a and value of b is b\n",
            "value of a is 10 and vallue of b is 2\n",
            "value of a is 10 and value of b is 2\n"
          ]
        }
      ],
      "source": [
        "a=10\n",
        "b=2\n",
        "print(\"value of a is 10 and value of b is 23\")\n",
        "print(\"value of a is a and value of b is b\")\n",
        "print(\"value of a is\",a,\"and vallue of b is\",b)\n",
        "print(f\"value of a is {a} and value of b is {b}\")"
      ]
    },
    {
      "cell_type": "markdown",
      "source": [
        "## operators\n",
        "its a symbol used to perform the operaion between variables"
      ],
      "metadata": {
        "id": "zPtPmP9ywVjY"
      }
    },
    {
      "cell_type": "markdown",
      "source": [
        "### Arithmetic operators"
      ],
      "metadata": {
        "id": "Z6RHfXCCwolB"
      }
    },
    {
      "cell_type": "code",
      "source": [
        "print(\"Addition:\",a+b)\n",
        "print(\"Subtraction:\",a-b)\n",
        "print(\"Multipllication:\",a*b)\n",
        "print(\"Division:\",a/b)\n",
        "print(\"Floor Division:\",a//b)\n",
        "print(\"Remainder:\",a%b)\n",
        "print(\"Exponent:\",b**a)"
      ],
      "metadata": {
        "colab": {
          "base_uri": "https://localhost:8080/"
        },
        "id": "c_9jlVNWwRe7",
        "outputId": "86693698-7c41-4a6a-c7f6-35da7e7d1a1e"
      },
      "execution_count": null,
      "outputs": [
        {
          "output_type": "stream",
          "name": "stdout",
          "text": [
            "Addition: 12\n",
            "Subtraction: 8\n",
            "Multipllication: 20\n",
            "Division: 5.0\n",
            "Floor Division: 5\n",
            "Remainder: 0\n",
            "Exponent: 1024\n"
          ]
        }
      ]
    },
    {
      "cell_type": "markdown",
      "source": [
        "we have total 7 arithmetic operators"
      ],
      "metadata": {
        "id": "NA84aEMVy7XY"
      }
    },
    {
      "cell_type": "markdown",
      "source": [
        "### Relational/comparision operator\n",
        "\n",
        "resultant will be in boolean"
      ],
      "metadata": {
        "id": "wzKWXIKEzLwT"
      }
    },
    {
      "cell_type": "code",
      "source": [
        "a=1\n",
        "b=2"
      ],
      "metadata": {
        "id": "hRDV0mQHyeTY"
      },
      "execution_count": null,
      "outputs": []
    },
    {
      "cell_type": "code",
      "source": [
        "print(\"a is Equal to b: \",a==b)#false\n",
        "print(\"a is Not Equal to b: \",a!=b)#true\n",
        "print(\"a is Greater than b: \",a>b)#false"
      ],
      "metadata": {
        "colab": {
          "base_uri": "https://localhost:8080/"
        },
        "id": "JUcpC-zlyede",
        "outputId": "aa623b1c-226e-4866-e5c5-470019b2cff9"
      },
      "execution_count": null,
      "outputs": [
        {
          "output_type": "stream",
          "name": "stdout",
          "text": [
            "a is Equal to b:  False\n",
            "a is Not Equal to b:  True\n",
            "a is Greater than b:  False\n"
          ]
        }
      ]
    },
    {
      "cell_type": "code",
      "source": [
        "c=3\n",
        "d=3"
      ],
      "metadata": {
        "id": "3AOAA6Jryegg"
      },
      "execution_count": null,
      "outputs": []
    },
    {
      "cell_type": "code",
      "source": [
        "print(\"c is greater than d: \",c>d)#false\n",
        "print(\"c is less than d: \",c<d)#false\n",
        "print(\"c is greater than or equal to d: \",c>=d)#true\n",
        "print(\"c is less than or equal to d: \",c<=d)#true"
      ],
      "metadata": {
        "colab": {
          "base_uri": "https://localhost:8080/"
        },
        "id": "pqCn2_kuyejM",
        "outputId": "88137d81-3a12-4e71-f7b8-53741450f059"
      },
      "execution_count": null,
      "outputs": [
        {
          "output_type": "stream",
          "name": "stdout",
          "text": [
            "c is greater than d:  False\n",
            "c is less than d:  False\n",
            "c is greater than or equal to d:  True\n",
            "c is less than or equal to d:  True\n"
          ]
        }
      ]
    },
    {
      "cell_type": "markdown",
      "source": [
        "multiple comments"
      ],
      "metadata": {
        "id": "4r-ndoNI1HXX"
      }
    },
    {
      "cell_type": "code",
      "source": [
        "'''\n",
        "print(\"harsha\")\n",
        "'''\n",
        "print(\"harsha\")"
      ],
      "metadata": {
        "colab": {
          "base_uri": "https://localhost:8080/"
        },
        "id": "_50GeAOfyemj",
        "outputId": "c9905338-d2fe-453a-d5ef-4a5dd0d49369"
      },
      "execution_count": null,
      "outputs": [
        {
          "output_type": "stream",
          "name": "stdout",
          "text": [
            "harsha\n"
          ]
        }
      ]
    },
    {
      "cell_type": "markdown",
      "source": [
        "### Assignment operartor"
      ],
      "metadata": {
        "id": "RB27mh-t1KBH"
      }
    },
    {
      "cell_type": "code",
      "source": [
        "num1=20\n",
        "num2=30\n",
        "num1=num1+num2\n",
        "print(num1)\n",
        "print(num2)"
      ],
      "metadata": {
        "colab": {
          "base_uri": "https://localhost:8080/"
        },
        "id": "xyH22VWT0x1H",
        "outputId": "d84131d2-5edb-4bc2-c33b-7ca87730df3c"
      },
      "execution_count": null,
      "outputs": [
        {
          "output_type": "stream",
          "name": "stdout",
          "text": [
            "50\n",
            "30\n"
          ]
        }
      ]
    },
    {
      "cell_type": "markdown",
      "source": [
        "![image.png](data:image/png;base64,iVBORw0KGgoAAAANSUhEUgAAAhEAAACTCAYAAAAweUvoAAAAAXNSR0IArs4c6QAAAARnQU1BAACxjwv8YQUAAAAJcEhZcwAADsMAAA7DAcdvqGQAALH5SURBVHhe7J11fNxW1rAfacZjduKww4xNkzalLW2ZU263W2aGbbdbhpSZmdukTTHQNknDzMwMDjm245hpQDrfH1ea0chjx6V9d7/Vk5/i0YVzz72Ce3RRCxsifp0oEvvpQNAwEUCzwmhRn9hvN26/ROc2tlz7t5tEerllueO547j9bRLFdZLI36mrOx9O3DqQQO/63Jy45VKPXm4ShUmkuzsMjdCjIdluEoVzuzlJpJe7nBOFoZE6JErfHc/t31gaku3U2z534taBBHrX5+bELZd69HKTKEwi3d1haIQeDcl24w5nU1/ZJdIrkexEchPp5SZRmP+kcqmPRHq5yzBRGBqpQ2N0d/s3loZkO/W2z524dSCB3vW5OXHLpR693CQKk0h3dxgaoUdDst24w+2PRHq5y9kdRosYIj7LiJAGlLF97Yj1h1PYiTWUifpkOBX9NbjTSiSjPtmJ3JW8RD6JXBSJQyfGWZb1XTQn9clO5J5ItjuMk0QyGsJd1jb1yfg18t267y9eY8LYuGU7SSSjPtmJ3JW8eB93GDeJ5NRHfbrXF78+2YncE8l2h3GSSEZDuMvaJpGMxqTvJJHu9nki6tM9kXsi2e4wThLJaIh/Z7nsL15jwti4ZTtJJKM+2Ynclbx4H3cYN4nk1Ed9utcXvz7ZidwTyXaHcZJIRkO4y9omkYzGpO/Erfv+4tlhNMMQ0R1GhOkO2WiUgeFOWLNUEyT6W53vD/dlSCRdyXe61l9wtkt9l6Eublnu8/pxxqhPd1UajZPtLIvG4U7RfV4/dctdXbsYsWtqnyvqyv9tepOgBPdPXb0TxUx0v9QNxf+B7jhiuGMqyU5Xd1rx/Dbd3Skmlu2mbrnH7hfn/43R3a23CqGumVcuvwa3rF+nN44Y7ph1yzzReYz/bN3dacXz23R3p5hYthtnWur3f8v9UseIsI/47Dij1FUvkduvwR3ffREag1uG093GLphE4X4rbnnui/Bb03Lr7XT7rTKduHVLlN5vJZGs/0bd+QOuo5tEsmy3RH6NJVEZ/JllbruRwP3Xkkj3P4pEsv8ovfk/KJc/Sjb/Rt35A+5vN4lk2W6J/BrL/y9l/u/UXRNDhP2OifDw8PDw8PDwiEcTU5Td4DYxPDw8PDw8PDwawNEG4eHh4eHh4eHReDwjwsPDw8PDw+M34RkRHh4eHh4eHr+JP92IkOhgzf+uIZti/fvP0FvpIZgIJuZ/kGYeHh4eHv+76Gh/3qBKu+oDE0zD7d0I/u+qSWVCmAgGYIA0fgWNuArePvmNWVGlJ0AEjRAaOrq1UoP2G2V6eHh4eHj8EfypLRGaZaVo6KD7YdV6ShatBMNsZKX6J1k3jUasitoHwSBVs+chO/PcgRLyO+yGOFQJCJhhCAUpnTONzSNHwvbC2KRoDw8PDw+P/wPUFM9oXS0gApquKidnHS5inWtWxSWgWQFMA3SfI2x8XNmyhYVffcvSGfPQ2+Rw0+cfgF/7A20Eqya1dQfVchD9bX+2R6tka93C/SkgEAqza8p05n03nHUrVnPevffR/9KL48M407XdorIdv01Rejj1wqEnZj12nUCohp9eeoGyPfk0TUln28YdDL7ldrqcfpw7sIeHh4eHx78F35AhQ4bETk2oLmfnuHE0SQqwdPQodi9cRNv2HSEzg8jOXJZPm05O917g0wmt28iqhXNp07MzhVOnkJK3l5Xjp9CmeUuWf/s9aaKR3C6HdXPn0szn44gBg9iweTsHnTsYfA3U4fZnfH3+CTFBg+o1qwmuXoO/aB9zvv2OcHE5zTp2Bb/OntnzKd5dSNMOOWBWsW78z2QC/vJSipYsp2jZKoK7dxGoKGP26B/p3LUn6D5mjp/AeWedSkV+Aa279qB5/34QVVFDducye+RoOvUdALoGmkZk1RIqVq1G21PI3OHDyagOk9alC+gaxQvmUbBjJ007dgBNY8ukSUSqSknXI5QtXkHt+i2UrV1PRiTM7G+/p2OX7pCVRedePTn44ovodcrJtCzcydyZczjwzDN/ZTl5eHh4eHj8MdT97K2tZsqnH/Pl448htVUUrFvD8GdfAKC6cA+TR3yvuiOAvevWMm/sT6D5mDX8W8a8+z558+Yx4qGHKF6zll8++wJMoe+Zp9Dp2qupCvgw7BqvoWZ4DaiuoWjRckoXLaN80VLKFy5j75JVUFnjDm2hslKxbTMfDxnCL9/9QIuUVEa9+Q5bps0EYM3UmayZM18FNypY/MsP7Fm3AvYWMOzFl8hbtIhf3n+bycM+ZduCuSwcOw7SUjjrnjth0EHUiGA69Lfrbq2khA1TZ4ChRx3LVq7g4wcfZez3I2iZnszwN14lf+4iALbMm8uqaTOs2LB47AR2rl4NlRV8/syzrJ0wmZlfDWfGhx+ybf4CZn43CoDk1u2swgkRyEjD1J2tOQ0VqIeHh4eHxx+Py4jQVf+/+Dn1gr8x6NY7OfO2W9i7axeUVJCMkOn3RwcZpgNZPj9gEqoNcdrZ53L66aeRlJzECffeQ01FFVTVRpvrVTWnal/RTKv5vp7Kr7yc6T/9xNRRo5g2ajTTRo5mxthx1JZXuENanRMaoJGs66Q1bcqZjz1O71tv5rijj2TjkiUApOoaAV1TaRphmvg1UtBA10nPyuKIf95NViCF088+h5NPO4XigoJYEoaB2N03KknMgmJYtwlz8w6algdh7UZq1udCuIoUv07znHac/+TT9LnjHwwaNJDVc5UBk+LXSfP7o6IyND/puh98SST5kjjyrjvJyMxk4GGHMviccynauTuWLj7YVcCEKXM4/twLlBFhLTrq4eHh4eHx78RlRGggPkhvQdPuA5STESIlPRl0DS0SwR8xQFRlmhbRSA6rsRBmejLJ7TuQX1lDq65dQIMggOZ3JCOgRUAzES0ChNXMB7chIUB6GheefRbnn38u55x7Duecez4Xnnk2KVlN4sPaWCJqIwbNunSHrDTAQFL8iJW8rgXRiagTUyNgJqGLHzNkkp3TBtIy8Kc2hbbdKKkJ40tKtoQboAmamGiOfU5XzpvDd2+8xoTvfqA8r4CfP/mcL95+F3btoCZFJ7VnJ8hKBTHwB5JJs4wvQcO5YUnANPGLDoZBVpu2kJVJMMlHk249KKupRrOHmxgRKC3ny6deostfjqbDqSeAaVqtE16fhoeHh4fHvxeXEWENRhAdw7Cb7QURVdFrgqq0kpIACBXuQw8BaBiagREJAxqmYVoDG61Bh1YyTQOppJiAX0fHDxJJvPm4BlRVMfKnn/lp9I+MGT2aMT+OYuS4cdSWl7tDg8MMEQ1Mx3RM0zSjA0B1CeO3dEQ0pKIGHz50DSQSBtPAEMBQkyol+oXvg+RUAgjpfpV3gIFnncHF773J6ffcTrNuHRn89BPc/PqL0KU7VbUVhM2QFVJHB3RLL92EALZlEKZ6XxEBa2CqYRgQCavyMwwMBFO39CgvZfKQp+jfqx8n3HGbKifnFqweHh4eHh7/RuoaEbpGeaiasFgVoAgVNTUQMUjq1JnCwnxyf/iOvd9+x7CvhhFJ0gGNstoaaiRCpRmmPFQLQFUwpCq5bdsIjx7DpllzqM3dzubh31GwahlovsTLJgnQug3nP/E4Zz/9BGc9+xRnPTeE8x/9JyltW8aHtcKrqZg6NZEIFcGg5aFRHQlRG1bnbbp2ZuWsGTBnPotfeoeFC1YTFB+1BpQGg6ALJcFq0EyqIyGqaqsB2DdrBoVDh1K+PZft8+aw7qcxRMrKwe8DzU+VT2OjGYRkMP0ASdSGhdqQtTaGJpSFQ1SGVZmmtmrB4llTqJ42jWUvPM+SVSsJ6zqISWmwGjQoDwVBTGojJrW1EYiYTLrvIQqWraJXmxx2ffcDG0b9SKiw2GuE8PDw8PD4P8E1O0M1mZeXldL54P4kNckAw6A6GKLbQQdDi5b0apvDjKmziGh+Tr74QmiZTc6BvSkt3Eu3/gORtFT0rHRa9+xBVVU1XQ87lMKN65g8ejQ1pknzjh1Zsmk9vqbpdOx7oNW4rwyRKHbrvDWbVPmYVi+KWmjJjfIyMWpq0JPT6DBwAGASLikmvXUOOb170bR7J/y1QabPmkfvQw+nxxFHkdm5E+ktWlAhBl0GHEhZcQmdDz6IWgxSs5uR06MHS8b+yLKF82nTuSOVhsmKbTvodchhpGRlABAIpNC9T38y2rUDH2qERk0NeloTOhw4ABDClRU0adOWFr160KxDO7TaaubMnUuXAw5gwHHHEWjdgibtciirrqX7IYdSWV5Kh769CCUl4W+STfsO7dmwfCWZLVuxastmNufmsmnHTrodfDBp2VYXT6KC8fDw8PDw+JPQJNZmrzBVa4Tq1ohYYxrsrg3nmgYOIrXgT3HW+LG1I0RV7nUaPQAk6Bgz8TtqQLsxQ0zwWelEBLQw+Cz5pmmNxwjUE1kHMYgNQLC968lzIi8BQwMfEStP9nobjoKppyhUeYeVfhFDtXIQUV0p8dZUHewLWI+3h4eHh4fHn0JdI8I6s8ZOqmENGog9FNAktsgUquayRyCIVeVFZwsIlkESq+hwrFH1h2HZAbY5oGmgid3HoaHaBiwdXGlrgIgZHeioWWMWYifqpx3fzofT7BFE2Umahmk56nYki5hIQYsu0mUFFHWiytzSwxqHglX+hqYBPqUvgDVZVrPGVqjfHh4eHh4e/z7qNSLcNZKqjp1BVYC6Lg7sOlxVs3X9/2jicwL24pqWGm5vh4JRLHUdDg3m0Aoan7u4InQm4U7OVdZqfIhy0LCsIgBNs/xUKrE0BdDriPXw8PDw8Ph3UNeI8PDw8PDw8PBoBAl75z08PDw8PDw89sf/pBHhNb14ePw+vGfI438V8e7/OP40I+I/r5BFTacQM36YQ9Tb9k/k+X+Npdv/t9RT5tGn1Vq0rJ5g/738uzJkOtL6I16B1nic3yvmv4I/IpPO8v8z+Xek0Vjqu8/+6Hvx34wImqjVi+u+k+RPuNa/sYwcuv2G2L+KumMi5NeO0nNEEOs/LTYbQtufOGfqDQZMwK/S1YRQCCqq1EZZqcmQkaqmcohaIZOaCjW/JL0JpLmngtalTh7tvLgGdO4f64JHhbhtOxPMEFQGIS1LbaP+u6nv1kokW6KDPuN9nVfXkmffvFpsM7KGMaGyWk1ByUx3zGPR1c+aGqguV9clowmkxlYM/eNwloXzyjUqA1F+/TU3rJtIj01NdoVRQ5Kd1NXLfoSjs37iMCBSDTVBSG/qmC2l9ptRM65MNbU50a3nQs1ECqmN8AIZkOKP5vu3l9z/LWIdts52CdlHrKysB9s01SJ6+8ukAJoBhKyCTY5PyBHMvs6/ffi56+6z0rFdbZzSXTHiaMhv/4ja0sA0AT/o1j5BYoIZVPsppWRCwOeYopYoJfsauKnnDnMGjcu7PQjdSd2rHT1zB3ViGFBVqVYV9gcgIxN8mhUpYi2LkATEnov6SJCDONR2jxHrWiaBIxcNxxVVn4Uj0KTp/gL/btTQfjf2tavvGibCNsD2FLB3xWrMsFo6ulHYARsbQQRMk+pduyHS2C90jeLNmxjx8kt8ctc/mPr50NhcUw1WzpzJD888zbs33cTaydOUe2P1SUBc0TVYjrbFKFYhGkjpPoJ7iyFapZpQUczQZ56lcuee+Oi/i8Zd6NiqorYxUV8ctblazeLFTHzhVUJ7Ey9RHkMAnYVff8vkocMdblZZ6LBpwQJGvvAc79x6C6t+HueKr0ikSWOIjxPLn+kwmhpLQ6WSGLV1fe6USfz0+lsQNurEFeuhqlvmsVAxrdUS785vAvXLh7FjK58+MwTKS607ys6hlUtdZ9fEiYx/+z0i1eFofDcCViVnMP6dd1g3Yw5Yu9/Yj787D/vj14S1aWychsLZejr1duchdjcYsWtQU0swv9Atri7RxE0gglFUoFa5db3Q7XTUFbFd9oMjiK2rwhJeVkmtQ8dYXuJx5tnt7nb7NaiUDCgvoXqP2sTQBLVeUDjI6NdeI3fxMqtSjOW9bpoxzWMh6oaChpxVLmNSbBl2veFKux45YPlVVzF12FBGPfUknz/4CJSqDSGVlAiEq6nJ34Mp6ult6P5yU9dd3Tvhwj0YFZVRl/2jsWbqFN667RYmv/Yywd1/ZJ1RF919U4PVdG4be3X8EyFQVs7mDz9i5F13MfzpF/BVh+1lkvaDVXR2WolK14lYe2EUFjD68aeh2l7i2kmiotZo1qsHFzz9GH89YhDle1TBGgiYwoEnncSFTzxOpxYtMMqq3JHrIurLIc6GdpSX2mLL0mO/ebM9NCCJpcOGsXLkjxBbNQJqagnvySepRi0pHkWspn7TWmI76h5/Go99u+qxT08xY8rbMi3UN5jKgIYRWwAr7rPVjqOTWllJwZp1mLX2tamnO0aUHlpRCXpxmeXosw4BCdPj2CM4//ln6N2xI5V79jojR2VGi31/XVEu/+h1s/RATDR86Pjsb/T9lCNWPLVmh12aCbvL4rAD+PEXl1CwYTMYsbzYaPiiRzwqlJIi6Kagaxq6rse1sNqyfNXVGHn5EAwBSUBS9OtBhdGI5OVTtHkbmulS3nEe1c2IoBUUYlrXzO+4I+rFWfZx5e1wM133iMTHE+u+jL9uCbB0VveEfTieD9OM7vtrXzP1HKvVYuz7SZV9EjrgQz0fkUULGfvq6/vJrIVglUwmP7/2JnsWL3OHQBMTHQ0/euxlbOtcL7Hn09Y16g7sGP0ji4d/G/W3n1LdWQaOPDs3FcQVBxKUc4O6Yb0rUlk34mfmD/8eovL8EDGQPYVQrD4w7JxHiXtP6I60oxcysQKapaejQCSaR/taqnV2ojKs8rDzGy3HODlWWrZnRion3HwN5119BZHCIgjZ18EAUmH9Vr599hV0TT21zrYWn+t+c+pgJ+HUQcMPJDPimZeo3LAJGvOcWfQ77njuePxB/CUFDHv0CahNXGx/BK5lr5Xlg+5H1q5jw5SpBHN3QGU1ydnNEL99Edxo7Jo/l9UL53HW0X9l6eoNHHbuuZAS2+66fgRCtRQvWkxKcipaRpo7gAMBTPbOnErllGlsn7+IDL+frRs3UFpWTsuOHZQFHKwlf/oU8pavpHmTFlYzOaopV/dTvHgJe8ur6H3S8RioxZ80nw56hLXjJ5HdqSetD+zd8NXSNGrWbSCpMkjBvIVkpGdQtW4D5bvzSWubg6ZFIBRk1+TJFK5dR7PsFpCRZt2gLsEaoOkYeTvZN30iW8ZPoXZfOb5whLWrV5PTIhvdJ2yYOJWBhx9B3srFFG/ZStO27SHJZzWhmYQXLWDzrFk0lQB66xbqcibMgwZVFeyYP48mTbIhJVU1u+7exc6162nSvi1UVZK/YBl5i5ZTvXs3TVq1RktOAbOW8pVLSdY1zNxcNs2cTVZ6Jr6mTcEIsWPKBIL5+fQecDCZvXtBSlLUqIts2MK2WfMoWrWGTH8SvhbNAY3CubPJDCTTun0H1k2YSGZSCv7mzVVtrKtjw+QpJGe3psNhB6ssGAboEFm5gnVTp+GvqSW1fbvYg5Iw3wJ7CjB27kYPh9gwdjyptREC7XLUfR+spmTJQnYumEPVpo00ad1edXuV7CW4bTu+on1UbttCsi+J3FkLaJqTA0maWnV13WrWTZmCr6KW1Jx2rjdCAqoqyZ84jkB1kJ4DDiKjRw80n4oQ2paLr7QMCvPZOGkizZNToHkL96sO7DPdpHzdemorq0lp1jTmnr+Hsm2bSPFpbJoznwMO/yvbZkxHL9pLSsdO6JoONdVsGfcLGYbQY+BAMrp3s5pn7QQ0IstWsWbqTEry8mnRJgcCkDtxMl079SBgRNg8YzotmrdEy0hHHBrafwXV1VKzeRPlW3JJa9fWau6OULBgIX5dx5+VBWaE3ZMms3vpcpomBfC1aAYaVG/dTHFePhmtWoFmULJqNVITIsle7t2NplG6Zi3B8kpSmmdbbhEo2Enhxk2kt2kD+bvYNGMKBcuX46uoIq1tOzQNjLw8zJ270A2DFWN+IikYIq1tBwjVsHvsGHZPn0nhxs008wfYsno1WnIyGc2auTVQ6FC5dhUlU8azcdIM/CGDYEkZmzdspE379ugBP2g6FUsXsXHWbHzVIVU2zkvsvofs90dFBVsnTmb3urWUFRfTPCcHykvIH/8LO6fMoGxPAWlhgw1r1tIkuznJmRmqi3HjWtZOmkgwv4Csdh3Q/D6I1LBv6VLS0jMoXr2c3IULaZHdHC0jXT26pknx3HlsmTefLH8y/pbNVP1n6WaraL9upHgfReN+ZsukGdTsLSbVH2DDyjVkZWaQnJXOpl8m0bdPfyrz8yhYvoTsnHZoKQE0QqD5qFi+gvUzZ6PXBElv1w7QrZV47LvL8RyIQHk5lavXEWiazdZJEyjN3UG2nTc0KN7HxkmTKduWS3a7dpCUYq1OrMOWLWyaNp28devwiUZai5YQDpK/ZAnpGU3RUpOhvJQ9y1aR2SYH/KKSL9nHkmlzGXTmOZARgGA1G3/5mT3T5rFr1TpS/X62rV9PbdigRZtWUFVN/qKF7Jg3n5KtuTRv2x6S/aAFKVu6lBQ9QNnKFexYvITmrXMgLYWyRfMoHT+ejdNmkyw6NUVFbN+6lZZt26IH9tPdnpwMzTLpPHAAM4b9QMde/cjq0Mod6o9B4giLGOWy8asv5JPrrpdVn34oY+66XZ48+VSJ7C0REREzPoLCNEQiYRGJiMycKa8PvlikpMYdqh5MMdaskBv69pVx737o9ozHNETMkKz5+gtZ8a975aujjpNZQ56WEc8+IzNHj1balRfJ6Dtuk7H33ycLXn5JXjr/EtmzcIUtQERENr71jvx4/2MiIhKSsBgSERFDJFgso2+6XlYMG+1INAFWIcx87kX55rzLZeQlV8uIv10hE2+/R14552Ixt20TKd0jw++8RUbd/y+Z++Lz8s4lf5fyFavdksQUU6UtplRt3iCL3nhRvj/rLBnxtytl7utvy3cvvyoV27aI7N0h35x/nnx/1TUy/qF75MO/XyAjhzwhEqoVCZXLkteel6+vvlLWvv2GfHj+JbLos+/ruVgWVaXy7qUXy6JPh1kOERn3yP3yw+NPiIhI8ZpV8vVDT8qM59+Vb6+7Qz6+/g6R4lKRcJn8fNd1MuzyS+TrO2+XSQ8+IM+dd5FUbskVCVfKvKHvy4xH7pXHjzlOSjfmWrLDIqFqmfTqq/LLkKdk6sOPyfMnnyW7Zs4VEZG1r7wonw0+V0b+416Z9NBD8syZZ8nuJcusuEERqZRf7r1L5r71sXIyRUQM2TTsM3nvsktlyTtvy3uXXybzP/zU8k+UcVNEwlIxYbK8fvJgGX7bnTL1kUfkuRNPlfUTJouISHDbevn+oX/JtGefkHG33igfXXK5yK5ckXVL5JlTTpJx//ynfHbh+TL7rnvli/OvkanvfCIiIgVjR8rbF14gi157VYZfd4OMG/KUlWR9ehgiJXtl5Qdvy4w7bpfnTzpDpCIcDbH0nQ/kheNPl29vu12m3nu3vHP2eVK9cVucFIneOxERqZXZr78kwx8dojxChoiIrP3iUxl6580iW1fKZ6efLD/ccJtMf/QReffMU2XJx1ZZVpbJlLdelUl33yXPDT5XQqWVlnBTJGLIgudfl7fOulimPPOyDH1wiGxfvkZEQjLn3rvl679dJSP/dZ+MvPk6ef3ii0QKi0Sid3MM+3fJ1Mny1Akni5QUq+u6dY08fuIJUr5yhUhZoXxzx+3y/V3/kFlPPy0vn36WrPj+RxERmfXma/L5gw9aUoLy9T3/kLmfDo2T7WbqK6/Kd089p06CtSISks3ffiCf3X6jiIisGPGVfPvw3TLzqUflzdPPlLkffS4iIrvH/CivnHCifHXbHTLpsYfl6ZNPl83jp4rUVsmCN1+VOTfcKENPOl1mP/eijHr+edmyfLmIiJjOa23GFNu3YLaseP5p+fKEE2XSzXfJ7FfeklFvvidmaYlIsFwmv/iMfHjD9TL1xZfkjQv+Jj8//bxIbVjEMOvJnCFSXCAfX32tfHPHP2Xsay/LV2+8KpGaKonszZNFr78qEy76u3x99oUy87kX5fvnX5LCjZtERGTzd8Pkzb9fJFOeeUqGXnWVfHLTzSJFeSLVe+XzSy+SL669Tr667x758d675JXLrhTZUyxiiPzy8KPy5e23y9L335bXzr9QNv40ScS6RZwqRqy/4T17ZPmLL8q4s8+X0ef+Xea//oF8/8Kbkr9hs0ikRibcfLN8/ffrZMxDj8i311wpn91ys0hNqYhUy4JP35O3r7tJFrz3ibx44eUy/6uRItY9JWLVMXaqpqg6Yd06ef/ks+X7m++RsQ8/Iu//7e8y8vFnRUSkZvUKeeOqq2TKa2/IyPsfkPdvvk2kcK+ImFI4cay8MfhcmTjkafn20UdlzrffKbn7CuWF886TvcvXq/N1K+Xpcy8QqagRkZCIVImsXiIfn/93kbxyETMiUlMq8997S+bddJt8ftypMuPFV2XUS6/IkqkzRESkePU6+eKee2Xa08/It9fdKJ9ec71IdZGIlMjwqy+U9wafIz/ed698ddN18vb1N4gYpuyZPFGWPvyQDDvqOJlx130y95U35Jf3P5ZQaYXSq15METMsUl0ssn6FvHDWhZK/YrM70B8G8TdqSGTXOvngogulduU65bRumbx1zjkie0tFopfP8ZQ4zyPVYk6fIq8NvkikpNrh1xCmSGW5zP3yKynauMXtWRfDkrd5o3x9wd9EysodnrWya/jnMuKK66Iu29/7QL67/1FHGJGNb70bZ0REJCKmRERq98lPN10nyxtpRCx64UWZdddDIotWyfsnni6ydYd8d/2tIitXSt4XH8io62+IRsl99TUZdd/D9tMQRVUEpogRsR4SkVmPPyKzX38zPmDeNvnk9DNkzSdfqPNlc+WtCy4QqSwTWTlPPj3rDJGdhcpv/iJ5+9xL6zfkTBGRsOQN/0w+v+I6kbApsm+XvHPheVKxYpVDH6sO314kn591sZQuWCoiVTLrrhvlxzvvFgmHRSQs3z/1tGyaMcsKHBbZvUneu+ACqdq0w0owJBKpUq8CU/3JffoVGfegqmzXv/aSfHDeRSLF5SISlnlPPywjHn4kFlcqZPy9d8jctz5STqYhkrdNPrvwfJHcPOWWu0PeO/MckbxCEcNVyDZmWGTyFHnrhMFStUq9WJe/+pL89MiTyj8SVPrVmiKFhfLD3y6T3WNGiWxdKs+cdpLIhg0y+uZbJP/tT0RGzZZf/jVEpKRAPjnnDJH5ltFTmC+fX3ChhFdvcCTsxLSuc0idLl8sQy+6TKTcOheRzR98LO+ddYky2kRk8p13yPLPv4n6xzDVC8yolPwfhsp3d98pUlYkw/5xp8jGjbL+lVdlyUvPi2xdJe+edKIUjJ0oIiIVo4bJZ1ddbalgqBfz2kXywWVXiFlu3zOmyJy58saJZ4ts3uNMVCRUITP+cYeMvfchFS5YIO9edJYUL1xsx4xDnYdFqsvky0sukW1jxoqIyM6P3pbht90hIiJr3ntDvrd+i4iERoyR98++XCRoypp335SR9v1g1sjEB++XlUNVebjTstk14nv57p77RMoqZPhdt4tsXSu5H78tM156Lj5WxBQZNUaGXn69SESkdvw4eeuk06RmxRoREVnz2lvy0+MvRIMb48bKDzffFovfINbNLqaMuOE62TNOGavKq1ZqZ0yUt849XyS/WLmtWy+vnHS67F29MRYuAcbSufLa6WeIbLfufYm3V7e98bZMGfJMzEFCIjs2yGvnniNly1Ypp9K98unfzpcNP/4gYpTLyMsulhnPvKQ+BoPl8vm/7hdzzRaRybPko7POFwla9+fEX+TjS69Tj7ojTfuudj55a557XuY++ZLDRUQqS+SXG66XKY9aBl7BZnntgrOkdusakfyV8sZFZ4gU7FN+a7bIe+deLlISjN1DiYyI9RvknSNOlh0/qgpb1m2Q7x54TKSiXCb8625Z+vZ7yl1Exl13q6z78nsREVn47JMy8ebbRGodWocNkX175ONLL5XylVbFu3a5vHfpFSLlNZYO1SKrl8hHF1wisqdExAxF390ydap8eeV10VMRUc9oxHqfGiJStFe+PfdsKVoyQ0T2yXeXnyfTbYO3olBev+gCCa236sJwrQy/9DKpnrs0Jq+B+15hqI/p22+Sb66/TqZ/9qXt+qfgGhPhh527EBOSW+cop6CBz7HLlOo/c7aT231UJkgEMQ01/WX/HcMWGqRn8pfLLqV5j67777exuwJqaqk2DKQ2RA1hwqhttvM2b0Vqgqz7+EuWvfcBy1cup6AgfmCJhuZQT0es5jLQ0AVEc40vqIcwGu379oFIiOyunaFNK4JGGDQfxdt3Ey4rZ9n7n7D6jbdZv34T+fv2Rfu+baKjsfVYT1lNOEzQ2opdsMc76GiZ2XQ94hgVPjkVf1IAkgJU79qNUVXL+lE/ser9j1gydgz7ykuoLSmtZ3iIAAY5Rx9JVWkR5G6hduESApnZZPQ9AIwg7MhlymPP8OODTzD9+aepKNkXHXcRwkeHAwaCX3VXXfjAfXQ/6jB1Lc0I1AbRTCM2JkRU39+OL4Yy8s5/MfOBR5g9fToZyapJrjpk0P2gQZCdCZi0a9+RSKXahl1dF+ue0yx5GrBrB8HiElb9PJYl733KxhGjKdxXTFHRXqssE6BBSCK06t2DtD7dgQjJaakE7DLat5dpz77At/c9xJSnniU/P1/lQAyad+sI7dpQ6ffTekAfjHA5qZpAcRlSVc3y6VOZ//Y7rP9yOHn7SijYVxSfdhya9cwEIVhDRAxrFL9SxNQ0uh96CFjN9clp6Whh9z1pD37QQHSat2mLP1INKxezfeZUqucvJFRr0CKnA4hGoGUrWh0yCIjgS2+CpvlATDUmiCDUhEDUmAqFxs41a8jp3g26tSESqcGM1KruQl2oNCJ0PdS65hEhNTUTXVS5J370NUjNZMCRh7Jo3BiQWhYuWMJBx58IwPaNGzng0ENV0HCIpIEDCNfUQkmJ6l+2N6XRNHRTDSK1pCZ8Z7Ru3YZAqAZWLGfztGmElqwgWGmQ3boDoFEyeTrf3v4gkx8ewrjvf8A0TIiY1ERMWvfsRUqvXoCBLyWAL3o/CZXhELWGuhYRCVnTwm1fG/udaN27RhUh06QqYl9DpfvODZvp0qUXZGeruO3b0qxZNkW7813ybASIoPfrS79jDuOVu2/l2/vvo3zFqrge0lojQthQeokRBsNAdheAL5msHr0wADJTOKBfTwp37ALdT1jX6T5okNqwMCmZq558HK1vV8p37cAfDrHm86Gs+PADZk2dRWl5OZTXxrLpwAAilp5lRohKe4yDepBAM6kRk55/OVw5mkIgkEaynkTtpk1QWszy74az9O332fjzT5QU5hEsLbLekrERDjE00DUCLbNpf9AA5dStCxc9+QgEK9i3YxvF27aw6IOP2Pj+B+zcncfOnbsBOHTwYApDFXx05d+Y+fyLUFgCfnvWjRYbpKzrmNEHw3pP60JEM1SOrdkYEKQqXEGND8xQCBNTDY7WgJ25jHn8KUbc/yCznx5CWVmx9bz4iQRS6X7EX5R4wyQjJRXNvldqK6jWDSokos4tNZwlkBiNnQXFnH/z7fz16ssslzqX6w/B9bbVMMMmmiGQZI1nKKtEakKx1MWEslLMrVujFVR0HKo/Az0plVRTIDVVedoPf30IqpKpCak7sLGIEDIMtOQUUkkiiQAQQEw/mf4UenftRruOnfnLOedx6Z23xQ08TNF8JFu6q4kzphrc4w8QQCNZd7wOEjwoNqZoRES92EzNvrk1wEckImSnpXFgj26079aVIy68gIvu+Qck6Rh1RKp49iZgpik0tSpoDU1dJVMHLZmwaQ2yi0A4ZEBEAz1Aks9P725d6di5C72O/Su3Pv0MKc2b1RkTFUOHDh3o3rMzhWN+Yun0OfT/60nqWTAi/PLSC7Rtmsk5Tz3EcfffRZNmTYlYFzziSyIUsa+drnYc1X0gPjWdywcBIqT4LF21ACUTJjFrxGjOv/Mujn3iUY499kiqq9WIY59Ass/u4wtgVhn4M9Q262qAYwBNEwLOvvqkAJhCz3Y59OrSiZx+fbn1xRfIbNcuFsaBKgbB8AlVhmGNZ9LAkGiFNOfdt2BfEX976F+c+ND9dGzXETGtF4ZuAGEiPoFkwfRVohGMDgbs17EDB3XrRttefbjhySdofWA/R7qJUC8QdB9+zVSFYL+VNQhGZx0JhrhnOpmxsAB6AH+bHDLCIdbNmcOpZ57OyoVz2FNQQErbtoCfkPjUPYQfjGRMUwMtbA0YTAI9mSQTdF9sHJOZ6qO2Wo0+9/sD6P6A0lsTIrqPsGU0YCbhMwL4xJ5+GxvdGdNbhe134rGUbdsEE6dRUBWi9/F/BQz8uo/KfWpGEklJEKyk1g+kJSOGQbqdFn58teHY42wn4HxOTRN/i+b4K8vYMGsmZ5w9mPWLFlJSUEiTNs0hdwMjX3uTv/3tEk56+D7OuPgifEnJoOmI7iMUfUAFMZ1TbDWCRiRqHPu1QHQbX/uK2OFir3ldjTELC818yTE3zU9ScgpVpSXgt0JrBlWhICmZmVFJ8WhqIEIgnZMffIR/vvIcpw3sz3dPPkv10nXRUCEzQpJV32q+JNBT0JKTMWsrIRxUw3T1ZMpLKvCnpoNpEEEIWYVqajpGinoezSSTFHT6dehO25yu9DnmZK5/+FFIrdsnr0WreZX/oGkS8Fv3hG6FEIMIUGsP5Db8JIUDEPGTQoAMgQFdOtK5a3ta9u/Jrc8/SXKLLFXCoqvDmaBVzmFNCGNVtL4kVX+lJKEHfHRonk3vTh1p0qE95/zzHo686EIV7oCBXPbBe9xw/z9pEqzlu0eGQGUlmGE0wyDLb72/asNokYhlHetqqq4eUFOq7emroJ5VIqT4NPSUgDVUVuk75tU3yfYlccGj93H0Q/fSomVzlJ3gQ3QfEXtQcSSCZpr4A1a5+QTdDJMdsNLZT3UKqEorLYMzrrqGpE7dlJPl1ZjovxaXEWGgd+6KoWtsnTABli5mxNtvxi9LYJhMffE1Hr/qBgq3bLNuGQ1KSjFmzaVixUb81SHKps+lfOOOOinUQRPYvpEXLruYJaN+bFwuxYR2ORgSYfvE8RhbNpO3fiOIxgHHnUBebTWSEqDV4YeQ0aEdaa2aq6/T0mLYvRMpLcEsLYX8IqSqDB8mUrIXduyGkIG2rxJKgxCyX+TOtGM/I9aBphGxjIiIpkE4xIATjye3eB96RjpNjzmC1PatSWlpDfKq52Labq27dmHNwmWwYTMVq9dDYTHofiJoRKsTTcPEgOoq0g44AGnelD0VxTQZ0J+MTl1Iat4UMgLRwU/x2I97EicMHsyYET+xYetOBpxwvPLWdSqCYXz+JCjIY+sP37G7IN+y8XTCjt1KY59AJhgRyN8DBQVowSA1eXmY+9QI/ppgmIimqxKbPoXps2aSlKYG0YbNCEW7dkJ5BOYvYcKs2Rx+5qlKbFkxFOxBqxXMonLYV6lmGXTrRXa3LmwvLiDj4P5k9utFeqsWJDetZ7AdABqmpmNqmjUIXCOs6YSsLJSWV+LT/FBdya4R37Jh80Y0nx/ER8RUX/yCMhiDmk4NAh070LpvX9bt2knyoYeSNfBAAs2z8Tdt0oBNrEEwDHl7kPy9UFML23dDaZnSEQ0jet00dd2t9R2i8e0/mnUNsptSXRtmxvINHHLDjZSEqli7YS3ZOW3AMIjYYYGwCGER9UzU1sLunbCnAK26GnP7dthXAoTodPyxFBXmsfnTr2BXPqXLVlGVnw96MgYaRrTJQcfQdatVg9iIOzciaD17cdBBB/LJM8/R5aBBYA0EPeqkU1gwbRq1cxZC7lZGv/k6vf9yOGSm07xDB3ZsXg8bt7D7k49ZMG8+utWKFfdA2gjQqgWVVdUsXreBQTfeSHFlJYuWLqZdty5QU0V1uBaSk2DVSiaOHkXIVMZbBF3tmKupZySCFssXBtkd21KwezssXU7thk0U5e6ABOsxxNBBSyE7px2Lp0yFLXsoXrEWymvodNSRFBTuZPNX38CunSz95GP0pk3o3K+PW0gMzQf5BZQvXAwpTWhy0CCCYlBaXhoN0qxzOzasXg5rNlC0fB01u/dAzx60y2nF3A/eh9172DtyNKu35zPgr8dDdZAIPtf9KoBB00MPJpSWQnUkQsvDD6FFt06ktWkB6Xq84ea4HdUr30fXvn3ZsHoFbNpN2er1RArzIClARLPKGA106yu+NgIHDCCrY2f2lJfT7IhDyB7Ql+SclpCR0VABg6YT1oi9G7HuwZQMBhx1LGtyd5DZsyetjz6StJxWpLdqAZhUb1hDaP1W6NCNrv0OYE9JkRp8n9WUpORklk+fCqvXMfrNd6iqqVaZDYZhdz7k7iVQY2Lu2E24sMIqC42sDp0p3p1H8fQ5BDfnUrJtO6BTGQqh+XUoL2H799+Ru3uPMlzxEdF0YvOUNGt/ZovUJrTJbsWCMeNhZz75q1ZBqP5p2GDdI3vzWbN4MaW7VatLPU/kH0N874YpYoRk37Tp8sGNt8o3d90h+z59T4ZfdqlIoeqflVBQ1n/4mQy75W4p35UfjRleu0beOPdC+eysC+Wr8y6Tl878m4x6NdYXVT+GyO6t8v4tN8rKcRPcnokxDRExZOfPo+Sjq66Ut268QUZ9pgZaiWFKweif5MOrrpZPbrlZPrn3Xtk4d7aIiKyfMFa+vOl6+fGyK+Xry66VD2+7U5bPUIOEfvn4A/nsumvl20uvli+uuFU+fOBJKd5jjTFwYsY6pOZ89pmsGzFWjDUb5IennhUJGfLdkKeleMUqETMku0f8IJ9cc7V8cect8vG9/5DNS5eINKZvKn+PjH/8afn4qpvlw3sekfCuApHiUvnmgcelbPNOERExN26QL+97QKS4WMSsldDS+fLdP+6UT266WT654x6Z+b0a11FfWqYYagzDvgL5+tobZdrLb6ixEaYpIhExlyyQr6+9Qb6+7kZZ9crLMvbBR6Rw5SoRCcvkV1+WJd//7JBm9atXlMpXDz8oP9x8nXx9yd/kw2uulx9ef1MkXCtSvk/mPf20fH7ZlTL1/vtlwTPPy+wP1WC2ilnT5cub75Bh/7hfht99v2wZO96SG5K5P3wjn998o3x9+dXy9aU3ygd3PSBFGzepNNeulJH/ukc+vvEG+fj2O2T2l9/U6aeNx5DyefNk5LOviARVf/Xa77+XCfaA3vUr5ZvrrpWh110jC597QqYOeUpyp04TY+dG+fK5Z0SqquXHl1+WmlUrZN+smTLhzTdVf/OeXBl17z3yybXXyEe33iwjX39NxDCs3nA3yqV0wwb5/K5/yFfXXSdD/3aZfHrj7TLxM1UeG0f8JNPet+5nEZn91juy5ic1nkHEvgfta2UdwSr55bFH5cdXXxcRkbXDPpZ3b7hBpKRIJHeTfPXwYyL71KDJ0tlz5atHnhARQyo3rZUPb7lBvr36Gvn8osvk7etvlclfDbf6noNSM2OmfHndrfL+1TfLO7f9Q4o2bBQRUya/8qqsnWT1QVdXyvcPPy6l1jgTZ8ZjP9V9JWaFyISRMqR3L9k9b5EKFA6JmKbsHvmjfHztTfLFTTfLtFdeESmpVGNzSvfKzGeflk+uukKWvPqizHr5dVk8epyKa4/ucx5WymMffVTGPfeiiIhs/Pwzee+6G0TKy0VCNbL2w0/ki79dLSNvuUNWvvym/PjUyyIhkcK5C2TE0y9F+8nXfTdKpnxgjUMSU8SslbWffiTvXXqFvH3TbbJ8lnq3JL7WDtZvkhF3PiCfXXeHfPbY0yIV1SJiSGj+HPnhjrvk65tultGPPyLhbbkipohhmvGDNR1ULV8qH1x7nQy78VYZduOtsuLLb0SC1ngjMUQqimTKU0/JJ9fcKK/c9g/Zs94aY7Fpg4y59z755JrrZNjdd0vRgsXqMpeUyKhHH5cdc9WYFkPCEpGwiBEUkaBUTp8qw268RYbdfqd8eMddsnriVCXPlenYT2tgX3mpTHzhZXnnmtvknbvuk6ING0TMkIx9+hnZMkelJXv3ytf3Piq1G3NFzCqRFQvk23/cIe/edL28dfttMm/EqDrS7QsdddmxS4bd86DUFlh1lKoeRMJBkX35suzNN+T9G2+UD++6S756+nmp2qXG+Mz99AN5/9rr5Ktb7pRht98lhdaYHpGwlM+eJW9dcY18esttsvnzz+X7J54QqagQc/ceGfHgYzLquttl6CXXyofX3yk/vPWhendKRCRYKVu+GCafXHuzvH/HXbJ8ihoHU7l4gXxw9TXy6c03yPK3XpXxjz0qOxYtEhFDRg55XHLnLFRJl+2Vbx58SIzc3VZeQiKrVsnXN9wun9xwmwx//nkxK63Bzw2xa5u8fcONsnOuJVfEKrM6D8rvpu6KlYiyWyKGWhlx1XzeffIFbn1vKLRootrtDFEWmz193erzJhS0fqPsUZ8fAoH9mEF2Q6Btw9q/94epwkdqVHh/ChErpg/UimIRE5ID6qtCImCE1Rxyuylb1yCgqybJSASClkw0tYKg34fouvoocaokqCljRghIUWFtqzwcUc37mqma+MO1qislEADNj5hqilbi1QVd1IbUqmgaakqcYaimOkRdA01X0/F0ic1Iro2AP2k/q1raS7yoOepENHXdknyO1Q91CJsQDkNassqXzyqzcAR0H6bdXQFq3QERiIiKZ33Z4cOa5mnpU12tppTaY0P8PuUVMZXcFOf9ElHhggaqjVlTU1qTrXTtptJaS7ek6A2JaY2mwG4pw7plQiFLjl852Hr6retOWN3HgTSlk9i3ml/lPRKywtoCrfi6rloU/EmQlAwiajZewvEZoq6lEVHp2806SX41zqQ2pP6qdmd1v2rWrWk/Im4MUWXls55Lw1TPpM++L/2q3ARVrqao6WpmRLW4mUnqOdG12MIPqmBUl011LaQkq+sVMVTZJPlVeqYBwQj4ArH7zmp5txqt0c2weh4Is/6tN5m/cgNXv/m2ag0wNesZ1qwyj1jdVabVXSBghiFYC2kZKrxpv39c7wurVUDDegegqbI01bTgiKbh91n93rUmqt1fNSPjt8rHROVLQ93Pmqb6PW1EoLZGPdM+P2JNQKwXuxAMa9Xc5IC1Qqn1vjGs5ywlGcPR7qEaw533j/2Ssd7PYQN8Pgj4Y/dELLJqZfL7rLFLYqVlKPe0NJUvwxrIYFpl4QM1UkYt76yD6vM3DaV7UpJ6r9dHtP/XWs8Hn7qfk63n2pYTSMXUQQ+H1XOf5FfXX7Nu2GBY3QO684JGE7H+WZ0FIUPdD8nWu8TESt+hQ8RUaSfZU84tv1BEPTvJSaBrhDHQRcOHT/npPlUuYRPTL+haxErPp+Kboso4yXr/GqZ6R4fCSpekJAxErVBhGup+CviVbM165kMRVaY+UePRIoA/xXqOHbVaMNSolZTBqoPFes/47ZY1om9FondsA/dtI0lgRBBTQtMILp/F8w88wWPDvkdrmR1TTkMpoFnho4cd35pIrFmFnRC1FpwqZPW4ND5jKj27uhB80XstVrVZ4Uxl9Khn2S48Z7bt9Cw3K+92NhIbEYb9trHSt3oCbbFaTL9onsRe4ob9GhEqngA+TBF0zTa2fOrG0KwbIyrHzp99ZusZkxlD6UU0XCz/gmXg1GmSFseLwX4MVWmq8ravv6P2QL237OKME0Vd3ewc6oAWfRmhrp99m+oaoquS0W3hWMlGT+KzHveCF/vetK6RZge0a2dnPnTQNATTyo4ah6xe65a2IogIYhmGdn+wUsV+PhIR09V57aLXLYozJ9bP+KjxRJ9NsJZSwxQNzfA5xu4KYKjuMAHN9KGJegGLpsolOiff6vMXJLogmaapsSRoltGBY5CnLd6SZauqA0WLFjB/xCi2bdvB5Q88QPZB/dW9LNaTr6lhNXYVoUvsaTU1EzFNfJq1LoddLFK3fOwhDYKBDy22cJijNKMxhOi4FrHyo4ldEVnEXkwWsQvQoPlgB7PvXTthUXlVpSnRxZ7sitFp/tZdDdAWarvbz4YlXGXcGmNjXZtoPOf1cfy2xURFxO5tndg9oFADDtU7wpLpVFHs/+yn2RJqvU9B7V+EnoQB6GK95wREV92FtlGmEXufWkUWTUQ961Y52cnpViDTSsd6viW6VBjoprXnhW6/Ox3vFk39Z9hPuiPRqFjC6Oi2WWDhLETVKSSadd+JjmGJUXWVpUc0h47rgrW9geZXB8QWo7IqoQbvtzhElZO9OJsVSZ2pk8ZK2h+amM4l4CzsMtGAfflsWLycXseeoAbTOPMchx3J+h19UVvWYULsRWXtgrUqhkajbiWVskok+o60nARRN5mjz0w9mPUp5cx83dMYsYfEfvDj01Y/BLtCJCpE2L8RYVrGR+wFKPaTYqVhvcStvDllE0s+gd5Ey01VFMQZEXEWky3DeWJ5xXJva+hI0BnPcSpYjSYJdVL+4r6Gtk/0Qdcsda1HoJ58JnR2OgrKULOuQ8KH09LVNk6i1zguAMo4tCI3XO6JsfOt1RffWRaW7nHEhXV4Ru9BtQ+Jhj0uzfGys2pITRyvNLfujmsYLXO7bJwvd7eeDicN2DVvIXs3buOg006F1k2tZ9NRe2miGhmsV50yIhT2i1ipb7nanq4yU/emUlJJdmYodqYMo9j7Qb34Lflx5ZjIGLSv2H5o4FrFJIiltX1mB0pwTzqzK9aZRp0CF8spJt/h6PgTJc4OjCltl02cfDtufUUQfVZdxiWaZUSIaslUga3VUzWw3kjR/NUjPj5EAjXE/i/2PrNtQnX/WDHsvDqutWjOj7GoKY0WTdWwqn93PWUbNiqUAJooU8FECXD6+iCBEWE/l5r6WNRwWLO/xoBQRJ8Bx0MaK7lfI6lhlBFBfD4S/nbRgNevxn5J/5EZS4xdef7Z6fxZxG4BjwTYxUMji6iR9/p/BLZ+ifR0u7nPG8OffWu5dGoouYb8Go+4bog/jvjbTPvdmir+mFw7+S23gUdd/qhytK+wLe+PkPmfgGZGVEtE3NfH/y+58/jf4o9/D++f+Brl34P7reY+/w/l33t5nK/sX4ut4f7i2uH+PTny+O/nz39d/HufMhplRPyXvKA8PP4wfus9/1vj/V7+r9L9j2d/RsAfgVfwHr+e/58e2ZgR4ex6//8ldx4ev4V/vzH/+/CeWQ8Pj/8jdM3VCuEcUa0cnCcxBKIDN2IDSuzD+asx/LrQzrQaF6s++ba7GRsqaAdLFNzjfwLBq5Q9PDw8GkPcQHixpgxrGBCqgYJCNV8X4kcrO6pwNbfCnu5oj9lXNO49bBshdvz9YYcz40bD2j+VNKeudthYvPjDXndSlMZlFbF14U3LqPAMiv8p6sxO+E/nv01fDw+P/29w7BLhrCsNqieN5aVTTmHViBHKyZ6MaxoganMltYa8XcvasdUbrfHvNVEbdkXnOjdUY1t+1lxfDdDsit5SRYtb696eviNoYoCE1UI2oNxNW28N9uSz9v33eO2ii5kx/FvLvHJN9fLw8PDw8PCI4liR36psMSBcy8rp0zh+4IFsXjDPqrt1qCgntHkjVJRTvHAelVs2O+a6ClTXUL10JQXTF7Bv5UYIN6ICNgVCYarXboDyyv2bH2LCvmKMLblQUUPpvIWwfotlRAiybx/Fm7ZYgTVCO/Oo2r4bDJPQ5m2wO5+atWuguoa9S1ZAaRWQxPdDh1FbVkLv9jno1bV2dJeB5OHh4eHh4WHjG/L4kCFY4yIEwWdGYPdupoz6iTPuupW5Eydy0IDD0Vo0xVy/li8fe5KiVWvZunoFE77+ljYt29Csaw+orWLmy68xZ9wkCotKmLtoMX0HDiSQqTZZapANG3nsyusIJKfR6ZCD3L4ONNAMZMUSfnjhdXYtX83u1UuZ8s03tGnfgayundg5dTKTvh/FgFNPAWDeZ1+xceUqehw8iO/ufZTSFWtZMHYswQ0bmPXjOPYVldL1iMPoPaAv7Y47il1zFuHPbEnHvxwMmqjFdJwLMHl4eHh4eHiAPSYidiKgmRQsXkxa6xwYdBBNmzVl5bz5yl/3UVpYRL9jjmPwK69x4cmnqd3FAPJ2snjGDK56cgjnPfMwt7/yDBmtmzvFJ0Z0aNOOky++hF4DB7p9E6ChaWH27MrliFNO4tTXXua4E45m1i/jAEgyw6RFrC4LwG8Y6BETTNiXt5djjjmB/j37UZxXyLU330Lexs0QCuPLzFAtGeiIFr+Qs9cO4eHh4eHhURfV8y/EvrQjQVbOmsnhfftD0OCEQw9j2fRpanhBKEyzLl3JOe10QKdN2/aYwZCK1749A446kvfuu48pr75Jycq1Svr+amANaJbNCfffTevDD2rEGARBIkHa9e9Fk5P+Cuikt25NpLoK7OGWjkYDzTTRTQM0g9Q2LeGQQykLm/QbdBg0zUYzlYGhdtxQy5Taoyo0DDQxXIuxenh4eHh4eGA3PogIYm2uw+58tq/YwLQffubLS69hwohR7Nu8CbbswTQ1TN3aCQ4ImSamvaNbIJUTH3qYy++4hSZVZXz+4L/YO2/R/sdK2p7VQevn/roNBMMnVGrWLnbomBEhyZrZoToeYg0sqTVBUkRAq6XGFwTCmLpGrQaYhrVtlw6mDqaGTxN0zdr0REJohKzZGx4eHh4eHh5OontY21uNFC5fRUrLtlw15Akuv+8+LhnyKO07t2PLksX4dJ+1dbGq+KMb1gBUVkNhIZmDBnDInbfQLCuTrZs2KT9xrL/gwJICu7cz9J5/sHHilAZtCFuEoetErFkXAKLZ23hBRkYmBVu2wJ4imDuLmWPHkZqUZBkCIbXBiSaYuqampmrWVM/CAsjdQUpVNSklpbCvDGqqVRixZ6F4eHh4eHh42Li2IhPmrlpN25NOgL8cDH85Ag47gh6nn8zi1cuoBKrTU6O7A1amplKblgJApDCftx9/lC/+dR8f3nM/6QcM4PBzz4kX7yJqLwRD7MrdTvG+ffEBEuKjMpBJMC0zKqAyJYVgejoAWYceRtf+vXn/zlv5ZewYupxwLMUpyeBLJZieBQE/VWmpVKYmQ3IS1ekpkJrEhK++4J1b72D5mnXMnzmNV266hV1rNoKWbBVTA9aNh4eHh4fH/yCaREwRxFr2OgJVNZCWiehqFQifGGAI1AQhEIBIBFIsQyIUAsNUW4QTgapqqKmFpABkq0GVptVNote3go9YW9kGQxBIbkRdbUAkpLoyUtJUC0EwpFpHUtOs+CbsK1I66D6oDYJfs9JIgVBETW7VNYiEISUAtTVQG1EGg+YDP5DqhyRfdLxEI5Tz8PDw8PD4nyFqRKBriFZ3CKFuN1fU15ofHQgp0RYKNMMxQsEPf+CGufHY2mpqvW4bTTATpCmuXc8dPjE5YC1ZKNYKVjhLwcPDw8PDw8NCE8NUdauuqbrYYS/YlbBGA0ZE1CPemFBLT9uVr6qc61bevxenUpbyjjy4jYj6ccmJurlLwsPDw8PDw8NGE8P6PLc+tN22wq+rOt0GBf9nX/C2EfH7cBoRHh4eHh4eHk40MVRDRHQrcA8PDw8PDw+PRuCZDh4eHh4eHh6/if9KI8IereDuenGyP/9/N/9JuvxZ/Lfn8b9d/9/K/2q+PTw8fj9qK/C4Lv/GVNF1+XWhnYhjFoSbxHrEDfish/35J6ZuWk4a9m2YqC7iyGvcIlbOcv89Kf1RmPG6xpFIT+cW7P8N1M3Df6r+jb8b7Pz8isXRxPyPzbeHh8d/PpppiGDt4gnqpaKmamrxoy0beNMk9Jb4WZckCgNA2PLxx6aLatTzErRMg2CI/MUL0Ksq0LJb0fLAgZjJfrWGd3Ut2xctJMmIkNq8Fdn9+zeyvcVKT9QsFeUS20UD69UcN901cYaseHYg14hVzSCYu5WQIWR262Z5WfkCRzxbeD2JNAZnEdoXKSpOedrOscms1uqimqlW9yythLQmkGwtb47lroGgo6HWE9ExoaKcvVt20rJffzWz10bUWh57Fi1Eqw2R1KwlzQ/sDwFrwVTX9Y6VQN28x2fJWXLE/bIWcUezwsV8lUvM1U7Hnt3jdHcUUAJdEmNFcCqqxfSxTi3saxCfU3dJ2PedW4Ooam5XMaCygoJN22ndqx+kB9yB4qjevoXyHbtpc8AAyG6i1lzR7TVsPTw8POpHF9f7DkwIBykaP5GpTzzNqs+HQXlFXAg3GgKmQdH8RUx84WVmvfUOsjMfzXoB2t9F8elYSIS9SxeQt2yptR+5HcNUC0thuKQAhknelo2smTKO94cMIVxaaQkzIRyiYOtGFv44kqHPPR+rHetFHGk5NRQEE3EIqGOLJMiQyqcoeUWFbJg8WXloWHnzsfinUcweNdJaxErJV1q4Bf4Br3BbpKOeVE62h3LR1P6l6lxD6VVRwhM33cjE4V/HwopVVmKgqe3OLL1N2JPLl6++ohYmi9bAVjrhMIVbtrB6/AQ+e/JpqKq1ZDrDqanBSmZMQzcqK7ah1lDIWF6jpoFjXRPlFjMaLOeofBU28ZLtUdyR6zpGieXS4eDUwErKzlF8Pp2HKvfoubgOIpC/nU+feprqgv2vAluYl8ekr7/m/dtuIXfCZDXdO3EWPDw8POKIrxfFhFANi15/kxEffEo6Bmsm/MgPDz0IFeEGXiwatbm5jP76K3JaNMWXt5OP7rwbCipQm2onwLCEaals/GYMlQvXqHPdp1oDontjJFkLVvmVugKkpXDwlddx/DWX0zQ1maTollsCTTI57JobGHzeeaTia0BnCzGs1hBLfrTe1tDxYYqqMONooG7XELVrKEmwfgNzP/k05qnrgEmmBtnW/iNY2qt+JbGMmUTfnfVQx0iyKxLUF6XVamCLc/wENKvkVIuCSte+Yj7Iasrl55zDoIEHWW5W9aalqMPS3Y/KF6ZBM00Hf0ClounqEA0yMxhwzTWcdMWlpLkrKbHzrPTQ0fHFtebEiOoeMdHQ0dyriYoJhhF1UYeSiWFaTW4a4EPHh4ZPtQOI3cJi+9u6N+JSRK9BLEVV9rZBZudOHbFcKeG64+IIEs2RrYeOjiai9LeukYplSTQMME11aD61VLsviWYCgbpFGIeI0PmIY7ji7Te47uq/8eMbrxPZUrD/PHt4eHgAvscfHzIE+z2pabB0MSO+GM6tL7xE+wvP54AjDmDa0OG0bN6R7F5dEr9cRPBnZnLwCcfT+rDD6fCXw1k76icymzUnu093iDY7OyLrGoWLVzP/ldfIW76agl172blqPYunzaBD986kNM2AynJWfvoFC7/9gd1LltGlXz9IS8Gwv5r35LJw+jwOP/0cyEyJ9eFrOjUbNrBq+WoGnXderF5MhCYEN6xl25Sp7J6zkNK169H3FDDusy/o27cvemYm1Naw6MOPWDhyBFvnL6Rn7wMhIyVxWQDU1DL1+RdYPWEihTt2ULlpC0umTqUmEqFt9x7sXTAbrayW8M48JnzxOXpVDS179kQnBJrOlp9+ZtqnX5E7Yw4dmrfG36aFO4UYGmwYPYbty1bQtn8/9RVauo8xb7xL23btCTRJZ/HnX7Do2x9YM3YSelk1Lfr0Al2jbPkStk6YSFphMVM+eo8tc2fTfcBASEkjb/Eipr7zHuV79pKe05Hsrp0sA0Jj7/yFzHn/M9aMGUfh0hV06tIDsrKgcDfbZi2ka5PmjP38UzZOn0WvXn2gSYZ9g8Hu7cyfOZfDzzkPUpPUNdNNqhfN5+f3P2DjlMk01yC9czcV3lXGpn2vVlWx9NNPaVpdwy8ffMT66TPo1b0HWtMmoOvsmDiNKR99wbpx4ylas4ZOPXtDagq5I38kuG4TM7/6mh6ZmUwfNpzinXnk9O8Hmkn1zHlM++wrNk2bQav0DJLbt3UYAwkuuKaWbF/+xdfM//ZHFo0djy9s0qq3uu/ZW8Sij75g8agfKd+6jXYHDEDz68pYDAXZ+M33zP7qe1bPnkuT5tk0ad0SpJZdU6Yx6eOhbJg4iWaRMBk9eoKus2nYMJL3FLL8pzHM/fY7WqSnk9GlC0gIzDA7vhnBvM8+p2DaFHYVlHDI4HPwNct0aw22MaNZz6Wu4+vSgXUjfyGjfTda9OqUKLceHh4ecagPHgebl6yga4/eaH26gwShfRcGHnIoa5csVy/MRF82moaRpGOmJquveiOCEfCRlp2lvN2D7iwZLTq05cTzz6Z1h3Z0OqAPJ54/mOPPOpWmTTMBg3EvPMfu3O0Mvupy0oPVfPX44xAx0OwuDlPQ7S8+7Be99TuhoonQ0MvK+fq1N2keCjL7229ZPX4cWWXFzPlhBKAz5aVXKNqVx3mX/51WAT8fPvZ4ghYAB0lJHH3GaQw66kiatGzJcWcN5vizBtO7Xz8AArqPqRMmsXffPi48/VR++egTCucsAD2ZjV9/wdRRozj34gsY0LOrSmtXw03SHZtlMWHo50hhIeCjbOFsls+YQUaLVhDRSM9sxklnnM0FZ5/JlC+/ZMOoCQBIUSEj33ib+dNncMrpJ1O8ewcj3ngDgDYdO3LOJX+nau8+Ni5ZaqWkTEFT99Fr0ADOvuR8/BXFvP/IEIiY4PORv2Urv4z6kZNPPokMCTPsuWetS2FfE8O6MtYdoZmUT5vEJy+/xEmnncqpJxzNN6+/yu4ZcxLW2VEiYWZ//z3DP/iEo48+mjZpKXz63AvR6yI+nUOPPpLzLxhM4ZrljHjtVdB11k+dzJKxY+gUSOHlO++hR3Iq8374AYqKKJ0+nS9ee4MjjzqGYw47jM+ff4l9i5bvdxGVZR+9x+oZ0zn73LM58YzTadm+nfIo3stXDz6I5tM557K/sWPJIr576llVVjVVjHniCRbNnMmRJx3PoCMPx5AwoLPtp5F89c5bHH7MMZx24vGM+eADNo74EYCts2fy0XPP07pNG449ZBBDn38ZdheAZjL1xedYvGg+p1xwNv0PHwR+zd1ZEyXO1Qghy5dT+MV3lNdG6HVAH6evh4eHR73UeTtWlVUQSFU7YqodLFPR/JnUVlt92HVe7AKYaBjohIEI6776GqNpM9ocfWS0FcKJaQ0001s3g6MOQWudjd6tHYGD+9L68EGQlQG5uRSs2szpdz4AvQ/g8DtuoXTXDqo2bop2XqivKBu7UrL+aHXTTYwgYtCuR1faXX4J/iZZHHvxBRx0xAC02mLYtZlNi5Zy+q33QN+BHHrzLQTK9lK63trmPAGS5Ccw6GBa9etDOLMpviOPoMWRR5DRvj1YPTndjvoLg+6+A/3kU+jdvTsl23eDGWbJqMnccPF1+AYNpN0Vl5HTNItl06e7k3AQIfWQvrRrmsbmSdMAnQVTZnDoiSdDk1RISaLPueeS1jQbmqTRr1NrCrYq3ZNEaNe5Myc++ji+v57MOf98gC4HDQIEvVUz6D+Qlp3akux3jJKUIK0PO4ROA/tCis7Afl0w9hWqAZgmJGU35dwHHiDtr8dwwnVXUrpzOxTaRpAy9GL9+YARZtlPv3DykSeQddSxpJx4KscfdQSrZs2Kpekgek01IS2rCZf+4x6anXkah589mEBlNVTWgkTodOLRdOjdAdJMDunXiaq8XAhXg25w3ODT6HXowbTv1ZN2V1xCRsAHZWUsGfcLZ54xmIyTjyb99FM4tGdfVkyx9aj/bjKMEIYviN4sQNtTjqX1Qf3ADGKsWIavppZDrr8B+vXjwttvJ2/FaqiohfVbWL1oNZc99hQtTz6eLqeeRMcBA4EaFk2YwQVX3Ej7008i9ZSTOf9vf2fumIkA1GrC8VdcTqdL/0br88+lfXZzjLy9kFfAmkUrOeP2u9GP/itZJx6JkZ5cZ3CzE1EmIRhVDH3xJZYsW8/fH3kYurRwGH4eHh4e9aO73zEpKQHCwaA6sd4hoWCY1CYZlptrfIA1+FC3+vI3ffMtv0yZxTX/ejh+hL4DZXZAGFFfQWaEUDAMQBhTjSfYV0a4pJxpL73B6AceY8wLL1MdCFBlhC21VH9w/GvObvPQQHwIaoxDw0PvIGwYpGZnQyAFPSkZsrIojYQx/DqUFxOpqWTSG28y6sHHmDDkKUpD1Ria0rcumtVtYxCpDSJhgQiqv9oaqxACmlkGBYApmhoLUh0mEPIx6euRjLn/cX558BG2lpRgpiVZIRPlQoPUVI494Xg2TZ8BO3awNTePo885R4XfsZmht1zLT998xvIJY9m7O5+UpFQAIqZAWhr4lFGW3rMXB589GAwNTNXkHjYjoFsXUgSCNSx44yU+euoFpo+dxIpFSwjomopjaASym0JWptrtNTWVgC+ABGNjHhBrrIF944XDhEorWDNvET8//BQ/P/wIs5etIJxaz83jJD2F1FZqt1jCYZLsjdNqKxn32IN88cYbzJ80ma1rV5HsU60ekSQ/ac2yqaqupmnrVqBD2KdBOERFSTFzZ05n1ENP8uP9D7Nq4wYCKcnuVF1EOOS6q+hx2ADefe4J3rvyWrZOmgq6n5LCPZQVFvLjY8/w44NDGPPR5yQ1yYKAj5qiIjLSMqFVS8KmdYugQ1UN1eXV5LSxWjOA7DbtiAQNCJuE/X4y2rRWHqEgpmYiOlBeS5IvE39yttqZ1tDRRFcyE6CeEvt+ErRWzTjhxmtpdeTBSDgcNTE8PDw8GkLXomO/1AulVe9ubF67BopqlEd5CStXLaXbYQOsKDWwaDYbhg2HiiqrFSIE+KgY+Q0bp83hnrc/QO/eRgU3Q9bAxdjsB6uaV+nqQiRcTbapjJMAPuWTlYWZrHP8dX/n3Ifv46xHH+Nfn3xMq17drYFoOqQ2IVXTIc1qORGsgXaQlpRGGn5IUtWXvcFoInRNRzd0iECSaYCuUaslUaOlQWZzdH+Ak6+8kvMefphTHxvCPz4bRvOunUEiblFxiK6hB4NqbKiuR+fRCjqRUMwY84mupslkBKhIquavg//KWU8/wemPPs79333DoHNOQ4hgYiSYt6CDJNHlpJORfYXkD/+BrJbtSO/RGdBYP2o02WkZnPPscwx88DE6dOpFOKja/E3RlMHmrK9t8XoS4CNT99EkyapINR/k7mLR+Enc8ODDHPfgQxxx3vmYosZKoKG2fE9PAb8f8vcSIoDW1KroAVLSSNF8kJ6mzpOSkLQABw7sy+CnH2XwAw9z8ydfMvi22xwzKWJEqzVNVMeIdd+gmcoA1SG8dDE7lq/iqpff5Ij7nuDYE08kYkZUHF0DUyPZMNGIQJKPkC8ZkjNISs1k0MGDOO/hhzjn0ce5cdgXHH3DVVYabl2sOSRiQmYLjrzlXm797H2uPuskxnzwAQQrSWrRBH9KMufcfifnPPwYZz3zLLe99zqk+/G3SKd0Xx7s3UeSHh3WC+mppGQlkbdxVTSlXevWoqUFIElHNzUkbN13mhDRDAxNIDmVcHUN/lBQDWxdvo5gcSWaJDYiiCtLP+ddchnJrZVxIj4tblaSh4eHR334hjw+ZAgaaJoGYpDauiV5K9ew+qextKupZsJnX9CkUxeOvvZKqyYOM+7ZFxj+/uccdNqpZLbJAXxUz5jAM7fcRa8ufSjanMvyXyZSWVpITr/ejrUg9LjvH9DQNSEtWM2kEaNJKatl7fwFtGzTmkDXrpTv2sHM0aNIDdayfslytmzJpcuAAVBRRu6kSRTMnsu6xctJjkBpMEiLzu1h9072jp/Aljnz2LRuA6m+DKpDQZq2s4yaBFTv3MGKpSs5+LTTmfvjaAb99Wi279pOUVWQPqefibZ3H5O+HE5abQ07V64id/Nm2h94APh89fSXq5kKSZkZLJ04iZI168nbupWC0jLadenMlrlzqAiZ9DzmKACWjhlHVrv2tBl4IC0ydYYNHYq/pILiTbnMnTmDjr27EUhLj34dxm9ybi3ykZ1N6fIlfPnN91xy37/I6NIJAL24iCk/TyA7YrJ61EgWz11C2z4H0PGogyjdtJFlS1dy+IXnxcSJukxlSxZSNnsGy2bMZl9hCUYtZGdn4s/OYvmUSZTk7aR0zXJm/fAdpeLniLPPgkglk0eOoGkogrFrF19+PJRT/34FzQZ0g8K9FEycyM4581m7fBXJkkTECNOkQ0c6t2rG9999S2TXdmr3FLB0xhxSspuT1bqlpZQD+wM5WMP00T9x2Mmnomc3hYJ8Zs2czWGDB+PTTOaNn4AU7CVvzjTG//QjtekZHHLuOSweN4HePfpSUVnFxp3b6Xvi8UwZPZajTzuT9u3a8sOXwzH37qV86zYWz5lD05bZpLdqZSXu/jIXNM3Him+GsXnKeIK525m/eAXJbdpywCmnktKqBYVrN7Fu1mykspRNSxeTl7+T9r0642vTgqrt25n+7fekVoRYO2ceNTUVtOzcjTZZqQz78EMCxaUULlrAjLnzufL+e/G3bM6in36kZbcetO7TG0I1zPrxZw446hiS+3SldN1KVk0ZB7mbWTFvLvtCwsGnnUFSPQMrFToU7Ob5+x+iabPmtOnTGxETTdPVO8HDw8OjARxGBOq/5GT6HHE46SXFfPXWO5x5yaUMuuNW8NsDEISOLdvQ+cCBdDvmKEhSE9LC+4pp1qI1Kc1aEtF1In5Ia9OCnD69YzWTZUQo1F8dIbNHDzo3ySY3dycZLVrR+aCBkBygy2GH0Dwlmd27dhM0dfocciiZ7XMwy8tYNW8emELv/gMorq4mmBKgY99eRPbms27hIvypaXQ+oB879xWT3Kwprbt1rqeBVkgCkptm06pnD5KT/LTq0wtfejqZOTm06NCRtocdQvv0NHZs30EYje4HDSS9YwfHdMA6IpVfRiYH9z+AHdu3Ux026DnwYDJbNCMZjewOncnupLo0kjWN1j27kdYmm6wePenTqRM7t+6korqajn160a53d/CrqYiJFmBSOmi0a9eaQJs29D39DAj4lVHYozedm7Vmw6at9Bk0iOPOPY9A21ZkdcohAKQ3b0GbPr0dl0UAg6L169mydgM5HTuR3bYdeSX7aNWzG2lt2zOwf2/ydu9CS07m1MuvJLNTV1r17AnZmXRr355du3aze18pR599Lp1POUZ9rZcWs2b+QkxNo/uBB5JfUYaWlUZOj+7o7dpx6ID+bN60meKySrLbtafbgIH40lJc+XQWt5CUFKBD336QqsL5M7PI6d0bWrXg4D592LRpM03btOW0yy8n0K4Dbbr3Igk/bbr1IKlpU1Jbt6JZt274/cm079WTpB5dOfTAA9i5ezfFFRW06tKJLgf0Q0uzuzScZa9+a4AU7WPP9p1U1oRo3ac/J19zDQSSIRCg+xFHkVRbTe6uHSSlpdL38ENIadEM9AA9jj6Klimp5O3Ig0ASfQ49mEDTDNI6deGQA/uzbdMmanUf599yK0k9ugERAppG6169SWuhZuwE/Em079sXPSuT7oceTKh4H5FAgCOvuZ701m1o07sXempDXTICPh/NAmn0HHAQSc2bWS1AGpoWM/gT3XUeHh4eahdP54qVYM2XN/jh5tvp3K0XPQ4/lHxTo9cxR4PPropVhP2/ZIw6vva4BRVXEBF8zi/6BoSqRlYDPeG8zYjDWIlHROr5snKaFvY8/JibELF+ufroE1skClt/EoRpIJ5YXT6xNRtsD6sMo/o7E1CYiKNM7Bkr1nVKlF4DeqgpjYk97RJKiBiqy8PphKA5VgF1EyEC+OzVGqI0cAs0iJngfrKzKmaChiNrdUY7HO40Ezra2GtBuISKtSiXiNWNVSdRSyfr+jSKeEUMx4oeyttaqcoe5dTQ9XXjDCvW+B1NQxwjphorysPD43+LxEaE3TGet5NxH35GaXUt3Y4+lsPOOgNTt1c2BPDVeceKVXHgWJLY/QJyLlas4qsXoIYWN3ZBrGCaHVCzh3EaaPZLtL6XpWBlytn6kYjYaobxoZyT42JdCNHk6kuXaKYUjiWP6wuuUHqItciSKkHQo5WrU4IzAYXpqOD1aJD4C9so3bEMLnvaLAA6pjXmob5oyt3uR49N6o2lJ44BF85fWnStTHWm8ru/q+bG1lZtbO/y01Ty0XYcUanafqAWvxINDE2tBqmLhk+iy0A1YDnVudyWg+Uavf6J25Dqw3mJYmUTQ5mVErvWViDTCuQMm9h4duAuMrGMCEe8/Ujw8PD4HyWhEaGqMMN67cW+d9SLXyzTIX71By3uXRT7Vd/LJ9EEzNgL2O0Ye6uq96XaNCguvFucWI5aIk837kQVqhyclXicZx2nKE5x9pYMDqfE2EZLfClG87kfCapcnOFtGo4XxaGkgGVExDycFQouqbGodpz60rS1dP5yho1VtPVJaAglU+pU106tGhpgq5aAV/90NNWCYvNrFHKm8Wvi/QpiebKsH9v9t6hcp0wsB687w8PDYz8kNCLc/BveiR4eHh4eHh7/ZTTQSBtDcxweHh4eHh4eHjTWiPDw8PDw8PDwcOMZER4eHh4eHh6/ibpGRGzEW2Ia8It5NRDoDyA6d8HWNcGIfJv6fdw0PqSHh4eHh4eHc2Cl7eKcj6g1ULdaEVQ9btfmujVnw14bItFaDr8Xh0ImoFnTCjXHpECJeqoRo9EopiNPzrmjJoSClC1Yxu6t28jp3Yfsww+JxfMGg3h4eHh4eNQh3ogQa/EdTLVCpd1QEZv+rw5DwOesWS0jwhS1kZTT+Y+ugMWMzdNzrh4kmrW4D8p4MS2lddvfsHSxlukR01oYSWVq+hefsnX+Evp06sCiubM5/OwLOfz6q/+cPHh4eHh4ePx/gMOIiFXMxqZNLJ46kcqSUrJbduTgc86HVllEdmxh24Kl9OjTl6ljfyK1RRv+csklasMlTNi8hZljf6GmJghZTTj1ssvA3v3zD8EycHZsYsfSFbRr34lpkybSsnU7Bpx/MTTNoHLNSjav38zA8y8AYMfU6dRg0OuvR7Fu7HiaZmayJXcrRx95FL+MG8fAU04n54B+UFwKmRmQ5IcxI3nzs+Hc+dX3SIp71QEPDw8PDw8P4sZEaKgvfF0nf+dukvUAh/ftR9HiJYx98VUA/CVFjHn5RUa/9Q59O7Rj7ZgxzPv8SxW5OJ/hTz9N04jQo0dPkgPJRMIhIPEqgr8dA3Zv5pdXXuGXz7+mX/tOLB39I4u+HgFolG/YyKpJU6OtJrvmLWLTrLkQMpj2/ldsGz+fwjnLGPHUCwS27mbWsO8gCDRrqnaeBEjOQHx+0GOrCXt4eHh4eHjEU3dgJSbtTjqRgZdeRcYhR3HK2YPZtXUTlFeCBqktWnLuP+6mzaVXcv6F57Ft9RoVrayE/B07OeCAAXQ9ezDHXX81/hbZmKa5/2V3G40lRzRSsptz1r33k3PFVRx/9hlsXqW2TvZpPpKTrI2bBFJ8fpJ9fhCI+JM58qJLaNehEx06d+HEK64gUlEeDau6aky+HfEzB59yOgRUen+U9h4eHh4eHv8/4TAirKrSCLFx2FA+vf1uJnzwKZPG/IwZCakhD5EIgZYtoUsXQJCAH8M0VLxO3bnq9jsZ9tkXvHflDcz78HOoNdDtMQn1oJbStgddNAYNDCGtfUfo0BYwMZP86EZsFKQuVpoa6JrdHSEktciCTjlETJO2nTuDLhhYGyUZBpRX8Mvjj+PPacMx11+l7ArPgvDw8PDw8EiIq4bXYOtaZgz9lGuvv5ZTn3qIk6+4nBRTg7CJrmkYOtEdIk1Nw9TtyttP8/PP46ovPuGWu+9m2Xc/sWrUuHjxLsTeaKmqnJ2/jCOyM98dJB6x/zMJGyFr8KQOph/dqu11NPRgUIWPCKW78kj1q4GUoUgNhMvRzAiRiAGaRkQ3QQ9BaT5zX3yGgA4XPHofWGaV2knB69Lw8PDw8PBwo4yIaC2pQWomenIyaxbMpfj7kYx9800qKyrAMIiIRnkoGG20CJomVWFVYUv+HpZ/8QWl06ZQsyMXf0YKmc2aOJKqn4J583jm5lsZ99U3bq+ERESjsrY2agLVGBGqwrUANO3Qlp07trB7+Hcse/stZi+Yi+FThk91TTVIhGojSJUZAdOkOlgLusmUV15gxaRJ9GjZmvVffMnCz4dSsm0bah/HRNuFeXh4eHh4/G/jG/L4kCHYzfYakNGMtm3bsWr1akrKqjh68FmYOa3odNAAIj4fJeEIvQ4+BHw6waoKgikpdD/oYLTKMhaNn0D+pi1sK9rHYeefS5dTjm9wQIHtlZGcjKH5OeSUU8lq18YVyoGm/qutDVMSgR6HHgYaVFdVEElLpevBB+Fr25KcplksnL+AVt270/+0k9FbNSenew+Kikvpc+ghlAaDZLRvR7NOHSkPBenavz/b16wlLb0JRUWllOwpoqComPYH9CWjVSsr6QYy4uHh4eHh8T+ImuKJWm4hNqogAVbPAdg9ChHwWbMZjJD129U7YkpsUEFCoQmwBzgmxG4yEWshK3Gs9+Do7kg0kMEU0BO407Cfgam2ha5fKQ8PDw8Pj/9J4oyIRhEdHCBqSqhYhz1WQlCVutMqsfnd9bBY1oy9IqYO4rMHLyg0Sw/b6tG0uEU440TVwcqTw1TBaoXwjAgPDw8PD494lOnwa+pHZ20sqK9+TVMrRmo+R6uAq5b+NWk0iGU8qCGZMblOvWx9HF51SOSo2f+pwzMePDw8PDw86ie2YuXvqivdn/W/S9h+aGxa0oCfh4eHh4eHx+/F6nNwV8y/ltjX+59fcTc2rYb8PDw8PDw8PH4vjR0J4eHh4eHh4eERx/+3RsQf0b7yZ/GfqpeHh4eHh8evIbY+tIVaoVGt0vjrq7vfEuvPqe7319nxf4Y4F6764/P9H0k0m39ufqN3kvyaZdQ9PDw8PH4rmmmKxA+qNNVhz7bAmlFpTYYAV12gWa9u0wDdF9+4ISqO9Sfm5hSgRaw1H3SIGOBTozyloXkRwRDFK5bhq6qEpi1p0qcvkuJHE4GaIHnLl5EUMUhr3or03j3BZ6enxZSyqZMXS+FExGeiXjNFSakvjBDetYOgCRkdOlpBnGHqixdjv+o5sBftTlyaSpIzROJwdVF7nqh8qsNyMAFfogYuASJQE4KIBplpLr9E2PopzfaHREMK7NvLvk3baN6lC7Ru7Q7652LdRv+V/Dfr/mfy31ou/6164+n+f8Jv0DvB296AYDWFEycy57mX2PrNSKhWS0pHaw6xFnkSU+1fISYYYdaOHsmMN19n0RdDkd35oIEpql3DtNeTEGvDq+hhULpyCQXLl4PfMlqsas1N1DUibF21nEU/fs/bDz9EaF9ZLERNLdtWLGfWN8P54tlnlQEUHzvhKVhrXNhuTj93uISBnIgqrH372DB1ukMHAI1FP41myjffxqai1hHjSKOOX31YaToiKCn2P9OxC4gdVh1qAzTH17szmCt9t7OSarVdaQKhEFumzSZUXBGLEBWdxMwvh/LMzbcSKq20HS3iE038r446CWKqVUHMigp+/nI4b/3jnyz86huIxMImjFifu/tobBi3W2OP3xq3sXo1Jkwit0Tu7qMxYRIdjYnXmDCJDhu3+28Jk8gtkbv7aEyYREdj4u0vTH3+Nm73Xxsm0dHYePsLU59/fe6/Nkyiw8btbvvtL4w7rNstkbv7aEyYREd98Zzu9YXZn7+N210gun2WwoRQDcveeoef3v0IvayYBd8NZewjD0Nl2IoUiy3iqLRKytm9bTutMjOpWLmMT/55L+wtRddi3+TqhzWf1EQtSKWlsH74aMrmq6281apXur3mUxwaVmNBWjKHXHcTJ910NVmpKfhFRzMt3ZpkctQtt3D2xYNJMmsTlIDbyVStIfZ6F/ZHr93yYpoghsM6szzd62BEhZpoptW6sm4DCz78pI6plhUO09o2LJwtPJiqRcfpqKFW1GwADdMKHScMTQQdHR0fGj606PoauqqSxQT86PitMA6Dxi6HOlap+tr3WYffSkEzDeVSXMrU194gUFQakwNg7bJ67IEHMviUkwmkpkblKT1iuoGuWjdMEw2fnULUV3Pcw/EoQ8MUE71zd65+/U3uePBBZn/+NXnT5jtCuXDn0X3uxF0+9m+besvNIlE8dxzneUPuiXDLtn/Xd+6W3RCJ/N36uH8nCud2d/o73dy4ZbjjumU7SSTbHd4t0+1WH4n83fq4fycK53Z3+jvdErm7D3f4+kgUNpEu7nCJ0nOTyN0dx/27vnBOd6d/IrdE5w25J8ItOxFumW63+kjk79bH/TtROLe709/pJgnc3YczfEMkCOt7/LEhQ2Kt6Rq1C+fy/afDuO3Nt+lw8YX0P/4QJn34Mc2yc2jWp7vSSDPBXudJrXcJqSl0O/IYWh50EF2OPoSl340ip1svMju3BzQ0TR3RTTp8GkXL1rHgtTfJW7qa/F17yVuzieUzZtOxW1cCTTJgXxHLvvyWJT+MZtfSZXTp3gsyUjE1VJN13nbmT5nNEWecg5ZlV0qALlRv2sDKZWs45LwLrRWynYthOEpA1witW8P6seMpXLCcohUr8RcUMv7TYfTu1gctOxNKSln66acsHj2K7YsW0bFTN3xNsqI1Sux/QcOEYC1TX3iZtRMmU7JrJ5WbNrN06lQihknrbl0pmTMTX1kVsnMPk4YOhcoqWnbvAboBZoQtP41n5tBv2TZjJm0yskhunxPXyuBcAkvDVEbG1m3M+fQzlo4cReX6jbTt3BUy0qlesICtv0xE37mbqZ9/Tv7qtXTq3RctJRk0g70zZjP548/ZOnsWyaEITTp3BR32TJtK0aIlVG3LZcKnn7FnxUo69+yNnpZK/sJFzP30C9aOG0PBkkV0bNcWrVkLVg/7ihWff86+bbns3pXH8hkz2bsrjy4HHACVVfzy1uvsXreOEBqdDjoYAn7VxREKsnfydKZ8OpT10yaTEgzStHMXCNeycviXJBcUsWL8WBZ/O5wM3U9Wl66gKaMi9gzY5a+64TRQFmebVoSXr6OgsoquRx0S98zEn7iw/RId7nDO8G4/9+H0c/7dH4nCJZJruzv96yORDm593fEb8nOyPx0acrf//pp03G6J4rll14cznNPNfThpyM/J/nRoyN3+m8jfjTu8+2gobH04w7lpSHZ9fk4a0qGh+A3plIhE4eqTn0gndxinm9PPKbM+2fX5OUmkg5OG3O2/ifzduMO7jwbC1unO2LFqPd1694NunUGqoFVrDjz4IDavWml9BhrWIAmrUtM09VcHwpVQUUhw6myatG5LTv/+0MCXX/N2ORx/xmk0z2lDh149OPasUzny5OPIaJIGGIx96zV2bNrAWX+/kKTKEoa/8JzVNRBretdFi2+1iGZYB6y9PWxHsYwJF/7ySka99yFZ1dUsHDWa1ePHk1pazNwxP4MGM955j/xtOxh80YVkGWG+eP55EFVl2Umr73OrWtN9HHXKyRx42CFktGjG0aefytGnnkL3Xj1Vej6dWdOmkV9YwBknHsuYjz+mYOES0AJsGfk9k0eO4IxzzuSAbh349NmnYU+BlYaj5SeaZw327OHDR4YgBgw+6yyK1m9g6JNPAYJesJsf3nybxXPmcdppJ7BzxWJmDfsS0KmYNYtv336X4084nmMOHcgPb71O1UrVIhTZvoVvXn6ZLStWceZpJ7FmwRym/zwGgJpwiK79+nL64FPxl+1l6PPPQriWAw4bxHEnHU9aejqHHnU0x59+OgcOGgS6DskpnHjqKXRqm8PMceMwaq3t2tHY8dNovv/oIw498ggGDezPD+++w4bx4yE1QO78OXzy4itkZmZyUJ8efP3W60Ty8xPe17ZRoSPqHtmymZpfJrJq8wY69+/tiqFQpod3eId3eId3/JajjhFRXVJOWmaWOtECQCr+tGxqoy99OypWd4Rm/fWTv3INQx97mo/e+5Ds1q2heXpUrhNbgta6KRx3GFpONr6e7Uk57AByjjoMstJhx2YKVq3lnLvvgwP7c8zdt7Fvx1aqNm2M+w6PN5Psc+dhq+sK68iGKRFyunWi4+UXk5SZwTHnncPBRw7ArN0HebvYsGQpZ9z5Txg4iCPuuANfaSEVm7aqFgFR7QJqky5Uk34gleRDD6FN/97UZGThO+poWh17DKkdOwImISDnkEMYeO9dJJ85mJ7dulO8fSdIkKU/jeemS68icPggOlx1Fe2zm7BixkzrUlkKizMrGnlzZxBIT+Xo+/6J77i/ctp9d1ORux22bIFwkNbde3DKk0/hO+4kzrnwbNbPng2GwcoRozn3uJPIOuGvZJ4+mOMPO4x5EyYCEDBNuvbuy18fvp+0407g/DtvoWPvrgB0Oeooug86BH+zbA4/sDdStBeKy6BXb5KOOIJweiYtBx1M62OPpPkBfZSaKUkEBhxEl4MPJD0tHZ9m5SdUzazxUzjz6uvIOet02l94CeeeOZhV4ycABoFknWP+dhF9r7qGThefT1ZmKhVFe+3Mu9Ass051CU3/8itGfvMNJ99+Hd1O/Is7sF2a0d+OWyIOt1uic7ebjVNufWGcJApju7n1TfT319JQfKdfQ/4Nndcn3/arT7abRGESyXa7JYrXGBqK7/RryL+h8/rk2371yXaTKEwi2W63xsp305Bu+5Ptdkt07tbT7Vef7MaQSLbb7Y+UbeP0a8i/Ppzx3GFtv/pku0kUJpFst1tD8usYEcmBZII11kBKqxfaFB1fmmUQiICWrAwMzRcbOS/QZsDBXPnCC9z+8Zvk5W1hwdBvVJSY+Oi5CRgImCHEDGNGVOuCgagWhKJSaveVMfGl1/nhnw/y4/MvUoZJRbg2zkgQLbZpVmy8htp0yx4pEGdn2ERtCiFoRkht0QzS0iA5AM2aUGaEMXxA6V6CVWVMevMtfnzgEcYPeZrCygpqwtVKjp0Z+6+JNVjSwAiGMMNqwKZh2mMbNIJAs04d1Bc6oGuq35+qWvTKCBO+/J6x9z/K+AcfZv2evYR8dgas/EWzpc737MildYd2yt00oUmGmlhTWU21qZHaujWkqrTS0tIxwiGorKC6tJwFM2bz00NPMvb+h5mzeA2kqOscMnyktLS3ZQ/R4ehj6f6XwyFUxeJ33+WDx59k6g+jWDZvLropYPpUgZoaYfETNHUi0Q3ZYmNLwxH7htDUj6oqSksraNdFGSgQom3bttSWlUNtDREfpOVYsysiKKMt4RiR2D0RJS2dg04/g56nnAKBZGfgOiSIHee3v3O3m41Tbn1hnCQKY7s5/dxuieI1hobiO/0a8m/ovD75tl99st0kCpNIttstUbzG0FB8p19D/g2d1yff9qtPtptEYRLJdrs1Vr6bhnTbn2y3W6Jzt55uv/pkN4ZEst1uf6RsG6dfQ/714YznDmv71SfbTaIwiWS73RqSr4tI3LT6HgP6s3PzFthTrIyIwgJWr17NgUcfZb38her5s1n02RcY5dXRXTJV3Z8EgTRo252e3bpTtDsPGkhcVQUmPs0kOayqGdWbLdA0m9TMdE65+AIuvON2zrnjLh755BPa9OkZ60TQffg1q0tFI2ZMoOHXdGUh1TGTLKJ7dKk4mqlqOp9hgs9HCJ0wSZCVRXp6GidfeD7n3HEHp935D+7/dCitequuCbtej/awRM+FJF8Af9gEAZ+uxoFg2RiaY2CmX9PVLNS0ZPR0H8ec/FfOvOceTrv5dh4e9hWHnnM2ELZE24nZ8xU0WuTksHf7dqgxlGGSl0fIBFq3Qfcl4Y9u0SoUbt9Fi/btoEkTkptk0Ltfb86+55+ceeud3P7hx5x0w00AaOLHNO0r50OsYZTkbmf2iNHcdP8DnPDYkxxy0YVIxACx0tB1TIQUMfH7tOjsXcteIgkNn2lNIUaH1FSyMlLIXbXCSstg27o1ZLfLgZQAYGIaVuFqqsPCWXbxKJkmOmBw9Kmn0GfQYfFB7OvjeDC8wzu8wzu847cdvkcffWyIpsU6CPTsLLYvWcrGKdNpH6pl/LCvSGrVmqOuudKq/MJMef5FRn/2FQNOPY2sNi3RNJPwjq1smDyRirXr2TR2EotXrOecW24i0CI77oUdj4augb+8mFmjf6ZpENbMmUfznFYEOnckb9MG5k6eSEaKny2bt7JpSy6d+x0AFZXkTZvO3kVLWL9oGemBdCqDYbI7tYU9uyieOY2tCxaxdfV6mqRmE4qEycxpZdUeyuCwq2IdqNq+jZVLV3Hwqacxd+RIBh1/NLk7d7K3MkTf08+kdtdOZoz6mQyfj92521m/cROd+vUCvz9+Rkf0MMGMoKens2TMGKo3b2Hv9lz2lpXRpnMnts2dSUVE6HH00QAsHzOO7HbtaTVwAOn+IN9+/zXJEZOqvaUsWrSE9j0640+z11VQ1ypmLglNs5uxavIU8pcuJrmogLFffkPnw46k2yknkLR5M7PGTqRHszYULV7IxKkzOe+W20hq04KWWUn8MHIU/qBJqKqaWTNm0DKnDanNm5C/aCm5+Xs58IyTrUypGROEgqyaNp2qon1Url/FzG+/ZV/Y4PCzz4WMdEj2sXPRXLYsW0hN0V62b95K+57d0CpKKZgxld0L57Nu6SIy0ptiGEJmx0600E3GDPuKptWV7Jw+lUmz53LWbbeQlpPN0nHjaNKxF2379oHaaqb9+CMDjv4raTk50bvIiWUSohHi42efY1fBXnofeYQ7WKKb0cPDw8PjV+J77LEhyoiwK8CUVPoedih6wR6+f/8DTjr/Qo645WZI8Vkf+hrtmrWgXe9+9DzmKCRZTR2szt/NyvkLqK6oIpDdinNuuJHk7u0x6zUgFDrQpHs32qRnsGXbdlKbNqPzQQPRUgL0PHggqT6NXTt2UhUM073/QJp27ADllSybNYtwKEy3vv0oKq8klJxE+369MQryWTFvPuLz06l3X/bsK8XfJJPW3TpbKdrTSlSFowO6Kfgyssjp3QsdIadfX7TUVDJbt6Flp050GHQwzZKS2J67g9qwQee+fWnSpZMyRlxGhCpHq3UkM5OBfXqxNXcbFcEQXfr3J7NVS3wRg8x2HWneuZPSyIjQqkd30nNa0qR3Lzq3asWOzbmUV1TTpmsX2vbtDX6/NSsjurST+l8EMrM48PBDqSray449+Qw66VQG/v1i0HVk3WoWzV1AILsZe4K1nHHldaT27wliktSxE/169mXzhi3s3VdMRusW9DroQLTUALphktqmNa17dY8aLiCQlkL/3j3Yk7eHEDqn/u3vpHbpSut+/VRXkK7T5+D+VJfuJa9wLznde9GiW1eM0mJWzJ5D2DDp1K8f+RVVkJlFTo+uZPXoQd/O3Vi/fj1kZTH4ppvJOqAfRCL4TR+tuvcho5UyAjXR6dSvP/6sTOt6xmPfZxqQagrtuvUku0OH+BuwvpvRw8PDw+NXoYXDhui6ju6u6Y1afrjtdrr06EOfw/9CvuGj65GHqzBqqIRa1kBTjeq+2DxRsLv/7bo1wUvbMc8AEKsbI3qq/mimtTpAvFcCcQoxY1NI3USbwGMtEbasWGjbxZGKWL359uqddjC7GcO1tELUP87BgUO0Yf2MdTYYqqKMFrCFo7sJTZVLHd1Fd6UXBpLY9+1wJs2YwyXvvmOFi+mupsq6otkFYyVvZzPmbVgjTpIcrlHPxHlugIjjdmqIOD32Z5m6cer1G3T08PDw8EiMnrCGB/ClcOGQx9hTUsyo73+gaE8+2F3ZptRZhdG0FqA0Ra0rZNejjUOLThp1OAFgYGJgYmJGQ8QZIPbKmai1K8CxmmZc33niWseuU2Np29JtmdbsEztFu5J1kFCywyFOvuVu14OANbpBhVArTZiWQWHpYicQTcidmmUNRHWLKRjJTMfItGfJWO6O6OKYsBslgY421koYmESiozKiuOTWdw/YpetaVivqF4c1ONPOXvS/OgHrQRJkwsPDw8PjD0EzDLV3Rt26yaz7fRhX06jw9qrNWmzSgKpAtHi3RBWM8/3u/otjqWOic0DU//Y+D8rLqk3qq4kSGEm2t7seinUUJMLysRW3nRJFcPrXg7MoVbBYbtW5I4/OtLVYSOf+HJrysILaZosJFZWYVbXobdqoGKYl19I9rqjsNKwT5/Wxia1VoSa21kcjiqBu2okQey0S+9zhrtcbK0aiTHh4eHh4/CFohilqXL1W983/h7x/XTWF1HWKpqGqxtjXbSxte1knLcG3a8NE6xxXLKcONm6pceeNieCknvDu/FvOdfLsLiN3HIWSpuJYhgQSa8FwlZeIICKx1UN/M25tE9GYMB4eHh4e/83U/ZR0vPPtDTp/F5rjaESVEmsLsFdBsHEIaSR2fFuGOzsNZe3XpWThTrAenEXiTidRdPd5DBU7cftJrBxjiPVRX7/ExpFIczeNCePh4eHh8d9MXSPCyZ9UD2j1VJaxBNXCxXYnht0OYbs56+qGDrdU5/Hr2jMagZ1gvWsYKNx6JMJ2d4dxx1V+sdAqZXesmG5a1CpsWEcPDw8PD4/G0LAR8Schdau5uKrNWRlGV8REi6rrrgITGQ+CakmxjQXNlNgiRaJa/N2zAuwxHBqoEaKmtdRk3AqJjlTsn/YAh6gSjvDujLqImQDx1b8zmtNPAzQjViq2qzPfcaHjdiC1Nk+rU4IeHh4eHh6/nvihaXEnFtGKsa5TnEMi93pIVFEmok7l6TQpJPbbNgTs86gOGhQtXMGexStUTu2BhJoJRi07pk2neFOuZWgIRMLUbt0OVfbS2ijLQiIuRVyFUVpOzaZt6rdzrMH+MmiJqZtP92G3v5hKl0iQWZ9/yb5tO+PCJUTzsX78T+yYPUOtOBlVvTFXysPDw8PDo350saZmim0BCNFpdYmtAnHMurAqNiuQ2JVZwnjx2N7uYPa5XTEm6nbQUFMvC7/+ip9uuwfyigEQsddZiBkW63/+mRUTJoC1cLRaYcGA2nIWffklecvXK5liwrbNPHHVlSwcP8USIEAQzBo2f/cNJSvWKm2sdOzmjO2TJvDY9ddTnV9gKSxqBQQJx6aaOsvTWT7RAqhv2qIKrKZ81oBmsuazT9m2bCXNmzePGhhOoypOJiadstL57vnnqV23CU1LsL6Dh4eHh4fHb0AZEXFOorb7rq2B8kq16IOGqgxD1VBbqcJU1kA4rKotzQQJohOBmhoor4LqkGstiRh16k+Lul/gdVFTDCMQLGPeqB8oWLKI1eN/sYwGA80MK4OgthYqykgN15JkCfJJCD8aVCkdM0whoFlf58EIZKTyyL/u5rBDD7VS0yAYhqpKFn/7HZEtO6DGVHkzLeOgqpxOfXvw6L/uIa1ZMyueqQwITW0wRVVVzBoyIhCshmANhAyoqIWwqVZ+UhlMgDIGAFi1mAm/TODKBx+ArLSYRaIB1dWYewriF9YyI6QeeSznXHAuw155xXJNVLIeHh4eHh6/Di1iiNoKya5XNNg6dQJTR/2I3wTQOevKa2lx+MHUrlrCL8OG0bvXABYtXES1wOX/vJuMXt2BaraMHsOUnyaQGsikNpDM1Q8+QFKOXbHGcA4hsOtW++NcEhoRlo+oXTs1whjzZjL20y847a+n8N3UWVz+3ruQFAE0dv0ymRljx5MZrmXnmk0MvOgijrr7dqguZtF3P7Fm9jxahqvZvimXU+8bQrdzT2ThyDFsGjsSMxjiiCtupMepxwKwbvQocif9Qv7ytSTl9MRo3YKazCRuevh+tIx0Jr34PKHNmwknpXPW40/ib52tVousrWHjiB9ZOmcB1aEQbXp154ybboasJqz+8lNq8woJm37WrNtEm569OOuO2yAr0U6TdqlEAINfHn6MZu16cPitN1pFYs/NENi4iU/e+5Drnn8Wkv1gtVNoEoKqcj6+4Q7Ouu0ftDn6iGg5e3h4eHh4/Fai4wqFWK3Spn0Xrr/9Lq5+5VXOOeQwxr7+DgQNUsRk86x55O0p4MqH76Nv02wmf/6NirhzF798+Dk33nwbVzw9hEtvvpGkzIxYSg5+feVlrWqFploZgKWz55LRsw+B4/5CRWkh7CsCXSe8bDHfffQZ519xLWc/8ig9DhxIMKiaRHaO+omVU2dy6e23cuYD99Cmc1tMMwTAYScdy2WPPERmII2qkjIr3Qh9TjiG0x+8j2bt23HseYO56tH7uOqe29HSAkCEk6+9kjOvu5ai3J0QDGOKAAEKJkxh3IifOe+mW7j2nrso2bCOqZ9+CYC/pJQpo3+kfa/uXP/A3exYtJDdCxZZadrdQ47WBHS1rHVRKflbd3Pg4UdafvZuoFYYXSN9XykkJRPdPhMQTYeMphzYuxeb5i2ISvXw8PDw8Pg9xBkRdrWV1rUre3bsZtfPYykuLMQsr4CKaoiEye7QgRNvvRk6duCgQwZSuU+NRyCzOaSlMfnn0VRu20R6966QEVBfy/aYC0cabvZfqTmaSmor2bF+EyeccTa070aH1s1Yv3ghkMycKZPoddjhpP7lYGjXgaxWbVCbgpssmDmLvw4+m8DAA6BdS5IyUxGJKLGZqdC2FQT8ju4AEzJToHUzwqnJaK2aQ5sWpLRqrrb11jRo2QLatwWf2iBLLZEdYf70mZx4znkkDzgAenXmsisuY8OchRAWRPNx4PEn0OG8c6FPLzp0bk9RYb6d0XpKSYfSMqorq0ht197RZKOzfdZMZr/5Buu/GI65aw8b3/yAqR98RulWNfDSNjJycnLYm7dHiUuUhIeHh4eHx6/AOcNRUVXM6EceZNqo0QRDtYSNEOgCZhhMAy0tWe3WCERMA83uB2nagtvffJ2U7EyGv/IyH15/A+b2Par+amSFpTsUqmNUqIYItRHW2vXs3bKVeV99xcqnHqJsay5LJk0GwpQVl5DZtKkVR/Drqr7HjFBRXklaeoYSpGlophkrAE0pKpo64hPVrYGnsSo51kLgg4gGoqOJvUmXUFtVSdOmTaxzID2TSHUtCJhoJGXYrTSCDvisDb7seRgJEQPDNFSGHFZfakoamZlZpKamoIlGRkYWaZkZ+OMMIg18OqGIZTR5eHh4eHj8TuKMCA0I5m1lw7IFXPrPu+l22WV079+XaqMWfBHQBWsEBeBT8yA0a4SDCLTtwNH33MeNw74gKxJi7sRJMcGONJytHhrAji38fP995M9bZFfNibEqxLUzZ9OiUxey2rVF0ppw0BFHUrZ5KxSX075lB2q2bFPhc7ewYs4M/AEd9ACZWU2p2LFTpbBiLZtXryUpSbfk+iE5ncwkjSzbiBAfEABfACNikFJZZbn7wdBVHC0ASZkkh0HXUy3dk8hulc3quTNVeJLZNHcxTbt2goCGiOkY3GgbKJZoNMzoZFZnQQlkZ5KcnoQU7okVkkCrQw9hwDXX0OmS86np0I621/+dIy69iIz2OYhm77oJe/YW0bJDByuih4eHh4fH78NVXwvJbVrTolNbPnvuCUY9+C+Gf/s9NQE/aCZVAiVhA3zqq7lCTEqD1QDUbl7PJ/+4g8nPP8Okx5+izOfnoGMcffcuQ8I2JgBKt23ml+HDWT53fixQQgSqy5k0bzFHXXk9/W67kwH/fJC+TzyOnpnG/2vvu+OkKLa2n+4Ju8suLCAZVCSjiAqoXNM1gFwTgiACSlgQliDRjIiIESUIIkiULDkHkQwCKpKVtMsCm3OcPNP9fH9U96SdJRiufvedh98sM9VVp05VnTp1uupUVeLOvWjZ8XlkXL6EDYNHYuuUaShfsxryNB4f7vAMtm5Yg/WvvoktqzcgpnYdlHgcgCThxLp12D9mLBJPn8beTeux5avZKMnKBSQTIJfDPW0fxdI5M7Bl7MeY//6HgM0OFBfjhy+n4+cvv0RBXjY2T5uKbXOWAx4nHu/5EpIuXcDaYcOw/Z33sPvwUTw3ZCAAoMDjhEX1zQgUut2wab+FPeFXWXogAFSpiho31sTPe3Z5w+l9rgCKAqVyJcAubgEl3JqPhQJYC3D01Gk0bX2vSBuURRhhhBFGGGFcL7y7MyTNd1GGB8jNwPlfTkA2RqHBbc2QlHIZ9e66HbBYkHguCQ20gch+KQkZWTmod+89gL0IF388DHexDaociQYtW8BYqyoYdAkjAk6WEO5/KC5C4o+HcXPzO2GqUSUwcgAIOBw4e/go6t95J4zlo6FAgRFAxuFfEFGhEio3bgQmnEfCqfNodGdzWD0OFLmcqNXsdkB1wnLiN6SnpKPR/fcgJysTEbGVUaF2HWQeOYriS5cQZTbCDQMsRhOa3H8fzBVixEyF3YrcY0eQnVOAmJtvwU133g7YipG0bx9kuwtGcySK3YDhhhvQ4L6Wws7KzEbKsWNwSkbUv/teSFUqASDyz52G062iZrPbARBpR44j+oYqqFj3Ju+uWFkf5ym+ECokqLD8uA9zPp2K4XOXATdEelcrJKiA0wGP3QNjhQqAQUtDFyCZkLVmDVZv2YtBc6Z5L+EKI4wwwggjjD+CACNChFzDSyohzo2Q/ebUr57KC38jQoJwufAmvz5S3ps/9WupVRJyqAFS8Qh+pdKLJVfNMlQE6iduBT/wbWENzokQHqaSzoOqiHo0iAOgVKjeVN603rz1kzNN2PP5eCSlFqHP++OAikYRjYQkqWIXh9aIelLHsV8w7eOJ6PfeB4ht1kAwKIVkPYwwwggjjDCuGaV8Iq46ruijP6QApz0xlAd+AqIHQc/HlzLowTVCXIAtLuxSAUAqRVEbTQ1iqkUVA7lKQqEKhboZUpp3L0LypNeWCkAFoWr/tBMz9V0p2plUIoXkMyAgtl6qskFLp5SVkcaUJHwwoOLhAQNRvX495OZke6NI3nKXvkr97KUMPNM3XhgQnlAFDCOMMMIII4zrR8BMRKgX+L8C/mPYn5XlVWnS+yfA0NDjBo+r12RQAQEpxfAtzJprASmG/MClBfG9FAV/yyCYcW9kVXN8lXxtGRzXfxaiVCb/FxBQYWGEEUYYYfwBBC5neJcyrjok/2H4j4l/BkIZAf99/HcGqLJzKf2klE8KtcDAq9dCJf0v43dKxHXz/TvzCSOMMMIIoxRCGBEsY0gOK93/Cfwjx1B/mQv2JPnz8NebxmGEEUYY/7cQQmMHGxBhXC/0OzfFjaF/HvShNvhg7GtGqcvW/mkIPETrz4UgWoq0nt9flu/V8Tdn/9fhDxSMXm+j303id+EPsBxGGP8nEcKI8L2j/dkd6a/snP+Yzq8N1GLu5s9/3/1D5dPY8R5u9XuJ/d50KCutb6bLy9Yf4a8USjvPii9+mfxpeV0fgvn6S9nwlvm/BL1Zf0c3COYy+Pdfif9mXmGE8f87QhgROsSuh9+tBULgz6MUGlem/5eraC9k1e+chz8ZDNLNquaceWVQXF2uag608h+sij9SsDLSEipA1efgW0Y8L66Lf3ECKP2vJZPgy0in9d8TkQDIfp+/FHqZ/xtlpN9e598Bvf/Iqir+B0DVb6vTXwQ9r6uJ3z8Tf23dhBFGKEiK5hOhj0qi8yiAtQh5v57BDQ2bAZW1OyBI8Yyy2HJo0LqaPrKVBQKgG44zZ+CWzSjftImfxhbbM73J9X5wNXp+5yD4E8j/9RTOnEvE/Z06Cl69KkHPz0dYZCUOhdaKHxATOnfU6FDSHBLFteRa8kBoWeQfOYyk1DS0era9tu1TN8rKQKlKED8EH0KRAhI8AIwQt6bu3LodD7/0IuRy5lJsCFDUgeoGLA6cXrUJF5NTEVm1Mh7t0R1ShfLerIKPjvBnJ6Ceoe2U/V3KVq9VeE/lFH89YsTJyMGPqzchr6AQhurV8J8+vQGjf0OHRkBt6e2iQxKtqWjXsKGkBN8vXQwprwAV6tRF627dAZO2Fxfw7txBqXmk0AyIuL6/gS0seXfs+EL8awHeI8kv792DnGIHWj3zZBnF9U9Frb20nUCBBDX4nVbicGP/8lVgbi7cBgMe69ULqBTtS+ON7y8BV4HGZLBsQAKgeoTReuw0dn63E8UkGj78AJo91DqQhj/0/dAqANkAylrTSUDKnr2w2Nxo+mQbEUfyOxbe+03n5Ar8+9eTDh8ZACrs587j3JlzuPOppwCTQUQIiOMrt/Y1oC58/OhcKX634fjzdxVe/Urk/RGKTAD8t3fr36hpHz/JDCAcApo3dmA0sUArzHApBJEggnQDkgvFx0/BEFsd0XVv8UUJqkfvVUVamA7/YJTOIYx/CGRob36B2ztlKBcuYNyQoUj69YwI0mUmLwubJ0+CmqPd3hnc0sHwE5gFEyfg2xlfA5q/gO+gqKC4wd9DQT/rSZDQ4hPFCedwetfeUnF9X3yrrHoyvU/68yFiqgDcgKTiwLzZSDtxUoug0ygb+QmncGzXNgAeSPB4Bwsv/Pn2IyV++hoj+AQO8cQDd2YaDqxZB9XuOy47GCLMA0gKjs7/Bof27MKtLZqjcs0qUKgN3FpMWbu1QygLf2rUrl+n6O2aThUxqMXXz9m8Evzjivs8RH6qMNKoYOuUqbiccB5Nbr8NVapXB1RNKQbrp4DTMALbzcc7NdoiD++cWkQkHmh9LxpWjsGh9esBt142j/j4yYePctnqS9KUoKTVoYBej3o5lUD5CqhhwWfKkUM4e+BA0LNgaGXS6k6CJqj6JyCervQJGIy468478K+mjXFs0xa48or8SWlp9bbQ3/bL5sL7iISkzXD5wiAORbt8AXM+/wwVY8uj8W2NYTaLG31Dg+IOnrTL2Dj1S6h2l1+ZVKSfOoFf9+4XUSVhmAn2qZlTHh/fZeahIbi+9O8SACqwXDiL41s2Aorb1xeCaWpdAXoP0gZDcVqMLp06b4rQIbqh7F/HV5lV8RkCGvx515MHlUWXRZDedvGPEkAy4EEQGOzRpdWzV65QmkBAAgWw5uGrsaOwZ9MmTfj94gfn7VcG/SP58V52Dwzj74bXPPU2FAnk5cIQUwEffvAJ6t3eXERQFaAkHzh3Btnb90BOSgeS86DkFnk7UZlwKkB2HuLj+qN3734AANV/EFE9QEYmkJULuFRBL6TUUAgn3YLZIhuQlgPkF2uDgYoYADX1kzTTc8QNmxIARRd8A5CTB+TmQ9bsc1lVIFlLAJcb8KiQMjJgoAojZMBSBFxOQu6272E4kwBk5ADp2X70giABgIIoWUE1kwSAkDIzAZd+V4ZWZpcTyMoCcnN9PYQKJItF3GlmsQCZGQAkSDCIQ7Igw6ASSE+DqbgQN5giYLjS7AYoymt34fj+fXg2Pg63tH8Kdz3XEcbYaFGXkgLkZgE5OX7i4IJkLwHsDsFuZiZgtwglYisG3C4YrVZIThfgdgFWS1C+PnjlgorgpaQASE/T8pLFG6tkBLLykHzmDF5461XU7/A0Wj37JGCShW4PoKhCgguSahc/HQqQmgPYXMISVjyAxw5YCsXv7Fyg2KU3C2AyIfqOFrjltqaINhs1QZMBpxsoKPD2BAkKoLoA/dK1kKDoF5ICFBUCqelAsVWUkwrgtgPWItHeuWneepKoQqY2u2R1AIVZuMGjINYgTh/VKPtBU6Wqqo1YCqT0FKCwUMiOCkBxiTIDQFE+kF8gDifTZs9ibmsM0+1NEBsVKd4cAFFXhYWAx6Px7BEDXonen8oANcsJHiGj+YWBUzAGEwqOnEC1KtXRcmh/3NrpGTRq3aIMW1MVeRZlAb+dgHX/HsjJKZBSM+AuKAIgIUomaprEqa7IyIKkzSrJBGSKfoG0VCC34NpGG330LSgAMjJEvwcAqoiWFNQyQsyyZmWJZxIEn5LQTcgrAnIKoEkO4HRAKsqDQXOllqBC8jghFRf55jkVD3DpEmCzCXnXzdqQilOf/ZSAomIgJU0E62txudmAwyFe/AjA7YGSmyNmHK3FwgBye4T+gwEyZNFcVquQackjZFXTtaL9ATjcwOV0oa8lWfCgao1mtQNp2UBeMaDqGauCobxcIDkVKCzRyqMA1hIgpwCvDxqGp5562lsyMcsBoc8ysiFZHeK3zkdxsfieXQAUWiADAS8MYfwDoagkVfqgKjy0aA6XD+zNqe2fZfqh49oDD/fPnMrV3TtxdutHuKr3SE7tN5Krps8VyfxI6NDDCs4ncOOoN7ioW3du+3gSSVKhStJBJv7Gza+/ykWDBnHWwCHcoNFT/OgEQiHpZuba9ZzbtQ+XDXmL4198mSknz5Aki9au5NYevXho3Kdc1Ptlzu/3Cm1nL4ikKUnc+d67XNS/P2f37Mn1o98jM4tIkj9NmcS9b4zi3jEfc3HPOC6IH0BmZTBxx0Zu7NeDS+9/kCte6MMlA0dy7hujyKKS0IWmStLNjGVfc1WvLtz78Yec16M7v+nfl47UyyRV2lKTOG/ECC4ZMpRze/Tgtvc/IgstJN3cPnYMt785miuHjeCsFzpz80cfky7RLvzxJy4bMpTfDOjNpc+155dtO1DJtVM0YUhmyNRU8vBPnN+mLfPWbCKT0+i5lEx6HGRGCte9M4rz4vtxTq+eXP/uWLK4iKTChG8X8fs33+aBjz/jsr69OevFTuT548zfvJ4bhgzhqv7x3PHaGzz4/lhO6daNBSdPB+dM6u2oqqTLwoRFczg37kUujuvBhX360n32HEkPmZhA7t3DeW3akT8do+dMAp0pmaIqSxVLJVUHSRuLd+/gnLh4Lh8whAu6vsiM9ZtJxUNeOM1Vvbvx2OefcWm//pzSsTNTdu3zJidJ7tvG6V27kVYtLCubs/rEMXn3bi2CnQenT+byDz8QyUrx4ZPR5O0bObdfDy6N78PpXbrwt2UrxIMzJ7j85Tge+OQjLu7Xi3Nf6MLMvQdFhk4LL61YxgX9+nPToD6c/lBrfj/2Qy/dwOxU0f5UyPNnuPKVeC7u34uze3Tl/ilTSZebtORy3ZD+PDRuHL8d0J/zu3XlsW8WkW5RxXS7yEtJ/PqZTnQlpnvpbvpgLLdOnOjNyfXjHk7r+zJZ4vSGlYLHTZ4/x1WvvcoFgwdzdo847vj8K7LEThYUkAnneOnDT/hdj3jyQip5LoEstJbRqUV/3jf5U27r1onz77uPS/rFc3L/eK79ZgFJ8uyMqdzc+2Xue/9jLu7dh4sHDiEzc0XyrEzu/WAcVwwexGUDB/LAlOmkLWRGAfJ0fOVKfhkXxyUD4zm96wtM3r2fJGnbso6bunXnwbEfcUnflzm7R2/aTvxK0k3mZ3HHhAmc1a8/F/Xvz3VvvUOmZZG52ZzSvSuzjxz1ZrV7/Kfc/NnnonwJv3HJ4IFcPWII5/Z+kefWbRKRghpa9cqUQrptTFu/hiv6D+DKQYO5YuRI2pOSSZInFszmvH4vi/q22fjtsOHcMWcOSfKnyZ9yy2vDufaNNziry4tc/eoYstBBkjw8bRL3fPAuN497l/N69eLcnnF0JySSJC379nDpoGFcPeQ1Lot/hYUnT2pceZiycgXn9uzJpa8M46QeLzNL7+vOYp6ePo1ze/fmgleG8othr5IlNpJk9k/7uHzYy1zU5TkenivakapKKm66fj3Fxa8M5YLBgzi3Tx8emjmXtNvJjDQu7BnHXz6byEVxfTm1QycmbN4qkmrchPHPQ2kjgiQVK1mcxm9feIGp2w6IMI+LdFvI44e44IkO5Klk0VldQuyDSQSEud2kYmXy9C+5etgbfjEc/PGT97mxb3/S6iQtLjKzIDQxf3pFufz66aeobtouFGRmAWlzk1To3LiWk++5l+mr1pI2C9cOGMQ9074mSe4bN4brhw0js7LISxc474Uu3D1lJkny1Kcfc9YjT9D2/QHS5uD8+HjuW7hAGDpFmdzcrTuLNuwk7Sppd5IeJfTIQoWkk7krZ/HDls2ZtGIVWZTDpQN6ccecWSKKpYi8mEJanGRmNud36MKUzdtJurh7+CDOebojeeYsefYEP3/yaTp+SyDz87m4+0tMWLqUdBeQO7Zw6n86XtWI2D9jJr/r24+zWt3P5d36c/nQt7j64wmkrYS7x44R7VFsJbPSubjbi/xx9nySZObCefys9YPM2bSNtBVw41tDeXz6JHLnVk5p8yi5cztnPvoY876ezf2jxvDo/GVkkByoQvWSJLM2r+OMTh2FwWAp5NFxY7lg0GCyuIhrxrzDHX378OtWrbmu3xDOHzCEG6eJdgkND5mSwGnPPces73aQ9hK61q3kpLaPk0kXyYRTnNq6JY9O+oK0FvPS9CmcP2CgSKpqAr//O07r1o20aE3mcvHkpIlcNvxVUlHJklzO7f4CEzdu9CULgoeq4CX9MpmVTLqLya0bOenJZ4WCP3mMU1r/i3s+/Zy05PPsF59x0eChJEnrod2c1P5J8vhx0lnIX8eO4sa3x5ClxxYBRSGdDq6Kj+fPX0wiXSXk2eOc0LYNM3bsIF2FXNm5PdfHDyaTk8ndOzj56WfJtByR3u0kL1/g9PbP0ZmY7s3AtuM7TuzQkSyykCQPjxvL78Z+4pdxCFhLuGrwEO6ZMIV0uciEBE55ojPztu9hyZFfuDY+nhufeY4LHmzHjYNe5TeDRzDxZ+1lJLhgesW67OQPe7i8fXsyLZ20lJBON0kXL86ZwYn3/Zslu34gC/K5oHMXnlmxliR55PPPuH7gK2RRAZl8lvOe78gL2/YG5qFD1dvaQyankoUlpNPJvJmz+E3fQaSq0PX9Zk685wGenr2EtBbz5ITx/HbYCJLkL1Mn85u+/cmsDDI3nesGDODmceNJkj+8O5q7xk8W+eTlcE7nLizZf5BUHVw1YCDPz1ooDMHvN3Bq+45kZrGPJ60KVIr3BZLkqcP88qknyJ9/IVUXj344jouHv6l1KitXxvVg0rRpzFq4mHNeihM6iQ6eGDeaM9q0ofPwYTIvh/O79+KJb9eQJM9M+oRT27Wl7eAhsriYS/r359HFC8mSAs7q+BxzN+0gFbLgm3mcEdeLtNtISz6nt2tLbt5KOhUyo4AscZD00HP4AGc9/h/yQjLpVsicfFG3qipeUmjnyfdHc/d43Uj1kIXZnNerNw9NnUFai8if9vPzx59g9r69ZE4Wpz7Ylgc/+pwszGPm0oWc1rOnXiNh/EMhBzi16JAl4dBmlH1Tn5IMGE2A2QibAVBNAKJk0CTmMUPNInonvYxGQDbDGWmAwWjQZmcJQMEtd96By+kZ2DP+C7iOnwEqVwwm44U3j8go1L+jKRZ/OxuJK5YATgsQZQQIWN0e1G5xN2p26gBEmXBzg7pwFRUBDhuOHzmJR7q8CFSrBtxcB8926YCMs8LPwQWg8WMPI6rtfUBUBDqPGY3m7dqIKbsoE4oiDMiNMACREhBp9PkXhQThUhTccve9uKXzc0CFcqjTuL7gAwCMZhRfuoSf5y1E6vK1MNvdQLEFgBElDhUPv9AdaNIYuKkGqlSpCCU/Hzh7Hk67Aw2e+I+4QqNiOXgMYqovNBtiuvGBl3uh3ScfQqpSBR0H9keXKZ/guVeHAQ4bUk6fQ7vnuwLlywHVaqL900/jwuETAACXQ0Gje+5HlaceB6Ki0Xbka7ijc2fk2AtR+67bgFtvRXS1qqjcri1kkxkm7U4Qf158ouXGsUP7cfujjwP1GwDRZtzV63kUZGcAbhUdx4zCY6Neh7FKZTz73jvoNfkzPN2/TxlTvQBgQPEvJxETWxXV2j0GRJpheqYNqteuiuzfTgOGCERUr4O7escB5aJwc+N6kF1OMfsqadOw/gt5MgADcfujDyL57Bkx1ZuUBruTqH/3fVCCT/3UIEMRU/pGMxK27sHhGXNw9uRxyB434HABsgxzjer4d79+QHQFVGzYALLmjHz2hwNo0rw5cEdzwBwJNbbclc8VoQqkpiIjKwd3d+0BmKKBxo3x4IP34szhXwCY4TRE4t89ewM33gjUvxHly0fDbdOWfSRRdkraMiIBuFVE3X0PYkwGZB08AFiKcfz4b2jV9ong3P2gAqkpyEtNx32dXgBMJqDBLWjd+i78vG8/Ylq0RIcZ09C6Q3tUbXYrnv5qAnpPGo/6Le4QeZaqR21K3xQBmM0oMZqAiAgokWZQFuuaNqcbje9/ADGP3A/ElEO1ujfBZbUCqgcpJ47gzqaNoF44B+RmolZsNM4f/jk4Ex8IQDYAZjOOr1qPX2fNR+LZRBgdTsDlhtPtRI1mTdG0eyegHHH7Y/9CTlYaUJCLc78cwROdOgPVagCVb8DTnToj+eQZgEDLxx7GmZ8OAgWFKPnpAJxmGTEtmwGXLiLn3AU0uLEucPwkUK48DHY7Us9qvmZBrOkSkHzsCKpExwBmM3DuPOrXqImLx48DhTbAGIXOrw7DyY2r8f2Ktej7zrtApBlQXbA67HjgmQ4wt2oFVK6I5i1uRcrpXwEAFocHtz3UBlH/ag3ExKDDmNG466l2wLETMFndqFyxMnDqJCpWioY1Mx22zEwgKhIN7mqOJYsX4tfFCwGXDYiJAFQJhto3I7JqVWyYNgXZu3YAESbhjEpJu1TQAIe+VAGIpY/EBLiKitG6S3fAXA5o0RKtmzfH+Z+PALIMtWoV/CsuDoiNRfUmDVDOaATsV1haC+Nvh1CluvTqEkwZgAGUpKB7HQjAA4NMyLIkbo70exoMnZweR6KiHcOkQQWqtX0Mgz8Zh0rlIrH8i4nYM2Ey4HJfYR2MgNGMNq+/jQc7PIsLh3/GjGHDkHrwMCDJUCUJqqytn8IARdEUpqJCcSmIiIgWgwlUqCRsDgcAwCMRbr88o2vVQYVqNUR+kgKDQYXZrI88msNVmTyqoKpAjjJro48M2Q5E0AAAuLhuNVbNnolaNaqiTuNGqBATA1Vb71YlM1RThI+SpECSVaCkCCajETCZRbOZZVB2AXLIhWZA585oAIxGOIwG5Bu1ljBJgMcDqkR0THlvfNVgglNfH6UMj2YYKDAhomodoOqNcCmAwRgFwATVYAJMRnhA4bKhQ6saIUWCgs3tgCFCL5cMGAyw2R2AQsBgBgwm2A0mwGAEIiIAo88/IABaPnarBUb/+pdNoCzBpXgAxQBZjhSXrkGGXZLhMciatGt1oK+n++0IwK2NUaPGDSg6dBB5R46jact7gOqVvZuQgiFBBTx2bP/0E1w4eRYNG96O2jXraHaK8H3xmI1Q9MVrSl6j3Gmxo5wpWuMnAmaDEdR2iAToXR2SBDhsoMsFmCO9PjJG2QhriR2AETQY4JS19pNkeGDw3bSrEVXphiR7RF3IElChElrd0wpnd+4EjpyEVL4Cbmh1h9ZHyoDbDYNshMms7/AwwBgdAYf+RiIZUWwgrCbR+jAb/Yy2IHgLqnl3GwyAJNpGAgDJAA8MUEyaPEiApBISCSgKXC4Xzp4+jZ1bvse+TTuB2Oqof8cdPvrBkADk5WDZO2NgzcxCkyaNcVOdG4W+kQhVkiAZZc0hVwKMgGIEABVOtwsGo6ZbCBgMRng8CmAnIu+6A2aTChw9jJ/2/4CWDz8MRJUHPApU1YXDB/dgx+bN2Pv9LlRr0QrRtWr4+NHqQPL2F8CtupGbn4ddG7Zg54p1OJmcjruffEL0Z0hAbCycbg8cdhtQvaqWSoIiSXB5+44KA92Q9HahBLfuzClJiKh9I1CxGiwOB0pKSvDT/r3YuXkzdh87jiYPPgRjuUhANqDt62/i8S7dkPnbr5g5YiiyD/4i5KpGLfSYMB5N77gVP6xfjenDRoDpeVpba06YsshL5091usWtzeYI4RsiGyAZZVASe8+FinRr/QWQNJ8lah4YV9K6Yfw9EDco+LcMVaHYFQNMlBGh6EpJU4RREfC4bUBRASQXQYvjiq0qaY7XgIooxYNIVfU5K9MoHMsaNMEdbw5Fj5FDcHjfbljyc/32TviDwgihAkhG1O3cFe0mTUGLprfiwPbtIj+DDNXr9WwQulyWgOgYNKzXAEd27hQORgW52L9nF5rdd59GWedT5CI8qyEGPKMRkFxwpqcIh0q7Q3N8CuYPPq2gqjAZNZVAGS6rGyZFaNLfDh7AA61aos7zzwKNGsJis3sHzYC8FY9Q+CYAdWvBbS0CEhOBAgt2LV8BRVIAgxisSnlya/sFALE1VSLgVjSDQ5KASpVQvWZN/PTdFhFmLcKe/fvR/P67RRSZcCvC4UxQFopAVWXIUhQgGcTgKAGybPDdTurPhr6DBgY0adYMJ/fsBYptgEKc27ANNevWA6pW0mxZI1RVhqLo24W8WZYGVVRv1RLF2enA8V8BlwIcPoa8ghLUueNOQAVUGDSZleAyGOE2SJoa0trNA5TzeAC3U8g7DIApGh06PIsfVq7GoR378eCTz/g0V0hIQE4ukn49if/06IqK/2mDcpExYmARug80mbSDOSQYKUFWBLGaDRogJTEJKLID50/jh03bEaUZj6WKTQhidWqjamx5pGzZCigSkJKFUycT0fKBRwCV8MgqVNmp7VYAKBmg6ltXFQIewux2w6i4fFtaQbTo8DTyzp3Duulz0OLRxwCz1nHLQq1aMEeZcHrHd4K3rAwcOX4czf/l28LpptvvfpartKeuhGLKweVwALl5kFxuwOYAIEGVZLi9RogMI7VtzqYI1GrUGHXqNUDbd97FQ++8h3bjPkDD/7Qpu81kApcuIC8pCfe/3A/Ghx5EpFGCR/EAIAyyhEiXC1AUwKNi/3c7Ue+2ZkClamjcrCkO7fweKLEAlmLs2roFTVvcBURJQIVYPPxga2z7Zh5SLmfh3ifai/yqVEdsreq459GH0Gb0O/j3++PQ+eMPUKnhTaW2V4gqIgAV1eo3QLmqVfBo/EA89u47eGD0GLQbOUzMArisWPXBp7iz3dN4oO0jWPj2W2IqVTbBIMkwObV+npuOE78ex22tRZ8G9UNiAm3EmLp1UalOdbTu8AweG/U2HhnzIZ56/TWYq1YWfUuOQtVnn0GbiRNw/60NcWDLZpHQ7gIiY9CwV288N3ECDMUWnPrxsHjmcQFQEKkSUfobBgm5Xn2YTDKS9+8SCjfhPI6d/Q0NW7UAnC5Nr4o+qkKG4vE1pKiZMP5x0PyatIVYlbRbuP2LL7hl5Kv84pHHubDPEK76aDKdhUVixc5TwmNTvuDMzr04fcCbXDfjm+AlklI4v/8QN496k0u7duJX7drzmyGjmbj3R5Lkj/Pmc9ZL8dzy+ntc0HcAD8yaS3rcVOkptYCqUqGHDrIwm7OHDOeyoSO5fMhQTu/Tl8m/HCFJJm/ewNnDXvWm2T15Ijd8NoEk6Th6grN79OPS/gO5ZEBfLh/9Jlks1iZ3TxjPjR995s1HOFvolaMyZfNyftnxOS4Z8iZnjhpDWku0OMEQi5wJy+dx4ZsjvWEbPnifmyeItcH0DWv45VPPcO3AYdw6eDjnduvFY6vWkyQXDRvOk6s3iGS2LE6Lf5H5Jw6TioVHJ37KmV27csmI4fzh8085KS6OzsJ8jc/SzmSi9lSyqJCfdOjMiz/8rD3Rynf2N07v1oOLXhnGefH9ueyd0aTNStLN0wu/4TevvuVHR+DchjVcPvYDMi+fX8bFkRnp3PbReB5eKtaovWu8fmu9VO1kYQa3vvU2Z77Ug98OHsjpvXvRcvqcHoFMTeWH7TvTkZanZxUa+ro2FZ6cOZPTOnTh6uGvcmr3F5mwUThhMfEiJ3XtTRZZSSrMOriLXw0dSNJJNS2Z6998i9/17sMp/27DxUNf5/alyzXiHjItmSvbPsHVLw0k7XrzBy/k61BIj5U/fPwuv36+A1cMeYXrh4zgZ526kbn59Jw9yU96vEh3oUXI0NYtnDd0BOnxkNnpXDzgFS7oHc/vRr7JvW+P4Zor+SKo4o9t2zbObP881wwcwXk9X+auSdPFM4uFX8b1ZMrhHwTT6Rc5Oa4frUkXycJcbvrwA34/ZCgn3f8gFwwewrUzZgi/Ho+LdBXw+MihHH/3gyxJFM57ga3uD5Wkh8U/HuSMl3pwxfARnNfnZW6ZMJl0+Jwxjy2ZywVvCPm5KlSSipP0WLntvdGc3q07Zw4cxC1zhH/ODzNncuk44eBKxcPNb4/m8cXfit+J5zg/Pp6L+vXnupHDuWD4MGad0+UqCCpJ1UUWZHLt4Fe4sFscV8bFc22vOH7dfwDpdtJ2+ADnderMTW+8wzWjRnHWiOFUs7OE7ktJ4LyB/Tmnfz8uHPAylw0bQWYVasQV8uwJTnz431w5elxAppe/38jxnTpwydARnD/0NS6ZMNlPkP09YFTNt8lNuku4/6vJnNmjN5ePeJ2zBw/jrqVLSJI/fT2dk17qTVpspL2YX7zUgztmCefFU++/z2n3tePOsZ9y8aB47pw+VaPt5q7PP+eaT4Uu9EEh3Q4emzeXX3bswuUDR3LxkNe4ZfYMUrWQeZlcMHgEVw1+jRtGDOPMl7qx6NgJkmTJ0WOcH9ePa0a8zmUDB3PZm6PIXFEfSVvXc9NrIzj/2Wc5s0MXLhr5LlOOiHTZO7Zw8gvPc+nwoZzTuyd3z/iK9DjJzEx+3K0bXRkpJD0sOnKYk+LiSYfi1cilR4Uw/m5IVOhbOZCFBVn82xnAakOEKQIOhXBHRKLKbU0AsyysZzeB8xeRbbGj2q0NgNioQMskCM70TNguJaFChBkeN1CoSKhc7yaYalYBsnKhJGfA5nCgfK1qQL26gKRvlQp8fRG7sFXIigpeyoAjLw8eA1G+YT2ggnYgVl4eivJLEFu/HiCrcKemwqVKiL7pRsF7iQXWM2eAqEhE33armD6HCndKMlTJhIg6tbWZABWS9yAs7SyDixnIzyxATO2aMN+sLXWEfL1SwMx0lNicqFCvAUAF1uRLgNGI6Np1xHbPi6koys1HbJOGgNMBu9GIqGpVYL1wERExsTBWrwyoThQkJqJS7ZuA6CjApcB+5jxM5cvDWKs2Ci5fRqVbbhLr0hLK4IWAx42C84mIrXkj5ErlRZh2aA9y8lFw8TLM0eUQ3bABYDYJD5HsPJSUOFC+/i1+tBSo2dlwWJ0oV7smChMTUbFePXhy8wFzFIzVKvveADVWvPUHAk4PlIQLsFhKENukEVCxknhDlgE4nchPvIjK9RsAUfpyVAjo9KmKN6vES8jPy0Hlm+sAtWuJaX67DXkXk3FDw4ZABICCAhTl5SG2QT2gxIbiU2cRDQk0mVCoKEDVG1Clfl3BdGEevu0Vj3u6vIT6L3YUrz5lTMVT36bssMJ59jxgMCPilkYoycxA+ZtqA2478pPTULlBE+FjVFCAovwixNarK97SCy0oOZ+I8vXqApIMu8WGqJtrBmfjkzKPW2yvy86D5XIyIqtUhLFRQ1Fm1YOixPOIqVUThgrRgNOFgsvpqHRTHYAKis8kIMLlgclgQrGqwlOhPKo0bgAYZABuHHnnPWSoJjz94ThfeUOJEyC2/ckykJ2DgqSLiKlUGaaGDcVbPgCAUHIyYbO5Uf7mm4MSh4BK8fYpqYDdCeVCMkocTlRs1AiIjYEnPQ1Ot4Lom28CPB64k5MhlysHQ43q4t20uASu84lwKwqi69QBatTUyhUKqpipKSyB8/xlmMtFQ6pVFYV5uah4yy3ieVY+LGkZUCPNqNCoIRAZIbZPyjJgtaL4XAIkWUb5Jk2ByEiNLgGXA86ECzBWqw5D1ap+Z0MYgIwMFF5Mg2SORGzThkB0uZD6Q9SgColu8SMpGUU5eYisGIuI+jcDEpB3NhGxVWrAWLMaAAWu5FQUFFtRvVlDnHjvEzgcRtz1QidI5c0wNbxFI+qBKzUNbsiIvvFGvxz9zq1ISkNJWjbMFcojovHNQJQBUGXgQipsOXlwm4DYRvVFv6UCOB1AUgpKCoshR0UguklDIKqcKHdqGoqTMxBpNIKyCUUeolKj+jBVLi/yzMhAcVoGKlSqBNSvL1hxu5CbmIgq9euJJbBiK/Iyc3FDg3pQZWiHZukzNmH8UyCMCFVrFVmXYiHK9B7WFtRkfutqwY+uDF3J+H/3G21wPfR8CksgSLT8svI//kXWprgDD3TyhzggWTgs+o560utBYtAJitfM73WgtG4JDZ05lC5+WSAZ5Ofig25N6mX3noboH133I4DW/sEjrBbXf9oxJGuqdmiNLPutBP9R6BVCsYwFn0+P+J8aZ5Ifh9qhJDYLnAlncWDVeiRkFCD+qy+BSM0JWIt2bdB58KMf8NFileGsGQj/Bg6qZ0IbALTnWl+kNkUuyls6X78qElPOKZeRuGsPvt2wFSOmfIGY+jddZ5lDTTD7pszLGsoDQK1CguGvX7xxxDX2oof6RQ1gN6jMV4GvlgkEnVQqQgJaLqhtrwd6fO1/nfgV4ddgXqGRvWfY6hCvOx5sf+tdRNRpjIdeifORD2hPnZ7eMiqoHSwlSi6W3rzRA74Et3VgzShQNMPa909oU18cPUUwX7pnl++ZT0/p0fyry0cxjL8bQpL8ZUGCeEuS9bXpEOuZEn6HAYEgEfJLrEuJ/t3/d5kIZsgP/uklMYDon1Dkg38H09ONCe+j6y73deJ66V9H/LIMCH8ExAgVXadRuuKuDbo2uAZerh+SOGDH66cRmIdQatDOlxTndEKS4c7Nx8qlK2EvXxHx4z8WBoRO7rrY1CP7J7wuAiEQIr1ef962EI0h5Fwvt/iUknmdnKJi1/pNOJGUgqETJwQaENeMELwFKfzfhTL1iwQEGRA6QoVdH0SGen2Vonf1gCtCayH/H9cAyTewh6wPfxDVb78N1RvVA/zr/4rphIwEmk4C1B9fA/Sy+c8VBBfxSqQCnmmyTFIzisP4J0Mi/WYivC2pN9yVmv2P4s/Iw1/AgugwVNAV4msQoYEzEYHPgw/O/xtRmrk/DP86CqVYBPyOAi7DEAhmDTp73gcUH+8b81+DwDf+QK68RaBWHn0ng5/4hBCja4BWNiAo9fVSurq8+tpC47RUtKAAnSQhZpT8pv0JzZ+yFI0rIbBOBXz95ppIeUkEpQpO7OUttBERGD048ZURip4/AqmV1b5Xg1/c31XPvjyD98VJoHYapUE7EfNK8M9c0BQ1KnSbJIn/ieDuHaqWfBH02V4RqoeHLmRwaDBl0cxaaNCMRHDaMP5eCCOiFIImo/3PoA5xWVMYYfwvgNqfMuyi/0kEd/7/Q0UP42/CddtPYfyjUYYREWTz+cXwdwnw2Yf6t9K2YlhYwggjjDDCCON/E/8PmgLm4xUWtesAAAAASUVORK5CYII=)"
      ],
      "metadata": {
        "id": "kSJc0ojz1QHq"
      }
    },
    {
      "cell_type": "code",
      "source": [
        "i=4\n",
        "j=2\n",
        "i=i+j\n",
        "print(i)"
      ],
      "metadata": {
        "colab": {
          "base_uri": "https://localhost:8080/"
        },
        "id": "bzct4vPI08xM",
        "outputId": "c2ddd64d-b767-4bd1-fcad-20255dc60b82"
      },
      "execution_count": null,
      "outputs": [
        {
          "output_type": "stream",
          "name": "stdout",
          "text": [
            "6\n"
          ]
        }
      ]
    },
    {
      "cell_type": "code",
      "source": [
        "i*=j\n",
        "print(i)"
      ],
      "metadata": {
        "colab": {
          "base_uri": "https://localhost:8080/"
        },
        "id": "OYlb9qWy19py",
        "outputId": "083d40da-b385-4f6b-8fd6-279c003e4281"
      },
      "execution_count": null,
      "outputs": [
        {
          "output_type": "stream",
          "name": "stdout",
          "text": [
            "12\n"
          ]
        }
      ]
    },
    {
      "cell_type": "markdown",
      "source": [
        "### human basic needs\n",
        "water,food,cloth,shelter\n",
        "\n",
        "here all needs to be satisfied for a human\n",
        "### dark chocolate\n",
        "ice cream,cake,bites\n",
        "\n",
        "atleast one is enough for child"
      ],
      "metadata": {
        "id": "XTdzVhdI3yrG"
      }
    },
    {
      "cell_type": "markdown",
      "source": [
        "### Logical operators\n",
        "and,or,not\n",
        "\n",
        "all conditions need to be satisfied : **and**\n",
        "\n",
        "atleast one condition need to be satisfied : **or**\n",
        "\n",
        "**not**\n",
        "\n",
        "True=False\n",
        "\n",
        "False=True\n"
      ],
      "metadata": {
        "id": "qkJvfyk93l-d"
      }
    },
    {
      "cell_type": "code",
      "source": [
        "a=True\n",
        "b=False\n",
        "c=True\n",
        "print(a and b)\n",
        "print(a and c)\n",
        "print(a or b)\n",
        "print(a or c)"
      ],
      "metadata": {
        "id": "gNjGgOkI2DsE",
        "colab": {
          "base_uri": "https://localhost:8080/"
        },
        "outputId": "16322623-7da8-4441-a454-a489708c25e2"
      },
      "execution_count": 1,
      "outputs": [
        {
          "output_type": "stream",
          "name": "stdout",
          "text": [
            "False\n",
            "True\n",
            "True\n",
            "True\n"
          ]
        }
      ]
    },
    {
      "cell_type": "code",
      "source": [
        "ice=False\n",
        "cake=True\n",
        "bar=False\n",
        "print(ice and cake and bar)"
      ],
      "metadata": {
        "colab": {
          "base_uri": "https://localhost:8080/"
        },
        "id": "db9jEgmL46lJ",
        "outputId": "a3b6b4a1-0ec8-4c6e-95df-2134e9461b63"
      },
      "execution_count": 2,
      "outputs": [
        {
          "output_type": "stream",
          "name": "stdout",
          "text": [
            "False\n"
          ]
        }
      ]
    },
    {
      "cell_type": "code",
      "source": [
        "print(ice or bar or cake)"
      ],
      "metadata": {
        "colab": {
          "base_uri": "https://localhost:8080/"
        },
        "id": "YWeilyqA5H2f",
        "outputId": "ef88e273-4e4b-401a-da14-02d7bf7ebe17"
      },
      "execution_count": 3,
      "outputs": [
        {
          "output_type": "stream",
          "name": "stdout",
          "text": [
            "True\n"
          ]
        }
      ]
    },
    {
      "cell_type": "code",
      "source": [
        "a=True\n",
        "print(not a)"
      ],
      "metadata": {
        "colab": {
          "base_uri": "https://localhost:8080/"
        },
        "id": "gti9BO055LbM",
        "outputId": "6c7072cb-483f-46a2-d945-5824e83c722f"
      },
      "execution_count": 4,
      "outputs": [
        {
          "output_type": "stream",
          "name": "stdout",
          "text": [
            "False\n"
          ]
        }
      ]
    },
    {
      "cell_type": "code",
      "source": [
        "b=False\n",
        "print(not b)"
      ],
      "metadata": {
        "colab": {
          "base_uri": "https://localhost:8080/"
        },
        "id": "2_zaaupw5rNF",
        "outputId": "4c4a8097-560b-49f1-cb47-0950c28a9340"
      },
      "execution_count": 6,
      "outputs": [
        {
          "output_type": "stream",
          "name": "stdout",
          "text": [
            "True\n"
          ]
        }
      ]
    },
    {
      "cell_type": "markdown",
      "source": [
        "### what is computer??\n",
        "its an electronic device\n",
        "\n",
        "computer understands only binary language\n",
        "i.e., 0 and 1\n",
        "\n",
        "### what is the size of a movie ??\n",
        "5gb\n",
        "### what is the smallest unit of storage??\n",
        "BITS"
      ],
      "metadata": {
        "id": "etwGB6We6T33"
      }
    },
    {
      "cell_type": "markdown",
      "source": [
        "### Bitwise operator\n",
        "used in system development\n",
        "\n",
        "bitwise and - & :: both are true\n",
        "\n",
        "bitwise or - || :: atleast one true\n",
        "\n",
        "bitwise not - ~ :: opposite of the given t->f,f->t"
      ],
      "metadata": {
        "id": "_muKYtDQ7AZB"
      }
    },
    {
      "cell_type": "code",
      "source": [
        "a=5\n",
        "b=3"
      ],
      "metadata": {
        "id": "30fqkO5S5svk"
      },
      "execution_count": 9,
      "outputs": []
    },
    {
      "cell_type": "code",
      "source": [
        "print(bin(5))"
      ],
      "metadata": {
        "colab": {
          "base_uri": "https://localhost:8080/"
        },
        "id": "YEp0eo9U7RSw",
        "outputId": "ede4b4e6-4648-4d98-cc0d-f622f748a657"
      },
      "execution_count": 10,
      "outputs": [
        {
          "output_type": "stream",
          "name": "stdout",
          "text": [
            "0b101\n"
          ]
        }
      ]
    },
    {
      "cell_type": "code",
      "source": [
        "print(bin(3))"
      ],
      "metadata": {
        "colab": {
          "base_uri": "https://localhost:8080/"
        },
        "id": "LX24eQYM7bv4",
        "outputId": "b4cb8716-57a3-4be8-cffd-daac4ed9d902"
      },
      "execution_count": 11,
      "outputs": [
        {
          "output_type": "stream",
          "name": "stdout",
          "text": [
            "0b11\n"
          ]
        }
      ]
    },
    {
      "cell_type": "code",
      "source": [
        "a&b"
      ],
      "metadata": {
        "colab": {
          "base_uri": "https://localhost:8080/"
        },
        "id": "PIj4E7jf7drN",
        "outputId": "7eb0f996-e8cd-475f-9b71-0b2fae1e8022"
      },
      "execution_count": 12,
      "outputs": [
        {
          "output_type": "execute_result",
          "data": {
            "text/plain": [
              "1"
            ]
          },
          "metadata": {},
          "execution_count": 12
        }
      ]
    },
    {
      "cell_type": "code",
      "source": [
        "a|b"
      ],
      "metadata": {
        "colab": {
          "base_uri": "https://localhost:8080/"
        },
        "id": "84VVsrI97voX",
        "outputId": "cc1ac9f1-cc37-45a6-e3e7-6c6455c6c435"
      },
      "execution_count": 14,
      "outputs": [
        {
          "output_type": "execute_result",
          "data": {
            "text/plain": [
              "7"
            ]
          },
          "metadata": {},
          "execution_count": 14
        }
      ]
    },
    {
      "cell_type": "code",
      "source": [
        "~a"
      ],
      "metadata": {
        "colab": {
          "base_uri": "https://localhost:8080/"
        },
        "id": "yNUOJQua8LSY",
        "outputId": "3f9b1080-51ba-4e41-f4f6-15cc8e8de45e"
      },
      "execution_count": 16,
      "outputs": [
        {
          "output_type": "execute_result",
          "data": {
            "text/plain": [
              "-6"
            ]
          },
          "metadata": {},
          "execution_count": 16
        }
      ]
    },
    {
      "cell_type": "code",
      "source": [
        "~b"
      ],
      "metadata": {
        "colab": {
          "base_uri": "https://localhost:8080/"
        },
        "id": "cAgG1iUf8iHP",
        "outputId": "f26c5f3a-3aff-4e82-90bd-497dfde14802"
      },
      "execution_count": 17,
      "outputs": [
        {
          "output_type": "execute_result",
          "data": {
            "text/plain": [
              "-4"
            ]
          },
          "metadata": {},
          "execution_count": 17
        }
      ]
    },
    {
      "cell_type": "code",
      "source": [
        "print(\"hello\")\n",
        "print(\"how are you??\")\n",
        "print(\"good!!!\")"
      ],
      "metadata": {
        "colab": {
          "base_uri": "https://localhost:8080/"
        },
        "id": "9CK1XOqC85uo",
        "outputId": "d8df973a-b952-4434-c77b-366eabc6eeec"
      },
      "execution_count": 18,
      "outputs": [
        {
          "output_type": "stream",
          "name": "stdout",
          "text": [
            "hello\n",
            "how are you??\n",
            "good!!!\n"
          ]
        }
      ]
    },
    {
      "cell_type": "code",
      "source": [
        "\n",
        "print(\"hello\")\n",
        "  print(\"how are you??\")\n",
        "print(\"good!!!\")\n",
        "#indentation error\n"
      ],
      "metadata": {
        "colab": {
          "base_uri": "https://localhost:8080/",
          "height": 106
        },
        "id": "ybtXjiIw9i_e",
        "outputId": "c133573a-4c92-49a7-f2c4-05acfd4949b4"
      },
      "execution_count": 22,
      "outputs": [
        {
          "output_type": "error",
          "ename": "IndentationError",
          "evalue": "unexpected indent (ipython-input-1681721776.py, line 2)",
          "traceback": [
            "\u001b[0;36m  File \u001b[0;32m\"/tmp/ipython-input-1681721776.py\"\u001b[0;36m, line \u001b[0;32m2\u001b[0m\n\u001b[0;31m    print(\"how are you??\")\u001b[0m\n\u001b[0m    ^\u001b[0m\n\u001b[0;31mIndentationError\u001b[0m\u001b[0;31m:\u001b[0m unexpected indent\n"
          ]
        }
      ]
    },
    {
      "cell_type": "code",
      "source": [
        "a=40\n",
        "print(\"number a is positive\")"
      ],
      "metadata": {
        "colab": {
          "base_uri": "https://localhost:8080/"
        },
        "id": "Ey3rfMMZ9nKc",
        "outputId": "f3d20292-e3b5-4112-bb81-573f3bf532bf"
      },
      "execution_count": 23,
      "outputs": [
        {
          "output_type": "stream",
          "name": "stdout",
          "text": [
            "number a is positive\n"
          ]
        }
      ]
    },
    {
      "cell_type": "code",
      "source": [
        "print(a>0)"
      ],
      "metadata": {
        "colab": {
          "base_uri": "https://localhost:8080/"
        },
        "id": "ImcqhQLt-O0R",
        "outputId": "98ee8c0e-7d80-40ce-a6a4-23d6eebf5cb6"
      },
      "execution_count": 24,
      "outputs": [
        {
          "output_type": "stream",
          "name": "stdout",
          "text": [
            "True\n"
          ]
        }
      ]
    },
    {
      "cell_type": "markdown",
      "source": [
        "### Conditional statements\n",
        "\n",
        "\n",
        "*   if :: evaluating an statement only if the condition is true\n",
        "*   List item\n",
        "\n"
      ],
      "metadata": {
        "id": "-uJTEl3i-dAE"
      }
    },
    {
      "cell_type": "code",
      "source": [
        "a=30\n",
        "if a>0:\n",
        "  print(\"Number is positive\")\n",
        "print(\"Thank you\")"
      ],
      "metadata": {
        "colab": {
          "base_uri": "https://localhost:8080/"
        },
        "id": "xZzu1Zxu-RAP",
        "outputId": "1c87a9db-588d-463e-b35e-5a3d941c38cb"
      },
      "execution_count": 25,
      "outputs": [
        {
          "output_type": "stream",
          "name": "stdout",
          "text": [
            "Number is positive\n",
            "Thank you\n"
          ]
        }
      ]
    },
    {
      "cell_type": "code",
      "source": [
        "a=-30\n",
        "if a>0:\n",
        "  print(\"Number is positive\")\n",
        "print(\"Thank you\")"
      ],
      "metadata": {
        "colab": {
          "base_uri": "https://localhost:8080/"
        },
        "id": "hcw7CalI_H-H",
        "outputId": "50670c3c-63d0-40a0-e61d-42cdd2d48264"
      },
      "execution_count": 26,
      "outputs": [
        {
          "output_type": "stream",
          "name": "stdout",
          "text": [
            "Thank you\n"
          ]
        }
      ]
    },
    {
      "cell_type": "code",
      "source": [
        "a=10\n",
        "if a>0:\n",
        "  print(\"a is Positive\")\n",
        "else:\n",
        "  print(\"a is Negative\")\n",
        "print(\"Thank you\")"
      ],
      "metadata": {
        "colab": {
          "base_uri": "https://localhost:8080/"
        },
        "id": "Ono0rOdJ_VKu",
        "outputId": "ec6f0090-6eb7-4f44-ea12-a2e651ae79c0"
      },
      "execution_count": 27,
      "outputs": [
        {
          "output_type": "stream",
          "name": "stdout",
          "text": [
            "a is Positive\n",
            "Thank you\n"
          ]
        }
      ]
    },
    {
      "cell_type": "markdown",
      "source": [
        "Divisible,Divisibility"
      ],
      "metadata": {
        "id": "YAx_y1hEAJcq"
      }
    },
    {
      "cell_type": "code",
      "source": [
        "print(45%5) # 45 divisible by 5 and divisibility is 0\n",
        "print(2%3)"
      ],
      "metadata": {
        "colab": {
          "base_uri": "https://localhost:8080/"
        },
        "id": "aOrDT4ul_8qH",
        "outputId": "9b16ecf0-d1cc-47f2-e545-fc7c5364ea45"
      },
      "execution_count": 29,
      "outputs": [
        {
          "output_type": "stream",
          "name": "stdout",
          "text": [
            "0\n",
            "2\n"
          ]
        }
      ]
    },
    {
      "cell_type": "markdown",
      "source": [
        "### EVEN and ODD"
      ],
      "metadata": {
        "id": "P1GqY01KAb7r"
      }
    },
    {
      "cell_type": "code",
      "source": [
        "a=227\n",
        "if a%2==0:\n",
        "  print(\"EVEN\")\n",
        "else:\n",
        "  print(\"ODD\")\n",
        "print(\"Thank you\")"
      ],
      "metadata": {
        "colab": {
          "base_uri": "https://localhost:8080/"
        },
        "id": "FXAdFt7AAUZs",
        "outputId": "81c8578c-b062-4414-97ad-0735d1e9377b"
      },
      "execution_count": 30,
      "outputs": [
        {
          "output_type": "stream",
          "name": "stdout",
          "text": [
            "ODD\n",
            "Thank you\n"
          ]
        }
      ]
    },
    {
      "cell_type": "markdown",
      "source": [
        "multiple conditions\n",
        "\n",
        "if .... elif ....  else"
      ],
      "metadata": {
        "id": "yVC-4r1rAs8z"
      }
    },
    {
      "cell_type": "code",
      "source": [
        "a=100\n",
        "if a==20:\n",
        "  print(\"a is 20\")\n",
        "elif a==50:\n",
        "  print(\"a is 50\")\n",
        "else:\n",
        "  print(\"no matching number\")"
      ],
      "metadata": {
        "colab": {
          "base_uri": "https://localhost:8080/"
        },
        "id": "hWQQsgPuAp17",
        "outputId": "56f660da-4fe2-4d76-d323-993b267a46ac"
      },
      "execution_count": 31,
      "outputs": [
        {
          "output_type": "stream",
          "name": "stdout",
          "text": [
            "no matching number\n"
          ]
        }
      ]
    },
    {
      "cell_type": "code",
      "source": [],
      "metadata": {
        "id": "8ix-WLBOBgQM"
      },
      "execution_count": null,
      "outputs": []
    }
  ]
}