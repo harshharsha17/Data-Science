{
 "cells": [
  {
   "cell_type": "markdown",
   "id": "048f2e85-1ba9-4e57-b85a-fe9c4ea98541",
   "metadata": {},
   "source": [
    "data types"
   ]
  },
  {
   "cell_type": "markdown",
   "id": "98c2e1f4-cc9c-44bf-90b4-ddbbb97e682e",
   "metadata": {},
   "source": [
    "int float string bool"
   ]
  },
  {
   "cell_type": "markdown",
   "id": "eca17998-736b-4a7b-a48e-41782fe2b182",
   "metadata": {},
   "source": [
    "### operators ###"
   ]
  },
  {
   "cell_type": "markdown",
   "id": "a396be25-3e3b-4e8b-8f63-d19e883ef796",
   "metadata": {},
   "source": [
    "- arithmetic operators\n",
    "- comparision operators\n",
    "- logical operators\n",
    "- assignment operators"
   ]
  },
  {
   "cell_type": "markdown",
   "id": "3fd26332-f3c5-4474-b4a8-01720f2fa049",
   "metadata": {},
   "source": [
    "### arithmetic operators ###"
   ]
  },
  {
   "cell_type": "markdown",
   "id": "ddfa1649-c68a-4269-bbe0-7832cf27e630",
   "metadata": {},
   "source": [
    "+:addition,\n",
    "-:subtraction,\n",
    "*:multiplication,\n",
    "/:division,\n",
    "%:remainder,\n",
    "**:square\n",
    "//:integer division"
   ]
  },
  {
   "cell_type": "code",
   "execution_count": 17,
   "id": "061fcc79-7c1d-43fe-b077-f9b781df3d82",
   "metadata": {},
   "outputs": [
    {
     "name": "stdout",
     "output_type": "stream",
     "text": [
      "add: 15\n",
      "sub: 5\n",
      "multiply: 50\n",
      "div: 2.0\n",
      "square: 100000\n",
      "remainder: 0\n",
      "integer division: 2\n"
     ]
    }
   ],
   "source": [
    "a=10\n",
    "b=5\n",
    "print(\"add:\",a+b)\n",
    "print(\"sub:\",a-b)\n",
    "print(\"multiply:\",a*b)\n",
    "print(\"div:\",a/b)\n",
    "print(\"square:\",a**b)\n",
    "print(\"remainder:\",a%b)\n",
    "print(\"integer division:\",a//b)"
   ]
  },
  {
   "cell_type": "markdown",
   "id": "4df57c49-a0fd-43e3-a4d6-d28f4e90df97",
   "metadata": {},
   "source": [
    "### comparision operators ###"
   ]
  },
  {
   "cell_type": "markdown",
   "id": "490ab3a1-40df-47aa-b76e-c43e03c50f78",
   "metadata": {},
   "source": [
    "==,<=,>=,<,>,!="
   ]
  },
  {
   "cell_type": "code",
   "execution_count": 26,
   "id": "415ae5c6-3c95-44ae-b321-eb701b201fd5",
   "metadata": {},
   "outputs": [
    {
     "name": "stdout",
     "output_type": "stream",
     "text": [
      "equal: False\n",
      "not equal: True\n",
      "greater: True\n",
      "lesser: False\n",
      "greater or equal: True\n",
      "lesser or equal: False\n"
     ]
    }
   ],
   "source": [
    "print(\"equal:\",a==b)\n",
    "print(\"not equal:\",a!=b)\n",
    "print(\"greater:\",a>b)\n",
    "print(\"lesser:\",a<b)\n",
    "print(\"greater or equal:\",a>=b)\n",
    "print(\"lesser or equal:\",a<=b)\n"
   ]
  },
  {
   "cell_type": "markdown",
   "id": "4c105149-75e2-4dc6-8a74-c660384215b1",
   "metadata": {},
   "source": [
    "### logical operators ###"
   ]
  },
  {
   "cell_type": "markdown",
   "id": "87b36c68-ffa5-4855-b358-b77ad6df9ce7",
   "metadata": {},
   "source": [
    "and : both are true\n",
    "or : any one is true\n",
    "not : opposite of it"
   ]
  },
  {
   "cell_type": "markdown",
   "id": "41f13cdb-4d21-4ead-b40a-06549d37bf56",
   "metadata": {},
   "source": [
    "ex: username and password"
   ]
  },
  {
   "cell_type": "code",
   "execution_count": 35,
   "id": "6627bf43-b5a1-4f25-a391-c23e47729fa5",
   "metadata": {},
   "outputs": [],
   "source": [
    "username='harshharsha4'\n",
    "password='harsh44'\n",
    "otp=5227"
   ]
  },
  {
   "cell_type": "code",
   "execution_count": 37,
   "id": "c189d533-340b-4d88-9d58-19946f056107",
   "metadata": {},
   "outputs": [
    {
     "data": {
      "text/plain": [
       "False"
      ]
     },
     "execution_count": 37,
     "metadata": {},
     "output_type": "execute_result"
    }
   ],
   "source": [
    "username=='harsh' and password=='harsha'"
   ]
  },
  {
   "cell_type": "code",
   "execution_count": 41,
   "id": "ee4b7382-66e4-4344-8a49-4de749d6d424",
   "metadata": {},
   "outputs": [
    {
     "data": {
      "text/plain": [
       "True"
      ]
     },
     "execution_count": 41,
     "metadata": {},
     "output_type": "execute_result"
    }
   ],
   "source": [
    "username=='harshharsha4' or password=='harsh44'"
   ]
  },
  {
   "cell_type": "code",
   "execution_count": 43,
   "id": "8a87907a-1af8-44d3-b750-46ea07a570f8",
   "metadata": {},
   "outputs": [
    {
     "data": {
      "text/plain": [
       "True"
      ]
     },
     "execution_count": 43,
     "metadata": {},
     "output_type": "execute_result"
    }
   ],
   "source": [
    "username=='harshharsha4' and (password=='harsh4' or otp==5227)"
   ]
  },
  {
   "cell_type": "code",
   "execution_count": 47,
   "id": "fe84f2a4-65e2-4fcc-95ee-f767017bc7eb",
   "metadata": {},
   "outputs": [
    {
     "data": {
      "text/plain": [
       "True"
      ]
     },
     "execution_count": 47,
     "metadata": {},
     "output_type": "execute_result"
    }
   ],
   "source": [
    "age=23\n",
    "not(age==18)"
   ]
  },
  {
   "cell_type": "markdown",
   "id": "91137932-94f7-4eb4-bb27-a83ec3984814",
   "metadata": {},
   "source": [
    "### assignmnet operators ###"
   ]
  },
  {
   "cell_type": "markdown",
   "id": "6d4c94f8-590a-48d6-97ac-cb9e722a8660",
   "metadata": {},
   "source": [
    "==\n",
    "+=\n",
    "-=\n",
    "*=\n",
    "/=\n",
    "**=\n",
    "//="
   ]
  },
  {
   "cell_type": "code",
   "execution_count": 51,
   "id": "9638f210-e60d-47ef-b953-0acfa96f814a",
   "metadata": {},
   "outputs": [],
   "source": [
    "bal=500\n",
    "dep=300\n",
    "wdl=50"
   ]
  },
  {
   "cell_type": "code",
   "execution_count": 63,
   "id": "c856e28d-15a9-47ee-a0fd-37168e5512d8",
   "metadata": {},
   "outputs": [
    {
     "data": {
      "text/plain": [
       "1700"
      ]
     },
     "execution_count": 63,
     "metadata": {},
     "output_type": "execute_result"
    }
   ],
   "source": [
    "bal+=dep\n",
    "bal #4TIMES"
   ]
  },
  {
   "cell_type": "code",
   "execution_count": 75,
   "id": "237a86bf-42e3-4b64-ac2f-9b35a9bc3f6f",
   "metadata": {},
   "outputs": [
    {
     "data": {
      "text/plain": [
       "1400"
      ]
     },
     "execution_count": 75,
     "metadata": {},
     "output_type": "execute_result"
    }
   ],
   "source": [
    "bal-=wdl\n",
    "bal#6times"
   ]
  },
  {
   "cell_type": "code",
   "execution_count": null,
   "id": "3038d76b-4d6f-4ca8-a1b0-fb8c00ea6929",
   "metadata": {},
   "outputs": [],
   "source": []
  }
 ],
 "metadata": {
  "kernelspec": {
   "display_name": "Python [conda env:base] *",
   "language": "python",
   "name": "conda-base-py"
  },
  "language_info": {
   "codemirror_mode": {
    "name": "ipython",
    "version": 3
   },
   "file_extension": ".py",
   "mimetype": "text/x-python",
   "name": "python",
   "nbconvert_exporter": "python",
   "pygments_lexer": "ipython3",
   "version": "3.12.7"
  }
 },
 "nbformat": 4,
 "nbformat_minor": 5
}
