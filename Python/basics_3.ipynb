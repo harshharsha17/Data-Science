{
 "cells": [
  {
   "cell_type": "markdown",
   "id": "c3e775b5-b4e2-4d12-8a35-841fc2408c81",
   "metadata": {},
   "source": [
    "### control statements ###"
   ]
  },
  {
   "cell_type": "markdown",
   "id": "f9c9f11a-1be5-4d88-87fa-c7526e16de7e",
   "metadata": {},
   "source": [
    "- if\n",
    "- if else\n",
    "- if elif else\n",
    "- nested if"
   ]
  },
  {
   "cell_type": "markdown",
   "id": "80da0008-b7e8-4ced-80b1-540e1f5059bd",
   "metadata": {},
   "source": [
    "## if ##"
   ]
  },
  {
   "cell_type": "code",
   "execution_count": 9,
   "id": "5ea7f45e-f7c6-474a-b16c-166d24618090",
   "metadata": {},
   "outputs": [
    {
     "name": "stdout",
     "output_type": "stream",
     "text": [
      "you are eligible for voting\n"
     ]
    }
   ],
   "source": [
    "age = 30\n",
    "if age>=1:\n",
    "    print(\"you are eligible for voting\")"
   ]
  },
  {
   "cell_type": "markdown",
   "id": "b9e83085-6c93-49c5-8eeb-2cc7738859d9",
   "metadata": {},
   "source": [
    "## if else ##"
   ]
  },
  {
   "cell_type": "code",
   "execution_count": 11,
   "id": "88b431a4-d059-4e07-8047-977f6788643a",
   "metadata": {},
   "outputs": [
    {
     "name": "stdout",
     "output_type": "stream",
     "text": [
      "you are not eligible\n"
     ]
    }
   ],
   "source": [
    "age = 10\n",
    "if age>=18:\n",
    "    print(\"you are eligible for voting\")\n",
    "else:\n",
    "    print(\"you are not eligible\")"
   ]
  },
  {
   "cell_type": "markdown",
   "id": "0f8ad236-e01b-4fa8-8e9b-08cded754505",
   "metadata": {},
   "source": [
    "## example: login ##"
   ]
  },
  {
   "cell_type": "code",
   "execution_count": 17,
   "id": "f4e02ce7-513c-41ba-8f79-fd2eb28e3019",
   "metadata": {},
   "outputs": [],
   "source": [
    "username = \"abc\"\n",
    "pwd=5227"
   ]
  },
  {
   "cell_type": "code",
   "execution_count": 21,
   "id": "6a8493e5-4aa2-4571-b710-caca59d1aa24",
   "metadata": {},
   "outputs": [
    {
     "name": "stdout",
     "output_type": "stream",
     "text": [
      "login page opened\n"
     ]
    }
   ],
   "source": [
    "if username == \"abc\" and pwd==5227 :\n",
    "    print(\"login page opened\")\n",
    "else:\n",
    "    print(\"invalid\")"
   ]
  },
  {
   "cell_type": "markdown",
   "id": "3f4ef49e-80ae-437e-8417-0811c000e95a",
   "metadata": {},
   "source": [
    "## if elif else ##"
   ]
  },
  {
   "cell_type": "code",
   "execution_count": 24,
   "id": "322e8f69-3b45-4135-b37c-6f0b98afe0d5",
   "metadata": {},
   "outputs": [],
   "source": [
    "exp=2"
   ]
  },
  {
   "cell_type": "code",
   "execution_count": 26,
   "id": "b45a0e34-baff-4908-ab52-5cae1fc2b505",
   "metadata": {},
   "outputs": [
    {
     "name": "stdout",
     "output_type": "stream",
     "text": [
      "you are eligible for data scientist\n"
     ]
    }
   ],
   "source": [
    "if exp>=0 and exp<2:\n",
    "    print(\"you are eligible for data analyst\")\n",
    "elif exp>=2 and exp<4:\n",
    "    print(\"you are eligible for data scientist\")\n",
    "elif exp>=4 and exp<8:\n",
    "    print(\"you are eligible for sr.data scientist\")\n",
    "elif exp>=8 and exp<12:\n",
    "    print(\"you are eligible for ai engineer\")\n",
    "else:\n",
    "    print(\"you are eligible for managers\")"
   ]
  },
  {
   "cell_type": "markdown",
   "id": "688cb753-ac0d-4d62-acc1-e17d29feecac",
   "metadata": {},
   "source": [
    "## nested if ##"
   ]
  },
  {
   "cell_type": "code",
   "execution_count": 53,
   "id": "9c45e156-f6ca-492d-86f6-c4a58402d355",
   "metadata": {},
   "outputs": [],
   "source": [
    "atm='card'\n",
    "pwd=1011\n",
    "bank='union'\n",
    "balance=40000\n",
    "withdraw=4000"
   ]
  },
  {
   "cell_type": "code",
   "execution_count": 33,
   "id": "a40691be-967c-46f3-aa1e-f41bf46c499f",
   "metadata": {},
   "outputs": [],
   "source": [
    "atm='cdsv'"
   ]
  },
  {
   "cell_type": "code",
   "execution_count": 47,
   "id": "d5fb6e7d-e173-467e-8212-f9630c00c4e7",
   "metadata": {},
   "outputs": [],
   "source": [
    "pwd=31156"
   ]
  },
  {
   "cell_type": "code",
   "execution_count": 55,
   "id": "667da1df-2471-44e0-9014-89786ed43b71",
   "metadata": {},
   "outputs": [],
   "source": [
    "bank='sbi'"
   ]
  },
  {
   "cell_type": "code",
   "execution_count": 57,
   "id": "00a5362f-b806-4b3e-b1bc-436556e572fa",
   "metadata": {},
   "outputs": [
    {
     "name": "stdout",
     "output_type": "stream",
     "text": [
      "enter the amount less that 2000\n"
     ]
    }
   ],
   "source": [
    "if atm=='card' :\n",
    "    if pwd==1011 :\n",
    "        if bank=='union':\n",
    "            if withdraw<balance :\n",
    "                print(\"collect the amount\")\n",
    "            else:\n",
    "                print(\"insufficient balance\")\n",
    "        else:\n",
    "            if withdraw<3000<balance:\n",
    "                print(\"collect the amount\")\n",
    "            else:\n",
    "                print(\"enter the amount less that 2000\")\n",
    "    else:\n",
    "        print(\"invalid password\")\n",
    "else:\n",
    "    print(\"enter the card properly\")"
   ]
  },
  {
   "cell_type": "markdown",
   "id": "8c8a08e3-21e3-40a2-86a7-155446c49d00",
   "metadata": {},
   "source": [
    "#### loops ####\n",
    "any task if we do continuously"
   ]
  },
  {
   "cell_type": "markdown",
   "id": "71240e44-7008-4e2e-b45e-209f07b51118",
   "metadata": {},
   "source": [
    "### for ###"
   ]
  },
  {
   "cell_type": "code",
   "execution_count": 67,
   "id": "13ea7a0d-96d9-439c-9b3c-28242f259ee2",
   "metadata": {},
   "outputs": [],
   "source": [
    "#for i in range "
   ]
  },
  {
   "cell_type": "code",
   "execution_count": 61,
   "id": "fc7e1ed7-86c0-4a4c-be57-d0bbd5709a71",
   "metadata": {},
   "outputs": [
    {
     "name": "stdout",
     "output_type": "stream",
     "text": [
      "1\n",
      "2\n",
      "3\n",
      "4\n",
      "5\n",
      "6\n",
      "7\n",
      "8\n",
      "9\n",
      "10\n"
     ]
    }
   ],
   "source": [
    "for i in range(1,11):\n",
    "    print(i)"
   ]
  },
  {
   "cell_type": "code",
   "execution_count": 69,
   "id": "11e78ccc-dd6c-4396-88b9-42034706659e",
   "metadata": {},
   "outputs": [],
   "source": [
    "#for i in list"
   ]
  },
  {
   "cell_type": "code",
   "execution_count": 63,
   "id": "48e02b35-aede-46b1-aca6-b03ef2a9cd76",
   "metadata": {},
   "outputs": [
    {
     "name": "stdout",
     "output_type": "stream",
     "text": [
      "[23, 12, 45, 78, 21, 20, 18]\n"
     ]
    }
   ],
   "source": [
    "age=[23,12,45,78,21,20,18]\n",
    "print(age)"
   ]
  },
  {
   "cell_type": "code",
   "execution_count": 65,
   "id": "20d2cec0-32d2-4977-b142-aad4f1c768c1",
   "metadata": {},
   "outputs": [
    {
     "name": "stdout",
     "output_type": "stream",
     "text": [
      "23\n",
      "12\n",
      "45\n",
      "78\n",
      "21\n",
      "20\n",
      "18\n"
     ]
    }
   ],
   "source": [
    "for i in age:\n",
    "    print(i)"
   ]
  },
  {
   "cell_type": "code",
   "execution_count": 71,
   "id": "58b68238-48d7-4819-8a48-b8352b141d9e",
   "metadata": {},
   "outputs": [
    {
     "data": {
      "text/plain": [
       "217"
      ]
     },
     "execution_count": 71,
     "metadata": {},
     "output_type": "execute_result"
    }
   ],
   "source": [
    "sum(age)"
   ]
  },
  {
   "cell_type": "code",
   "execution_count": 73,
   "id": "38a14ebb-352d-4985-aa83-2c51ba5a3be0",
   "metadata": {},
   "outputs": [
    {
     "data": {
      "text/plain": [
       "7"
      ]
     },
     "execution_count": 73,
     "metadata": {},
     "output_type": "execute_result"
    }
   ],
   "source": [
    "len(age)"
   ]
  },
  {
   "cell_type": "code",
   "execution_count": 77,
   "id": "597ab0e1-3c2a-43f5-b39e-54fb12c20412",
   "metadata": {},
   "outputs": [
    {
     "data": {
      "text/plain": [
       "31.0"
      ]
     },
     "execution_count": 77,
     "metadata": {},
     "output_type": "execute_result"
    }
   ],
   "source": [
    "avg=sum(age)/len(age)\n",
    "avg"
   ]
  },
  {
   "cell_type": "code",
   "execution_count": 83,
   "id": "8fe87ce7-2f6a-441f-8e66-d418f8530edd",
   "metadata": {},
   "outputs": [
    {
     "name": "stdout",
     "output_type": "stream",
     "text": [
      "45\n",
      "78\n"
     ]
    }
   ],
   "source": [
    "for i in age:\n",
    "    if i > avg:\n",
    "        print(i)"
   ]
  },
  {
   "cell_type": "markdown",
   "id": "cad482a4-3204-423f-8289-a17a60929f5d",
   "metadata": {},
   "source": [
    "#### functions ####\n",
    "- block of code, where we can use in multiple places for diff scenarios\n",
    "- two types\n",
    "- predefined: already exists \n",
    "- user defined: we users will define,temporary storage "
   ]
  },
  {
   "cell_type": "code",
   "execution_count": 92,
   "id": "49f40ae8-9f4d-46d1-81fb-b138068a0dcc",
   "metadata": {},
   "outputs": [],
   "source": [
    "def sqr(x):\n",
    "    return x**2"
   ]
  },
  {
   "cell_type": "code",
   "execution_count": 94,
   "id": "dc9710d8-a60e-4d04-88f9-aab782b86514",
   "metadata": {},
   "outputs": [
    {
     "data": {
      "text/plain": [
       "100"
      ]
     },
     "execution_count": 94,
     "metadata": {},
     "output_type": "execute_result"
    }
   ],
   "source": [
    "sqr(10)"
   ]
  },
  {
   "cell_type": "code",
   "execution_count": 96,
   "id": "95941011-a783-4649-b671-2b1615a45a5b",
   "metadata": {},
   "outputs": [],
   "source": [
    "def fun(x):\n",
    "    return (2*x)+1"
   ]
  },
  {
   "cell_type": "code",
   "execution_count": 98,
   "id": "197b39ef-7e16-47fc-af85-4086f657a814",
   "metadata": {},
   "outputs": [
    {
     "data": {
      "text/plain": [
       "5"
      ]
     },
     "execution_count": 98,
     "metadata": {},
     "output_type": "execute_result"
    }
   ],
   "source": [
    "fun(2)"
   ]
  },
  {
   "cell_type": "code",
   "execution_count": 101,
   "id": "01b32b82-ed70-4f45-a3f0-17aef4b2f1b9",
   "metadata": {},
   "outputs": [],
   "source": [
    "def eq(a,b):\n",
    "    c=a+b+1\n",
    "    print(\"if a=\",a,\"and b=\",b,\"then total is\",c)"
   ]
  },
  {
   "cell_type": "code",
   "execution_count": 103,
   "id": "3171ca83-4679-43df-8b90-946fb47f286e",
   "metadata": {},
   "outputs": [
    {
     "name": "stdout",
     "output_type": "stream",
     "text": [
      "if a= 1 and b= 2 then total is 4\n"
     ]
    }
   ],
   "source": [
    "eq(1,2)"
   ]
  },
  {
   "cell_type": "code",
   "execution_count": null,
   "id": "7e325686-f81c-487c-bbab-024801750831",
   "metadata": {},
   "outputs": [],
   "source": []
  }
 ],
 "metadata": {
  "kernelspec": {
   "display_name": "Python [conda env:base] *",
   "language": "python",
   "name": "conda-base-py"
  },
  "language_info": {
   "codemirror_mode": {
    "name": "ipython",
    "version": 3
   },
   "file_extension": ".py",
   "mimetype": "text/x-python",
   "name": "python",
   "nbconvert_exporter": "python",
   "pygments_lexer": "ipython3",
   "version": "3.12.7"
  }
 },
 "nbformat": 4,
 "nbformat_minor": 5
}
