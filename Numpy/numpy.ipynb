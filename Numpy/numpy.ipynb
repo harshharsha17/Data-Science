{
 "cells": [
  {
   "cell_type": "code",
   "execution_count": 27,
   "id": "ea365a2e-c7c9-45a0-af7f-7fdad77d9969",
   "metadata": {},
   "outputs": [
    {
     "data": {
      "text/plain": [
       "array([24, 21, 20, 18])"
      ]
     },
     "execution_count": 27,
     "metadata": {},
     "output_type": "execute_result"
    }
   ],
   "source": [
    "import numpy as np\n",
    "age = np.array([24,21,20,18])# give the elements in the list in normal braces\n",
    "age"
   ]
  },
  {
   "cell_type": "code",
   "execution_count": 3,
   "id": "a04313b0-f231-426a-ae8e-3f50c0c67868",
   "metadata": {},
   "outputs": [
    {
     "data": {
      "text/plain": [
       "array([[24],\n",
       "       [21],\n",
       "       [20],\n",
       "       [18]])"
      ]
     },
     "execution_count": 3,
     "metadata": {},
     "output_type": "execute_result"
    }
   ],
   "source": [
    "age = np.array([[24],[21],[20],[18]])\n",
    "age"
   ]
  },
  {
   "cell_type": "code",
   "execution_count": 9,
   "id": "1417522d-69ce-40f0-b595-5d5046a93a18",
   "metadata": {},
   "outputs": [
    {
     "name": "stdout",
     "output_type": "stream",
     "text": [
      "array of age,height,weight\n",
      " [[ 24 170  50]\n",
      " [ 21 165  45]\n",
      " [ 20 167  50]\n",
      " [ 18 158  52]]\n"
     ]
    }
   ],
   "source": [
    "data=np.array([[24,170,50],[21,165,45],[20,167,50],[18,158,52]])\n",
    "print(\"array of age,height,weight\\n\",data)"
   ]
  },
  {
   "cell_type": "code",
   "execution_count": 11,
   "id": "57b8183f-6a79-4c88-ac57-db9ed271c99a",
   "metadata": {},
   "outputs": [
    {
     "data": {
      "text/plain": [
       "(4, 3)"
      ]
     },
     "execution_count": 11,
     "metadata": {},
     "output_type": "execute_result"
    }
   ],
   "source": [
    "#rows and columns\n",
    "data.shape"
   ]
  },
  {
   "cell_type": "code",
   "execution_count": 15,
   "id": "7c5262e4-1e58-4a4d-b25e-a1f827f8678c",
   "metadata": {},
   "outputs": [
    {
     "name": "stdout",
     "output_type": "stream",
     "text": [
      "ages:\n",
      " [[24]\n",
      " [21]\n",
      " [20]\n",
      " [18]]\n"
     ]
    }
   ],
   "source": [
    "# i need only age so age is in 0th column and which column (row,columns(n-1))\n",
    "data[ : ,0:1] # age (0,0) so n-1=1-1=0\n",
    "print(\"ages:\\n\" ,data[:,0:1])"
   ]
  },
  {
   "cell_type": "code",
   "execution_count": 19,
   "id": "1d9efc23-cd24-4cbd-ab77-62b8e9084937",
   "metadata": {},
   "outputs": [
    {
     "name": "stdout",
     "output_type": "stream",
     "text": [
      "*** Statistics for ages ***\n",
      "Mean: 20.75\n",
      "Median: 20.5\n",
      "std: 2.165063509461097\n",
      "var: 4.6875\n",
      "Min: 18\n",
      "Max: 24\n"
     ]
    }
   ],
   "source": [
    "# now statistical values\n",
    "print(\"*** Statistics for ages ***\")\n",
    "print(\"Mean:\",np.mean(data[:,0:1]))\n",
    "print(\"Median:\",np.median(data[:,0:1]))\n",
    "print(\"std:\",np.std(data[:,0:1]))\n",
    "print(\"var:\",np.var(data[:,0:1]))\n",
    "print(\"Min:\",np.min(data[:,0:1]))\n",
    "print(\"Max:\",np.max(data[:,0:1]))\n",
    "#print(\"Mode:\",np.mode(data[:,0:1])) # we dont have mode in numpy library so we will get error"
   ]
  },
  {
   "cell_type": "code",
   "execution_count": 25,
   "id": "cc6c1bcc-71fc-448c-a6e5-dbae15d00841",
   "metadata": {},
   "outputs": [
    {
     "name": "stdout",
     "output_type": "stream",
     "text": [
      "heights:\n",
      " [[170]\n",
      " [165]\n",
      " [167]\n",
      " [158]]\n"
     ]
    }
   ],
   "source": [
    "#heights - height is in (1,1) column 1 is 1st row and 2 is for n-1 its like slicing the array  \n",
    "data[:,1:2]\n",
    "print(\"heights:\\n\",data[:,1:2])"
   ]
  },
  {
   "cell_type": "code",
   "execution_count": 23,
   "id": "450b6601-03f4-475f-9b1f-1c641af85fec",
   "metadata": {},
   "outputs": [
    {
     "name": "stdout",
     "output_type": "stream",
     "text": [
      "*** Statistics for heights ***\n",
      "Mean: 165.0\n",
      "Median: 166.0\n",
      "std: 4.415880433163924\n",
      "var: 19.5\n",
      "Min: 158\n",
      "Max: 170\n"
     ]
    }
   ],
   "source": [
    "# now statistical values\n",
    "print(\"*** Statistics for heights ***\")\n",
    "print(\"Mean:\",np.mean(data[:,1:2]))\n",
    "print(\"Median:\",np.median(data[:,1:2]))\n",
    "print(\"std:\",np.std(data[:,1:2]))\n",
    "print(\"var:\",np.var(data[:,1:2]))\n",
    "print(\"Min:\",np.min(data[:,1:2]))\n",
    "print(\"Max:\",np.max(data[:,1:2]))\n",
    "#print(\"Mode:\",np.mode(data[:,0:1])) # we dont have mode in numpy library so we will get error"
   ]
  },
  {
   "cell_type": "code",
   "execution_count": 33,
   "id": "55c9d790-3627-4f4d-9e07-f111cfb95c3a",
   "metadata": {},
   "outputs": [
    {
     "data": {
      "text/plain": [
       "array([98, 90, 35, 30, 17, 90, 49, 84, 96, 37])"
      ]
     },
     "execution_count": 33,
     "metadata": {},
     "output_type": "execute_result"
    }
   ],
   "source": [
    "random=np.random.randint(10,100,size=10) # for random integers int the form of an array \n",
    "random"
   ]
  },
  {
   "cell_type": "code",
   "execution_count": 48,
   "id": "8c635ab8-e688-437d-a66f-be9c7a222c4f",
   "metadata": {},
   "outputs": [
    {
     "data": {
      "text/plain": [
       "1"
      ]
     },
     "execution_count": 48,
     "metadata": {},
     "output_type": "execute_result"
    }
   ],
   "source": [
    "random.ndim"
   ]
  },
  {
   "cell_type": "code",
   "execution_count": 46,
   "id": "7e4040fb-e711-4efe-9935-04e2969ee090",
   "metadata": {},
   "outputs": [
    {
     "data": {
      "text/plain": [
       "array([[20, 76, 27, 45],\n",
       "       [41, 97, 26, 36],\n",
       "       [51, 56, 72, 82]])"
      ]
     },
     "execution_count": 46,
     "metadata": {},
     "output_type": "execute_result"
    }
   ],
   "source": [
    "ran=np.random.randint(10,100,size=(3,4)) #for random 2d array in size we are giving how many rows and columns\n",
    "ran"
   ]
  },
  {
   "cell_type": "code",
   "execution_count": 44,
   "id": "e264f3f5-972e-4171-9cef-99800b013f5b",
   "metadata": {},
   "outputs": [
    {
     "data": {
      "text/plain": [
       "2"
      ]
     },
     "execution_count": 44,
     "metadata": {},
     "output_type": "execute_result"
    }
   ],
   "source": [
    "ran.ndim"
   ]
  },
  {
   "cell_type": "code",
   "execution_count": 54,
   "id": "4aedf152-310d-4d38-96ff-b1dffc9c7202",
   "metadata": {},
   "outputs": [
    {
     "data": {
      "text/plain": [
       "array([7443])"
      ]
     },
     "execution_count": 54,
     "metadata": {},
     "output_type": "execute_result"
    }
   ],
   "source": [
    "otp=np.random.randint(1000,9999,size=1)\n",
    "otp"
   ]
  },
  {
   "cell_type": "code",
   "execution_count": 58,
   "id": "9c8929e5-9ebc-424c-8c25-9f0973a4860d",
   "metadata": {},
   "outputs": [
    {
     "data": {
      "text/plain": [
       "numpy.ndarray"
      ]
     },
     "execution_count": 58,
     "metadata": {},
     "output_type": "execute_result"
    }
   ],
   "source": [
    "type(data)"
   ]
  },
  {
   "cell_type": "code",
   "execution_count": 56,
   "id": "6bbcad97-25fc-4704-b7b2-3778df2e827d",
   "metadata": {},
   "outputs": [],
   "source": [
    "import pandas as pd"
   ]
  },
  {
   "cell_type": "code",
   "execution_count": 60,
   "id": "75f35325-3b44-4270-a56b-9b6dd70483bf",
   "metadata": {},
   "outputs": [
    {
     "data": {
      "text/html": [
       "<div>\n",
       "<style scoped>\n",
       "    .dataframe tbody tr th:only-of-type {\n",
       "        vertical-align: middle;\n",
       "    }\n",
       "\n",
       "    .dataframe tbody tr th {\n",
       "        vertical-align: top;\n",
       "    }\n",
       "\n",
       "    .dataframe thead th {\n",
       "        text-align: right;\n",
       "    }\n",
       "</style>\n",
       "<table border=\"1\" class=\"dataframe\">\n",
       "  <thead>\n",
       "    <tr style=\"text-align: right;\">\n",
       "      <th></th>\n",
       "      <th>0</th>\n",
       "      <th>1</th>\n",
       "      <th>2</th>\n",
       "    </tr>\n",
       "  </thead>\n",
       "  <tbody>\n",
       "    <tr>\n",
       "      <th>0</th>\n",
       "      <td>24</td>\n",
       "      <td>170</td>\n",
       "      <td>50</td>\n",
       "    </tr>\n",
       "    <tr>\n",
       "      <th>1</th>\n",
       "      <td>21</td>\n",
       "      <td>165</td>\n",
       "      <td>45</td>\n",
       "    </tr>\n",
       "    <tr>\n",
       "      <th>2</th>\n",
       "      <td>20</td>\n",
       "      <td>167</td>\n",
       "      <td>50</td>\n",
       "    </tr>\n",
       "    <tr>\n",
       "      <th>3</th>\n",
       "      <td>18</td>\n",
       "      <td>158</td>\n",
       "      <td>52</td>\n",
       "    </tr>\n",
       "  </tbody>\n",
       "</table>\n",
       "</div>"
      ],
      "text/plain": [
       "    0    1   2\n",
       "0  24  170  50\n",
       "1  21  165  45\n",
       "2  20  167  50\n",
       "3  18  158  52"
      ]
     },
     "execution_count": 60,
     "metadata": {},
     "output_type": "execute_result"
    }
   ],
   "source": [
    "df=pd.DataFrame(data)\n",
    "df"
   ]
  },
  {
   "cell_type": "code",
   "execution_count": 62,
   "id": "65743d3c-4c3e-4015-a6b6-d18f0f2ad6e3",
   "metadata": {},
   "outputs": [
    {
     "data": {
      "text/plain": [
       "pandas.core.frame.DataFrame"
      ]
     },
     "execution_count": 62,
     "metadata": {},
     "output_type": "execute_result"
    }
   ],
   "source": [
    "type(df)"
   ]
  },
  {
   "cell_type": "code",
   "execution_count": 64,
   "id": "48476e36-2e92-4120-9e61-e24714469d9a",
   "metadata": {},
   "outputs": [
    {
     "data": {
      "text/html": [
       "<div>\n",
       "<style scoped>\n",
       "    .dataframe tbody tr th:only-of-type {\n",
       "        vertical-align: middle;\n",
       "    }\n",
       "\n",
       "    .dataframe tbody tr th {\n",
       "        vertical-align: top;\n",
       "    }\n",
       "\n",
       "    .dataframe thead th {\n",
       "        text-align: right;\n",
       "    }\n",
       "</style>\n",
       "<table border=\"1\" class=\"dataframe\">\n",
       "  <thead>\n",
       "    <tr style=\"text-align: right;\">\n",
       "      <th></th>\n",
       "      <th>age</th>\n",
       "      <th>height</th>\n",
       "      <th>weight</th>\n",
       "    </tr>\n",
       "  </thead>\n",
       "  <tbody>\n",
       "    <tr>\n",
       "      <th>0</th>\n",
       "      <td>24</td>\n",
       "      <td>170</td>\n",
       "      <td>50</td>\n",
       "    </tr>\n",
       "    <tr>\n",
       "      <th>1</th>\n",
       "      <td>21</td>\n",
       "      <td>165</td>\n",
       "      <td>45</td>\n",
       "    </tr>\n",
       "    <tr>\n",
       "      <th>2</th>\n",
       "      <td>20</td>\n",
       "      <td>167</td>\n",
       "      <td>50</td>\n",
       "    </tr>\n",
       "    <tr>\n",
       "      <th>3</th>\n",
       "      <td>18</td>\n",
       "      <td>158</td>\n",
       "      <td>52</td>\n",
       "    </tr>\n",
       "  </tbody>\n",
       "</table>\n",
       "</div>"
      ],
      "text/plain": [
       "   age  height  weight\n",
       "0   24     170      50\n",
       "1   21     165      45\n",
       "2   20     167      50\n",
       "3   18     158      52"
      ]
     },
     "execution_count": 64,
     "metadata": {},
     "output_type": "execute_result"
    }
   ],
   "source": [
    "df.columns=[\"age\",\"height\",\"weight\"]\n",
    "df"
   ]
  },
  {
   "cell_type": "code",
   "execution_count": 66,
   "id": "758aaaaa-ac52-47b8-9d63-7bbddc093577",
   "metadata": {},
   "outputs": [
    {
     "data": {
      "text/html": [
       "<div>\n",
       "<style scoped>\n",
       "    .dataframe tbody tr th:only-of-type {\n",
       "        vertical-align: middle;\n",
       "    }\n",
       "\n",
       "    .dataframe tbody tr th {\n",
       "        vertical-align: top;\n",
       "    }\n",
       "\n",
       "    .dataframe thead th {\n",
       "        text-align: right;\n",
       "    }\n",
       "</style>\n",
       "<table border=\"1\" class=\"dataframe\">\n",
       "  <thead>\n",
       "    <tr style=\"text-align: right;\">\n",
       "      <th></th>\n",
       "      <th>age</th>\n",
       "    </tr>\n",
       "  </thead>\n",
       "  <tbody>\n",
       "    <tr>\n",
       "      <th>count</th>\n",
       "      <td>4.00</td>\n",
       "    </tr>\n",
       "    <tr>\n",
       "      <th>mean</th>\n",
       "      <td>20.75</td>\n",
       "    </tr>\n",
       "    <tr>\n",
       "      <th>std</th>\n",
       "      <td>2.50</td>\n",
       "    </tr>\n",
       "    <tr>\n",
       "      <th>min</th>\n",
       "      <td>18.00</td>\n",
       "    </tr>\n",
       "    <tr>\n",
       "      <th>25%</th>\n",
       "      <td>19.50</td>\n",
       "    </tr>\n",
       "    <tr>\n",
       "      <th>50%</th>\n",
       "      <td>20.50</td>\n",
       "    </tr>\n",
       "    <tr>\n",
       "      <th>75%</th>\n",
       "      <td>21.75</td>\n",
       "    </tr>\n",
       "    <tr>\n",
       "      <th>max</th>\n",
       "      <td>24.00</td>\n",
       "    </tr>\n",
       "  </tbody>\n",
       "</table>\n",
       "</div>"
      ],
      "text/plain": [
       "         age\n",
       "count   4.00\n",
       "mean   20.75\n",
       "std     2.50\n",
       "min    18.00\n",
       "25%    19.50\n",
       "50%    20.50\n",
       "75%    21.75\n",
       "max    24.00"
      ]
     },
     "execution_count": 66,
     "metadata": {},
     "output_type": "execute_result"
    }
   ],
   "source": [
    "df[[\"age\"]].describe()"
   ]
  },
  {
   "cell_type": "code",
   "execution_count": 76,
   "id": "20ec219f-3445-4b87-987e-02153d3eda79",
   "metadata": {},
   "outputs": [
    {
     "data": {
      "text/html": [
       "<div>\n",
       "<style scoped>\n",
       "    .dataframe tbody tr th:only-of-type {\n",
       "        vertical-align: middle;\n",
       "    }\n",
       "\n",
       "    .dataframe tbody tr th {\n",
       "        vertical-align: top;\n",
       "    }\n",
       "\n",
       "    .dataframe thead th {\n",
       "        text-align: right;\n",
       "    }\n",
       "</style>\n",
       "<table border=\"1\" class=\"dataframe\">\n",
       "  <thead>\n",
       "    <tr style=\"text-align: right;\">\n",
       "      <th></th>\n",
       "      <th>age</th>\n",
       "      <th>height</th>\n",
       "      <th>weight</th>\n",
       "    </tr>\n",
       "  </thead>\n",
       "  <tbody>\n",
       "    <tr>\n",
       "      <th>count</th>\n",
       "      <td>4.00</td>\n",
       "      <td>4.00000</td>\n",
       "      <td>4.000000</td>\n",
       "    </tr>\n",
       "    <tr>\n",
       "      <th>mean</th>\n",
       "      <td>20.75</td>\n",
       "      <td>165.00000</td>\n",
       "      <td>49.250000</td>\n",
       "    </tr>\n",
       "    <tr>\n",
       "      <th>std</th>\n",
       "      <td>2.50</td>\n",
       "      <td>5.09902</td>\n",
       "      <td>2.986079</td>\n",
       "    </tr>\n",
       "    <tr>\n",
       "      <th>min</th>\n",
       "      <td>18.00</td>\n",
       "      <td>158.00000</td>\n",
       "      <td>45.000000</td>\n",
       "    </tr>\n",
       "    <tr>\n",
       "      <th>25%</th>\n",
       "      <td>19.50</td>\n",
       "      <td>163.25000</td>\n",
       "      <td>48.750000</td>\n",
       "    </tr>\n",
       "    <tr>\n",
       "      <th>50%</th>\n",
       "      <td>20.50</td>\n",
       "      <td>166.00000</td>\n",
       "      <td>50.000000</td>\n",
       "    </tr>\n",
       "    <tr>\n",
       "      <th>75%</th>\n",
       "      <td>21.75</td>\n",
       "      <td>167.75000</td>\n",
       "      <td>50.500000</td>\n",
       "    </tr>\n",
       "    <tr>\n",
       "      <th>max</th>\n",
       "      <td>24.00</td>\n",
       "      <td>170.00000</td>\n",
       "      <td>52.000000</td>\n",
       "    </tr>\n",
       "  </tbody>\n",
       "</table>\n",
       "</div>"
      ],
      "text/plain": [
       "         age     height     weight\n",
       "count   4.00    4.00000   4.000000\n",
       "mean   20.75  165.00000  49.250000\n",
       "std     2.50    5.09902   2.986079\n",
       "min    18.00  158.00000  45.000000\n",
       "25%    19.50  163.25000  48.750000\n",
       "50%    20.50  166.00000  50.000000\n",
       "75%    21.75  167.75000  50.500000\n",
       "max    24.00  170.00000  52.000000"
      ]
     },
     "execution_count": 76,
     "metadata": {},
     "output_type": "execute_result"
    }
   ],
   "source": [
    "df.describe()"
   ]
  },
  {
   "cell_type": "code",
   "execution_count": 78,
   "id": "74bdb8af-547c-43a1-b261-92cd91586c1b",
   "metadata": {},
   "outputs": [
    {
     "data": {
      "text/html": [
       "<div>\n",
       "<style scoped>\n",
       "    .dataframe tbody tr th:only-of-type {\n",
       "        vertical-align: middle;\n",
       "    }\n",
       "\n",
       "    .dataframe tbody tr th {\n",
       "        vertical-align: top;\n",
       "    }\n",
       "\n",
       "    .dataframe thead th {\n",
       "        text-align: right;\n",
       "    }\n",
       "</style>\n",
       "<table border=\"1\" class=\"dataframe\">\n",
       "  <thead>\n",
       "    <tr style=\"text-align: right;\">\n",
       "      <th></th>\n",
       "      <th>age</th>\n",
       "      <th>height</th>\n",
       "      <th>weight</th>\n",
       "    </tr>\n",
       "  </thead>\n",
       "  <tbody>\n",
       "    <tr>\n",
       "      <th>0</th>\n",
       "      <td>False</td>\n",
       "      <td>False</td>\n",
       "      <td>False</td>\n",
       "    </tr>\n",
       "    <tr>\n",
       "      <th>1</th>\n",
       "      <td>False</td>\n",
       "      <td>False</td>\n",
       "      <td>False</td>\n",
       "    </tr>\n",
       "    <tr>\n",
       "      <th>2</th>\n",
       "      <td>False</td>\n",
       "      <td>False</td>\n",
       "      <td>False</td>\n",
       "    </tr>\n",
       "    <tr>\n",
       "      <th>3</th>\n",
       "      <td>False</td>\n",
       "      <td>False</td>\n",
       "      <td>False</td>\n",
       "    </tr>\n",
       "  </tbody>\n",
       "</table>\n",
       "</div>"
      ],
      "text/plain": [
       "     age  height  weight\n",
       "0  False   False   False\n",
       "1  False   False   False\n",
       "2  False   False   False\n",
       "3  False   False   False"
      ]
     },
     "execution_count": 78,
     "metadata": {},
     "output_type": "execute_result"
    }
   ],
   "source": [
    "df.isnull()"
   ]
  },
  {
   "cell_type": "code",
   "execution_count": null,
   "id": "80ac110d-39b8-4e93-95c2-d951daab008a",
   "metadata": {},
   "outputs": [],
   "source": []
  }
 ],
 "metadata": {
  "kernelspec": {
   "display_name": "Python [conda env:base] *",
   "language": "python",
   "name": "conda-base-py"
  },
  "language_info": {
   "codemirror_mode": {
    "name": "ipython",
    "version": 3
   },
   "file_extension": ".py",
   "mimetype": "text/x-python",
   "name": "python",
   "nbconvert_exporter": "python",
   "pygments_lexer": "ipython3",
   "version": "3.12.7"
  }
 },
 "nbformat": 4,
 "nbformat_minor": 5
}
