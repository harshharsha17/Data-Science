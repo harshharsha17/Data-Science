{
 "cells": [
  {
   "cell_type": "code",
   "execution_count": 1,
   "id": "0200bfcd-2d4b-4def-b955-d1021dfa9f7d",
   "metadata": {},
   "outputs": [],
   "source": [
    "import pandas as pd"
   ]
  },
  {
   "cell_type": "code",
   "execution_count": 3,
   "id": "ff073863-a6c1-4241-a55a-118792c753a1",
   "metadata": {
    "scrolled": true
   },
   "outputs": [
    {
     "data": {
      "text/html": [
       "<div>\n",
       "<style scoped>\n",
       "    .dataframe tbody tr th:only-of-type {\n",
       "        vertical-align: middle;\n",
       "    }\n",
       "\n",
       "    .dataframe tbody tr th {\n",
       "        vertical-align: top;\n",
       "    }\n",
       "\n",
       "    .dataframe thead th {\n",
       "        text-align: right;\n",
       "    }\n",
       "</style>\n",
       "<table border=\"1\" class=\"dataframe\">\n",
       "  <thead>\n",
       "    <tr style=\"text-align: right;\">\n",
       "      <th></th>\n",
       "      <th>Region</th>\n",
       "      <th>Product</th>\n",
       "      <th>Subsidiary</th>\n",
       "      <th>Stores</th>\n",
       "      <th>Sales</th>\n",
       "      <th>Inventory</th>\n",
       "      <th>Returns</th>\n",
       "    </tr>\n",
       "  </thead>\n",
       "  <tbody>\n",
       "    <tr>\n",
       "      <th>0</th>\n",
       "      <td>Africa</td>\n",
       "      <td>Boot</td>\n",
       "      <td>Addis Ababa</td>\n",
       "      <td>12</td>\n",
       "      <td>29761</td>\n",
       "      <td>191821</td>\n",
       "      <td>769</td>\n",
       "    </tr>\n",
       "    <tr>\n",
       "      <th>1</th>\n",
       "      <td>Africa</td>\n",
       "      <td>Men's Casual</td>\n",
       "      <td>Addis Ababa</td>\n",
       "      <td>4</td>\n",
       "      <td>67242</td>\n",
       "      <td>118036</td>\n",
       "      <td>2284</td>\n",
       "    </tr>\n",
       "    <tr>\n",
       "      <th>2</th>\n",
       "      <td>Africa</td>\n",
       "      <td>Men's Dress</td>\n",
       "      <td>Addis Ababa</td>\n",
       "      <td>7</td>\n",
       "      <td>76793</td>\n",
       "      <td>136273</td>\n",
       "      <td>2433</td>\n",
       "    </tr>\n",
       "    <tr>\n",
       "      <th>3</th>\n",
       "      <td>Africa</td>\n",
       "      <td>Sandal</td>\n",
       "      <td>Addis Ababa</td>\n",
       "      <td>10</td>\n",
       "      <td>62819</td>\n",
       "      <td>204284</td>\n",
       "      <td>1861</td>\n",
       "    </tr>\n",
       "    <tr>\n",
       "      <th>4</th>\n",
       "      <td>Africa</td>\n",
       "      <td>Slipper</td>\n",
       "      <td>Addis Ababa</td>\n",
       "      <td>14</td>\n",
       "      <td>68641</td>\n",
       "      <td>279795</td>\n",
       "      <td>1771</td>\n",
       "    </tr>\n",
       "    <tr>\n",
       "      <th>...</th>\n",
       "      <td>...</td>\n",
       "      <td>...</td>\n",
       "      <td>...</td>\n",
       "      <td>...</td>\n",
       "      <td>...</td>\n",
       "      <td>...</td>\n",
       "      <td>...</td>\n",
       "    </tr>\n",
       "    <tr>\n",
       "      <th>385</th>\n",
       "      <td>Western Europe</td>\n",
       "      <td>Sandal</td>\n",
       "      <td>Rome</td>\n",
       "      <td>3</td>\n",
       "      <td>1249</td>\n",
       "      <td>4611</td>\n",
       "      <td>48</td>\n",
       "    </tr>\n",
       "    <tr>\n",
       "      <th>386</th>\n",
       "      <td>Western Europe</td>\n",
       "      <td>Slipper</td>\n",
       "      <td>Rome</td>\n",
       "      <td>13</td>\n",
       "      <td>42442</td>\n",
       "      <td>132283</td>\n",
       "      <td>1829</td>\n",
       "    </tr>\n",
       "    <tr>\n",
       "      <th>387</th>\n",
       "      <td>Western Europe</td>\n",
       "      <td>Sport Shoe</td>\n",
       "      <td>Rome</td>\n",
       "      <td>14</td>\n",
       "      <td>9969</td>\n",
       "      <td>74848</td>\n",
       "      <td>549</td>\n",
       "    </tr>\n",
       "    <tr>\n",
       "      <th>388</th>\n",
       "      <td>Western Europe</td>\n",
       "      <td>Women's Casual</td>\n",
       "      <td>Rome</td>\n",
       "      <td>2</td>\n",
       "      <td>19964</td>\n",
       "      <td>62256</td>\n",
       "      <td>954</td>\n",
       "    </tr>\n",
       "    <tr>\n",
       "      <th>389</th>\n",
       "      <td>Western Europe</td>\n",
       "      <td>Women's Dress</td>\n",
       "      <td>Rome</td>\n",
       "      <td>16</td>\n",
       "      <td>106676</td>\n",
       "      <td>389861</td>\n",
       "      <td>3160</td>\n",
       "    </tr>\n",
       "  </tbody>\n",
       "</table>\n",
       "<p>390 rows × 7 columns</p>\n",
       "</div>"
      ],
      "text/plain": [
       "             Region         Product   Subsidiary  Stores   Sales  Inventory  \\\n",
       "0            Africa            Boot  Addis Ababa      12   29761     191821   \n",
       "1            Africa    Men's Casual  Addis Ababa       4   67242     118036   \n",
       "2            Africa     Men's Dress  Addis Ababa       7   76793     136273   \n",
       "3            Africa          Sandal  Addis Ababa      10   62819     204284   \n",
       "4            Africa         Slipper  Addis Ababa      14   68641     279795   \n",
       "..              ...             ...          ...     ...     ...        ...   \n",
       "385  Western Europe          Sandal         Rome       3    1249       4611   \n",
       "386  Western Europe         Slipper         Rome      13   42442     132283   \n",
       "387  Western Europe      Sport Shoe         Rome      14    9969      74848   \n",
       "388  Western Europe  Women's Casual         Rome       2   19964      62256   \n",
       "389  Western Europe   Women's Dress         Rome      16  106676     389861   \n",
       "\n",
       "     Returns  \n",
       "0        769  \n",
       "1       2284  \n",
       "2       2433  \n",
       "3       1861  \n",
       "4       1771  \n",
       "..       ...  \n",
       "385       48  \n",
       "386     1829  \n",
       "387      549  \n",
       "388      954  \n",
       "389     3160  \n",
       "\n",
       "[390 rows x 7 columns]"
      ]
     },
     "execution_count": 3,
     "metadata": {},
     "output_type": "execute_result"
    }
   ],
   "source": [
    "df=pd.read_csv(\"C:\\\\Users\\\\dell\\\\DATA SCIENCE_ExcelR\\\\market.csv\")\n",
    "df"
   ]
  },
  {
   "cell_type": "code",
   "execution_count": 5,
   "id": "2f12faeb-8c3f-4d56-8003-a368142a545d",
   "metadata": {},
   "outputs": [
    {
     "data": {
      "text/html": [
       "<div>\n",
       "<style scoped>\n",
       "    .dataframe tbody tr th:only-of-type {\n",
       "        vertical-align: middle;\n",
       "    }\n",
       "\n",
       "    .dataframe tbody tr th {\n",
       "        vertical-align: top;\n",
       "    }\n",
       "\n",
       "    .dataframe thead th {\n",
       "        text-align: right;\n",
       "    }\n",
       "</style>\n",
       "<table border=\"1\" class=\"dataframe\">\n",
       "  <thead>\n",
       "    <tr style=\"text-align: right;\">\n",
       "      <th></th>\n",
       "      <th>Region</th>\n",
       "      <th>Product</th>\n",
       "      <th>Subsidiary</th>\n",
       "      <th>Stores</th>\n",
       "      <th>Sales</th>\n",
       "      <th>Inventory</th>\n",
       "      <th>Returns</th>\n",
       "    </tr>\n",
       "  </thead>\n",
       "  <tbody>\n",
       "    <tr>\n",
       "      <th>0</th>\n",
       "      <td>Africa</td>\n",
       "      <td>Boot</td>\n",
       "      <td>Addis Ababa</td>\n",
       "      <td>12</td>\n",
       "      <td>29761</td>\n",
       "      <td>191821</td>\n",
       "      <td>769</td>\n",
       "    </tr>\n",
       "    <tr>\n",
       "      <th>1</th>\n",
       "      <td>Africa</td>\n",
       "      <td>Men's Casual</td>\n",
       "      <td>Addis Ababa</td>\n",
       "      <td>4</td>\n",
       "      <td>67242</td>\n",
       "      <td>118036</td>\n",
       "      <td>2284</td>\n",
       "    </tr>\n",
       "    <tr>\n",
       "      <th>2</th>\n",
       "      <td>Africa</td>\n",
       "      <td>Men's Dress</td>\n",
       "      <td>Addis Ababa</td>\n",
       "      <td>7</td>\n",
       "      <td>76793</td>\n",
       "      <td>136273</td>\n",
       "      <td>2433</td>\n",
       "    </tr>\n",
       "    <tr>\n",
       "      <th>3</th>\n",
       "      <td>Africa</td>\n",
       "      <td>Sandal</td>\n",
       "      <td>Addis Ababa</td>\n",
       "      <td>10</td>\n",
       "      <td>62819</td>\n",
       "      <td>204284</td>\n",
       "      <td>1861</td>\n",
       "    </tr>\n",
       "    <tr>\n",
       "      <th>4</th>\n",
       "      <td>Africa</td>\n",
       "      <td>Slipper</td>\n",
       "      <td>Addis Ababa</td>\n",
       "      <td>14</td>\n",
       "      <td>68641</td>\n",
       "      <td>279795</td>\n",
       "      <td>1771</td>\n",
       "    </tr>\n",
       "  </tbody>\n",
       "</table>\n",
       "</div>"
      ],
      "text/plain": [
       "   Region       Product   Subsidiary  Stores  Sales  Inventory  Returns\n",
       "0  Africa          Boot  Addis Ababa      12  29761     191821      769\n",
       "1  Africa  Men's Casual  Addis Ababa       4  67242     118036     2284\n",
       "2  Africa   Men's Dress  Addis Ababa       7  76793     136273     2433\n",
       "3  Africa        Sandal  Addis Ababa      10  62819     204284     1861\n",
       "4  Africa       Slipper  Addis Ababa      14  68641     279795     1771"
      ]
     },
     "execution_count": 5,
     "metadata": {},
     "output_type": "execute_result"
    }
   ],
   "source": [
    "df.head()"
   ]
  },
  {
   "cell_type": "code",
   "execution_count": 7,
   "id": "0b3e4218-f9b4-4e95-bcd9-b7067ea71eb5",
   "metadata": {},
   "outputs": [
    {
     "data": {
      "text/html": [
       "<div>\n",
       "<style scoped>\n",
       "    .dataframe tbody tr th:only-of-type {\n",
       "        vertical-align: middle;\n",
       "    }\n",
       "\n",
       "    .dataframe tbody tr th {\n",
       "        vertical-align: top;\n",
       "    }\n",
       "\n",
       "    .dataframe thead th {\n",
       "        text-align: right;\n",
       "    }\n",
       "</style>\n",
       "<table border=\"1\" class=\"dataframe\">\n",
       "  <thead>\n",
       "    <tr style=\"text-align: right;\">\n",
       "      <th></th>\n",
       "      <th>Region</th>\n",
       "      <th>Product</th>\n",
       "      <th>Subsidiary</th>\n",
       "      <th>Stores</th>\n",
       "      <th>Sales</th>\n",
       "      <th>Inventory</th>\n",
       "      <th>Returns</th>\n",
       "    </tr>\n",
       "  </thead>\n",
       "  <tbody>\n",
       "    <tr>\n",
       "      <th>385</th>\n",
       "      <td>Western Europe</td>\n",
       "      <td>Sandal</td>\n",
       "      <td>Rome</td>\n",
       "      <td>3</td>\n",
       "      <td>1249</td>\n",
       "      <td>4611</td>\n",
       "      <td>48</td>\n",
       "    </tr>\n",
       "    <tr>\n",
       "      <th>386</th>\n",
       "      <td>Western Europe</td>\n",
       "      <td>Slipper</td>\n",
       "      <td>Rome</td>\n",
       "      <td>13</td>\n",
       "      <td>42442</td>\n",
       "      <td>132283</td>\n",
       "      <td>1829</td>\n",
       "    </tr>\n",
       "    <tr>\n",
       "      <th>387</th>\n",
       "      <td>Western Europe</td>\n",
       "      <td>Sport Shoe</td>\n",
       "      <td>Rome</td>\n",
       "      <td>14</td>\n",
       "      <td>9969</td>\n",
       "      <td>74848</td>\n",
       "      <td>549</td>\n",
       "    </tr>\n",
       "    <tr>\n",
       "      <th>388</th>\n",
       "      <td>Western Europe</td>\n",
       "      <td>Women's Casual</td>\n",
       "      <td>Rome</td>\n",
       "      <td>2</td>\n",
       "      <td>19964</td>\n",
       "      <td>62256</td>\n",
       "      <td>954</td>\n",
       "    </tr>\n",
       "    <tr>\n",
       "      <th>389</th>\n",
       "      <td>Western Europe</td>\n",
       "      <td>Women's Dress</td>\n",
       "      <td>Rome</td>\n",
       "      <td>16</td>\n",
       "      <td>106676</td>\n",
       "      <td>389861</td>\n",
       "      <td>3160</td>\n",
       "    </tr>\n",
       "  </tbody>\n",
       "</table>\n",
       "</div>"
      ],
      "text/plain": [
       "             Region         Product Subsidiary  Stores   Sales  Inventory  \\\n",
       "385  Western Europe          Sandal       Rome       3    1249       4611   \n",
       "386  Western Europe         Slipper       Rome      13   42442     132283   \n",
       "387  Western Europe      Sport Shoe       Rome      14    9969      74848   \n",
       "388  Western Europe  Women's Casual       Rome       2   19964      62256   \n",
       "389  Western Europe   Women's Dress       Rome      16  106676     389861   \n",
       "\n",
       "     Returns  \n",
       "385       48  \n",
       "386     1829  \n",
       "387      549  \n",
       "388      954  \n",
       "389     3160  "
      ]
     },
     "execution_count": 7,
     "metadata": {},
     "output_type": "execute_result"
    }
   ],
   "source": [
    "df.tail()"
   ]
  },
  {
   "cell_type": "code",
   "execution_count": 9,
   "id": "0c6fdcca-1213-4257-bc6b-4e2e013cfd4c",
   "metadata": {},
   "outputs": [
    {
     "data": {
      "text/plain": [
       "Region        0\n",
       "Product       0\n",
       "Subsidiary    0\n",
       "Stores        0\n",
       "Sales         0\n",
       "Inventory     0\n",
       "Returns       0\n",
       "dtype: int64"
      ]
     },
     "execution_count": 9,
     "metadata": {},
     "output_type": "execute_result"
    }
   ],
   "source": [
    "df.isnull().sum()"
   ]
  },
  {
   "cell_type": "code",
   "execution_count": 21,
   "id": "38e4f519-0051-431f-bc62-1cade2238165",
   "metadata": {},
   "outputs": [
    {
     "data": {
      "text/plain": [
       "Region\n",
       "Western Europe               62\n",
       "Africa                       56\n",
       "South America                54\n",
       "Pacific                      45\n",
       "United States                40\n",
       "Canada                       34\n",
       "Central America/Caribbean    31\n",
       "Eastern Europe               31\n",
       "Middle East                  23\n",
       "Asia                         14\n",
       "Name: count, dtype: int64"
      ]
     },
     "execution_count": 21,
     "metadata": {},
     "output_type": "execute_result"
    }
   ],
   "source": [
    "df[\"Region\"].value_counts()"
   ]
  },
  {
   "cell_type": "code",
   "execution_count": 35,
   "id": "4a3aa0aa-7144-4441-81d9-58abf5c1ee71",
   "metadata": {},
   "outputs": [
    {
     "data": {
      "text/plain": [
       "Region\n",
       "Africa                       2342588\n",
       "Asia                          460231\n",
       "Canada                       2041054\n",
       "Central America/Caribbean    3081641\n",
       "Eastern Europe               2394940\n",
       "Middle East                  4333062\n",
       "Pacific                      2296794\n",
       "South America                2434783\n",
       "United States                5503986\n",
       "Western Europe               4873000\n",
       "Name: Sales, dtype: int64"
      ]
     },
     "execution_count": 35,
     "metadata": {},
     "output_type": "execute_result"
    }
   ],
   "source": [
    "t1=df.groupby(\"Region\")[\"Sales\"].sum()\n",
    "t1"
   ]
  },
  {
   "cell_type": "code",
   "execution_count": 37,
   "id": "1f588e21-0609-42a1-88bb-a9f158feb8aa",
   "metadata": {
    "scrolled": true
   },
   "outputs": [
    {
     "data": {
      "text/plain": [
       "<Axes: xlabel='Region'>"
      ]
     },
     "execution_count": 37,
     "metadata": {},
     "output_type": "execute_result"
    },
    {
     "data": {
      "image/png": "[encoded data removed]",
      "text/plain": [
       "<Figure size 640x480 with 1 Axes>"
      ]
     },
     "metadata": {},
     "output_type": "display_data"
    }
   ],
   "source": [
    "t1.plot(kind='bar')"
   ]
  },
  {
   "cell_type": "code",
   "execution_count": 45,
   "id": "a95e976d-ced8-4bbf-b5c2-2dba31332ba1",
   "metadata": {},
   "outputs": [
    {
     "data": {
      "text/plain": [
       "Product\n",
       "Boot               98622\n",
       "Men's Casual      233668\n",
       "Men's Dress       147266\n",
       "Sandal             38170\n",
       "Slipper           188693\n",
       "Sport Shoe         25179\n",
       "Women's Casual    131394\n",
       "Women's Dress     174275\n",
       "Name: Returns, dtype: int64"
      ]
     },
     "execution_count": 45,
     "metadata": {},
     "output_type": "execute_result"
    }
   ],
   "source": [
    "#bar graph for product and total returns\n",
    "t2=df.groupby(\"Product\")[\"Returns\"].sum()\n",
    "t2"
   ]
  },
  {
   "cell_type": "code",
   "execution_count": 47,
   "id": "4644a3cd-9e23-4405-8133-91c585b7ab1f",
   "metadata": {
    "scrolled": true
   },
   "outputs": [
    {
     "data": {
      "text/plain": [
       "<Axes: xlabel='Product'>"
      ]
     },
     "execution_count": 47,
     "metadata": {},
     "output_type": "execute_result"
    },
    {
     "data": {
      "image/png": "[encoded data removed]",
      "text/plain": [
       "<Figure size 640x480 with 1 Axes>"
      ]
     },
     "metadata": {},
     "output_type": "display_data"
    }
   ],
   "source": [
    "t2.plot(kind='bar')"
   ]
  },
  {
   "cell_type": "code",
   "execution_count": 49,
   "id": "1e808a3d-7166-4c64-abec-93900bcc3d92",
   "metadata": {},
   "outputs": [
    {
     "data": {
      "text/plain": [
       "<Axes: ylabel='Returns'>"
      ]
     },
     "execution_count": 49,
     "metadata": {},
     "output_type": "execute_result"
    },
    {
     "data": {
      "image/png": "[encoded data removed]",
      "text/plain": [
       "<Figure size 640x480 with 1 Axes>"
      ]
     },
     "metadata": {},
     "output_type": "display_data"
    }
   ],
   "source": [
    "t2.plot(kind='pie')"
   ]
  },
  {
   "cell_type": "code",
   "execution_count": 51,
   "id": "a39745d2-dcb2-40e9-9d74-2b97f858651a",
   "metadata": {},
   "outputs": [
    {
     "name": "stdout",
     "output_type": "stream",
     "text": [
      "<class 'pandas.core.frame.DataFrame'>\n",
      "RangeIndex: 390 entries, 0 to 389\n",
      "Data columns (total 7 columns):\n",
      " #   Column      Non-Null Count  Dtype \n",
      "---  ------      --------------  ----- \n",
      " 0   Region      390 non-null    object\n",
      " 1   Product     390 non-null    object\n",
      " 2   Subsidiary  390 non-null    object\n",
      " 3   Stores      390 non-null    int64 \n",
      " 4   Sales       390 non-null    int64 \n",
      " 5   Inventory   390 non-null    int64 \n",
      " 6   Returns     390 non-null    int64 \n",
      "dtypes: int64(4), object(3)\n",
      "memory usage: 21.5+ KB\n"
     ]
    }
   ],
   "source": [
    "df.info()"
   ]
  },
  {
   "cell_type": "code",
   "execution_count": 57,
   "id": "c7fab064-f872-4559-b55f-9b2e70e1ee6b",
   "metadata": {},
   "outputs": [
    {
     "name": "stdout",
     "output_type": "stream",
     "text": [
      "Sales: 2.0375602944117115\n"
     ]
    },
    {
     "data": {
      "image/png": "[encoded data removed]",
      "text/plain": [
       "<Figure size 640x480 with 1 Axes>"
      ]
     },
     "metadata": {},
     "output_type": "display_data"
    }
   ],
   "source": [
    "#histogram for sales\n",
    "df[\"Sales\"].hist()\n",
    "#skewess for sales\n",
    "print(\"Sales:\",df[\"Sales\"].skew())"
   ]
  },
  {
   "cell_type": "code",
   "execution_count": 63,
   "id": "a1b365ad-b37c-4555-9551-b4f6c20779e6",
   "metadata": {},
   "outputs": [
    {
     "name": "stdout",
     "output_type": "stream",
     "text": [
      "Stores: 0.7104800085049978\n"
     ]
    },
    {
     "data": {
      "image/png": "[encoded data removed]",
      "text/plain": [
       "<Figure size 640x480 with 1 Axes>"
      ]
     },
     "metadata": {},
     "output_type": "display_data"
    }
   ],
   "source": [
    "df[\"Stores\"].hist()\n",
    "#skewess for stores\n",
    "print(\"Stores:\",df[\"Stores\"].skew())"
   ]
  },
  {
   "cell_type": "code",
   "execution_count": 65,
   "id": "be7dcd3f-0619-4c2f-b5fa-ef01e048f773",
   "metadata": {},
   "outputs": [
    {
     "name": "stdout",
     "output_type": "stream",
     "text": [
      "Inventory: 1.9258874289437535\n"
     ]
    },
    {
     "data": {
      "image/png": "[encoded data removed]",
      "text/plain": [
       "<Figure size 640x480 with 1 Axes>"
      ]
     },
     "metadata": {},
     "output_type": "display_data"
    }
   ],
   "source": [
    "df[\"Inventory\"].hist()\n",
    "#skewess for Inventory\n",
    "print(\"Inventory:\",df[\"Inventory\"].skew())"
   ]
  },
  {
   "cell_type": "code",
   "execution_count": 67,
   "id": "c5f92a0d-b52f-444b-a688-552177e75bdd",
   "metadata": {},
   "outputs": [
    {
     "data": {
      "text/plain": [
       "<Axes: title={'center': 'Boxplot'}>"
      ]
     },
     "execution_count": 67,
     "metadata": {},
     "output_type": "execute_result"
    },
    {
     "data": {
      "image/png": "[encoded data removed]",
      "text/plain": [
       "<Figure size 640x480 with 1 Axes>"
      ]
     },
     "metadata": {},
     "output_type": "display_data"
    }
   ],
   "source": [
    "boxplot1=df[\"Sales\"].plot(kind='box',vert=False,title='Boxplot ')\n",
    "boxplot1"
   ]
  },
  {
   "cell_type": "code",
   "execution_count": 69,
   "id": "0c6e4e36-b10a-4833-96e6-4d984f3d5e0b",
   "metadata": {},
   "outputs": [
    {
     "data": {
      "text/plain": [
       "<Axes: title={'center': 'Boxplot'}>"
      ]
     },
     "execution_count": 69,
     "metadata": {},
     "output_type": "execute_result"
    },
    {
     "data": {
      "image/png": "[encoded data removed]",
      "text/plain": [
       "<Figure size 640x480 with 1 Axes>"
      ]
     },
     "metadata": {},
     "output_type": "display_data"
    }
   ],
   "source": [
    "boxplot2=df[\"Stores\"].plot(kind='box',vert=False,title='Boxplot')\n",
    "boxplot2"
   ]
  },
  {
   "cell_type": "code",
   "execution_count": 71,
   "id": "2754d2fc-4e2d-44e1-8235-a888cf2581b5",
   "metadata": {},
   "outputs": [
    {
     "data": {
      "text/plain": [
       "<Axes: title={'center': 'Boxplot'}>"
      ]
     },
     "execution_count": 71,
     "metadata": {},
     "output_type": "execute_result"
    },
    {
     "data": {
      "image/png": "[encoded data removed]",
      "text/plain": [
       "<Figure size 640x480 with 1 Axes>"
      ]
     },
     "metadata": {},
     "output_type": "display_data"
    }
   ],
   "source": [
    "boxplot3=df[\"Inventory\"].plot(kind='box',vert=False,title='Boxplot')\n",
    "boxplot3"
   ]
  },
  {
   "cell_type": "code",
   "execution_count": 73,
   "id": "51a13131-74be-420a-9003-b4172efe7b20",
   "metadata": {},
   "outputs": [
    {
     "data": {
      "text/plain": [
       "<Axes: title={'center': 'Boxplot'}>"
      ]
     },
     "execution_count": 73,
     "metadata": {},
     "output_type": "execute_result"
    },
    {
     "data": {
      "image/png": "[encoded data removed]",
      "text/plain": [
       "<Figure size 640x480 with 1 Axes>"
      ]
     },
     "metadata": {},
     "output_type": "display_data"
    }
   ],
   "source": [
    "boxplot4=df[\"Returns\"].plot(kind='box',vert=False,title='Boxplot')\n",
    "boxplot4"
   ]
  },
  {
   "cell_type": "code",
   "execution_count": 75,
   "id": "3b58ebc7-3279-4231-997c-b239b5c17619",
   "metadata": {},
   "outputs": [
    {
     "data": {
      "text/html": [
       "<div>\n",
       "<style scoped>\n",
       "    .dataframe tbody tr th:only-of-type {\n",
       "        vertical-align: middle;\n",
       "    }\n",
       "\n",
       "    .dataframe tbody tr th {\n",
       "        vertical-align: top;\n",
       "    }\n",
       "\n",
       "    .dataframe thead th {\n",
       "        text-align: right;\n",
       "    }\n",
       "</style>\n",
       "<table border=\"1\" class=\"dataframe\">\n",
       "  <thead>\n",
       "    <tr style=\"text-align: right;\">\n",
       "      <th></th>\n",
       "      <th>Region</th>\n",
       "      <th>Product</th>\n",
       "      <th>Subsidiary</th>\n",
       "      <th>Stores</th>\n",
       "      <th>Sales</th>\n",
       "      <th>Inventory</th>\n",
       "      <th>Returns</th>\n",
       "    </tr>\n",
       "  </thead>\n",
       "  <tbody>\n",
       "    <tr>\n",
       "      <th>0</th>\n",
       "      <td>Africa</td>\n",
       "      <td>Boot</td>\n",
       "      <td>Addis Ababa</td>\n",
       "      <td>12</td>\n",
       "      <td>29761</td>\n",
       "      <td>191821</td>\n",
       "      <td>769</td>\n",
       "    </tr>\n",
       "    <tr>\n",
       "      <th>1</th>\n",
       "      <td>Africa</td>\n",
       "      <td>Men's Casual</td>\n",
       "      <td>Addis Ababa</td>\n",
       "      <td>4</td>\n",
       "      <td>67242</td>\n",
       "      <td>118036</td>\n",
       "      <td>2284</td>\n",
       "    </tr>\n",
       "    <tr>\n",
       "      <th>2</th>\n",
       "      <td>Africa</td>\n",
       "      <td>Men's Dress</td>\n",
       "      <td>Addis Ababa</td>\n",
       "      <td>7</td>\n",
       "      <td>76793</td>\n",
       "      <td>136273</td>\n",
       "      <td>2433</td>\n",
       "    </tr>\n",
       "    <tr>\n",
       "      <th>3</th>\n",
       "      <td>Africa</td>\n",
       "      <td>Sandal</td>\n",
       "      <td>Addis Ababa</td>\n",
       "      <td>10</td>\n",
       "      <td>62819</td>\n",
       "      <td>204284</td>\n",
       "      <td>1861</td>\n",
       "    </tr>\n",
       "    <tr>\n",
       "      <th>4</th>\n",
       "      <td>Africa</td>\n",
       "      <td>Slipper</td>\n",
       "      <td>Addis Ababa</td>\n",
       "      <td>14</td>\n",
       "      <td>68641</td>\n",
       "      <td>279795</td>\n",
       "      <td>1771</td>\n",
       "    </tr>\n",
       "  </tbody>\n",
       "</table>\n",
       "</div>"
      ],
      "text/plain": [
       "   Region       Product   Subsidiary  Stores  Sales  Inventory  Returns\n",
       "0  Africa          Boot  Addis Ababa      12  29761     191821      769\n",
       "1  Africa  Men's Casual  Addis Ababa       4  67242     118036     2284\n",
       "2  Africa   Men's Dress  Addis Ababa       7  76793     136273     2433\n",
       "3  Africa        Sandal  Addis Ababa      10  62819     204284     1861\n",
       "4  Africa       Slipper  Addis Ababa      14  68641     279795     1771"
      ]
     },
     "execution_count": 75,
     "metadata": {},
     "output_type": "execute_result"
    }
   ],
   "source": [
    "df.head()"
   ]
  },
  {
   "cell_type": "code",
   "execution_count": 77,
   "id": "8b013bb1-1885-42e3-8c53-e172c11b7e5e",
   "metadata": {},
   "outputs": [],
   "source": [
    "import numpy as np"
   ]
  },
  {
   "cell_type": "code",
   "execution_count": 79,
   "id": "2a708c80-503f-45ce-9cfd-f2092dbeebfd",
   "metadata": {},
   "outputs": [
    {
     "data": {
      "text/plain": [
       "285451.75"
      ]
     },
     "execution_count": 79,
     "metadata": {},
     "output_type": "execute_result"
    }
   ],
   "source": [
    "Q1=np.percentile(df[\"Inventory\"],25)\n",
    "Q3=np.percentile(df[\"Inventory\"],75)\n",
    "IQR=Q3-Q1\n",
    "IQR"
   ]
  },
  {
   "cell_type": "code",
   "execution_count": 87,
   "id": "99acfbf5-11f9-4fe5-ba51-94e291f01dc2",
   "metadata": {},
   "outputs": [
    {
     "data": {
      "text/plain": [
       "756269.875"
      ]
     },
     "execution_count": 87,
     "metadata": {},
     "output_type": "execute_result"
    }
   ],
   "source": [
    "#upper Whisker length\n",
    "UW=Q3+(1.5*IQR)\n",
    "UW"
   ]
  },
  {
   "cell_type": "code",
   "execution_count": 85,
   "id": "5d8def86-28e8-4b39-98ee-e5a275f91e3a",
   "metadata": {},
   "outputs": [
    {
     "name": "stdout",
     "output_type": "stream",
     "text": [
      "no of outliers: 22\n"
     ]
    }
   ],
   "source": [
    "#no of outliers in inventory\n",
    "print(\"no of outliers:\",len(df[df[\"Inventory\"]>UW]))"
   ]
  },
  {
   "cell_type": "code",
   "execution_count": 91,
   "id": "c906f0c2-1f4e-4383-bbee-40beb7f5ae7b",
   "metadata": {},
   "outputs": [
    {
     "data": {
      "text/html": [
       "<div>\n",
       "<style scoped>\n",
       "    .dataframe tbody tr th:only-of-type {\n",
       "        vertical-align: middle;\n",
       "    }\n",
       "\n",
       "    .dataframe tbody tr th {\n",
       "        vertical-align: top;\n",
       "    }\n",
       "\n",
       "    .dataframe thead th {\n",
       "        text-align: right;\n",
       "    }\n",
       "</style>\n",
       "<table border=\"1\" class=\"dataframe\">\n",
       "  <thead>\n",
       "    <tr style=\"text-align: right;\">\n",
       "      <th></th>\n",
       "      <th>Region</th>\n",
       "      <th>Product</th>\n",
       "      <th>Subsidiary</th>\n",
       "      <th>Stores</th>\n",
       "      <th>Sales</th>\n",
       "      <th>Inventory</th>\n",
       "      <th>Returns</th>\n",
       "    </tr>\n",
       "  </thead>\n",
       "  <tbody>\n",
       "    <tr>\n",
       "      <th>16</th>\n",
       "      <td>Africa</td>\n",
       "      <td>Men's Casual</td>\n",
       "      <td>Cairo</td>\n",
       "      <td>25</td>\n",
       "      <td>360209</td>\n",
       "      <td>1063251</td>\n",
       "      <td>9424</td>\n",
       "    </tr>\n",
       "    <tr>\n",
       "      <th>21</th>\n",
       "      <td>Africa</td>\n",
       "      <td>Women's Casual</td>\n",
       "      <td>Cairo</td>\n",
       "      <td>14</td>\n",
       "      <td>328474</td>\n",
       "      <td>940851</td>\n",
       "      <td>10124</td>\n",
       "    </tr>\n",
       "    <tr>\n",
       "      <th>99</th>\n",
       "      <td>Canada</td>\n",
       "      <td>Boot</td>\n",
       "      <td>Vancouver</td>\n",
       "      <td>31</td>\n",
       "      <td>286497</td>\n",
       "      <td>882080</td>\n",
       "      <td>9160</td>\n",
       "    </tr>\n",
       "    <tr>\n",
       "      <th>107</th>\n",
       "      <td>Central America/Caribbean</td>\n",
       "      <td>Slipper</td>\n",
       "      <td>Kingston</td>\n",
       "      <td>37</td>\n",
       "      <td>476638</td>\n",
       "      <td>1555357</td>\n",
       "      <td>15713</td>\n",
       "    </tr>\n",
       "    <tr>\n",
       "      <th>110</th>\n",
       "      <td>Central America/Caribbean</td>\n",
       "      <td>Women's Dress</td>\n",
       "      <td>Kingston</td>\n",
       "      <td>41</td>\n",
       "      <td>375817</td>\n",
       "      <td>1147300</td>\n",
       "      <td>11656</td>\n",
       "    </tr>\n",
       "    <tr>\n",
       "      <th>175</th>\n",
       "      <td>Middle East</td>\n",
       "      <td>Men's Casual</td>\n",
       "      <td>Dubai</td>\n",
       "      <td>29</td>\n",
       "      <td>419336</td>\n",
       "      <td>868115</td>\n",
       "      <td>17552</td>\n",
       "    </tr>\n",
       "    <tr>\n",
       "      <th>178</th>\n",
       "      <td>Middle East</td>\n",
       "      <td>Slipper</td>\n",
       "      <td>Dubai</td>\n",
       "      <td>17</td>\n",
       "      <td>387680</td>\n",
       "      <td>1238698</td>\n",
       "      <td>12768</td>\n",
       "    </tr>\n",
       "    <tr>\n",
       "      <th>181</th>\n",
       "      <td>Middle East</td>\n",
       "      <td>Women's Dress</td>\n",
       "      <td>Dubai</td>\n",
       "      <td>19</td>\n",
       "      <td>435891</td>\n",
       "      <td>1292400</td>\n",
       "      <td>12999</td>\n",
       "    </tr>\n",
       "    <tr>\n",
       "      <th>187</th>\n",
       "      <td>Middle East</td>\n",
       "      <td>Women's Casual</td>\n",
       "      <td>Tel Aviv</td>\n",
       "      <td>19</td>\n",
       "      <td>288904</td>\n",
       "      <td>790386</td>\n",
       "      <td>12000</td>\n",
       "    </tr>\n",
       "    <tr>\n",
       "      <th>188</th>\n",
       "      <td>Middle East</td>\n",
       "      <td>Women's Dress</td>\n",
       "      <td>Tel Aviv</td>\n",
       "      <td>18</td>\n",
       "      <td>434496</td>\n",
       "      <td>1272531</td>\n",
       "      <td>17394</td>\n",
       "    </tr>\n",
       "    <tr>\n",
       "      <th>205</th>\n",
       "      <td>Pacific</td>\n",
       "      <td>Men's Casual</td>\n",
       "      <td>Jakarta</td>\n",
       "      <td>12</td>\n",
       "      <td>373908</td>\n",
       "      <td>1139026</td>\n",
       "      <td>10960</td>\n",
       "    </tr>\n",
       "    <tr>\n",
       "      <th>227</th>\n",
       "      <td>Pacific</td>\n",
       "      <td>Women's Dress</td>\n",
       "      <td>Manila</td>\n",
       "      <td>12</td>\n",
       "      <td>229372</td>\n",
       "      <td>818328</td>\n",
       "      <td>7265</td>\n",
       "    </tr>\n",
       "    <tr>\n",
       "      <th>289</th>\n",
       "      <td>United States</td>\n",
       "      <td>Men's Casual</td>\n",
       "      <td>Chicago</td>\n",
       "      <td>26</td>\n",
       "      <td>408978</td>\n",
       "      <td>831672</td>\n",
       "      <td>17907</td>\n",
       "    </tr>\n",
       "    <tr>\n",
       "      <th>290</th>\n",
       "      <td>United States</td>\n",
       "      <td>Men's Dress</td>\n",
       "      <td>Chicago</td>\n",
       "      <td>28</td>\n",
       "      <td>261607</td>\n",
       "      <td>824485</td>\n",
       "      <td>8915</td>\n",
       "    </tr>\n",
       "    <tr>\n",
       "      <th>292</th>\n",
       "      <td>United States</td>\n",
       "      <td>Slipper</td>\n",
       "      <td>Chicago</td>\n",
       "      <td>13</td>\n",
       "      <td>329235</td>\n",
       "      <td>1049530</td>\n",
       "      <td>10654</td>\n",
       "    </tr>\n",
       "    <tr>\n",
       "      <th>311</th>\n",
       "      <td>United States</td>\n",
       "      <td>Women's Dress</td>\n",
       "      <td>Minneapolis</td>\n",
       "      <td>27</td>\n",
       "      <td>224168</td>\n",
       "      <td>760977</td>\n",
       "      <td>5820</td>\n",
       "    </tr>\n",
       "    <tr>\n",
       "      <th>313</th>\n",
       "      <td>United States</td>\n",
       "      <td>Men's Casual</td>\n",
       "      <td>New York</td>\n",
       "      <td>20</td>\n",
       "      <td>456985</td>\n",
       "      <td>890096</td>\n",
       "      <td>13453</td>\n",
       "    </tr>\n",
       "    <tr>\n",
       "      <th>316</th>\n",
       "      <td>United States</td>\n",
       "      <td>Slipper</td>\n",
       "      <td>New York</td>\n",
       "      <td>24</td>\n",
       "      <td>252758</td>\n",
       "      <td>1059333</td>\n",
       "      <td>8503</td>\n",
       "    </tr>\n",
       "    <tr>\n",
       "      <th>319</th>\n",
       "      <td>United States</td>\n",
       "      <td>Women's Dress</td>\n",
       "      <td>New York</td>\n",
       "      <td>17</td>\n",
       "      <td>288972</td>\n",
       "      <td>1129697</td>\n",
       "      <td>10257</td>\n",
       "    </tr>\n",
       "    <tr>\n",
       "      <th>334</th>\n",
       "      <td>Western Europe</td>\n",
       "      <td>Women's Casual</td>\n",
       "      <td>Copenhagen</td>\n",
       "      <td>26</td>\n",
       "      <td>502636</td>\n",
       "      <td>1110412</td>\n",
       "      <td>17448</td>\n",
       "    </tr>\n",
       "    <tr>\n",
       "      <th>348</th>\n",
       "      <td>Western Europe</td>\n",
       "      <td>Slipper</td>\n",
       "      <td>Heidelberg</td>\n",
       "      <td>17</td>\n",
       "      <td>243342</td>\n",
       "      <td>928112</td>\n",
       "      <td>7940</td>\n",
       "    </tr>\n",
       "    <tr>\n",
       "      <th>356</th>\n",
       "      <td>Western Europe</td>\n",
       "      <td>Slipper</td>\n",
       "      <td>Lisbon</td>\n",
       "      <td>12</td>\n",
       "      <td>170694</td>\n",
       "      <td>865325</td>\n",
       "      <td>5925</td>\n",
       "    </tr>\n",
       "  </tbody>\n",
       "</table>\n",
       "</div>"
      ],
      "text/plain": [
       "                        Region         Product   Subsidiary  Stores   Sales  \\\n",
       "16                      Africa    Men's Casual        Cairo      25  360209   \n",
       "21                      Africa  Women's Casual        Cairo      14  328474   \n",
       "99                      Canada            Boot    Vancouver      31  286497   \n",
       "107  Central America/Caribbean         Slipper     Kingston      37  476638   \n",
       "110  Central America/Caribbean   Women's Dress     Kingston      41  375817   \n",
       "175                Middle East    Men's Casual        Dubai      29  419336   \n",
       "178                Middle East         Slipper        Dubai      17  387680   \n",
       "181                Middle East   Women's Dress        Dubai      19  435891   \n",
       "187                Middle East  Women's Casual     Tel Aviv      19  288904   \n",
       "188                Middle East   Women's Dress     Tel Aviv      18  434496   \n",
       "205                    Pacific    Men's Casual      Jakarta      12  373908   \n",
       "227                    Pacific   Women's Dress       Manila      12  229372   \n",
       "289              United States    Men's Casual      Chicago      26  408978   \n",
       "290              United States     Men's Dress      Chicago      28  261607   \n",
       "292              United States         Slipper      Chicago      13  329235   \n",
       "311              United States   Women's Dress  Minneapolis      27  224168   \n",
       "313              United States    Men's Casual     New York      20  456985   \n",
       "316              United States         Slipper     New York      24  252758   \n",
       "319              United States   Women's Dress     New York      17  288972   \n",
       "334             Western Europe  Women's Casual   Copenhagen      26  502636   \n",
       "348             Western Europe         Slipper   Heidelberg      17  243342   \n",
       "356             Western Europe         Slipper       Lisbon      12  170694   \n",
       "\n",
       "     Inventory  Returns  \n",
       "16     1063251     9424  \n",
       "21      940851    10124  \n",
       "99      882080     9160  \n",
       "107    1555357    15713  \n",
       "110    1147300    11656  \n",
       "175     868115    17552  \n",
       "178    1238698    12768  \n",
       "181    1292400    12999  \n",
       "187     790386    12000  \n",
       "188    1272531    17394  \n",
       "205    1139026    10960  \n",
       "227     818328     7265  \n",
       "289     831672    17907  \n",
       "290     824485     8915  \n",
       "292    1049530    10654  \n",
       "311     760977     5820  \n",
       "313     890096    13453  \n",
       "316    1059333     8503  \n",
       "319    1129697    10257  \n",
       "334    1110412    17448  \n",
       "348     928112     7940  \n",
       "356     865325     5925  "
      ]
     },
     "execution_count": 91,
     "metadata": {},
     "output_type": "execute_result"
    }
   ],
   "source": [
    "df[df[\"Inventory\"]>UW] # here we are getting which are the outliers present in the data"
   ]
  },
  {
   "cell_type": "code",
   "execution_count": 95,
   "id": "a39fac5e-912a-44c7-95a1-36381d32d822",
   "metadata": {},
   "outputs": [
    {
     "name": "stderr",
     "output_type": "stream",
     "text": [
      "C:\\Users\\dell\\AppData\\Local\\Temp\\ipykernel_16796\\2083507784.py:2: SettingWithCopyWarning: \n",
      "A value is trying to be set on a copy of a slice from a DataFrame\n",
      "\n",
      "See the caveats in the documentation: https://pandas.pydata.org/pandas-docs/stable/user_guide/indexing.html#returning-a-view-versus-a-copy\n",
      "  df[\"Inventory\"][df[\"Inventory\"]>UW]=UW\n",
      "C:\\Users\\dell\\AppData\\Local\\Temp\\ipykernel_16796\\2083507784.py:2: FutureWarning: Setting an item of incompatible dtype is deprecated and will raise an error in a future version of pandas. Value '756269.875' has dtype incompatible with int64, please explicitly cast to a compatible dtype first.\n",
      "  df[\"Inventory\"][df[\"Inventory\"]>UW]=UW\n"
     ]
    }
   ],
   "source": [
    "#now we are removing outliers and replacing them with upper whisker length \n",
    "df[\"Inventory\"][df[\"Inventory\"]>UW]=UW"
   ]
  },
  {
   "cell_type": "code",
   "execution_count": 99,
   "id": "4bdce457-2ca2-4b1b-9c06-8c2ad1004e1d",
   "metadata": {},
   "outputs": [
    {
     "data": {
      "text/plain": [
       "count       390.000000\n",
       "mean     211213.933974\n",
       "std      222586.028429\n",
       "min         374.000000\n",
       "25%       42640.500000\n",
       "50%      118149.000000\n",
       "75%      328092.250000\n",
       "max      756269.875000\n",
       "Name: Inventory, dtype: float64"
      ]
     },
     "execution_count": 99,
     "metadata": {},
     "output_type": "execute_result"
    }
   ],
   "source": [
    "#we removed the outliers \n",
    "df[\"Inventory\"].describe() # we can see the outliers removed in the max"
   ]
  },
  {
   "cell_type": "code",
   "execution_count": 101,
   "id": "404984a3-3f03-4de1-af84-1c447c847f01",
   "metadata": {},
   "outputs": [
    {
     "data": {
      "text/plain": [
       "<Axes: title={'center': 'Boxplot'}>"
      ]
     },
     "execution_count": 101,
     "metadata": {},
     "output_type": "execute_result"
    },
    {
     "data": {
      "image/png": "[encoded data removed]",
      "text/plain": [
       "<Figure size 640x480 with 1 Axes>"
      ]
     },
     "metadata": {},
     "output_type": "display_data"
    }
   ],
   "source": [
    "boxplot5=df[\"Inventory\"].plot(kind='box',vert=False,title='Boxplot')\n",
    "boxplot5"
   ]
  },
  {
   "cell_type": "code",
   "execution_count": null,
   "id": "ad9bc343-ef21-4eab-9b2f-e0716c61940e",
   "metadata": {},
   "outputs": [],
   "source": []
  }
 ],
 "metadata": {
  "kernelspec": {
   "display_name": "Python [conda env:base] *",
   "language": "python",
   "name": "conda-base-py"
  },
  "language_info": {
   "codemirror_mode": {
    "name": "ipython",
    "version": 3
   },
   "file_extension": ".py",
   "mimetype": "text/x-python",
   "name": "python",
   "nbconvert_exporter": "python",
   "pygments_lexer": "ipython3",
   "version": "3.12.7"
  }
 },
 "nbformat": 4,
 "nbformat_minor": 5
}
